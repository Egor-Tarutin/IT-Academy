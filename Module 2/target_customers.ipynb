{
 "cells": [
  {
   "cell_type": "markdown",
   "source": [
    "В файле предоставленна информация о клиентах риэлторской компании США за один месяц. Используя данные о выборке, необходимо построить типичный портрет целевого клиента компании (пол, возраст, какой тип квартиры он приобретает, какова площадь в кв. м , каков средний чек, цель покупки, источник лида) (Лид – потенциальный покупатель). Нужно для начала посмотреть как вообще выглядит датасет, взглянуть на форматы данных, быть может их преобразовать в более удобный вид, проверить данные на наличие пропусков и с ними что-нибудь сделать. Начнем"
   ],
   "metadata": {
    "collapsed": false,
    "pycharm": {
     "name": "#%% md\n"
    }
   }
  },
  {
   "cell_type": "code",
   "execution_count": 1,
   "outputs": [],
   "source": [
    "import matplotlib.pyplot as plt\n",
    "import pandas as pd\n",
    "import numpy as np\n",
    "from matplotlib.pyplot import plot\n",
    "\n",
    "%matplotlib inline"
   ],
   "metadata": {
    "collapsed": false,
    "pycharm": {
     "name": "#%%\n"
    }
   }
  },
  {
   "cell_type": "code",
   "execution_count": 2,
   "outputs": [
    {
     "data": {
      "text/plain": "     ID  Building  Year of sale  Month of sale Type of property  \\\n0  1030         1          2005             11        Apartment   \n1  1029         1          2005             10        Apartment   \n2  2002         2          2007              7        Apartment   \n3  2031         2          2007             12        Apartment   \n4  1049         1          2004             11        Apartment   \n\n   Property number  Area (ft.)           Price  Status Customer ID  ...  \\\n0               30      743.09   $ 246,172.68    Sold        C0028  ...   \n1               29      756.21   $ 246,331.90    Sold        C0027  ...   \n2                2      587.28   $ 209,280.91    Sold        C0112  ...   \n3               31     1604.75   $ 452,667.01    Sold        C0160  ...   \n4               49     1375.45   $ 467,083.31    Sold        C0014  ...   \n\n        Y     M     D  Gender Country       State     Purpose  \\\n0  1986.0   6.0  21.0       F     USA  California        Home   \n1  1983.0   2.0  24.0       F     USA  California        Home   \n2  1985.0  12.0  27.0       M     USA  California        Home   \n3  1985.0  12.0  27.0       M     USA  California  Investment   \n4  1979.0   5.0  15.0       F     USA  California        Home   \n\n   Deal satisfaction Mortgage   Source  \n0                  5       No  Website  \n1                  5       No  Website  \n2                  1      Yes   Client  \n3                  3      Yes  Website  \n4                  4       No   Agency  \n\n[5 rows x 25 columns]",
      "text/html": "<div>\n<style scoped>\n    .dataframe tbody tr th:only-of-type {\n        vertical-align: middle;\n    }\n\n    .dataframe tbody tr th {\n        vertical-align: top;\n    }\n\n    .dataframe thead th {\n        text-align: right;\n    }\n</style>\n<table border=\"1\" class=\"dataframe\">\n  <thead>\n    <tr style=\"text-align: right;\">\n      <th></th>\n      <th>ID</th>\n      <th>Building</th>\n      <th>Year of sale</th>\n      <th>Month of sale</th>\n      <th>Type of property</th>\n      <th>Property number</th>\n      <th>Area (ft.)</th>\n      <th>Price</th>\n      <th>Status</th>\n      <th>Customer ID</th>\n      <th>...</th>\n      <th>Y</th>\n      <th>M</th>\n      <th>D</th>\n      <th>Gender</th>\n      <th>Country</th>\n      <th>State</th>\n      <th>Purpose</th>\n      <th>Deal satisfaction</th>\n      <th>Mortgage</th>\n      <th>Source</th>\n    </tr>\n  </thead>\n  <tbody>\n    <tr>\n      <th>0</th>\n      <td>1030</td>\n      <td>1</td>\n      <td>2005</td>\n      <td>11</td>\n      <td>Apartment</td>\n      <td>30</td>\n      <td>743.09</td>\n      <td>$ 246,172.68</td>\n      <td>Sold</td>\n      <td>C0028</td>\n      <td>...</td>\n      <td>1986.0</td>\n      <td>6.0</td>\n      <td>21.0</td>\n      <td>F</td>\n      <td>USA</td>\n      <td>California</td>\n      <td>Home</td>\n      <td>5</td>\n      <td>No</td>\n      <td>Website</td>\n    </tr>\n    <tr>\n      <th>1</th>\n      <td>1029</td>\n      <td>1</td>\n      <td>2005</td>\n      <td>10</td>\n      <td>Apartment</td>\n      <td>29</td>\n      <td>756.21</td>\n      <td>$ 246,331.90</td>\n      <td>Sold</td>\n      <td>C0027</td>\n      <td>...</td>\n      <td>1983.0</td>\n      <td>2.0</td>\n      <td>24.0</td>\n      <td>F</td>\n      <td>USA</td>\n      <td>California</td>\n      <td>Home</td>\n      <td>5</td>\n      <td>No</td>\n      <td>Website</td>\n    </tr>\n    <tr>\n      <th>2</th>\n      <td>2002</td>\n      <td>2</td>\n      <td>2007</td>\n      <td>7</td>\n      <td>Apartment</td>\n      <td>2</td>\n      <td>587.28</td>\n      <td>$ 209,280.91</td>\n      <td>Sold</td>\n      <td>C0112</td>\n      <td>...</td>\n      <td>1985.0</td>\n      <td>12.0</td>\n      <td>27.0</td>\n      <td>M</td>\n      <td>USA</td>\n      <td>California</td>\n      <td>Home</td>\n      <td>1</td>\n      <td>Yes</td>\n      <td>Client</td>\n    </tr>\n    <tr>\n      <th>3</th>\n      <td>2031</td>\n      <td>2</td>\n      <td>2007</td>\n      <td>12</td>\n      <td>Apartment</td>\n      <td>31</td>\n      <td>1604.75</td>\n      <td>$ 452,667.01</td>\n      <td>Sold</td>\n      <td>C0160</td>\n      <td>...</td>\n      <td>1985.0</td>\n      <td>12.0</td>\n      <td>27.0</td>\n      <td>M</td>\n      <td>USA</td>\n      <td>California</td>\n      <td>Investment</td>\n      <td>3</td>\n      <td>Yes</td>\n      <td>Website</td>\n    </tr>\n    <tr>\n      <th>4</th>\n      <td>1049</td>\n      <td>1</td>\n      <td>2004</td>\n      <td>11</td>\n      <td>Apartment</td>\n      <td>49</td>\n      <td>1375.45</td>\n      <td>$ 467,083.31</td>\n      <td>Sold</td>\n      <td>C0014</td>\n      <td>...</td>\n      <td>1979.0</td>\n      <td>5.0</td>\n      <td>15.0</td>\n      <td>F</td>\n      <td>USA</td>\n      <td>California</td>\n      <td>Home</td>\n      <td>4</td>\n      <td>No</td>\n      <td>Agency</td>\n    </tr>\n  </tbody>\n</table>\n<p>5 rows × 25 columns</p>\n</div>"
     },
     "execution_count": 2,
     "metadata": {},
     "output_type": "execute_result"
    }
   ],
   "source": [
    "df = pd.read_csv('clients.csv')\n",
    "df.head(5)"
   ],
   "metadata": {
    "collapsed": false,
    "pycharm": {
     "name": "#%%\n"
    }
   }
  },
  {
   "cell_type": "markdown",
   "source": [
    "Для построения целевого портрета клиента нас не интересуют некоторые столбцы, поэтому есть смысл от них отказаться"
   ],
   "metadata": {
    "collapsed": false,
    "pycharm": {
     "name": "#%% md\n"
    }
   }
  },
  {
   "cell_type": "code",
   "execution_count": 3,
   "outputs": [
    {
     "data": {
      "text/plain": "  Type of property  Area (ft.)           Price      Entity   Age Gender  \\\n0        Apartment      743.09   $ 246,172.68   Individual  19.0      F   \n1        Apartment      756.21   $ 246,331.90   Individual  22.0      F   \n2        Apartment      587.28   $ 209,280.91   Individual  22.0      M   \n3        Apartment     1604.75   $ 452,667.01   Individual  22.0      M   \n4        Apartment     1375.45   $ 467,083.31   Individual  25.0      F   \n\n    Source     Purpose  \n0  Website        Home  \n1  Website        Home  \n2   Client        Home  \n3  Website  Investment  \n4   Agency        Home  ",
      "text/html": "<div>\n<style scoped>\n    .dataframe tbody tr th:only-of-type {\n        vertical-align: middle;\n    }\n\n    .dataframe tbody tr th {\n        vertical-align: top;\n    }\n\n    .dataframe thead th {\n        text-align: right;\n    }\n</style>\n<table border=\"1\" class=\"dataframe\">\n  <thead>\n    <tr style=\"text-align: right;\">\n      <th></th>\n      <th>Type of property</th>\n      <th>Area (ft.)</th>\n      <th>Price</th>\n      <th>Entity</th>\n      <th>Age</th>\n      <th>Gender</th>\n      <th>Source</th>\n      <th>Purpose</th>\n    </tr>\n  </thead>\n  <tbody>\n    <tr>\n      <th>0</th>\n      <td>Apartment</td>\n      <td>743.09</td>\n      <td>$ 246,172.68</td>\n      <td>Individual</td>\n      <td>19.0</td>\n      <td>F</td>\n      <td>Website</td>\n      <td>Home</td>\n    </tr>\n    <tr>\n      <th>1</th>\n      <td>Apartment</td>\n      <td>756.21</td>\n      <td>$ 246,331.90</td>\n      <td>Individual</td>\n      <td>22.0</td>\n      <td>F</td>\n      <td>Website</td>\n      <td>Home</td>\n    </tr>\n    <tr>\n      <th>2</th>\n      <td>Apartment</td>\n      <td>587.28</td>\n      <td>$ 209,280.91</td>\n      <td>Individual</td>\n      <td>22.0</td>\n      <td>M</td>\n      <td>Client</td>\n      <td>Home</td>\n    </tr>\n    <tr>\n      <th>3</th>\n      <td>Apartment</td>\n      <td>1604.75</td>\n      <td>$ 452,667.01</td>\n      <td>Individual</td>\n      <td>22.0</td>\n      <td>M</td>\n      <td>Website</td>\n      <td>Investment</td>\n    </tr>\n    <tr>\n      <th>4</th>\n      <td>Apartment</td>\n      <td>1375.45</td>\n      <td>$ 467,083.31</td>\n      <td>Individual</td>\n      <td>25.0</td>\n      <td>F</td>\n      <td>Agency</td>\n      <td>Home</td>\n    </tr>\n  </tbody>\n</table>\n</div>"
     },
     "execution_count": 3,
     "metadata": {},
     "output_type": "execute_result"
    }
   ],
   "source": [
    "data = df[['Type of property',\n",
    "           'Area (ft.)',\n",
    "           'Price',\n",
    "           'Entity',\n",
    "           'Age at time of purchase',\n",
    "           'Gender',\n",
    "           'Source',\n",
    "           'Purpose']]\n",
    "data = data.rename(columns={'Age at time of purchase': 'Age'})\n",
    "data.head(5)"
   ],
   "metadata": {
    "collapsed": false,
    "pycharm": {
     "name": "#%%\n"
    }
   }
  },
  {
   "cell_type": "markdown",
   "source": [
    "Далее необходимо проверить данные на пропуски и \"разобраться\" с ними"
   ],
   "metadata": {
    "collapsed": false,
    "pycharm": {
     "name": "#%% md\n"
    }
   }
  },
  {
   "cell_type": "code",
   "execution_count": 4,
   "outputs": [
    {
     "name": "stdout",
     "output_type": "stream",
     "text": [
      "<class 'pandas.core.frame.DataFrame'>\n",
      "RangeIndex: 195 entries, 0 to 194\n",
      "Data columns (total 8 columns):\n",
      " #   Column            Non-Null Count  Dtype  \n",
      "---  ------            --------------  -----  \n",
      " 0   Type of property  195 non-null    object \n",
      " 1   Area (ft.)        195 non-null    float64\n",
      " 2   Price             195 non-null    object \n",
      " 3   Entity            195 non-null    object \n",
      " 4   Age               178 non-null    float64\n",
      " 5   Gender            178 non-null    object \n",
      " 6   Source            195 non-null    object \n",
      " 7   Purpose           195 non-null    object \n",
      "dtypes: float64(2), object(6)\n",
      "memory usage: 12.3+ KB\n"
     ]
    }
   ],
   "source": [
    "data.info()"
   ],
   "metadata": {
    "collapsed": false,
    "pycharm": {
     "name": "#%%\n"
    }
   }
  },
  {
   "cell_type": "markdown",
   "source": [
    "Есть 17 пропусков в данных по стобцам Age и Gender, стоит проверить, может эти пропуски соотвествуют одним и тем же наблюдениям"
   ],
   "metadata": {
    "collapsed": false,
    "pycharm": {
     "name": "#%% md\n"
    }
   }
  },
  {
   "cell_type": "code",
   "execution_count": 5,
   "outputs": [
    {
     "data": {
      "text/plain": "    Type of property  Area (ft.)           Price Entity  Age Gender   Source  \\\n178           Office      410.71   $ 117,564.07    Firm  NaN    NaN   Agency   \n179           Office     1200.82   $ 317,196.40    Firm  NaN    NaN  Website   \n180           Office      800.96   $ 264,142.16    Firm  NaN    NaN  Website   \n181           Office      827.87   $ 222,947.21    Firm  NaN    NaN  Website   \n182        Apartment      775.69   $ 250,312.53    Firm  NaN    NaN  Website   \n183           Office      775.69   $ 246,050.40    Firm  NaN    NaN  Website   \n184        Apartment     1604.75   $ 529,317.28    Firm  NaN    NaN  Website   \n185        Apartment      587.28   $ 169,158.29    Firm  NaN    NaN  Website   \n186        Apartment      756.21   $ 206,958.71    Firm  NaN    NaN  Website   \n187        Apartment      743.09   $ 206,445.42    Firm  NaN    NaN  Website   \n188        Apartment      827.87   $ 239,341.58    Firm  NaN    NaN  Website   \n189        Apartment     1160.36   $ 398,903.42    Firm  NaN    NaN  Website   \n190        Apartment      743.09   $ 210,745.17    Firm  NaN    NaN  Website   \n191        Apartment     1160.36   $ 331,154.88    Firm  NaN    NaN  Website   \n192        Apartment      625.80   $ 204,434.68    Firm  NaN    NaN  Website   \n193        Apartment      756.21   $ 189,194.31    Firm  NaN    NaN  Website   \n194        Apartment      625.80   $ 204,027.09    Firm  NaN    NaN  Website   \n\n        Purpose  \n178  Investment  \n179  Investment  \n180  Investment  \n181  Investment  \n182  Investment  \n183  Investment  \n184  Investment  \n185        Home  \n186  Investment  \n187  Investment  \n188  Investment  \n189  Investment  \n190  Investment  \n191  Investment  \n192  Investment  \n193  Investment  \n194  Investment  ",
      "text/html": "<div>\n<style scoped>\n    .dataframe tbody tr th:only-of-type {\n        vertical-align: middle;\n    }\n\n    .dataframe tbody tr th {\n        vertical-align: top;\n    }\n\n    .dataframe thead th {\n        text-align: right;\n    }\n</style>\n<table border=\"1\" class=\"dataframe\">\n  <thead>\n    <tr style=\"text-align: right;\">\n      <th></th>\n      <th>Type of property</th>\n      <th>Area (ft.)</th>\n      <th>Price</th>\n      <th>Entity</th>\n      <th>Age</th>\n      <th>Gender</th>\n      <th>Source</th>\n      <th>Purpose</th>\n    </tr>\n  </thead>\n  <tbody>\n    <tr>\n      <th>178</th>\n      <td>Office</td>\n      <td>410.71</td>\n      <td>$ 117,564.07</td>\n      <td>Firm</td>\n      <td>NaN</td>\n      <td>NaN</td>\n      <td>Agency</td>\n      <td>Investment</td>\n    </tr>\n    <tr>\n      <th>179</th>\n      <td>Office</td>\n      <td>1200.82</td>\n      <td>$ 317,196.40</td>\n      <td>Firm</td>\n      <td>NaN</td>\n      <td>NaN</td>\n      <td>Website</td>\n      <td>Investment</td>\n    </tr>\n    <tr>\n      <th>180</th>\n      <td>Office</td>\n      <td>800.96</td>\n      <td>$ 264,142.16</td>\n      <td>Firm</td>\n      <td>NaN</td>\n      <td>NaN</td>\n      <td>Website</td>\n      <td>Investment</td>\n    </tr>\n    <tr>\n      <th>181</th>\n      <td>Office</td>\n      <td>827.87</td>\n      <td>$ 222,947.21</td>\n      <td>Firm</td>\n      <td>NaN</td>\n      <td>NaN</td>\n      <td>Website</td>\n      <td>Investment</td>\n    </tr>\n    <tr>\n      <th>182</th>\n      <td>Apartment</td>\n      <td>775.69</td>\n      <td>$ 250,312.53</td>\n      <td>Firm</td>\n      <td>NaN</td>\n      <td>NaN</td>\n      <td>Website</td>\n      <td>Investment</td>\n    </tr>\n    <tr>\n      <th>183</th>\n      <td>Office</td>\n      <td>775.69</td>\n      <td>$ 246,050.40</td>\n      <td>Firm</td>\n      <td>NaN</td>\n      <td>NaN</td>\n      <td>Website</td>\n      <td>Investment</td>\n    </tr>\n    <tr>\n      <th>184</th>\n      <td>Apartment</td>\n      <td>1604.75</td>\n      <td>$ 529,317.28</td>\n      <td>Firm</td>\n      <td>NaN</td>\n      <td>NaN</td>\n      <td>Website</td>\n      <td>Investment</td>\n    </tr>\n    <tr>\n      <th>185</th>\n      <td>Apartment</td>\n      <td>587.28</td>\n      <td>$ 169,158.29</td>\n      <td>Firm</td>\n      <td>NaN</td>\n      <td>NaN</td>\n      <td>Website</td>\n      <td>Home</td>\n    </tr>\n    <tr>\n      <th>186</th>\n      <td>Apartment</td>\n      <td>756.21</td>\n      <td>$ 206,958.71</td>\n      <td>Firm</td>\n      <td>NaN</td>\n      <td>NaN</td>\n      <td>Website</td>\n      <td>Investment</td>\n    </tr>\n    <tr>\n      <th>187</th>\n      <td>Apartment</td>\n      <td>743.09</td>\n      <td>$ 206,445.42</td>\n      <td>Firm</td>\n      <td>NaN</td>\n      <td>NaN</td>\n      <td>Website</td>\n      <td>Investment</td>\n    </tr>\n    <tr>\n      <th>188</th>\n      <td>Apartment</td>\n      <td>827.87</td>\n      <td>$ 239,341.58</td>\n      <td>Firm</td>\n      <td>NaN</td>\n      <td>NaN</td>\n      <td>Website</td>\n      <td>Investment</td>\n    </tr>\n    <tr>\n      <th>189</th>\n      <td>Apartment</td>\n      <td>1160.36</td>\n      <td>$ 398,903.42</td>\n      <td>Firm</td>\n      <td>NaN</td>\n      <td>NaN</td>\n      <td>Website</td>\n      <td>Investment</td>\n    </tr>\n    <tr>\n      <th>190</th>\n      <td>Apartment</td>\n      <td>743.09</td>\n      <td>$ 210,745.17</td>\n      <td>Firm</td>\n      <td>NaN</td>\n      <td>NaN</td>\n      <td>Website</td>\n      <td>Investment</td>\n    </tr>\n    <tr>\n      <th>191</th>\n      <td>Apartment</td>\n      <td>1160.36</td>\n      <td>$ 331,154.88</td>\n      <td>Firm</td>\n      <td>NaN</td>\n      <td>NaN</td>\n      <td>Website</td>\n      <td>Investment</td>\n    </tr>\n    <tr>\n      <th>192</th>\n      <td>Apartment</td>\n      <td>625.80</td>\n      <td>$ 204,434.68</td>\n      <td>Firm</td>\n      <td>NaN</td>\n      <td>NaN</td>\n      <td>Website</td>\n      <td>Investment</td>\n    </tr>\n    <tr>\n      <th>193</th>\n      <td>Apartment</td>\n      <td>756.21</td>\n      <td>$ 189,194.31</td>\n      <td>Firm</td>\n      <td>NaN</td>\n      <td>NaN</td>\n      <td>Website</td>\n      <td>Investment</td>\n    </tr>\n    <tr>\n      <th>194</th>\n      <td>Apartment</td>\n      <td>625.80</td>\n      <td>$ 204,027.09</td>\n      <td>Firm</td>\n      <td>NaN</td>\n      <td>NaN</td>\n      <td>Website</td>\n      <td>Investment</td>\n    </tr>\n  </tbody>\n</table>\n</div>"
     },
     "execution_count": 5,
     "metadata": {},
     "output_type": "execute_result"
    }
   ],
   "source": [
    "data[data['Age'].isnull() | data['Gender'].isnull()]"
   ],
   "metadata": {
    "collapsed": false,
    "pycharm": {
     "name": "#%%\n"
    }
   }
  },
  {
   "cell_type": "markdown",
   "source": [
    "Да, так и есть. Можно заметить, что покупателем во всех этих наблюдениях является фирма, довольно логично, что нет возраста и пола :)"
   ],
   "metadata": {
    "collapsed": false,
    "pycharm": {
     "name": "#%% md\n"
    }
   }
  },
  {
   "cell_type": "markdown",
   "source": [
    "Стоит также выполнить некоторые преобразования с ценой, чтобы она приняла вид численной переменной и перевести площадь из квадратных футов в квадратные метры"
   ],
   "metadata": {
    "collapsed": false,
    "pycharm": {
     "name": "#%% md\n"
    }
   }
  },
  {
   "cell_type": "code",
   "execution_count": 6,
   "outputs": [
    {
     "data": {
      "text/plain": "  Type of property           Price      Entity   Age Gender   Source  \\\n0        Apartment   $ 246,172.68   Individual  19.0      F  Website   \n1        Apartment   $ 246,331.90   Individual  22.0      F  Website   \n2        Apartment   $ 209,280.91   Individual  22.0      M   Client   \n3        Apartment   $ 452,667.01   Individual  22.0      M  Website   \n4        Apartment   $ 467,083.31   Individual  25.0      F   Agency   \n\n      Purpose        Area  \n0        Home   69.034745  \n1        Home   70.253623  \n2        Home   54.559643  \n3  Investment  149.084913  \n4        Home  127.782423  ",
      "text/html": "<div>\n<style scoped>\n    .dataframe tbody tr th:only-of-type {\n        vertical-align: middle;\n    }\n\n    .dataframe tbody tr th {\n        vertical-align: top;\n    }\n\n    .dataframe thead th {\n        text-align: right;\n    }\n</style>\n<table border=\"1\" class=\"dataframe\">\n  <thead>\n    <tr style=\"text-align: right;\">\n      <th></th>\n      <th>Type of property</th>\n      <th>Price</th>\n      <th>Entity</th>\n      <th>Age</th>\n      <th>Gender</th>\n      <th>Source</th>\n      <th>Purpose</th>\n      <th>Area</th>\n    </tr>\n  </thead>\n  <tbody>\n    <tr>\n      <th>0</th>\n      <td>Apartment</td>\n      <td>$ 246,172.68</td>\n      <td>Individual</td>\n      <td>19.0</td>\n      <td>F</td>\n      <td>Website</td>\n      <td>Home</td>\n      <td>69.034745</td>\n    </tr>\n    <tr>\n      <th>1</th>\n      <td>Apartment</td>\n      <td>$ 246,331.90</td>\n      <td>Individual</td>\n      <td>22.0</td>\n      <td>F</td>\n      <td>Website</td>\n      <td>Home</td>\n      <td>70.253623</td>\n    </tr>\n    <tr>\n      <th>2</th>\n      <td>Apartment</td>\n      <td>$ 209,280.91</td>\n      <td>Individual</td>\n      <td>22.0</td>\n      <td>M</td>\n      <td>Client</td>\n      <td>Home</td>\n      <td>54.559643</td>\n    </tr>\n    <tr>\n      <th>3</th>\n      <td>Apartment</td>\n      <td>$ 452,667.01</td>\n      <td>Individual</td>\n      <td>22.0</td>\n      <td>M</td>\n      <td>Website</td>\n      <td>Investment</td>\n      <td>149.084913</td>\n    </tr>\n    <tr>\n      <th>4</th>\n      <td>Apartment</td>\n      <td>$ 467,083.31</td>\n      <td>Individual</td>\n      <td>25.0</td>\n      <td>F</td>\n      <td>Agency</td>\n      <td>Home</td>\n      <td>127.782423</td>\n    </tr>\n  </tbody>\n</table>\n</div>"
     },
     "execution_count": 6,
     "metadata": {},
     "output_type": "execute_result"
    }
   ],
   "source": [
    "data['Area'] = data['Area (ft.)'].apply(lambda x: x/10.764)\n",
    "data.drop('Area (ft.)', axis=1, inplace=True)\n",
    "data.head(5)"
   ],
   "metadata": {
    "collapsed": false,
    "pycharm": {
     "name": "#%%\n"
    }
   }
  },
  {
   "cell_type": "code",
   "execution_count": 7,
   "outputs": [
    {
     "data": {
      "text/plain": "(195, 8)"
     },
     "execution_count": 7,
     "metadata": {},
     "output_type": "execute_result"
    }
   ],
   "source": [
    "data.loc[data['Price'].str.contains('$')].shape"
   ],
   "metadata": {
    "collapsed": false,
    "pycharm": {
     "name": "#%%\n"
    }
   }
  },
  {
   "cell_type": "markdown",
   "source": [
    "Выходит, что все наблюдения содержат цену в одной валюте - доллары США"
   ],
   "metadata": {
    "collapsed": false,
    "pycharm": {
     "name": "#%% md\n"
    }
   }
  },
  {
   "cell_type": "code",
   "execution_count": 8,
   "outputs": [
    {
     "data": {
      "text/plain": "  Type of property      Price      Entity   Age Gender   Source     Purpose  \\\n0        Apartment  246172.68  Individual  19.0      F  Website        Home   \n1        Apartment  246331.90  Individual  22.0      F  Website        Home   \n2        Apartment  209280.91  Individual  22.0      M   Client        Home   \n3        Apartment  452667.01  Individual  22.0      M  Website  Investment   \n4        Apartment  467083.31  Individual  25.0      F   Agency        Home   \n\n         Area  \n0   69.034745  \n1   70.253623  \n2   54.559643  \n3  149.084913  \n4  127.782423  ",
      "text/html": "<div>\n<style scoped>\n    .dataframe tbody tr th:only-of-type {\n        vertical-align: middle;\n    }\n\n    .dataframe tbody tr th {\n        vertical-align: top;\n    }\n\n    .dataframe thead th {\n        text-align: right;\n    }\n</style>\n<table border=\"1\" class=\"dataframe\">\n  <thead>\n    <tr style=\"text-align: right;\">\n      <th></th>\n      <th>Type of property</th>\n      <th>Price</th>\n      <th>Entity</th>\n      <th>Age</th>\n      <th>Gender</th>\n      <th>Source</th>\n      <th>Purpose</th>\n      <th>Area</th>\n    </tr>\n  </thead>\n  <tbody>\n    <tr>\n      <th>0</th>\n      <td>Apartment</td>\n      <td>246172.68</td>\n      <td>Individual</td>\n      <td>19.0</td>\n      <td>F</td>\n      <td>Website</td>\n      <td>Home</td>\n      <td>69.034745</td>\n    </tr>\n    <tr>\n      <th>1</th>\n      <td>Apartment</td>\n      <td>246331.90</td>\n      <td>Individual</td>\n      <td>22.0</td>\n      <td>F</td>\n      <td>Website</td>\n      <td>Home</td>\n      <td>70.253623</td>\n    </tr>\n    <tr>\n      <th>2</th>\n      <td>Apartment</td>\n      <td>209280.91</td>\n      <td>Individual</td>\n      <td>22.0</td>\n      <td>M</td>\n      <td>Client</td>\n      <td>Home</td>\n      <td>54.559643</td>\n    </tr>\n    <tr>\n      <th>3</th>\n      <td>Apartment</td>\n      <td>452667.01</td>\n      <td>Individual</td>\n      <td>22.0</td>\n      <td>M</td>\n      <td>Website</td>\n      <td>Investment</td>\n      <td>149.084913</td>\n    </tr>\n    <tr>\n      <th>4</th>\n      <td>Apartment</td>\n      <td>467083.31</td>\n      <td>Individual</td>\n      <td>25.0</td>\n      <td>F</td>\n      <td>Agency</td>\n      <td>Home</td>\n      <td>127.782423</td>\n    </tr>\n  </tbody>\n</table>\n</div>"
     },
     "execution_count": 8,
     "metadata": {},
     "output_type": "execute_result"
    }
   ],
   "source": [
    "def transform_string(string):\n",
    "    symbols = [' ', '$', ',']\n",
    "    for symbol in symbols:\n",
    "        string = string.replace(symbol, '')\n",
    "    return string\n",
    "\n",
    "data['Price'] = data['Price'].apply(lambda x: float(transform_string(x)))\n",
    "data.head(5)"
   ],
   "metadata": {
    "collapsed": false,
    "pycharm": {
     "name": "#%%\n"
    }
   }
  },
  {
   "cell_type": "code",
   "execution_count": 9,
   "outputs": [
    {
     "data": {
      "text/plain": "Individual    178\nFirm           17\nName: Entity, dtype: int64"
     },
     "execution_count": 9,
     "metadata": {},
     "output_type": "execute_result"
    }
   ],
   "source": [
    "data['Entity'].value_counts()"
   ],
   "metadata": {
    "collapsed": false,
    "pycharm": {
     "name": "#%%\n"
    }
   }
  },
  {
   "cell_type": "code",
   "execution_count": 10,
   "outputs": [
    {
     "data": {
      "text/plain": "<AxesSubplot:ylabel='Entity'>"
     },
     "execution_count": 10,
     "metadata": {},
     "output_type": "execute_result"
    },
    {
     "data": {
      "text/plain": "<Figure size 432x288 with 1 Axes>",
      "image/png": "[encoded data removed]"
     },
     "metadata": {},
     "output_type": "display_data"
    }
   ],
   "source": [
    "data['Entity'].value_counts().plot.pie()"
   ],
   "metadata": {
    "collapsed": false,
    "pycharm": {
     "name": "#%%\n"
    }
   }
  },
  {
   "cell_type": "markdown",
   "source": [
    "Персональных сделок чуть больше чем в 10 раз больше, чем от фирм, можно их разелить и посмотреть статистику для юрлиц и физлиц"
   ],
   "metadata": {
    "collapsed": false,
    "pycharm": {
     "name": "#%% md\n"
    }
   }
  },
  {
   "cell_type": "code",
   "execution_count": 11,
   "outputs": [
    {
     "data": {
      "text/plain": "  Type of property      Price   Age Gender   Source     Purpose        Area\n0        Apartment  246172.68  19.0      F  Website        Home   69.034745\n1        Apartment  246331.90  22.0      F  Website        Home   70.253623\n2        Apartment  209280.91  22.0      M   Client        Home   54.559643\n3        Apartment  452667.01  22.0      M  Website  Investment  149.084913\n4        Apartment  467083.31  25.0      F   Agency        Home  127.782423",
      "text/html": "<div>\n<style scoped>\n    .dataframe tbody tr th:only-of-type {\n        vertical-align: middle;\n    }\n\n    .dataframe tbody tr th {\n        vertical-align: top;\n    }\n\n    .dataframe thead th {\n        text-align: right;\n    }\n</style>\n<table border=\"1\" class=\"dataframe\">\n  <thead>\n    <tr style=\"text-align: right;\">\n      <th></th>\n      <th>Type of property</th>\n      <th>Price</th>\n      <th>Age</th>\n      <th>Gender</th>\n      <th>Source</th>\n      <th>Purpose</th>\n      <th>Area</th>\n    </tr>\n  </thead>\n  <tbody>\n    <tr>\n      <th>0</th>\n      <td>Apartment</td>\n      <td>246172.68</td>\n      <td>19.0</td>\n      <td>F</td>\n      <td>Website</td>\n      <td>Home</td>\n      <td>69.034745</td>\n    </tr>\n    <tr>\n      <th>1</th>\n      <td>Apartment</td>\n      <td>246331.90</td>\n      <td>22.0</td>\n      <td>F</td>\n      <td>Website</td>\n      <td>Home</td>\n      <td>70.253623</td>\n    </tr>\n    <tr>\n      <th>2</th>\n      <td>Apartment</td>\n      <td>209280.91</td>\n      <td>22.0</td>\n      <td>M</td>\n      <td>Client</td>\n      <td>Home</td>\n      <td>54.559643</td>\n    </tr>\n    <tr>\n      <th>3</th>\n      <td>Apartment</td>\n      <td>452667.01</td>\n      <td>22.0</td>\n      <td>M</td>\n      <td>Website</td>\n      <td>Investment</td>\n      <td>149.084913</td>\n    </tr>\n    <tr>\n      <th>4</th>\n      <td>Apartment</td>\n      <td>467083.31</td>\n      <td>25.0</td>\n      <td>F</td>\n      <td>Agency</td>\n      <td>Home</td>\n      <td>127.782423</td>\n    </tr>\n  </tbody>\n</table>\n</div>"
     },
     "execution_count": 11,
     "metadata": {},
     "output_type": "execute_result"
    }
   ],
   "source": [
    "data_individual = data[data['Entity'] == 'Individual'].drop('Entity', axis=1)\n",
    "data_individual.head(5)"
   ],
   "metadata": {
    "collapsed": false,
    "pycharm": {
     "name": "#%%\n"
    }
   }
  },
  {
   "cell_type": "code",
   "execution_count": 12,
   "outputs": [
    {
     "data": {
      "text/plain": "    Type of property      Price   Source     Purpose        Area\n178           Office  117564.07   Agency  Investment   38.155890\n179           Office  317196.40  Website  Investment  111.558900\n180           Office  264142.16  Website  Investment   74.411000\n181           Office  222947.21  Website  Investment   76.911000\n182        Apartment  250312.53  Website  Investment   72.063359",
      "text/html": "<div>\n<style scoped>\n    .dataframe tbody tr th:only-of-type {\n        vertical-align: middle;\n    }\n\n    .dataframe tbody tr th {\n        vertical-align: top;\n    }\n\n    .dataframe thead th {\n        text-align: right;\n    }\n</style>\n<table border=\"1\" class=\"dataframe\">\n  <thead>\n    <tr style=\"text-align: right;\">\n      <th></th>\n      <th>Type of property</th>\n      <th>Price</th>\n      <th>Source</th>\n      <th>Purpose</th>\n      <th>Area</th>\n    </tr>\n  </thead>\n  <tbody>\n    <tr>\n      <th>178</th>\n      <td>Office</td>\n      <td>117564.07</td>\n      <td>Agency</td>\n      <td>Investment</td>\n      <td>38.155890</td>\n    </tr>\n    <tr>\n      <th>179</th>\n      <td>Office</td>\n      <td>317196.40</td>\n      <td>Website</td>\n      <td>Investment</td>\n      <td>111.558900</td>\n    </tr>\n    <tr>\n      <th>180</th>\n      <td>Office</td>\n      <td>264142.16</td>\n      <td>Website</td>\n      <td>Investment</td>\n      <td>74.411000</td>\n    </tr>\n    <tr>\n      <th>181</th>\n      <td>Office</td>\n      <td>222947.21</td>\n      <td>Website</td>\n      <td>Investment</td>\n      <td>76.911000</td>\n    </tr>\n    <tr>\n      <th>182</th>\n      <td>Apartment</td>\n      <td>250312.53</td>\n      <td>Website</td>\n      <td>Investment</td>\n      <td>72.063359</td>\n    </tr>\n  </tbody>\n</table>\n</div>"
     },
     "execution_count": 12,
     "metadata": {},
     "output_type": "execute_result"
    }
   ],
   "source": [
    "data_firm = data[data['Entity'] == 'Firm'].drop(['Entity', 'Age', 'Gender'], axis=1)\n",
    "data_firm.head(5)"
   ],
   "metadata": {
    "collapsed": false,
    "pycharm": {
     "name": "#%%\n"
    }
   }
  },
  {
   "cell_type": "markdown",
   "source": [
    "Итак, для начала мы установили, что целевым клиентом риелторской компании является физлицо"
   ],
   "metadata": {
    "collapsed": false,
    "pycharm": {
     "name": "#%% md\n"
    }
   }
  },
  {
   "cell_type": "code",
   "execution_count": 13,
   "outputs": [
    {
     "data": {
      "text/plain": "<Figure size 432x288 with 1 Axes>",
      "image/png": "[encoded data removed]"
     },
     "metadata": {
      "needs_background": "light"
     },
     "output_type": "display_data"
    }
   ],
   "source": [
    "plt.hist(data_individual['Age'], bins=10)\n",
    "plt.xlabel('Age', fontsize=15)\n",
    "plt.ylabel('Count', fontsize=15)\n",
    "plt.show();"
   ],
   "metadata": {
    "collapsed": false,
    "pycharm": {
     "name": "#%%\n"
    }
   }
  },
  {
   "cell_type": "code",
   "execution_count": 14,
   "outputs": [
    {
     "name": "stdout",
     "output_type": "stream",
     "text": [
      "Mean Age: 46.15\n",
      "Median Age: 45.0\n"
     ]
    }
   ],
   "source": [
    "print('Mean Age: {}\\nMedian Age: {}'.format(round(data_individual['Age'].mean(), 2), data_individual['Age'].median()))"
   ],
   "metadata": {
    "collapsed": false,
    "pycharm": {
     "name": "#%%\n"
    }
   }
  },
  {
   "cell_type": "markdown",
   "source": [
    "Судя по гистограмме распределения и среднему/медиане возрастов, можно заключить, что возраст целевого клиента составляет 45 лет."
   ],
   "metadata": {
    "collapsed": false,
    "pycharm": {
     "name": "#%% md\n"
    }
   }
  },
  {
   "cell_type": "code",
   "execution_count": 15,
   "outputs": [
    {
     "name": "stdout",
     "output_type": "stream",
     "text": [
      "Mean bill 270965.43\n"
     ]
    }
   ],
   "source": [
    "print('Mean bill {}'.format(round(data_individual['Price'].mean(), 2)))"
   ],
   "metadata": {
    "collapsed": false,
    "pycharm": {
     "name": "#%%\n"
    }
   }
  },
  {
   "cell_type": "markdown",
   "source": [
    "Выходит, что средняя цена за недвижимость от физлица составляет $ 270,965.43"
   ],
   "metadata": {
    "collapsed": false,
    "pycharm": {
     "name": "#%% md\n"
    }
   }
  },
  {
   "cell_type": "code",
   "execution_count": 16,
   "outputs": [
    {
     "data": {
      "text/plain": "M    108\nF     70\nName: Gender, dtype: int64"
     },
     "execution_count": 16,
     "metadata": {},
     "output_type": "execute_result"
    }
   ],
   "source": [
    "data_individual['Gender'].value_counts()"
   ],
   "metadata": {
    "collapsed": false,
    "pycharm": {
     "name": "#%%\n"
    }
   }
  },
  {
   "cell_type": "code",
   "execution_count": 17,
   "outputs": [
    {
     "data": {
      "text/plain": "<AxesSubplot:ylabel='Gender'>"
     },
     "execution_count": 17,
     "metadata": {},
     "output_type": "execute_result"
    },
    {
     "data": {
      "text/plain": "<Figure size 432x288 with 1 Axes>",
      "image/png": "[encoded data removed]"
     },
     "metadata": {},
     "output_type": "display_data"
    }
   ],
   "source": [
    "data_individual['Gender'].value_counts().plot.pie()"
   ],
   "metadata": {
    "collapsed": false,
    "pycharm": {
     "name": "#%%\n"
    }
   }
  },
  {
   "cell_type": "markdown",
   "source": [
    "Судя по распределению, большинство клиентов компании - мужчины"
   ],
   "metadata": {
    "collapsed": false,
    "pycharm": {
     "name": "#%% md\n"
    }
   }
  },
  {
   "cell_type": "code",
   "execution_count": 18,
   "outputs": [
    {
     "data": {
      "text/plain": "Apartment    176\nOffice         2\nName: Type of property, dtype: int64"
     },
     "execution_count": 18,
     "metadata": {},
     "output_type": "execute_result"
    }
   ],
   "source": [
    "data_individual['Type of property'].value_counts()"
   ],
   "metadata": {
    "collapsed": false,
    "pycharm": {
     "name": "#%%\n"
    }
   }
  },
  {
   "cell_type": "code",
   "execution_count": 19,
   "outputs": [
    {
     "data": {
      "text/plain": "<AxesSubplot:ylabel='Type of property'>"
     },
     "execution_count": 19,
     "metadata": {},
     "output_type": "execute_result"
    },
    {
     "data": {
      "text/plain": "<Figure size 432x288 with 1 Axes>",
      "image/png": "[encoded data removed]"
     },
     "metadata": {},
     "output_type": "display_data"
    }
   ],
   "source": [
    "data_individual['Type of property'].value_counts().plot.pie()"
   ],
   "metadata": {
    "collapsed": false,
    "pycharm": {
     "name": "#%%\n"
    }
   }
  },
  {
   "cell_type": "markdown",
   "source": [
    "Наиболее часто выбираемый тип недвижимости - апартаменты."
   ],
   "metadata": {
    "collapsed": false,
    "pycharm": {
     "name": "#%% md\n"
    }
   }
  },
  {
   "cell_type": "code",
   "execution_count": 20,
   "outputs": [
    {
     "data": {
      "text/plain": "  Type of property      Price   Age Gender   Source     Purpose        Area\n0        Apartment  246172.68  19.0      F  Website        Home   69.034745\n1        Apartment  246331.90  22.0      F  Website        Home   70.253623\n2        Apartment  209280.91  22.0      M   Client        Home   54.559643\n3        Apartment  452667.01  22.0      M  Website  Investment  149.084913\n4        Apartment  467083.31  25.0      F   Agency        Home  127.782423",
      "text/html": "<div>\n<style scoped>\n    .dataframe tbody tr th:only-of-type {\n        vertical-align: middle;\n    }\n\n    .dataframe tbody tr th {\n        vertical-align: top;\n    }\n\n    .dataframe thead th {\n        text-align: right;\n    }\n</style>\n<table border=\"1\" class=\"dataframe\">\n  <thead>\n    <tr style=\"text-align: right;\">\n      <th></th>\n      <th>Type of property</th>\n      <th>Price</th>\n      <th>Age</th>\n      <th>Gender</th>\n      <th>Source</th>\n      <th>Purpose</th>\n      <th>Area</th>\n    </tr>\n  </thead>\n  <tbody>\n    <tr>\n      <th>0</th>\n      <td>Apartment</td>\n      <td>246172.68</td>\n      <td>19.0</td>\n      <td>F</td>\n      <td>Website</td>\n      <td>Home</td>\n      <td>69.034745</td>\n    </tr>\n    <tr>\n      <th>1</th>\n      <td>Apartment</td>\n      <td>246331.90</td>\n      <td>22.0</td>\n      <td>F</td>\n      <td>Website</td>\n      <td>Home</td>\n      <td>70.253623</td>\n    </tr>\n    <tr>\n      <th>2</th>\n      <td>Apartment</td>\n      <td>209280.91</td>\n      <td>22.0</td>\n      <td>M</td>\n      <td>Client</td>\n      <td>Home</td>\n      <td>54.559643</td>\n    </tr>\n    <tr>\n      <th>3</th>\n      <td>Apartment</td>\n      <td>452667.01</td>\n      <td>22.0</td>\n      <td>M</td>\n      <td>Website</td>\n      <td>Investment</td>\n      <td>149.084913</td>\n    </tr>\n    <tr>\n      <th>4</th>\n      <td>Apartment</td>\n      <td>467083.31</td>\n      <td>25.0</td>\n      <td>F</td>\n      <td>Agency</td>\n      <td>Home</td>\n      <td>127.782423</td>\n    </tr>\n  </tbody>\n</table>\n</div>"
     },
     "execution_count": 20,
     "metadata": {},
     "output_type": "execute_result"
    }
   ],
   "source": [
    "data_individual_apartment = data_individual[data_individual['Type of property'] == 'Apartment']\n",
    "data_individual_apartment.head(5)"
   ],
   "metadata": {
    "collapsed": false,
    "pycharm": {
     "name": "#%%\n"
    }
   }
  },
  {
   "cell_type": "code",
   "execution_count": 21,
   "outputs": [
    {
     "name": "stdout",
     "output_type": "stream",
     "text": [
      "Mean apartment square for individual purchase: 84 square meters\n"
     ]
    }
   ],
   "source": [
    "print('Mean apartment square for individual purchase: {} square meters'.format(round(data_individual_apartment['Area'].mean()), 3))"
   ],
   "metadata": {
    "collapsed": false,
    "pycharm": {
     "name": "#%%\n"
    }
   }
  },
  {
   "cell_type": "code",
   "execution_count": 22,
   "outputs": [
    {
     "data": {
      "text/plain": "<AxesSubplot:ylabel='Purpose'>"
     },
     "execution_count": 22,
     "metadata": {},
     "output_type": "execute_result"
    },
    {
     "data": {
      "text/plain": "<Figure size 432x288 with 1 Axes>",
      "image/png": "[encoded data removed]"
     },
     "metadata": {},
     "output_type": "display_data"
    }
   ],
   "source": [
    "data_individual['Purpose'].value_counts().plot.pie()"
   ],
   "metadata": {
    "collapsed": false,
    "pycharm": {
     "name": "#%%\n"
    }
   }
  },
  {
   "cell_type": "code",
   "execution_count": 23,
   "outputs": [
    {
     "data": {
      "text/plain": "<AxesSubplot:ylabel='Source'>"
     },
     "execution_count": 23,
     "metadata": {},
     "output_type": "execute_result"
    },
    {
     "data": {
      "text/plain": "<Figure size 432x288 with 1 Axes>",
      "image/png": "[encoded data removed]"
     },
     "metadata": {},
     "output_type": "display_data"
    }
   ],
   "source": [
    "data_individual['Source'].value_counts().plot.pie()"
   ],
   "metadata": {
    "collapsed": false,
    "pycharm": {
     "name": "#%%\n"
    }
   }
  },
  {
   "cell_type": "markdown",
   "source": [
    "Основной источник лида - вебсайт компании. Основная цель покупки – обретение жилья."
   ],
   "metadata": {
    "collapsed": false,
    "pycharm": {
     "name": "#%% md\n"
    }
   }
  },
  {
   "cell_type": "markdown",
   "source": [
    "Итак, суммируя все вышеперечисленное, можно установить портрет целевого клиента компании:\n",
    "мужчина, 45 лет, покупает апартаменты, средней площадью 84 кв.м., средней стоимостью $270965.43, цель - покупка жилья, источник лида - вебсайт."
   ],
   "metadata": {
    "collapsed": false,
    "pycharm": {
     "name": "#%% md\n"
    }
   }
  }
 ],
 "metadata": {
  "kernelspec": {
   "display_name": "Python 3",
   "language": "python",
   "name": "python3"
  },
  "language_info": {
   "codemirror_mode": {
    "name": "ipython",
    "version": 2
   },
   "file_extension": ".py",
   "mimetype": "text/x-python",
   "name": "python",
   "nbconvert_exporter": "python",
   "pygments_lexer": "ipython2",
   "version": "2.7.6"
  }
 },
 "nbformat": 4,
 "nbformat_minor": 0
}