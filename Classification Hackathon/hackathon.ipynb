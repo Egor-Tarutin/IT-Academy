{
 "cells": [
  {
   "cell_type": "code",
   "execution_count": 232,
   "outputs": [],
   "source": [
    "from sklearn import preprocessing\n",
    "from xgboost import XGBClassifier\n",
    "from sklearn.decomposition import PCA\n",
    "\n",
    "from sklearn.model_selection import train_test_split\n",
    "from sklearn.metrics import roc_auc_score\n",
    "\n",
    "import pandas as pd"
   ],
   "metadata": {
    "id": "lnbw-8jGW7Af"
   }
  },
  {
   "cell_type": "code",
   "execution_count": 233,
   "outputs": [
    {
     "data": {
      "text/plain": "   rev_Mean  mou_Mean  totmrc_Mean  da_Mean  ovrmou_Mean  ovrrev_Mean  \\\n0   23.9975    219.25       22.500   0.2475         0.00          0.0   \n1   57.4925    482.75       37.425   0.2475        22.75          9.1   \n2   16.9900     10.25       16.990   0.0000         0.00          0.0   \n3   38.0000      7.50       38.000   0.0000         0.00          0.0   \n4   55.2300    570.50       71.980   0.0000         0.00          0.0   \n\n   vceovr_Mean  datovr_Mean  roam_Mean  change_mou  ...  forgntvl  ethnic  \\\n0          0.0          0.0        0.0     -157.25  ...       0.0       N   \n1          9.1          0.0        0.0      532.25  ...       0.0       Z   \n2          0.0          0.0        0.0       -4.25  ...       0.0       N   \n3          0.0          0.0        0.0       -1.50  ...       0.0       U   \n4          0.0          0.0        0.0       38.50  ...       0.0       I   \n\n   kid0_2  kid3_5  kid6_10  kid11_15  kid16_17  creditcd  eqpdays  Customer_ID  \n0       U       U        U         U         U         Y    361.0      1000001  \n1       U       U        U         U         U         Y    240.0      1000002  \n2       U       Y        U         U         U         Y   1504.0      1000003  \n3       Y       U        U         U         U         Y   1812.0      1000004  \n4       U       U        U         U         U         Y    434.0      1000005  \n\n[5 rows x 100 columns]",
      "text/html": "<div>\n<style scoped>\n    .dataframe tbody tr th:only-of-type {\n        vertical-align: middle;\n    }\n\n    .dataframe tbody tr th {\n        vertical-align: top;\n    }\n\n    .dataframe thead th {\n        text-align: right;\n    }\n</style>\n<table border=\"1\" class=\"dataframe\">\n  <thead>\n    <tr style=\"text-align: right;\">\n      <th></th>\n      <th>rev_Mean</th>\n      <th>mou_Mean</th>\n      <th>totmrc_Mean</th>\n      <th>da_Mean</th>\n      <th>ovrmou_Mean</th>\n      <th>ovrrev_Mean</th>\n      <th>vceovr_Mean</th>\n      <th>datovr_Mean</th>\n      <th>roam_Mean</th>\n      <th>change_mou</th>\n      <th>...</th>\n      <th>forgntvl</th>\n      <th>ethnic</th>\n      <th>kid0_2</th>\n      <th>kid3_5</th>\n      <th>kid6_10</th>\n      <th>kid11_15</th>\n      <th>kid16_17</th>\n      <th>creditcd</th>\n      <th>eqpdays</th>\n      <th>Customer_ID</th>\n    </tr>\n  </thead>\n  <tbody>\n    <tr>\n      <th>0</th>\n      <td>23.9975</td>\n      <td>219.25</td>\n      <td>22.500</td>\n      <td>0.2475</td>\n      <td>0.00</td>\n      <td>0.0</td>\n      <td>0.0</td>\n      <td>0.0</td>\n      <td>0.0</td>\n      <td>-157.25</td>\n      <td>...</td>\n      <td>0.0</td>\n      <td>N</td>\n      <td>U</td>\n      <td>U</td>\n      <td>U</td>\n      <td>U</td>\n      <td>U</td>\n      <td>Y</td>\n      <td>361.0</td>\n      <td>1000001</td>\n    </tr>\n    <tr>\n      <th>1</th>\n      <td>57.4925</td>\n      <td>482.75</td>\n      <td>37.425</td>\n      <td>0.2475</td>\n      <td>22.75</td>\n      <td>9.1</td>\n      <td>9.1</td>\n      <td>0.0</td>\n      <td>0.0</td>\n      <td>532.25</td>\n      <td>...</td>\n      <td>0.0</td>\n      <td>Z</td>\n      <td>U</td>\n      <td>U</td>\n      <td>U</td>\n      <td>U</td>\n      <td>U</td>\n      <td>Y</td>\n      <td>240.0</td>\n      <td>1000002</td>\n    </tr>\n    <tr>\n      <th>2</th>\n      <td>16.9900</td>\n      <td>10.25</td>\n      <td>16.990</td>\n      <td>0.0000</td>\n      <td>0.00</td>\n      <td>0.0</td>\n      <td>0.0</td>\n      <td>0.0</td>\n      <td>0.0</td>\n      <td>-4.25</td>\n      <td>...</td>\n      <td>0.0</td>\n      <td>N</td>\n      <td>U</td>\n      <td>Y</td>\n      <td>U</td>\n      <td>U</td>\n      <td>U</td>\n      <td>Y</td>\n      <td>1504.0</td>\n      <td>1000003</td>\n    </tr>\n    <tr>\n      <th>3</th>\n      <td>38.0000</td>\n      <td>7.50</td>\n      <td>38.000</td>\n      <td>0.0000</td>\n      <td>0.00</td>\n      <td>0.0</td>\n      <td>0.0</td>\n      <td>0.0</td>\n      <td>0.0</td>\n      <td>-1.50</td>\n      <td>...</td>\n      <td>0.0</td>\n      <td>U</td>\n      <td>Y</td>\n      <td>U</td>\n      <td>U</td>\n      <td>U</td>\n      <td>U</td>\n      <td>Y</td>\n      <td>1812.0</td>\n      <td>1000004</td>\n    </tr>\n    <tr>\n      <th>4</th>\n      <td>55.2300</td>\n      <td>570.50</td>\n      <td>71.980</td>\n      <td>0.0000</td>\n      <td>0.00</td>\n      <td>0.0</td>\n      <td>0.0</td>\n      <td>0.0</td>\n      <td>0.0</td>\n      <td>38.50</td>\n      <td>...</td>\n      <td>0.0</td>\n      <td>I</td>\n      <td>U</td>\n      <td>U</td>\n      <td>U</td>\n      <td>U</td>\n      <td>U</td>\n      <td>Y</td>\n      <td>434.0</td>\n      <td>1000005</td>\n    </tr>\n  </tbody>\n</table>\n<p>5 rows × 100 columns</p>\n</div>"
     },
     "execution_count": 233,
     "metadata": {},
     "output_type": "execute_result"
    }
   ],
   "source": [
    "df = pd.read_csv('dataset/telcom_customer_churn.csv')\n",
    "df.head()"
   ],
   "metadata": {
    "colab": {
     "base_uri": "https://localhost:8080/",
     "height": 299
    },
    "id": "zY4JfnjoW7BD",
    "outputId": "d6e00107-cac1-430b-deeb-701429823e3c"
   }
  },
  {
   "cell_type": "code",
   "source": [
    "y = df['churn']\n",
    "df.drop(['churn'], axis=1, inplace=True)"
   ],
   "metadata": {
    "id": "4g7yYrmueBUr"
   },
   "execution_count": 234,
   "outputs": []
  },
  {
   "cell_type": "code",
   "execution_count": 235,
   "outputs": [],
   "source": [
    "nans = df.isnull().sum()"
   ],
   "metadata": {
    "id": "nItJvpZWW7BF"
   }
  },
  {
   "cell_type": "code",
   "execution_count": 236,
   "outputs": [
    {
     "data": {
      "text/plain": "99"
     },
     "execution_count": 236,
     "metadata": {},
     "output_type": "execute_result"
    }
   ],
   "source": [
    "len(nans)"
   ],
   "metadata": {
    "colab": {
     "base_uri": "https://localhost:8080/"
    },
    "id": "rgrG4l7QW7BG",
    "outputId": "4918d73a-f27f-4b38-a2f7-992412858772"
   }
  },
  {
   "cell_type": "code",
   "execution_count": 237,
   "outputs": [
    {
     "name": "stdout",
     "output_type": "stream",
     "text": [
      "<class 'pandas.core.frame.DataFrame'>\n",
      "RangeIndex: 100000 entries, 0 to 99999\n",
      "Data columns (total 99 columns):\n",
      " #   Column            Non-Null Count   Dtype  \n",
      "---  ------            --------------   -----  \n",
      " 0   rev_Mean          99643 non-null   float64\n",
      " 1   mou_Mean          99643 non-null   float64\n",
      " 2   totmrc_Mean       99643 non-null   float64\n",
      " 3   da_Mean           99643 non-null   float64\n",
      " 4   ovrmou_Mean       99643 non-null   float64\n",
      " 5   ovrrev_Mean       99643 non-null   float64\n",
      " 6   vceovr_Mean       99643 non-null   float64\n",
      " 7   datovr_Mean       99643 non-null   float64\n",
      " 8   roam_Mean         99643 non-null   float64\n",
      " 9   change_mou        99109 non-null   float64\n",
      " 10  change_rev        99109 non-null   float64\n",
      " 11  drop_vce_Mean     100000 non-null  float64\n",
      " 12  drop_dat_Mean     100000 non-null  float64\n",
      " 13  blck_vce_Mean     100000 non-null  float64\n",
      " 14  blck_dat_Mean     100000 non-null  float64\n",
      " 15  unan_vce_Mean     100000 non-null  float64\n",
      " 16  unan_dat_Mean     100000 non-null  float64\n",
      " 17  plcd_vce_Mean     100000 non-null  float64\n",
      " 18  plcd_dat_Mean     100000 non-null  float64\n",
      " 19  recv_vce_Mean     100000 non-null  float64\n",
      " 20  recv_sms_Mean     100000 non-null  float64\n",
      " 21  comp_vce_Mean     100000 non-null  float64\n",
      " 22  comp_dat_Mean     100000 non-null  float64\n",
      " 23  custcare_Mean     100000 non-null  float64\n",
      " 24  ccrndmou_Mean     100000 non-null  float64\n",
      " 25  cc_mou_Mean       100000 non-null  float64\n",
      " 26  inonemin_Mean     100000 non-null  float64\n",
      " 27  threeway_Mean     100000 non-null  float64\n",
      " 28  mou_cvce_Mean     100000 non-null  float64\n",
      " 29  mou_cdat_Mean     100000 non-null  float64\n",
      " 30  mou_rvce_Mean     100000 non-null  float64\n",
      " 31  owylis_vce_Mean   100000 non-null  float64\n",
      " 32  mouowylisv_Mean   100000 non-null  float64\n",
      " 33  iwylis_vce_Mean   100000 non-null  float64\n",
      " 34  mouiwylisv_Mean   100000 non-null  float64\n",
      " 35  peak_vce_Mean     100000 non-null  float64\n",
      " 36  peak_dat_Mean     100000 non-null  float64\n",
      " 37  mou_peav_Mean     100000 non-null  float64\n",
      " 38  mou_pead_Mean     100000 non-null  float64\n",
      " 39  opk_vce_Mean      100000 non-null  float64\n",
      " 40  opk_dat_Mean      100000 non-null  float64\n",
      " 41  mou_opkv_Mean     100000 non-null  float64\n",
      " 42  mou_opkd_Mean     100000 non-null  float64\n",
      " 43  drop_blk_Mean     100000 non-null  float64\n",
      " 44  attempt_Mean      100000 non-null  float64\n",
      " 45  complete_Mean     100000 non-null  float64\n",
      " 46  callfwdv_Mean     100000 non-null  float64\n",
      " 47  callwait_Mean     100000 non-null  float64\n",
      " 48  months            100000 non-null  int64  \n",
      " 49  uniqsubs          100000 non-null  int64  \n",
      " 50  actvsubs          100000 non-null  int64  \n",
      " 51  new_cell          100000 non-null  object \n",
      " 52  crclscod          100000 non-null  object \n",
      " 53  asl_flag          100000 non-null  object \n",
      " 54  totcalls          100000 non-null  int64  \n",
      " 55  totmou            100000 non-null  float64\n",
      " 56  totrev            100000 non-null  float64\n",
      " 57  adjrev            100000 non-null  float64\n",
      " 58  adjmou            100000 non-null  float64\n",
      " 59  adjqty            100000 non-null  int64  \n",
      " 60  avgrev            100000 non-null  float64\n",
      " 61  avgmou            100000 non-null  float64\n",
      " 62  avgqty            100000 non-null  float64\n",
      " 63  avg3mou           100000 non-null  int64  \n",
      " 64  avg3qty           100000 non-null  int64  \n",
      " 65  avg3rev           100000 non-null  int64  \n",
      " 66  avg6mou           97161 non-null   float64\n",
      " 67  avg6qty           97161 non-null   float64\n",
      " 68  avg6rev           97161 non-null   float64\n",
      " 69  prizm_social_one  92612 non-null   object \n",
      " 70  area              99960 non-null   object \n",
      " 71  dualband          99999 non-null   object \n",
      " 72  refurb_new        99999 non-null   object \n",
      " 73  hnd_price         99153 non-null   float64\n",
      " 74  phones            99999 non-null   float64\n",
      " 75  models            99999 non-null   float64\n",
      " 76  hnd_webcap        89811 non-null   object \n",
      " 77  truck             98268 non-null   float64\n",
      " 78  rv                98268 non-null   float64\n",
      " 79  ownrent           66294 non-null   object \n",
      " 80  lor               69810 non-null   float64\n",
      " 81  dwlltype          68091 non-null   object \n",
      " 82  marital           98268 non-null   object \n",
      " 83  adults            76981 non-null   float64\n",
      " 84  infobase          77921 non-null   object \n",
      " 85  income            74564 non-null   float64\n",
      " 86  numbcars          50634 non-null   float64\n",
      " 87  HHstatin          62077 non-null   object \n",
      " 88  dwllsize          61692 non-null   object \n",
      " 89  forgntvl          98268 non-null   float64\n",
      " 90  ethnic            98268 non-null   object \n",
      " 91  kid0_2            98268 non-null   object \n",
      " 92  kid3_5            98268 non-null   object \n",
      " 93  kid6_10           98268 non-null   object \n",
      " 94  kid11_15          98268 non-null   object \n",
      " 95  kid16_17          98268 non-null   object \n",
      " 96  creditcd          98268 non-null   object \n",
      " 97  eqpdays           99999 non-null   float64\n",
      " 98  Customer_ID       100000 non-null  int64  \n",
      "dtypes: float64(69), int64(9), object(21)\n",
      "memory usage: 75.5+ MB\n"
     ]
    }
   ],
   "source": [
    "df.info()"
   ],
   "metadata": {
    "colab": {
     "base_uri": "https://localhost:8080/"
    },
    "id": "nUQhGkU8W7BI",
    "outputId": "110bb38d-c462-4b75-9daa-3716e967acd2"
   }
  },
  {
   "cell_type": "code",
   "execution_count": 238,
   "outputs": [],
   "source": [
    "nans = nans[nans != 0].index"
   ],
   "metadata": {
    "id": "jxduWS6SW7BJ"
   }
  },
  {
   "cell_type": "code",
   "execution_count": 239,
   "outputs": [
    {
     "data": {
      "text/plain": "Index(['rev_Mean', 'mou_Mean', 'totmrc_Mean', 'da_Mean', 'ovrmou_Mean',\n       'ovrrev_Mean', 'vceovr_Mean', 'datovr_Mean', 'roam_Mean', 'change_mou',\n       'change_rev', 'avg6mou', 'avg6qty', 'avg6rev', 'prizm_social_one',\n       'area', 'dualband', 'refurb_new', 'hnd_price', 'phones', 'models',\n       'hnd_webcap', 'truck', 'rv', 'ownrent', 'lor', 'dwlltype', 'marital',\n       'adults', 'infobase', 'income', 'numbcars', 'HHstatin', 'dwllsize',\n       'forgntvl', 'ethnic', 'kid0_2', 'kid3_5', 'kid6_10', 'kid11_15',\n       'kid16_17', 'creditcd', 'eqpdays'],\n      dtype='object')"
     },
     "execution_count": 239,
     "metadata": {},
     "output_type": "execute_result"
    }
   ],
   "source": [
    "nans"
   ],
   "metadata": {
    "colab": {
     "base_uri": "https://localhost:8080/"
    },
    "id": "8LjWt2CUW7BK",
    "outputId": "988b82e7-68dc-41bb-a942-707b1378c9d2"
   }
  },
  {
   "cell_type": "code",
   "execution_count": 240,
   "outputs": [
    {
     "data": {
      "text/plain": "   rev_Mean  mou_Mean  totmrc_Mean  da_Mean  ovrmou_Mean  ovrrev_Mean  \\\n0   23.9975    219.25       22.500   0.2475         0.00          0.0   \n1   57.4925    482.75       37.425   0.2475        22.75          9.1   \n2   16.9900     10.25       16.990   0.0000         0.00          0.0   \n3   38.0000      7.50       38.000   0.0000         0.00          0.0   \n4   55.2300    570.50       71.980   0.0000         0.00          0.0   \n\n   vceovr_Mean  datovr_Mean  roam_Mean  change_mou  ...  dwllsize  forgntvl  \\\n0          0.0          0.0        0.0     -157.25  ...         A       0.0   \n1          9.1          0.0        0.0      532.25  ...         A       0.0   \n2          0.0          0.0        0.0       -4.25  ...         A       0.0   \n3          0.0          0.0        0.0       -1.50  ...         D       0.0   \n4          0.0          0.0        0.0       38.50  ...         O       0.0   \n\n   ethnic  kid0_2 kid3_5 kid6_10 kid11_15 kid16_17  creditcd  eqpdays  \n0       N       U      U       U        U        U         Y    361.0  \n1       Z       U      U       U        U        U         Y    240.0  \n2       N       U      Y       U        U        U         Y   1504.0  \n3       U       Y      U       U        U        U         Y   1812.0  \n4       I       U      U       U        U        U         Y    434.0  \n\n[5 rows x 43 columns]",
      "text/html": "<div>\n<style scoped>\n    .dataframe tbody tr th:only-of-type {\n        vertical-align: middle;\n    }\n\n    .dataframe tbody tr th {\n        vertical-align: top;\n    }\n\n    .dataframe thead th {\n        text-align: right;\n    }\n</style>\n<table border=\"1\" class=\"dataframe\">\n  <thead>\n    <tr style=\"text-align: right;\">\n      <th></th>\n      <th>rev_Mean</th>\n      <th>mou_Mean</th>\n      <th>totmrc_Mean</th>\n      <th>da_Mean</th>\n      <th>ovrmou_Mean</th>\n      <th>ovrrev_Mean</th>\n      <th>vceovr_Mean</th>\n      <th>datovr_Mean</th>\n      <th>roam_Mean</th>\n      <th>change_mou</th>\n      <th>...</th>\n      <th>dwllsize</th>\n      <th>forgntvl</th>\n      <th>ethnic</th>\n      <th>kid0_2</th>\n      <th>kid3_5</th>\n      <th>kid6_10</th>\n      <th>kid11_15</th>\n      <th>kid16_17</th>\n      <th>creditcd</th>\n      <th>eqpdays</th>\n    </tr>\n  </thead>\n  <tbody>\n    <tr>\n      <th>0</th>\n      <td>23.9975</td>\n      <td>219.25</td>\n      <td>22.500</td>\n      <td>0.2475</td>\n      <td>0.00</td>\n      <td>0.0</td>\n      <td>0.0</td>\n      <td>0.0</td>\n      <td>0.0</td>\n      <td>-157.25</td>\n      <td>...</td>\n      <td>A</td>\n      <td>0.0</td>\n      <td>N</td>\n      <td>U</td>\n      <td>U</td>\n      <td>U</td>\n      <td>U</td>\n      <td>U</td>\n      <td>Y</td>\n      <td>361.0</td>\n    </tr>\n    <tr>\n      <th>1</th>\n      <td>57.4925</td>\n      <td>482.75</td>\n      <td>37.425</td>\n      <td>0.2475</td>\n      <td>22.75</td>\n      <td>9.1</td>\n      <td>9.1</td>\n      <td>0.0</td>\n      <td>0.0</td>\n      <td>532.25</td>\n      <td>...</td>\n      <td>A</td>\n      <td>0.0</td>\n      <td>Z</td>\n      <td>U</td>\n      <td>U</td>\n      <td>U</td>\n      <td>U</td>\n      <td>U</td>\n      <td>Y</td>\n      <td>240.0</td>\n    </tr>\n    <tr>\n      <th>2</th>\n      <td>16.9900</td>\n      <td>10.25</td>\n      <td>16.990</td>\n      <td>0.0000</td>\n      <td>0.00</td>\n      <td>0.0</td>\n      <td>0.0</td>\n      <td>0.0</td>\n      <td>0.0</td>\n      <td>-4.25</td>\n      <td>...</td>\n      <td>A</td>\n      <td>0.0</td>\n      <td>N</td>\n      <td>U</td>\n      <td>Y</td>\n      <td>U</td>\n      <td>U</td>\n      <td>U</td>\n      <td>Y</td>\n      <td>1504.0</td>\n    </tr>\n    <tr>\n      <th>3</th>\n      <td>38.0000</td>\n      <td>7.50</td>\n      <td>38.000</td>\n      <td>0.0000</td>\n      <td>0.00</td>\n      <td>0.0</td>\n      <td>0.0</td>\n      <td>0.0</td>\n      <td>0.0</td>\n      <td>-1.50</td>\n      <td>...</td>\n      <td>D</td>\n      <td>0.0</td>\n      <td>U</td>\n      <td>Y</td>\n      <td>U</td>\n      <td>U</td>\n      <td>U</td>\n      <td>U</td>\n      <td>Y</td>\n      <td>1812.0</td>\n    </tr>\n    <tr>\n      <th>4</th>\n      <td>55.2300</td>\n      <td>570.50</td>\n      <td>71.980</td>\n      <td>0.0000</td>\n      <td>0.00</td>\n      <td>0.0</td>\n      <td>0.0</td>\n      <td>0.0</td>\n      <td>0.0</td>\n      <td>38.50</td>\n      <td>...</td>\n      <td>O</td>\n      <td>0.0</td>\n      <td>I</td>\n      <td>U</td>\n      <td>U</td>\n      <td>U</td>\n      <td>U</td>\n      <td>U</td>\n      <td>Y</td>\n      <td>434.0</td>\n    </tr>\n  </tbody>\n</table>\n<p>5 rows × 43 columns</p>\n</div>"
     },
     "execution_count": 240,
     "metadata": {},
     "output_type": "execute_result"
    }
   ],
   "source": [
    "df_nans = df[nans]\n",
    "df_nans.head(5)"
   ],
   "metadata": {
    "colab": {
     "base_uri": "https://localhost:8080/",
     "height": 299
    },
    "id": "73TIeqD4W7BL",
    "outputId": "4214df12-48bf-4f2e-86f2-ab725b84d383"
   }
  },
  {
   "cell_type": "code",
   "execution_count": 241,
   "outputs": [],
   "source": [
    "numerics = ['int16', 'int32', 'int64', 'float16', 'float32', 'float64']\n",
    "\n",
    "num_cols = df.select_dtypes(include=numerics).columns\n",
    "cat_cols = df.select_dtypes('object').columns"
   ],
   "metadata": {
    "id": "_Oj3CgIZW7BN"
   }
  },
  {
   "cell_type": "code",
   "execution_count": 242,
   "outputs": [],
   "source": [
    "num_feature = []\n",
    "cat_feature = []\n",
    "for feature in nans:\n",
    "    if feature not in cat_cols:\n",
    "        num_feature.append(feature)\n",
    "    else:\n",
    "        cat_feature.append(feature)"
   ],
   "metadata": {
    "id": "l0IUXeCLW7BO"
   }
  },
  {
   "cell_type": "code",
   "execution_count": 243,
   "outputs": [],
   "source": [
    "def impute_with_median(data, NA_col):\n",
    "    data_copy = data.copy(deep=True)\n",
    "    for i in NA_col:\n",
    "        if data_copy[i].isnull().sum()>0:\n",
    "            data_copy[i] = data_copy[i].fillna(data[i].median())\n",
    "\n",
    "    return data_copy"
   ],
   "metadata": {
    "id": "kbrTsrqPW7BQ"
   }
  },
  {
   "cell_type": "code",
   "execution_count": 244,
   "outputs": [],
   "source": [
    "def impute_with_mode(data, NA_col):\n",
    "    data_copy = data.copy(deep=True)\n",
    "    for i in NA_col:\n",
    "        if data_copy[i].isnull().sum()>0:\n",
    "            data_copy[i] = data_copy[i].fillna(data[i].mode()[0])\n",
    "\n",
    "    return data_copy"
   ],
   "metadata": {
    "id": "wxRuzB_hW7BS"
   }
  },
  {
   "cell_type": "code",
   "execution_count": 245,
   "outputs": [],
   "source": [
    "new_df = impute_with_median(data = df, NA_col = num_feature)"
   ],
   "metadata": {
    "id": "rlwTuB7JW7BT"
   }
  },
  {
   "cell_type": "code",
   "execution_count": 246,
   "outputs": [],
   "source": [
    "new_df2 = impute_with_mode(data = new_df, NA_col = cat_feature)"
   ],
   "metadata": {
    "id": "WHWdER6QW7BU"
   }
  },
  {
   "cell_type": "code",
   "execution_count": 247,
   "outputs": [],
   "source": [
    "# creating instance of one-hot-encoder\n",
    "encoder = preprocessing.OneHotEncoder(handle_unknown='ignore')\n",
    "\n",
    "new_df3 = pd.DataFrame(encoder.fit_transform(new_df2[cat_cols]).toarray())"
   ],
   "metadata": {
    "id": "lebDfk4MW7BV"
   }
  },
  {
   "cell_type": "code",
   "execution_count": 248,
   "outputs": [
    {
     "data": {
      "text/plain": "   0    1    2    3    4    5    6    7    8    9    ...  143  144  145  146  \\\n0  0.0  1.0  0.0  1.0  0.0  0.0  0.0  0.0  0.0  0.0  ...  1.0  0.0  1.0  0.0   \n1  1.0  0.0  0.0  0.0  0.0  0.0  0.0  0.0  0.0  0.0  ...  1.0  0.0  1.0  0.0   \n2  0.0  0.0  1.0  0.0  0.0  0.0  0.0  0.0  0.0  0.0  ...  0.0  1.0  1.0  0.0   \n3  0.0  0.0  1.0  0.0  0.0  0.0  0.0  1.0  0.0  0.0  ...  1.0  0.0  1.0  0.0   \n4  0.0  0.0  1.0  1.0  0.0  0.0  0.0  0.0  0.0  0.0  ...  1.0  0.0  1.0  0.0   \n\n   147  148  149  150  151  152  \n0  1.0  0.0  1.0  0.0  0.0  1.0  \n1  1.0  0.0  1.0  0.0  0.0  1.0  \n2  1.0  0.0  1.0  0.0  0.0  1.0  \n3  1.0  0.0  1.0  0.0  0.0  1.0  \n4  1.0  0.0  1.0  0.0  0.0  1.0  \n\n[5 rows x 153 columns]",
      "text/html": "<div>\n<style scoped>\n    .dataframe tbody tr th:only-of-type {\n        vertical-align: middle;\n    }\n\n    .dataframe tbody tr th {\n        vertical-align: top;\n    }\n\n    .dataframe thead th {\n        text-align: right;\n    }\n</style>\n<table border=\"1\" class=\"dataframe\">\n  <thead>\n    <tr style=\"text-align: right;\">\n      <th></th>\n      <th>0</th>\n      <th>1</th>\n      <th>2</th>\n      <th>3</th>\n      <th>4</th>\n      <th>5</th>\n      <th>6</th>\n      <th>7</th>\n      <th>8</th>\n      <th>9</th>\n      <th>...</th>\n      <th>143</th>\n      <th>144</th>\n      <th>145</th>\n      <th>146</th>\n      <th>147</th>\n      <th>148</th>\n      <th>149</th>\n      <th>150</th>\n      <th>151</th>\n      <th>152</th>\n    </tr>\n  </thead>\n  <tbody>\n    <tr>\n      <th>0</th>\n      <td>0.0</td>\n      <td>1.0</td>\n      <td>0.0</td>\n      <td>1.0</td>\n      <td>0.0</td>\n      <td>0.0</td>\n      <td>0.0</td>\n      <td>0.0</td>\n      <td>0.0</td>\n      <td>0.0</td>\n      <td>...</td>\n      <td>1.0</td>\n      <td>0.0</td>\n      <td>1.0</td>\n      <td>0.0</td>\n      <td>1.0</td>\n      <td>0.0</td>\n      <td>1.0</td>\n      <td>0.0</td>\n      <td>0.0</td>\n      <td>1.0</td>\n    </tr>\n    <tr>\n      <th>1</th>\n      <td>1.0</td>\n      <td>0.0</td>\n      <td>0.0</td>\n      <td>0.0</td>\n      <td>0.0</td>\n      <td>0.0</td>\n      <td>0.0</td>\n      <td>0.0</td>\n      <td>0.0</td>\n      <td>0.0</td>\n      <td>...</td>\n      <td>1.0</td>\n      <td>0.0</td>\n      <td>1.0</td>\n      <td>0.0</td>\n      <td>1.0</td>\n      <td>0.0</td>\n      <td>1.0</td>\n      <td>0.0</td>\n      <td>0.0</td>\n      <td>1.0</td>\n    </tr>\n    <tr>\n      <th>2</th>\n      <td>0.0</td>\n      <td>0.0</td>\n      <td>1.0</td>\n      <td>0.0</td>\n      <td>0.0</td>\n      <td>0.0</td>\n      <td>0.0</td>\n      <td>0.0</td>\n      <td>0.0</td>\n      <td>0.0</td>\n      <td>...</td>\n      <td>0.0</td>\n      <td>1.0</td>\n      <td>1.0</td>\n      <td>0.0</td>\n      <td>1.0</td>\n      <td>0.0</td>\n      <td>1.0</td>\n      <td>0.0</td>\n      <td>0.0</td>\n      <td>1.0</td>\n    </tr>\n    <tr>\n      <th>3</th>\n      <td>0.0</td>\n      <td>0.0</td>\n      <td>1.0</td>\n      <td>0.0</td>\n      <td>0.0</td>\n      <td>0.0</td>\n      <td>0.0</td>\n      <td>1.0</td>\n      <td>0.0</td>\n      <td>0.0</td>\n      <td>...</td>\n      <td>1.0</td>\n      <td>0.0</td>\n      <td>1.0</td>\n      <td>0.0</td>\n      <td>1.0</td>\n      <td>0.0</td>\n      <td>1.0</td>\n      <td>0.0</td>\n      <td>0.0</td>\n      <td>1.0</td>\n    </tr>\n    <tr>\n      <th>4</th>\n      <td>0.0</td>\n      <td>0.0</td>\n      <td>1.0</td>\n      <td>1.0</td>\n      <td>0.0</td>\n      <td>0.0</td>\n      <td>0.0</td>\n      <td>0.0</td>\n      <td>0.0</td>\n      <td>0.0</td>\n      <td>...</td>\n      <td>1.0</td>\n      <td>0.0</td>\n      <td>1.0</td>\n      <td>0.0</td>\n      <td>1.0</td>\n      <td>0.0</td>\n      <td>1.0</td>\n      <td>0.0</td>\n      <td>0.0</td>\n      <td>1.0</td>\n    </tr>\n  </tbody>\n</table>\n<p>5 rows × 153 columns</p>\n</div>"
     },
     "execution_count": 248,
     "metadata": {},
     "output_type": "execute_result"
    }
   ],
   "source": [
    "new_df3.head()"
   ],
   "metadata": {
    "colab": {
     "base_uri": "https://localhost:8080/",
     "height": 235
    },
    "id": "Gwd_fWOVW7BV",
    "outputId": "9edaab38-8e35-4a0e-9c06-c70b38e8e813"
   }
  },
  {
   "cell_type": "code",
   "execution_count": 249,
   "outputs": [],
   "source": [
    "without_cats = []\n",
    "for col in df.columns:\n",
    "    if col not in cat_cols:\n",
    "        without_cats.append(col)"
   ],
   "metadata": {
    "id": "fwcuZsz4W7BW"
   }
  },
  {
   "cell_type": "code",
   "execution_count": 250,
   "outputs": [
    {
     "data": {
      "text/plain": "78"
     },
     "execution_count": 250,
     "metadata": {},
     "output_type": "execute_result"
    }
   ],
   "source": [
    "len(without_cats)"
   ],
   "metadata": {
    "colab": {
     "base_uri": "https://localhost:8080/"
    },
    "id": "eGxvPW6tW7BX",
    "outputId": "2416e17f-96f6-41ec-df5e-2ec53287198a"
   }
  },
  {
   "cell_type": "code",
   "execution_count": 251,
   "outputs": [],
   "source": [
    "new_df4 = pd.concat([new_df2[without_cats], new_df3], axis=1)"
   ],
   "metadata": {
    "id": "05tMcfUkW7BX"
   }
  },
  {
   "cell_type": "code",
   "execution_count": 252,
   "outputs": [
    {
     "data": {
      "text/plain": "   rev_Mean  mou_Mean  totmrc_Mean  da_Mean  ovrmou_Mean  ovrrev_Mean  \\\n0   23.9975    219.25       22.500   0.2475         0.00          0.0   \n1   57.4925    482.75       37.425   0.2475        22.75          9.1   \n2   16.9900     10.25       16.990   0.0000         0.00          0.0   \n3   38.0000      7.50       38.000   0.0000         0.00          0.0   \n4   55.2300    570.50       71.980   0.0000         0.00          0.0   \n\n   vceovr_Mean  datovr_Mean  roam_Mean  change_mou  ...  143  144  145  146  \\\n0          0.0          0.0        0.0     -157.25  ...  1.0  0.0  1.0  0.0   \n1          9.1          0.0        0.0      532.25  ...  1.0  0.0  1.0  0.0   \n2          0.0          0.0        0.0       -4.25  ...  0.0  1.0  1.0  0.0   \n3          0.0          0.0        0.0       -1.50  ...  1.0  0.0  1.0  0.0   \n4          0.0          0.0        0.0       38.50  ...  1.0  0.0  1.0  0.0   \n\n   147  148  149  150  151  152  \n0  1.0  0.0  1.0  0.0  0.0  1.0  \n1  1.0  0.0  1.0  0.0  0.0  1.0  \n2  1.0  0.0  1.0  0.0  0.0  1.0  \n3  1.0  0.0  1.0  0.0  0.0  1.0  \n4  1.0  0.0  1.0  0.0  0.0  1.0  \n\n[5 rows x 231 columns]",
      "text/html": "<div>\n<style scoped>\n    .dataframe tbody tr th:only-of-type {\n        vertical-align: middle;\n    }\n\n    .dataframe tbody tr th {\n        vertical-align: top;\n    }\n\n    .dataframe thead th {\n        text-align: right;\n    }\n</style>\n<table border=\"1\" class=\"dataframe\">\n  <thead>\n    <tr style=\"text-align: right;\">\n      <th></th>\n      <th>rev_Mean</th>\n      <th>mou_Mean</th>\n      <th>totmrc_Mean</th>\n      <th>da_Mean</th>\n      <th>ovrmou_Mean</th>\n      <th>ovrrev_Mean</th>\n      <th>vceovr_Mean</th>\n      <th>datovr_Mean</th>\n      <th>roam_Mean</th>\n      <th>change_mou</th>\n      <th>...</th>\n      <th>143</th>\n      <th>144</th>\n      <th>145</th>\n      <th>146</th>\n      <th>147</th>\n      <th>148</th>\n      <th>149</th>\n      <th>150</th>\n      <th>151</th>\n      <th>152</th>\n    </tr>\n  </thead>\n  <tbody>\n    <tr>\n      <th>0</th>\n      <td>23.9975</td>\n      <td>219.25</td>\n      <td>22.500</td>\n      <td>0.2475</td>\n      <td>0.00</td>\n      <td>0.0</td>\n      <td>0.0</td>\n      <td>0.0</td>\n      <td>0.0</td>\n      <td>-157.25</td>\n      <td>...</td>\n      <td>1.0</td>\n      <td>0.0</td>\n      <td>1.0</td>\n      <td>0.0</td>\n      <td>1.0</td>\n      <td>0.0</td>\n      <td>1.0</td>\n      <td>0.0</td>\n      <td>0.0</td>\n      <td>1.0</td>\n    </tr>\n    <tr>\n      <th>1</th>\n      <td>57.4925</td>\n      <td>482.75</td>\n      <td>37.425</td>\n      <td>0.2475</td>\n      <td>22.75</td>\n      <td>9.1</td>\n      <td>9.1</td>\n      <td>0.0</td>\n      <td>0.0</td>\n      <td>532.25</td>\n      <td>...</td>\n      <td>1.0</td>\n      <td>0.0</td>\n      <td>1.0</td>\n      <td>0.0</td>\n      <td>1.0</td>\n      <td>0.0</td>\n      <td>1.0</td>\n      <td>0.0</td>\n      <td>0.0</td>\n      <td>1.0</td>\n    </tr>\n    <tr>\n      <th>2</th>\n      <td>16.9900</td>\n      <td>10.25</td>\n      <td>16.990</td>\n      <td>0.0000</td>\n      <td>0.00</td>\n      <td>0.0</td>\n      <td>0.0</td>\n      <td>0.0</td>\n      <td>0.0</td>\n      <td>-4.25</td>\n      <td>...</td>\n      <td>0.0</td>\n      <td>1.0</td>\n      <td>1.0</td>\n      <td>0.0</td>\n      <td>1.0</td>\n      <td>0.0</td>\n      <td>1.0</td>\n      <td>0.0</td>\n      <td>0.0</td>\n      <td>1.0</td>\n    </tr>\n    <tr>\n      <th>3</th>\n      <td>38.0000</td>\n      <td>7.50</td>\n      <td>38.000</td>\n      <td>0.0000</td>\n      <td>0.00</td>\n      <td>0.0</td>\n      <td>0.0</td>\n      <td>0.0</td>\n      <td>0.0</td>\n      <td>-1.50</td>\n      <td>...</td>\n      <td>1.0</td>\n      <td>0.0</td>\n      <td>1.0</td>\n      <td>0.0</td>\n      <td>1.0</td>\n      <td>0.0</td>\n      <td>1.0</td>\n      <td>0.0</td>\n      <td>0.0</td>\n      <td>1.0</td>\n    </tr>\n    <tr>\n      <th>4</th>\n      <td>55.2300</td>\n      <td>570.50</td>\n      <td>71.980</td>\n      <td>0.0000</td>\n      <td>0.00</td>\n      <td>0.0</td>\n      <td>0.0</td>\n      <td>0.0</td>\n      <td>0.0</td>\n      <td>38.50</td>\n      <td>...</td>\n      <td>1.0</td>\n      <td>0.0</td>\n      <td>1.0</td>\n      <td>0.0</td>\n      <td>1.0</td>\n      <td>0.0</td>\n      <td>1.0</td>\n      <td>0.0</td>\n      <td>0.0</td>\n      <td>1.0</td>\n    </tr>\n  </tbody>\n</table>\n<p>5 rows × 231 columns</p>\n</div>"
     },
     "execution_count": 252,
     "metadata": {},
     "output_type": "execute_result"
    }
   ],
   "source": [
    "new_df4.head()"
   ],
   "metadata": {
    "collapsed": false
   }
  },
  {
   "cell_type": "code",
   "execution_count": 253,
   "outputs": [],
   "source": [
    "X_train, X_test, y_train, y_test = train_test_split(new_df4, y, test_size=0.25, random_state=42)"
   ],
   "metadata": {
    "id": "nn2f5GE1W7BY"
   }
  },
  {
   "cell_type": "code",
   "execution_count": 254,
   "outputs": [
    {
     "name": "stderr",
     "output_type": "stream",
     "text": [
      "C:\\Users\\egort\\anaconda3\\lib\\site-packages\\pandas\\core\\frame.py:3678: SettingWithCopyWarning: \n",
      "A value is trying to be set on a copy of a slice from a DataFrame.\n",
      "Try using .loc[row_indexer,col_indexer] = value instead\n",
      "\n",
      "See the caveats in the documentation: https://pandas.pydata.org/pandas-docs/stable/user_guide/indexing.html#returning-a-view-versus-a-copy\n",
      "  self[col] = igetitem(value, i)\n",
      "C:\\Users\\egort\\anaconda3\\lib\\site-packages\\pandas\\core\\frame.py:3678: SettingWithCopyWarning: \n",
      "A value is trying to be set on a copy of a slice from a DataFrame.\n",
      "Try using .loc[row_indexer,col_indexer] = value instead\n",
      "\n",
      "See the caveats in the documentation: https://pandas.pydata.org/pandas-docs/stable/user_guide/indexing.html#returning-a-view-versus-a-copy\n",
      "  self[col] = igetitem(value, i)\n"
     ]
    }
   ],
   "source": [
    "scaler = preprocessing.StandardScaler()\n",
    "\n",
    "X_train[num_cols] = scaler.fit_transform(X_train[num_cols])\n",
    "X_test[num_cols] = scaler.transform(X_test[num_cols])"
   ],
   "metadata": {
    "id": "fE0Q2jI6W7BZ"
   }
  },
  {
   "cell_type": "code",
   "execution_count": 256,
   "outputs": [],
   "source": [
    "xgb = XGBClassifier(n_estimators=200)"
   ],
   "metadata": {
    "id": "7OX_oFgmW7Ba"
   }
  },
  {
   "cell_type": "code",
   "execution_count": 257,
   "outputs": [
    {
     "name": "stderr",
     "output_type": "stream",
     "text": [
      "C:\\Users\\egort\\anaconda3\\lib\\site-packages\\xgboost\\sklearn.py:1224: UserWarning: The use of label encoder in XGBClassifier is deprecated and will be removed in a future release. To remove this warning, do the following: 1) Pass option use_label_encoder=False when constructing XGBClassifier object; and 2) Encode your labels (y) as integers starting with 0, i.e. 0, 1, 2, ..., [num_class - 1].\n",
      "  warnings.warn(label_encoder_deprecation_msg, UserWarning)\n"
     ]
    },
    {
     "name": "stdout",
     "output_type": "stream",
     "text": [
      "[17:09:53] WARNING: D:\\bld\\xgboost-split_1645118015404\\work\\src\\learner.cc:1115: Starting in XGBoost 1.3.0, the default evaluation metric used with the objective 'binary:logistic' was changed from 'error' to 'logloss'. Explicitly set eval_metric if you'd like to restore the old behavior.\n"
     ]
    },
    {
     "data": {
      "text/plain": "XGBClassifier(base_score=0.5, booster='gbtree', colsample_bylevel=1,\n              colsample_bynode=1, colsample_bytree=1, enable_categorical=False,\n              gamma=0, gpu_id=-1, importance_type=None,\n              interaction_constraints='', learning_rate=0.300000012,\n              max_delta_step=0, max_depth=6, min_child_weight=1, missing=nan,\n              monotone_constraints='()', n_estimators=200, n_jobs=8,\n              num_parallel_tree=1, predictor='auto', random_state=0,\n              reg_alpha=0, reg_lambda=1, scale_pos_weight=1, subsample=1,\n              tree_method='exact', validate_parameters=1, verbosity=None)"
     },
     "execution_count": 257,
     "metadata": {},
     "output_type": "execute_result"
    }
   ],
   "source": [
    "xgb.fit(X_train, y_train)"
   ],
   "metadata": {
    "id": "WnTXvp6TW7Bb"
   }
  },
  {
   "cell_type": "code",
   "execution_count": 258,
   "outputs": [],
   "source": [
    "y_pred = xgb.predict_proba(X_test)"
   ],
   "metadata": {
    "collapsed": false
   }
  },
  {
   "cell_type": "code",
   "execution_count": 259,
   "outputs": [
    {
     "data": {
      "text/plain": "0.6782783471080895"
     },
     "execution_count": 259,
     "metadata": {},
     "output_type": "execute_result"
    }
   ],
   "source": [
    "roc_auc_score(y_test, y_pred[:, 1])"
   ],
   "metadata": {
    "collapsed": false
   }
  },
  {
   "cell_type": "markdown",
   "source": [
    "Вывод: по метрике (0.67) результат выше 0.5, следовательно, модель чему-то научилась, однако значение скорее неудовлетворительное."
   ],
   "metadata": {
    "collapsed": false
   }
  }
 ],
 "metadata": {
  "kernelspec": {
   "display_name": "Python 3",
   "language": "python",
   "name": "python3"
  },
  "language_info": {
   "codemirror_mode": {
    "name": "ipython",
    "version": 2
   },
   "file_extension": ".py",
   "mimetype": "text/x-python",
   "name": "python",
   "nbconvert_exporter": "python",
   "pygments_lexer": "ipython2",
   "version": "2.7.6"
  },
  "colab": {
   "name": "book.ipynb",
   "provenance": [],
   "collapsed_sections": []
  }
 },
 "nbformat": 4,
 "nbformat_minor": 0
}
