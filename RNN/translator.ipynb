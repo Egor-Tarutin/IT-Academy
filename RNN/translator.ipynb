{
 "nbformat": 4,
 "nbformat_minor": 0,
 "metadata": {
  "colab": {
   "provenance": [],
   "collapsed_sections": []
  },
  "kernelspec": {
   "name": "python3",
   "display_name": "Python 3"
  },
  "language_info": {
   "name": "python"
  },
  "accelerator": "GPU"
 },
 "cells": [
  {
   "cell_type": "code",
   "execution_count": 1,
   "metadata": {
    "id": "soIw5I20VSFI",
    "executionInfo": {
     "status": "ok",
     "timestamp": 1663535133831,
     "user_tz": -180,
     "elapsed": 1563,
     "user": {
      "displayName": "Egor Tarutin",
      "userId": "17854723859889032284"
     }
    },
    "pycharm": {
     "name": "#%%\n"
    }
   },
   "outputs": [],
   "source": [
    "from io import open\n",
    "import unicodedata\n",
    "import string\n",
    "import re\n",
    "import random\n",
    "import torch\n",
    "import torch.nn as nn\n",
    "from torch import optim\n",
    "import torch.nn.functional as F\n",
    "import warnings\n",
    "\n",
    "warnings.filterwarnings(\"ignore\")\n",
    "device = torch.device(\"cuda\" if torch.cuda.is_available() else \"cpu\")"
   ]
  },
  {
   "cell_type": "code",
   "source": [
    "from google.colab import drive\n",
    "drive.mount('/content/drive')"
   ],
   "metadata": {
    "colab": {
     "base_uri": "https://localhost:8080/"
    },
    "id": "WXE2-j7wbEB3",
    "executionInfo": {
     "status": "ok",
     "timestamp": 1663535206443,
     "user_tz": -180,
     "elapsed": 18915,
     "user": {
      "displayName": "Egor Tarutin",
      "userId": "17854723859889032284"
     }
    },
    "outputId": "e63b3954-ec76-40e2-c2fb-80b4a036cf81",
    "pycharm": {
     "name": "#%%\n"
    }
   },
   "execution_count": 2,
   "outputs": [
    {
     "output_type": "stream",
     "name": "stdout",
     "text": [
      "Mounted at /content/drive\n"
     ]
    }
   ]
  },
  {
   "cell_type": "code",
   "source": [
    "path = '/content/drive/MyDrive/rus.txt'"
   ],
   "metadata": {
    "id": "CrF-oIYrqHYY",
    "executionInfo": {
     "status": "ok",
     "timestamp": 1663535227770,
     "user_tz": -180,
     "elapsed": 265,
     "user": {
      "displayName": "Egor Tarutin",
      "userId": "17854723859889032284"
     }
    },
    "pycharm": {
     "name": "#%%\n"
    }
   },
   "execution_count": 3,
   "outputs": []
  },
  {
   "cell_type": "code",
   "source": [
    "SOS_token = 0\n",
    "EOS_token = 1\n",
    "\n",
    "class LanguageVocabulary(object):\n",
    "    def __init__(self, name):\n",
    "        self.name = name\n",
    "        self.word2index = {}\n",
    "        self.word2count = {}\n",
    "        self.index2word = {0: \"SOS\", 1: \"EOS\"}\n",
    "        self.n_words = 2\n",
    "\n",
    "    def add_sentence(self, sentence):\n",
    "        \"\"\"\n",
    "        Метод класса, для добавления предложения в словарь.\n",
    "        Каждое предложение поступающее к нам, будет разбираться на\n",
    "        примитивные токены и добавляться в словарь при помощи метода класса addword()\n",
    "        \"\"\"\n",
    "        for word in sentence.split(' '):\n",
    "            self.add_word(word)\n",
    "\n",
    "\n",
    "    def add_word(self, word):\n",
    "        if word not in self.word2index:\n",
    "            self.word2index[word] = self.n_words\n",
    "            self.word2count[word] = 1\n",
    "            self.index2word[self.n_words] = word\n",
    "            self.n_words += 1\n",
    "        else:\n",
    "            self.word2count[word] += 1"
   ],
   "metadata": {
    "id": "xfYn2JCrVyYC",
    "executionInfo": {
     "status": "ok",
     "timestamp": 1663535228848,
     "user_tz": -180,
     "elapsed": 4,
     "user": {
      "displayName": "Egor Tarutin",
      "userId": "17854723859889032284"
     }
    },
    "pycharm": {
     "name": "#%%\n"
    }
   },
   "execution_count": 4,
   "outputs": []
  },
  {
   "cell_type": "code",
   "source": [
    "def normalize_string(s):\n",
    "    s = s.lower().strip()\n",
    "    s = re.sub(r\"([.!?])\", r\" \\1\", s)\n",
    "    s = re.sub(r\"[^a-zA-Z.!?А-Яа-яёЁ]+\", r\" \", s)\n",
    "    return s"
   ],
   "metadata": {
    "id": "IYcvVbfnsGXz",
    "executionInfo": {
     "status": "ok",
     "timestamp": 1663535229855,
     "user_tz": -180,
     "elapsed": 5,
     "user": {
      "displayName": "Egor Tarutin",
      "userId": "17854723859889032284"
     }
    },
    "pycharm": {
     "name": "#%%\n"
    }
   },
   "execution_count": 5,
   "outputs": []
  },
  {
   "cell_type": "code",
   "source": [
    "def read_languages(lang1, lang2, reverse=False):\n",
    "  lines = open(path, encoding='utf-8').read().strip().split('\\n')\n",
    "  pairs = [[normalize_string(s) for s in l.split('\\t')] for l in lines]\n",
    "  #убираем метаданные\n",
    "  for p in range( 0, len(pairs)):\n",
    "    del pairs[p][2]\n",
    "  if reverse:\n",
    "    pairs = [list(reversed(p)) for p in pairs]\n",
    "    input_lang = LanguageVocabulary(lang2)\n",
    "    output_lang = LanguageVocabulary(lang1)\n",
    "  else:\n",
    "    input_lang = LanguageVocabulary(lang1)\n",
    "    output_lang = LanguageVocabulary(lang2)\n",
    "  return input_lang, output_lang, pairs"
   ],
   "metadata": {
    "id": "8zo9WeEX6X2c",
    "executionInfo": {
     "status": "ok",
     "timestamp": 1663535230939,
     "user_tz": -180,
     "elapsed": 2,
     "user": {
      "displayName": "Egor Tarutin",
      "userId": "17854723859889032284"
     }
    },
    "pycharm": {
     "name": "#%%\n"
    }
   },
   "execution_count": 6,
   "outputs": []
  },
  {
   "cell_type": "code",
   "source": [
    "def prepare_data(lang1, lang2, reverse=False):\n",
    "    input_lang, output_lang, pairs = read_languages(lang1, lang2, reverse)\n",
    "    print(\"Read %s sentence pairs\" % len(pairs))\n",
    "    print(\"Counting words...\")\n",
    "    for pair in pairs:\n",
    "        input_lang.add_sentence(pair[0])\n",
    "        output_lang.add_sentence(pair[1])\n",
    "    print(\"Counted words:\")\n",
    "    print(input_lang.name, input_lang.n_words)\n",
    "    print(output_lang.name, output_lang.n_words)\n",
    "    return input_lang, output_lang, pairs"
   ],
   "metadata": {
    "id": "lgUZgJ8nZrh-",
    "executionInfo": {
     "status": "ok",
     "timestamp": 1663535231970,
     "user_tz": -180,
     "elapsed": 3,
     "user": {
      "displayName": "Egor Tarutin",
      "userId": "17854723859889032284"
     }
    },
    "pycharm": {
     "name": "#%%\n"
    }
   },
   "execution_count": 7,
   "outputs": []
  },
  {
   "cell_type": "code",
   "source": [
    "input_lang, output_lang, pairs = prepare_data('eng', 'rus', True)"
   ],
   "metadata": {
    "colab": {
     "base_uri": "https://localhost:8080/"
    },
    "id": "yg1l7vc6aP7w",
    "executionInfo": {
     "status": "ok",
     "timestamp": 1663535248263,
     "user_tz": -180,
     "elapsed": 15308,
     "user": {
      "displayName": "Egor Tarutin",
      "userId": "17854723859889032284"
     }
    },
    "outputId": "99e566f9-ca01-4d39-d755-f843fc06c22d",
    "pycharm": {
     "name": "#%%\n"
    }
   },
   "execution_count": 8,
   "outputs": [
    {
     "output_type": "stream",
     "name": "stdout",
     "text": [
      "Read 451436 sentence pairs\n",
      "Counting words...\n",
      "Counted words:\n",
      "rus 57558\n",
      "eng 16745\n"
     ]
    }
   ]
  },
  {
   "cell_type": "code",
   "source": [
    "class EncoderRNN(nn.Module):\n",
    "    def __init__(self, input_size, hidden_size):\n",
    "        super(EncoderRNN, self).__init__()\n",
    "        self.hidden_size = hidden_size\n",
    "        self.embedding = nn.Embedding(input_size, hidden_size)\n",
    "        self.gru = nn.GRU(hidden_size, hidden_size)\n",
    "\n",
    "    def forward(self, input, hidden):\n",
    "        embedded = self.embedding(input).view(1, 1, -1)\n",
    "        output = embedded\n",
    "        output, hidden = self.gru(output, hidden)\n",
    "        return output, hidden\n",
    "\n",
    "    def initHidden(self):\n",
    "        return torch.zeros(1, 1, self.hidden_size, device=device)"
   ],
   "metadata": {
    "id": "XnCOlGP1SY7x",
    "executionInfo": {
     "status": "ok",
     "timestamp": 1663535253269,
     "user_tz": -180,
     "elapsed": 236,
     "user": {
      "displayName": "Egor Tarutin",
      "userId": "17854723859889032284"
     }
    },
    "pycharm": {
     "name": "#%%\n"
    }
   },
   "execution_count": 9,
   "outputs": []
  },
  {
   "cell_type": "code",
   "source": [
    "class DecoderRNN(nn.Module):\n",
    "    def __init__(self, hidden_size, output_size):\n",
    "        super(DecoderRNN, self).__init__()\n",
    "        self.hidden_size = hidden_size\n",
    "        self.embedding = nn.Embedding(output_size, hidden_size)\n",
    "        self.gru = nn.GRU(hidden_size, hidden_size)\n",
    "        self.out = nn.Linear(hidden_size, output_size)\n",
    "        self.softmax = nn.LogSoftmax(dim=1)\n",
    "\n",
    "    def forward(self, input, hidden):\n",
    "        output = self.embedding(input).view(1, 1, -1)\n",
    "        output = F.relu(output)\n",
    "        output, hidden = self.gru(output, hidden)\n",
    "        output = self.softmax(self.out(output[0]))\n",
    "        return output, hidden\n",
    "\n",
    "    def initHidden(self):\n",
    "        return torch.zeros(1, 1, self.hidden_size, device=device)"
   ],
   "metadata": {
    "id": "sMKXZSyDWolI",
    "executionInfo": {
     "status": "ok",
     "timestamp": 1663535255560,
     "user_tz": -180,
     "elapsed": 7,
     "user": {
      "displayName": "Egor Tarutin",
      "userId": "17854723859889032284"
     }
    },
    "pycharm": {
     "name": "#%%\n"
    }
   },
   "execution_count": 10,
   "outputs": []
  },
  {
   "cell_type": "code",
   "source": [
    "def indexesFromSentence(lang, sentence):\n",
    "    return [lang.word2index[word] for word in sentence.split(' ')]\n",
    "\n",
    "\n",
    "def tensorFromSentence(lang, sentence):\n",
    "    indexes = indexesFromSentence(lang, sentence)\n",
    "    indexes.append(EOS_token)\n",
    "    return torch.tensor(indexes, dtype=torch.long, device=device).view(-1, 1)\n",
    "\n",
    "\n",
    "def tensorsFromPair(pair):\n",
    "    input_tensor = tensorFromSentence(input_lang, pair[0])\n",
    "    target_tensor = tensorFromSentence(output_lang, pair[1])\n",
    "    return (input_tensor, target_tensor)"
   ],
   "metadata": {
    "id": "Vp10Pcm5Worg",
    "executionInfo": {
     "status": "ok",
     "timestamp": 1663535258270,
     "user_tz": -180,
     "elapsed": 262,
     "user": {
      "displayName": "Egor Tarutin",
      "userId": "17854723859889032284"
     }
    },
    "pycharm": {
     "name": "#%%\n"
    }
   },
   "execution_count": 11,
   "outputs": []
  },
  {
   "cell_type": "code",
   "source": [
    "teacher_forcing_ratio = 0.5\n",
    "MAX_LENGTH = 100\n",
    "\n",
    "def train(input_tensor, target_tensor, encoder, decoder, encoder_optimizer, decoder_optimizer, criterion, max_length=MAX_LENGTH):\n",
    "    encoder_hidden = encoder.initHidden()\n",
    "    encoder_optimizer.zero_grad()\n",
    "    decoder_optimizer.zero_grad()\n",
    "    input_length = input_tensor.size(0)\n",
    "    target_length = target_tensor.size(0)\n",
    "    encoder_outputs = torch.zeros(max_length, encoder.hidden_size, device=device)\n",
    "    loss = 0\n",
    "    for ei in range(input_length):\n",
    "        encoder_output, encoder_hidden = encoder(input_tensor[ei], encoder_hidden)\n",
    "        encoder_outputs[ei] = encoder_output[0, 0]\n",
    "\n",
    "\n",
    "    decoder_input = torch.tensor([[SOS_token]], device=device)\n",
    "    decoder_hidden = encoder_hidden\n",
    "\n",
    "    use_teacher_forcing = True if random.random() < teacher_forcing_ratio else False\n",
    "    if use_teacher_forcing:\n",
    "        for di in range(target_length):\n",
    "            decoder_output, decoder_hidden = decoder(decoder_input, decoder_hidden)\n",
    "            loss += criterion(decoder_output, target_tensor[di])\n",
    "            decoder_input = target_tensor[di] \n",
    "    else:\n",
    "        for di in range(target_length):\n",
    "            decoder_output, decoder_hidden = decoder(decoder_input, decoder_hidden)\n",
    "            topv, topi = decoder_output.topk(1)\n",
    "            decoder_input = topi.squeeze().detach() \n",
    "            loss += criterion(decoder_output, target_tensor[di])\n",
    "            if decoder_input.item() == EOS_token:\n",
    "                break\n",
    "    loss.backward()\n",
    "    encoder_optimizer.step()\n",
    "    decoder_optimizer.step()\n",
    "    return loss.item() / target_length"
   ],
   "metadata": {
    "id": "wMHiUlaxWouJ",
    "executionInfo": {
     "status": "ok",
     "timestamp": 1663535261129,
     "user_tz": -180,
     "elapsed": 8,
     "user": {
      "displayName": "Egor Tarutin",
      "userId": "17854723859889032284"
     }
    },
    "pycharm": {
     "name": "#%%\n"
    }
   },
   "execution_count": 12,
   "outputs": []
  },
  {
   "cell_type": "code",
   "source": [
    "import time\n",
    "import math\n",
    "\n",
    "\n",
    "def asMinutes(s):\n",
    "    m = math.floor(s / 60)\n",
    "    s -= m * 60\n",
    "    return '%dm %ds' % (m, s)\n",
    "\n",
    "\n",
    "def timeSince(since, percent):\n",
    "    now = time.time()\n",
    "    s = now - since\n",
    "    es = s / percent\n",
    "    rs = es - s\n",
    "    return '%s (- eta: %s)' % (asMinutes(s), asMinutes(rs))"
   ],
   "metadata": {
    "id": "kAa8A4CbWowk",
    "executionInfo": {
     "status": "ok",
     "timestamp": 1663535264350,
     "user_tz": -180,
     "elapsed": 248,
     "user": {
      "displayName": "Egor Tarutin",
      "userId": "17854723859889032284"
     }
    },
    "pycharm": {
     "name": "#%%\n"
    }
   },
   "execution_count": 13,
   "outputs": []
  },
  {
   "cell_type": "code",
   "source": [
    "def trainIters(encoder, decoder, n_iters, print_every=1000, plot_every=100, learning_rate=0.01):\n",
    "    start = time.time()\n",
    "    plot_losses = []\n",
    "    print_loss_total = 0 \n",
    "    plot_loss_total = 0  \n",
    "\n",
    "    encoder_optimizer = optim.SGD(encoder.parameters(), lr=learning_rate)\n",
    "    decoder_optimizer = optim.SGD(decoder.parameters(), lr=learning_rate)\n",
    "    training_pairs = [tensorsFromPair(random.choice(pairs)) for i in range(n_iters)]\n",
    "    criterion = nn.NLLLoss()\n",
    "\n",
    "    for epoch in range(1, n_iters + 1):\n",
    "        training_pair = training_pairs[epoch - 1]\n",
    "        input_tensor = training_pair[0]\n",
    "        target_tensor = training_pair[1]\n",
    "        loss = train(input_tensor, target_tensor, encoder,\n",
    "                     decoder, encoder_optimizer, decoder_optimizer, criterion)\n",
    "        print_loss_total += loss\n",
    "        plot_loss_total += loss\n",
    "\n",
    "        if epoch % print_every == 0:\n",
    "            print_loss_avg = print_loss_total / print_every\n",
    "            print_loss_total = 0\n",
    "            print('%s (%d %d%%) %.4f' % (timeSince(start, epoch / n_iters),\n",
    "                                         epoch, epoch / n_iters * 100, print_loss_avg))\n",
    "\n",
    "        if epoch % plot_every == 0:\n",
    "            plot_loss_avg = plot_loss_total / plot_every\n",
    "            plot_losses.append(plot_loss_avg)\n",
    "            plot_loss_total = 0"
   ],
   "metadata": {
    "id": "HWlafxTo1oSH",
    "executionInfo": {
     "status": "ok",
     "timestamp": 1663535266934,
     "user_tz": -180,
     "elapsed": 7,
     "user": {
      "displayName": "Egor Tarutin",
      "userId": "17854723859889032284"
     }
    },
    "pycharm": {
     "name": "#%%\n"
    }
   },
   "execution_count": 14,
   "outputs": []
  },
  {
   "cell_type": "code",
   "source": [
    "def evaluate(encoder, decoder, sentence, max_length=MAX_LENGTH):\n",
    "    with torch.no_grad():\n",
    "        input_tensor = tensorFromSentence(input_lang, sentence)\n",
    "        input_length = input_tensor.size()[0]\n",
    "        encoder_hidden = encoder.initHidden()\n",
    "        encoder_outputs = torch.zeros(max_length, encoder.hidden_size, device=device)\n",
    "\n",
    "        for i in range(input_length):\n",
    "            encoder_output, encoder_hidden = encoder(input_tensor[i], encoder_hidden)\n",
    "            encoder_outputs[i] += encoder_output[0, 0]\n",
    "\n",
    "        decoder_input = torch.tensor([[SOS_token]], device=device)  # SOS\n",
    "        decoder_hidden = encoder_hidden\n",
    "        decoded_words = []\n",
    "\n",
    "        for di in range(max_length):\n",
    "            decoder_output, decoder_hidden = decoder(decoder_input, decoder_hidden)\n",
    "            topv, topi = decoder_output.data.topk(1)\n",
    "            if topi.item() == EOS_token:\n",
    "                decoded_words.append('<EOS>')\n",
    "                break\n",
    "            else:\n",
    "                decoded_words.append(output_lang.index2word[topi.item()])\n",
    "            decoder_input = topi.squeeze().detach()\n",
    "        return decoded_words"
   ],
   "metadata": {
    "id": "dlUHo_HrynbD",
    "executionInfo": {
     "status": "ok",
     "timestamp": 1663535269560,
     "user_tz": -180,
     "elapsed": 242,
     "user": {
      "displayName": "Egor Tarutin",
      "userId": "17854723859889032284"
     }
    },
    "pycharm": {
     "name": "#%%\n"
    }
   },
   "execution_count": 15,
   "outputs": []
  },
  {
   "cell_type": "code",
   "source": [
    "def evaluateRandomly(encoder, decoder, n=10):\n",
    "    for i in range(n):\n",
    "        pair = random.choice(pairs)\n",
    "        print('>', pair[0])\n",
    "        print('=', pair[1])\n",
    "        output_words = evaluate(encoder, decoder, pair[0])\n",
    "        output_sentence = ' '.join(output_words)\n",
    "        print('<', output_sentence)\n",
    "        print('')"
   ],
   "metadata": {
    "id": "2A7ka1sEyndp",
    "executionInfo": {
     "status": "ok",
     "timestamp": 1663535272018,
     "user_tz": -180,
     "elapsed": 6,
     "user": {
      "displayName": "Egor Tarutin",
      "userId": "17854723859889032284"
     }
    },
    "pycharm": {
     "name": "#%%\n"
    }
   },
   "execution_count": 16,
   "outputs": []
  },
  {
   "cell_type": "code",
   "source": [
    "hidden_size = 256\n",
    "encoder1 = EncoderRNN(input_lang.n_words, hidden_size).to(device)\n",
    "decoder1 = DecoderRNN(hidden_size, output_lang.n_words).to(device)\n",
    "trainIters(encoder1, decoder1, 150000, print_every=10000)"
   ],
   "metadata": {
    "colab": {
     "base_uri": "https://localhost:8080/"
    },
    "id": "Bb6eoJLsWo1d",
    "executionInfo": {
     "status": "ok",
     "timestamp": 1663538270547,
     "user_tz": -180,
     "elapsed": 2996444,
     "user": {
      "displayName": "Egor Tarutin",
      "userId": "17854723859889032284"
     }
    },
    "outputId": "f309d193-3e4c-45ca-8f85-c615896330b7",
    "pycharm": {
     "name": "#%%\n"
    }
   },
   "execution_count": 17,
   "outputs": [
    {
     "output_type": "stream",
     "name": "stdout",
     "text": [
      "3m 25s (- eta: 48m 3s) (10000 6%) 4.1689\n",
      "6m 43s (- eta: 43m 44s) (20000 13%) 3.6015\n",
      "10m 2s (- eta: 40m 10s) (30000 20%) 3.2873\n",
      "13m 21s (- eta: 36m 43s) (40000 26%) 3.0955\n",
      "16m 39s (- eta: 33m 18s) (50000 33%) 2.9643\n",
      "19m 57s (- eta: 29m 56s) (60000 40%) 2.8860\n",
      "23m 16s (- eta: 26m 36s) (70000 46%) 2.8175\n",
      "26m 36s (- eta: 23m 16s) (80000 53%) 2.7308\n",
      "29m 54s (- eta: 19m 56s) (90000 60%) 2.6955\n",
      "33m 13s (- eta: 16m 36s) (100000 66%) 2.6425\n",
      "36m 31s (- eta: 13m 17s) (110000 73%) 2.5989\n",
      "39m 51s (- eta: 9m 57s) (120000 80%) 2.5693\n",
      "43m 10s (- eta: 6m 38s) (130000 86%) 2.5383\n",
      "46m 29s (- eta: 3m 19s) (140000 93%) 2.5160\n",
      "49m 48s (- eta: 0m 0s) (150000 100%) 2.4895\n"
     ]
    }
   ]
  },
  {
   "cell_type": "code",
   "source": [
    "evaluateRandomly(encoder1, decoder1, 5)"
   ],
   "metadata": {
    "colab": {
     "base_uri": "https://localhost:8080/"
    },
    "id": "9b0q1EokycMf",
    "executionInfo": {
     "status": "ok",
     "timestamp": 1663538274966,
     "user_tz": -180,
     "elapsed": 263,
     "user": {
      "displayName": "Egor Tarutin",
      "userId": "17854723859889032284"
     }
    },
    "outputId": "a3beea60-29ac-420f-b079-1b0809e896e0",
    "pycharm": {
     "name": "#%%\n"
    }
   },
   "execution_count": 18,
   "outputs": [
    {
     "output_type": "stream",
     "name": "stdout",
     "text": [
      "> это был первый раз когда я шёл вдоль реки могами .\n",
      "= it was the first time i d walked along the mogami river .\n",
      "< it was the first time i had been the . . <EOS>\n",
      "\n",
      "> думаю том нас видел .\n",
      "= i think that tom saw us .\n",
      "< i think tom tom saw us . <EOS>\n",
      "\n",
      "> том внёс предложение .\n",
      "= tom made a suggestion .\n",
      "< tom is the . . <EOS>\n",
      "\n",
      "> почему я ничего не вижу ?\n",
      "= why don t i see anything ?\n",
      "< why didn t i see do ? <EOS>\n",
      "\n",
      "> можешь уделить мне несколько минут ?\n",
      "= can you spare me a few minutes ?\n",
      "< can you give me some more ? <EOS>\n",
      "\n"
     ]
    }
   ]
  },
  {
   "cell_type": "code",
   "source": [
    "def perc_true_words(encoder, decoder):\n",
    "  pair = random.choice(pairs)\n",
    "  true_sentence = pair[0].split()\n",
    "  output_words = evaluate(encoder, decoder, pair[0])\n",
    "  \n",
    "  true_words = 0\n",
    "  for w in output_words:\n",
    "    if w in true_sentence:\n",
    "      true_words += 1\n",
    "  percent = true_words/len(true_sentence)\n",
    "\n",
    "  return percent\n",
    "\n",
    "def perc_eval(encoder, decoder, num_sent = 10):\n",
    "  sum_percent = 0\n",
    "  for i in range(num_sent):\n",
    "    sum_percent += perc_true_words(encoder, decoder)\n",
    "  avrg_percent = sum_percent/num_sent\n",
    "  print(\"Correctly {}\".format(round(avrg_percent, 4)))"
   ],
   "metadata": {
    "id": "M5BMOhdCrfuP",
    "executionInfo": {
     "status": "ok",
     "timestamp": 1663538337384,
     "user_tz": -180,
     "elapsed": 297,
     "user": {
      "displayName": "Egor Tarutin",
      "userId": "17854723859889032284"
     }
    },
    "pycharm": {
     "name": "#%%\n"
    }
   },
   "execution_count": 19,
   "outputs": []
  },
  {
   "cell_type": "code",
   "source": [
    "perc_eval(encoder1, decoder1)"
   ],
   "metadata": {
    "id": "k3ESCw5H3bZ2",
    "colab": {
     "base_uri": "https://localhost:8080/"
    },
    "executionInfo": {
     "status": "ok",
     "timestamp": 1663538342228,
     "user_tz": -180,
     "elapsed": 265,
     "user": {
      "displayName": "Egor Tarutin",
      "userId": "17854723859889032284"
     }
    },
    "outputId": "916c6975-d549-4f79-9123-3ed218a1a6e2",
    "pycharm": {
     "name": "#%%\n"
    }
   },
   "execution_count": 20,
   "outputs": [
    {
     "output_type": "stream",
     "name": "stdout",
     "text": [
      "Correctly 0.2108\n"
     ]
    }
   ]
  }
 ]
}