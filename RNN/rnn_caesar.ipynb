{
 "cells": [
  {
   "cell_type": "code",
   "execution_count": 9,
   "outputs": [],
   "source": [
    "import torch\n",
    "from torch.utils.data import DataLoader\n",
    "import time"
   ],
   "metadata": {
    "collapsed": false,
    "pycharm": {
     "name": "#%%\n"
    }
   }
  },
  {
   "cell_type": "code",
   "execution_count": 10,
   "outputs": [],
   "source": [
    "MAX_LEN = 50\n",
    "input_size = 50\n",
    "hidden_size = 50\n",
    "num_classes = 26\n",
    "learning_rate = 0.001\n",
    "batch_size = 10\n",
    "num_epochs = 200\n",
    "caesar_stride = 3"
   ],
   "metadata": {
    "collapsed": false,
    "pycharm": {
     "name": "#%%\n"
    }
   }
  },
  {
   "cell_type": "code",
   "execution_count": 11,
   "outputs": [],
   "source": [
    "INDEX_TO_CHAR = sorted(list(set(' abcdefghijklmnopqrstuvwxyz')))\n",
    "CHAR_TO_INDEX = {c: i for i, c in enumerate(INDEX_TO_CHAR)}"
   ],
   "metadata": {
    "collapsed": false,
    "pycharm": {
     "name": "#%%\n"
    }
   }
  },
  {
   "cell_type": "code",
   "execution_count": 12,
   "outputs": [],
   "source": [
    "device = torch.device('cuda' if torch.cuda.is_available() else 'cpu')"
   ],
   "metadata": {
    "collapsed": false,
    "pycharm": {
     "name": "#%%\n"
    }
   }
  },
  {
   "cell_type": "code",
   "execution_count": 13,
   "outputs": [],
   "source": [
    "X = open('../data/caesar/encoded_text.txt', 'r').read().split(sep='\\n')\n",
    "y = open('../data/caesar/row_text.txt', 'r').read().split(sep='\\n')"
   ],
   "metadata": {
    "collapsed": false,
    "pycharm": {
     "name": "#%%\n"
    }
   }
  },
  {
   "cell_type": "code",
   "execution_count": 14,
   "outputs": [],
   "source": [
    "X_val, y_val = X[:len(X) // 5], y[:len(y) // 5]\n",
    "X_test, y_test = X[len(X) // 5: (len(X) // 5) * 2], y[len(y) // 5: (len(X) // 5) * 2]\n",
    "X_train, y_train = X[(len(X) // 5) * 2:], y[(len(X) // 5) * 2:]"
   ],
   "metadata": {
    "collapsed": false,
    "pycharm": {
     "name": "#%%\n"
    }
   }
  },
  {
   "cell_type": "code",
   "execution_count": 15,
   "outputs": [],
   "source": [
    "def to_tensor(X, y):\n",
    "    X_tens = torch.zeros(len(X), MAX_LEN, dtype=torch.long)\n",
    "    Y_tens = torch.zeros(len(y), MAX_LEN, dtype=torch.long)\n",
    "    for i in range(len(X)):\n",
    "        for j in range(len(X[i])):\n",
    "            X_tens[i, j] = CHAR_TO_INDEX[X[i][j]]\n",
    "            Y_tens[i, j] = CHAR_TO_INDEX[y[i][j]]\n",
    "    return X_tens, Y_tens"
   ],
   "metadata": {
    "collapsed": false,
    "pycharm": {
     "name": "#%%\n"
    }
   }
  },
  {
   "cell_type": "code",
   "execution_count": 16,
   "outputs": [],
   "source": [
    "val_X, val_Y = to_tensor(X_val, y_val)\n",
    "test_X, test_Y = to_tensor(X_test, y_test)\n",
    "train_X, train_Y = to_tensor(X_train, y_train)"
   ],
   "metadata": {
    "collapsed": false,
    "pycharm": {
     "name": "#%%\n"
    }
   }
  },
  {
   "cell_type": "code",
   "execution_count": 17,
   "outputs": [],
   "source": [
    "train_dl = torch.utils.data.DataLoader(\n",
    "    torch.utils.data.TensorDataset(train_X, train_Y),\n",
    "    batch_size=batch_size,\n",
    "    shuffle=True,\n",
    "    drop_last=True\n",
    ")\n",
    "test_dl = torch.utils.data.DataLoader(\n",
    "    torch.utils.data.TensorDataset(test_X, test_Y),\n",
    "    batch_size=batch_size,\n",
    "    shuffle=True,\n",
    "    drop_last=True\n",
    ")\n",
    "val_dl = torch.utils.data.DataLoader(\n",
    "    torch.utils.data.TensorDataset(val_X, val_Y),\n",
    "    batch_size=batch_size,\n",
    "    shuffle=True,\n",
    "    drop_last=True\n",
    ")"
   ],
   "metadata": {
    "collapsed": false,
    "pycharm": {
     "name": "#%%\n"
    }
   }
  },
  {
   "cell_type": "code",
   "execution_count": 18,
   "outputs": [],
   "source": [
    "class RNNModel(torch.nn.Module):\n",
    "\n",
    "    def __init__(self):\n",
    "        super().__init__()\n",
    "        self.embed = torch.nn.Embedding(len(CHAR_TO_INDEX) + caesar_stride, 32)\n",
    "        self.rnn = torch.nn.RNN(32, 128, batch_first=True)\n",
    "        self.linear = torch.nn.Linear(128, len(CHAR_TO_INDEX) + caesar_stride)\n",
    "\n",
    "    def forward(self, sentence, state=None):\n",
    "        embed = self.embed(sentence)\n",
    "        o, h = self.rnn(embed)\n",
    "        return self.linear(o)"
   ],
   "metadata": {
    "collapsed": false,
    "pycharm": {
     "name": "#%%\n"
    }
   }
  },
  {
   "cell_type": "code",
   "execution_count": 19,
   "outputs": [],
   "source": [
    "model = RNNModel().to(device)\n",
    "loss = torch.nn.CrossEntropyLoss().to(device)\n",
    "optimizer = torch.optim.Adam(model.parameters(), lr=learning_rate)"
   ],
   "metadata": {
    "collapsed": false,
    "pycharm": {
     "name": "#%%\n"
    }
   }
  },
  {
   "cell_type": "code",
   "execution_count": 20,
   "outputs": [
    {
     "name": "stdout",
     "output_type": "stream",
     "text": [
      "Epoch: 0, loss: 12.6823, acc: 0.3060 | val loss: 2.9592, val acc: 0.4020 | 0.25 sec.\n",
      "Epoch: 1, loss: 10.6728, acc: 0.4590 | val loss: 2.5028, val acc: 0.3540 | 0.41 sec.\n",
      "Epoch: 2, loss: 9.1326, acc: 0.3865 | val loss: 2.3100, val acc: 0.3280 | 0.53 sec.\n",
      "Epoch: 3, loss: 8.3741, acc: 0.3925 | val loss: 2.1017, val acc: 0.4300 | 0.45 sec.\n",
      "Epoch: 4, loss: 7.4099, acc: 0.5725 | val loss: 1.9103, val acc: 0.6080 | 0.35 sec.\n",
      "Epoch: 5, loss: 6.7534, acc: 0.6955 | val loss: 1.7102, val acc: 0.6760 | 0.25 sec.\n",
      "Epoch: 6, loss: 6.0458, acc: 0.7460 | val loss: 1.5156, val acc: 0.7280 | 0.24 sec.\n",
      "Epoch: 7, loss: 5.2766, acc: 0.7940 | val loss: 1.3566, val acc: 0.7920 | 0.24 sec.\n",
      "Epoch: 8, loss: 4.8429, acc: 0.8375 | val loss: 1.2263, val acc: 0.8440 | 0.24 sec.\n",
      "Epoch: 9, loss: 4.1573, acc: 0.8845 | val loss: 1.1216, val acc: 0.8540 | 0.34 sec.\n",
      "Epoch: 10, loss: 3.6749, acc: 0.9010 | val loss: 0.9338, val acc: 0.8860 | 0.31 sec.\n",
      "Epoch: 11, loss: 3.1580, acc: 0.9195 | val loss: 0.8826, val acc: 0.8880 | 0.25 sec.\n",
      "Epoch: 12, loss: 2.8233, acc: 0.9300 | val loss: 0.7934, val acc: 0.9320 | 0.24 sec.\n",
      "Epoch: 13, loss: 2.4434, acc: 0.9480 | val loss: 0.6792, val acc: 0.9480 | 0.25 sec.\n",
      "Epoch: 14, loss: 2.1231, acc: 0.9540 | val loss: 0.5827, val acc: 0.9500 | 0.36 sec.\n",
      "Epoch: 15, loss: 1.8267, acc: 0.9590 | val loss: 0.5348, val acc: 0.9560 | 0.24 sec.\n",
      "Epoch: 16, loss: 1.6132, acc: 0.9655 | val loss: 0.4545, val acc: 0.9680 | 0.18 sec.\n",
      "Epoch: 17, loss: 1.4049, acc: 0.9760 | val loss: 0.3629, val acc: 0.9860 | 0.17 sec.\n",
      "Epoch: 18, loss: 1.2573, acc: 0.9845 | val loss: 0.3614, val acc: 0.9800 | 0.20 sec.\n",
      "Epoch: 19, loss: 1.0778, acc: 0.9885 | val loss: 0.3078, val acc: 0.9880 | 0.31 sec.\n",
      "Epoch: 20, loss: 0.9635, acc: 0.9910 | val loss: 0.2571, val acc: 0.9900 | 0.23 sec.\n",
      "Epoch: 21, loss: 0.8396, acc: 0.9915 | val loss: 0.2284, val acc: 0.9940 | 0.40 sec.\n",
      "Epoch: 22, loss: 0.7521, acc: 0.9930 | val loss: 0.2045, val acc: 0.9900 | 0.30 sec.\n",
      "Epoch: 23, loss: 0.6477, acc: 0.9935 | val loss: 0.1959, val acc: 0.9860 | 0.24 sec.\n",
      "Epoch: 24, loss: 0.5971, acc: 0.9935 | val loss: 0.1709, val acc: 0.9860 | 0.24 sec.\n",
      "Epoch: 25, loss: 0.5305, acc: 0.9945 | val loss: 0.1543, val acc: 0.9880 | 0.30 sec.\n",
      "Epoch: 26, loss: 0.4727, acc: 0.9950 | val loss: 0.1476, val acc: 0.9880 | 0.25 sec.\n",
      "Epoch: 27, loss: 0.4249, acc: 0.9960 | val loss: 0.1250, val acc: 0.9900 | 0.19 sec.\n",
      "Epoch: 28, loss: 0.3831, acc: 0.9975 | val loss: 0.1166, val acc: 0.9880 | 0.19 sec.\n",
      "Epoch: 29, loss: 0.3578, acc: 0.9970 | val loss: 0.1035, val acc: 0.9920 | 0.17 sec.\n",
      "Epoch: 30, loss: 0.3191, acc: 0.9975 | val loss: 0.1067, val acc: 0.9940 | 0.20 sec.\n",
      "Epoch: 31, loss: 0.3081, acc: 0.9965 | val loss: 0.1004, val acc: 0.9960 | 0.17 sec.\n",
      "Epoch: 32, loss: 0.2627, acc: 0.9980 | val loss: 0.0918, val acc: 0.9960 | 0.19 sec.\n",
      "Epoch: 33, loss: 0.2486, acc: 0.9980 | val loss: 0.0719, val acc: 0.9980 | 0.30 sec.\n",
      "Epoch: 34, loss: 0.2382, acc: 0.9980 | val loss: 0.0734, val acc: 0.9980 | 0.31 sec.\n",
      "Epoch: 35, loss: 0.2232, acc: 0.9975 | val loss: 0.0676, val acc: 0.9980 | 0.22 sec.\n",
      "Epoch: 36, loss: 0.2079, acc: 0.9985 | val loss: 0.0700, val acc: 0.9960 | 0.17 sec.\n",
      "Epoch: 37, loss: 0.1953, acc: 0.9980 | val loss: 0.0561, val acc: 0.9980 | 0.19 sec.\n",
      "Epoch: 38, loss: 0.1814, acc: 0.9985 | val loss: 0.0524, val acc: 0.9980 | 0.22 sec.\n",
      "Epoch: 39, loss: 0.1686, acc: 0.9990 | val loss: 0.0504, val acc: 1.0000 | 0.20 sec.\n",
      "Epoch: 40, loss: 0.1658, acc: 0.9985 | val loss: 0.0454, val acc: 1.0000 | 0.14 sec.\n",
      "Epoch: 41, loss: 0.1488, acc: 0.9990 | val loss: 0.0546, val acc: 0.9980 | 0.13 sec.\n",
      "Epoch: 42, loss: 0.1425, acc: 0.9985 | val loss: 0.0514, val acc: 1.0000 | 0.14 sec.\n",
      "Epoch: 43, loss: 0.1411, acc: 0.9990 | val loss: 0.0426, val acc: 1.0000 | 0.14 sec.\n",
      "Epoch: 44, loss: 0.1309, acc: 0.9995 | val loss: 0.0374, val acc: 1.0000 | 0.14 sec.\n",
      "Epoch: 45, loss: 0.1271, acc: 0.9995 | val loss: 0.0403, val acc: 1.0000 | 0.14 sec.\n",
      "Epoch: 46, loss: 0.1190, acc: 0.9995 | val loss: 0.0411, val acc: 1.0000 | 0.14 sec.\n",
      "Epoch: 47, loss: 0.1124, acc: 0.9995 | val loss: 0.0374, val acc: 1.0000 | 0.14 sec.\n",
      "Epoch: 48, loss: 0.1060, acc: 1.0000 | val loss: 0.0365, val acc: 1.0000 | 0.13 sec.\n",
      "Epoch: 49, loss: 0.1032, acc: 1.0000 | val loss: 0.0328, val acc: 1.0000 | 0.14 sec.\n",
      "Epoch: 50, loss: 0.0990, acc: 1.0000 | val loss: 0.0337, val acc: 1.0000 | 0.14 sec.\n",
      "Epoch: 51, loss: 0.0939, acc: 1.0000 | val loss: 0.0286, val acc: 1.0000 | 0.15 sec.\n",
      "Epoch: 52, loss: 0.0869, acc: 1.0000 | val loss: 0.0328, val acc: 1.0000 | 0.13 sec.\n",
      "Epoch: 53, loss: 0.0832, acc: 1.0000 | val loss: 0.0279, val acc: 1.0000 | 0.16 sec.\n",
      "Epoch: 54, loss: 0.0844, acc: 1.0000 | val loss: 0.0260, val acc: 1.0000 | 0.15 sec.\n",
      "Epoch: 55, loss: 0.0786, acc: 1.0000 | val loss: 0.0233, val acc: 1.0000 | 0.16 sec.\n",
      "Epoch: 56, loss: 0.0730, acc: 1.0000 | val loss: 0.0227, val acc: 1.0000 | 0.12 sec.\n",
      "Epoch: 57, loss: 0.0721, acc: 1.0000 | val loss: 0.0259, val acc: 1.0000 | 0.20 sec.\n",
      "Epoch: 58, loss: 0.0711, acc: 1.0000 | val loss: 0.0228, val acc: 1.0000 | 0.17 sec.\n",
      "Epoch: 59, loss: 0.0683, acc: 1.0000 | val loss: 0.0219, val acc: 1.0000 | 0.14 sec.\n",
      "Epoch: 60, loss: 0.0632, acc: 1.0000 | val loss: 0.0187, val acc: 1.0000 | 0.22 sec.\n",
      "Epoch: 61, loss: 0.0622, acc: 1.0000 | val loss: 0.0204, val acc: 1.0000 | 0.31 sec.\n",
      "Epoch: 62, loss: 0.0613, acc: 1.0000 | val loss: 0.0213, val acc: 1.0000 | 0.31 sec.\n",
      "Epoch: 63, loss: 0.0589, acc: 1.0000 | val loss: 0.0196, val acc: 1.0000 | 0.28 sec.\n",
      "Epoch: 64, loss: 0.0577, acc: 1.0000 | val loss: 0.0199, val acc: 1.0000 | 0.33 sec.\n",
      "Epoch: 65, loss: 0.0546, acc: 1.0000 | val loss: 0.0167, val acc: 1.0000 | 0.25 sec.\n",
      "Epoch: 66, loss: 0.0534, acc: 1.0000 | val loss: 0.0172, val acc: 1.0000 | 0.30 sec.\n",
      "Epoch: 67, loss: 0.0507, acc: 1.0000 | val loss: 0.0175, val acc: 1.0000 | 0.28 sec.\n",
      "Epoch: 68, loss: 0.0510, acc: 1.0000 | val loss: 0.0180, val acc: 1.0000 | 0.28 sec.\n",
      "Epoch: 69, loss: 0.0477, acc: 1.0000 | val loss: 0.0150, val acc: 1.0000 | 0.25 sec.\n",
      "Epoch: 70, loss: 0.0461, acc: 1.0000 | val loss: 0.0170, val acc: 1.0000 | 0.17 sec.\n",
      "Epoch: 71, loss: 0.0454, acc: 1.0000 | val loss: 0.0156, val acc: 1.0000 | 0.16 sec.\n",
      "Epoch: 72, loss: 0.0445, acc: 1.0000 | val loss: 0.0135, val acc: 1.0000 | 0.14 sec.\n",
      "Epoch: 73, loss: 0.0426, acc: 1.0000 | val loss: 0.0150, val acc: 1.0000 | 0.22 sec.\n",
      "Epoch: 74, loss: 0.0424, acc: 1.0000 | val loss: 0.0134, val acc: 1.0000 | 0.27 sec.\n",
      "Epoch: 75, loss: 0.0398, acc: 1.0000 | val loss: 0.0126, val acc: 1.0000 | 0.36 sec.\n",
      "Epoch: 76, loss: 0.0397, acc: 1.0000 | val loss: 0.0145, val acc: 1.0000 | 0.31 sec.\n",
      "Epoch: 77, loss: 0.0385, acc: 1.0000 | val loss: 0.0128, val acc: 1.0000 | 0.27 sec.\n",
      "Epoch: 78, loss: 0.0372, acc: 1.0000 | val loss: 0.0126, val acc: 1.0000 | 0.27 sec.\n",
      "Epoch: 79, loss: 0.0375, acc: 1.0000 | val loss: 0.0119, val acc: 1.0000 | 0.30 sec.\n",
      "Epoch: 80, loss: 0.0356, acc: 1.0000 | val loss: 0.0099, val acc: 1.0000 | 0.28 sec.\n",
      "Epoch: 81, loss: 0.0344, acc: 1.0000 | val loss: 0.0114, val acc: 1.0000 | 0.36 sec.\n",
      "Epoch: 82, loss: 0.0333, acc: 1.0000 | val loss: 0.0106, val acc: 1.0000 | 0.31 sec.\n",
      "Epoch: 83, loss: 0.0325, acc: 1.0000 | val loss: 0.0111, val acc: 1.0000 | 0.22 sec.\n",
      "Epoch: 84, loss: 0.0323, acc: 1.0000 | val loss: 0.0107, val acc: 1.0000 | 0.23 sec.\n",
      "Epoch: 85, loss: 0.0317, acc: 1.0000 | val loss: 0.0091, val acc: 1.0000 | 0.26 sec.\n",
      "Epoch: 86, loss: 0.0309, acc: 1.0000 | val loss: 0.0108, val acc: 1.0000 | 0.25 sec.\n",
      "Epoch: 87, loss: 0.0296, acc: 1.0000 | val loss: 0.0094, val acc: 1.0000 | 0.27 sec.\n",
      "Epoch: 88, loss: 0.0289, acc: 1.0000 | val loss: 0.0089, val acc: 1.0000 | 0.26 sec.\n",
      "Epoch: 89, loss: 0.0283, acc: 1.0000 | val loss: 0.0096, val acc: 1.0000 | 0.28 sec.\n",
      "Epoch: 90, loss: 0.0276, acc: 1.0000 | val loss: 0.0080, val acc: 1.0000 | 0.28 sec.\n",
      "Epoch: 91, loss: 0.0275, acc: 1.0000 | val loss: 0.0092, val acc: 1.0000 | 0.33 sec.\n",
      "Epoch: 92, loss: 0.0273, acc: 1.0000 | val loss: 0.0091, val acc: 1.0000 | 0.23 sec.\n",
      "Epoch: 93, loss: 0.0261, acc: 1.0000 | val loss: 0.0089, val acc: 1.0000 | 0.17 sec.\n",
      "Epoch: 94, loss: 0.0254, acc: 1.0000 | val loss: 0.0088, val acc: 1.0000 | 0.16 sec.\n",
      "Epoch: 95, loss: 0.0253, acc: 1.0000 | val loss: 0.0090, val acc: 1.0000 | 0.14 sec.\n",
      "Epoch: 96, loss: 0.0247, acc: 1.0000 | val loss: 0.0083, val acc: 1.0000 | 0.28 sec.\n",
      "Epoch: 97, loss: 0.0244, acc: 1.0000 | val loss: 0.0086, val acc: 1.0000 | 0.24 sec.\n",
      "Epoch: 98, loss: 0.0239, acc: 1.0000 | val loss: 0.0082, val acc: 1.0000 | 0.20 sec.\n",
      "Epoch: 99, loss: 0.0233, acc: 1.0000 | val loss: 0.0075, val acc: 1.0000 | 0.20 sec.\n",
      "Epoch: 100, loss: 0.0223, acc: 1.0000 | val loss: 0.0079, val acc: 1.0000 | 0.17 sec.\n",
      "Epoch: 101, loss: 0.0220, acc: 1.0000 | val loss: 0.0074, val acc: 1.0000 | 0.17 sec.\n",
      "Epoch: 102, loss: 0.0218, acc: 1.0000 | val loss: 0.0076, val acc: 1.0000 | 0.14 sec.\n",
      "Epoch: 103, loss: 0.0217, acc: 1.0000 | val loss: 0.0063, val acc: 1.0000 | 0.27 sec.\n",
      "Epoch: 104, loss: 0.0208, acc: 1.0000 | val loss: 0.0070, val acc: 1.0000 | 0.30 sec.\n",
      "Epoch: 105, loss: 0.0207, acc: 1.0000 | val loss: 0.0072, val acc: 1.0000 | 0.17 sec.\n",
      "Epoch: 106, loss: 0.0205, acc: 1.0000 | val loss: 0.0072, val acc: 1.0000 | 0.20 sec.\n",
      "Epoch: 107, loss: 0.0200, acc: 1.0000 | val loss: 0.0065, val acc: 1.0000 | 0.25 sec.\n",
      "Epoch: 108, loss: 0.0197, acc: 1.0000 | val loss: 0.0065, val acc: 1.0000 | 0.17 sec.\n",
      "Epoch: 109, loss: 0.0193, acc: 1.0000 | val loss: 0.0071, val acc: 1.0000 | 0.20 sec.\n",
      "Epoch: 110, loss: 0.0189, acc: 1.0000 | val loss: 0.0066, val acc: 1.0000 | 0.24 sec.\n",
      "Epoch: 111, loss: 0.0186, acc: 1.0000 | val loss: 0.0061, val acc: 1.0000 | 0.22 sec.\n",
      "Epoch: 112, loss: 0.0183, acc: 1.0000 | val loss: 0.0059, val acc: 1.0000 | 0.19 sec.\n",
      "Epoch: 113, loss: 0.0179, acc: 1.0000 | val loss: 0.0059, val acc: 1.0000 | 0.17 sec.\n",
      "Epoch: 114, loss: 0.0177, acc: 1.0000 | val loss: 0.0061, val acc: 1.0000 | 0.19 sec.\n",
      "Epoch: 115, loss: 0.0176, acc: 1.0000 | val loss: 0.0055, val acc: 1.0000 | 0.28 sec.\n",
      "Epoch: 116, loss: 0.0170, acc: 1.0000 | val loss: 0.0048, val acc: 1.0000 | 0.22 sec.\n",
      "Epoch: 117, loss: 0.0167, acc: 1.0000 | val loss: 0.0052, val acc: 1.0000 | 0.19 sec.\n",
      "Epoch: 118, loss: 0.0167, acc: 1.0000 | val loss: 0.0050, val acc: 1.0000 | 0.20 sec.\n",
      "Epoch: 119, loss: 0.0167, acc: 1.0000 | val loss: 0.0051, val acc: 1.0000 | 0.25 sec.\n",
      "Epoch: 120, loss: 0.0161, acc: 1.0000 | val loss: 0.0050, val acc: 1.0000 | 0.28 sec.\n",
      "Epoch: 121, loss: 0.0160, acc: 1.0000 | val loss: 0.0052, val acc: 1.0000 | 0.23 sec.\n",
      "Epoch: 122, loss: 0.0159, acc: 1.0000 | val loss: 0.0051, val acc: 1.0000 | 0.27 sec.\n",
      "Epoch: 123, loss: 0.0153, acc: 1.0000 | val loss: 0.0052, val acc: 1.0000 | 0.27 sec.\n",
      "Epoch: 124, loss: 0.0153, acc: 1.0000 | val loss: 0.0049, val acc: 1.0000 | 0.31 sec.\n",
      "Epoch: 125, loss: 0.0151, acc: 1.0000 | val loss: 0.0048, val acc: 1.0000 | 0.31 sec.\n",
      "Epoch: 126, loss: 0.0145, acc: 1.0000 | val loss: 0.0049, val acc: 1.0000 | 0.31 sec.\n",
      "Epoch: 127, loss: 0.0144, acc: 1.0000 | val loss: 0.0050, val acc: 1.0000 | 0.19 sec.\n",
      "Epoch: 128, loss: 0.0138, acc: 1.0000 | val loss: 0.0046, val acc: 1.0000 | 0.24 sec.\n",
      "Epoch: 129, loss: 0.0141, acc: 1.0000 | val loss: 0.0041, val acc: 1.0000 | 0.16 sec.\n",
      "Epoch: 130, loss: 0.0138, acc: 1.0000 | val loss: 0.0046, val acc: 1.0000 | 0.17 sec.\n",
      "Epoch: 131, loss: 0.0136, acc: 1.0000 | val loss: 0.0045, val acc: 1.0000 | 0.30 sec.\n",
      "Epoch: 132, loss: 0.0135, acc: 1.0000 | val loss: 0.0039, val acc: 1.0000 | 0.30 sec.\n",
      "Epoch: 133, loss: 0.0132, acc: 1.0000 | val loss: 0.0044, val acc: 1.0000 | 0.24 sec.\n",
      "Epoch: 134, loss: 0.0132, acc: 1.0000 | val loss: 0.0039, val acc: 1.0000 | 0.27 sec.\n",
      "Epoch: 135, loss: 0.0127, acc: 1.0000 | val loss: 0.0046, val acc: 1.0000 | 0.28 sec.\n",
      "Epoch: 136, loss: 0.0129, acc: 1.0000 | val loss: 0.0037, val acc: 1.0000 | 0.20 sec.\n",
      "Epoch: 137, loss: 0.0127, acc: 1.0000 | val loss: 0.0036, val acc: 1.0000 | 0.18 sec.\n",
      "Epoch: 138, loss: 0.0125, acc: 1.0000 | val loss: 0.0041, val acc: 1.0000 | 0.19 sec.\n",
      "Epoch: 139, loss: 0.0121, acc: 1.0000 | val loss: 0.0041, val acc: 1.0000 | 0.20 sec.\n",
      "Epoch: 140, loss: 0.0120, acc: 1.0000 | val loss: 0.0041, val acc: 1.0000 | 0.16 sec.\n",
      "Epoch: 141, loss: 0.0119, acc: 1.0000 | val loss: 0.0039, val acc: 1.0000 | 0.22 sec.\n",
      "Epoch: 142, loss: 0.0117, acc: 1.0000 | val loss: 0.0041, val acc: 1.0000 | 0.17 sec.\n",
      "Epoch: 143, loss: 0.0117, acc: 1.0000 | val loss: 0.0036, val acc: 1.0000 | 0.25 sec.\n",
      "Epoch: 144, loss: 0.0116, acc: 1.0000 | val loss: 0.0040, val acc: 1.0000 | 0.27 sec.\n",
      "Epoch: 145, loss: 0.0114, acc: 1.0000 | val loss: 0.0034, val acc: 1.0000 | 0.30 sec.\n",
      "Epoch: 146, loss: 0.0111, acc: 1.0000 | val loss: 0.0037, val acc: 1.0000 | 0.31 sec.\n",
      "Epoch: 147, loss: 0.0113, acc: 1.0000 | val loss: 0.0035, val acc: 1.0000 | 1.02 sec.\n",
      "Epoch: 148, loss: 0.0106, acc: 1.0000 | val loss: 0.0037, val acc: 1.0000 | 0.33 sec.\n",
      "Epoch: 149, loss: 0.0108, acc: 1.0000 | val loss: 0.0035, val acc: 1.0000 | 0.17 sec.\n",
      "Epoch: 150, loss: 0.0106, acc: 1.0000 | val loss: 0.0037, val acc: 1.0000 | 0.20 sec.\n",
      "Epoch: 151, loss: 0.0103, acc: 1.0000 | val loss: 0.0035, val acc: 1.0000 | 0.27 sec.\n",
      "Epoch: 152, loss: 0.0102, acc: 1.0000 | val loss: 0.0032, val acc: 1.0000 | 0.25 sec.\n",
      "Epoch: 153, loss: 0.0102, acc: 1.0000 | val loss: 0.0036, val acc: 1.0000 | 0.24 sec.\n",
      "Epoch: 154, loss: 0.0101, acc: 1.0000 | val loss: 0.0036, val acc: 1.0000 | 0.25 sec.\n",
      "Epoch: 155, loss: 0.0101, acc: 1.0000 | val loss: 0.0035, val acc: 1.0000 | 0.30 sec.\n",
      "Epoch: 156, loss: 0.0100, acc: 1.0000 | val loss: 0.0034, val acc: 1.0000 | 0.25 sec.\n",
      "Epoch: 157, loss: 0.0099, acc: 1.0000 | val loss: 0.0034, val acc: 1.0000 | 0.25 sec.\n",
      "Epoch: 158, loss: 0.0097, acc: 1.0000 | val loss: 0.0032, val acc: 1.0000 | 0.27 sec.\n",
      "Epoch: 159, loss: 0.0095, acc: 1.0000 | val loss: 0.0030, val acc: 1.0000 | 0.22 sec.\n",
      "Epoch: 160, loss: 0.0095, acc: 1.0000 | val loss: 0.0029, val acc: 1.0000 | 0.27 sec.\n",
      "Epoch: 161, loss: 0.0093, acc: 1.0000 | val loss: 0.0029, val acc: 1.0000 | 0.22 sec.\n",
      "Epoch: 162, loss: 0.0092, acc: 1.0000 | val loss: 0.0028, val acc: 1.0000 | 0.22 sec.\n",
      "Epoch: 163, loss: 0.0089, acc: 1.0000 | val loss: 0.0026, val acc: 1.0000 | 0.22 sec.\n",
      "Epoch: 164, loss: 0.0089, acc: 1.0000 | val loss: 0.0032, val acc: 1.0000 | 0.30 sec.\n",
      "Epoch: 165, loss: 0.0090, acc: 1.0000 | val loss: 0.0030, val acc: 1.0000 | 0.27 sec.\n",
      "Epoch: 166, loss: 0.0089, acc: 1.0000 | val loss: 0.0027, val acc: 1.0000 | 0.20 sec.\n",
      "Epoch: 167, loss: 0.0087, acc: 1.0000 | val loss: 0.0025, val acc: 1.0000 | 0.22 sec.\n",
      "Epoch: 168, loss: 0.0086, acc: 1.0000 | val loss: 0.0029, val acc: 1.0000 | 0.22 sec.\n",
      "Epoch: 169, loss: 0.0085, acc: 1.0000 | val loss: 0.0029, val acc: 1.0000 | 0.22 sec.\n",
      "Epoch: 170, loss: 0.0086, acc: 1.0000 | val loss: 0.0028, val acc: 1.0000 | 0.20 sec.\n",
      "Epoch: 171, loss: 0.0082, acc: 1.0000 | val loss: 0.0026, val acc: 1.0000 | 0.30 sec.\n",
      "Epoch: 172, loss: 0.0082, acc: 1.0000 | val loss: 0.0025, val acc: 1.0000 | 0.42 sec.\n",
      "Epoch: 173, loss: 0.0080, acc: 1.0000 | val loss: 0.0024, val acc: 1.0000 | 0.80 sec.\n",
      "Epoch: 174, loss: 0.0080, acc: 1.0000 | val loss: 0.0024, val acc: 1.0000 | 0.33 sec.\n",
      "Epoch: 175, loss: 0.0078, acc: 1.0000 | val loss: 0.0026, val acc: 1.0000 | 0.22 sec.\n",
      "Epoch: 176, loss: 0.0078, acc: 1.0000 | val loss: 0.0027, val acc: 1.0000 | 0.24 sec.\n",
      "Epoch: 177, loss: 0.0077, acc: 1.0000 | val loss: 0.0027, val acc: 1.0000 | 0.19 sec.\n",
      "Epoch: 178, loss: 0.0077, acc: 1.0000 | val loss: 0.0023, val acc: 1.0000 | 0.26 sec.\n",
      "Epoch: 179, loss: 0.0076, acc: 1.0000 | val loss: 0.0027, val acc: 1.0000 | 0.28 sec.\n",
      "Epoch: 180, loss: 0.0077, acc: 1.0000 | val loss: 0.0025, val acc: 1.0000 | 0.31 sec.\n",
      "Epoch: 181, loss: 0.0076, acc: 1.0000 | val loss: 0.0025, val acc: 1.0000 | 0.25 sec.\n",
      "Epoch: 182, loss: 0.0076, acc: 1.0000 | val loss: 0.0024, val acc: 1.0000 | 0.27 sec.\n",
      "Epoch: 183, loss: 0.0075, acc: 1.0000 | val loss: 0.0024, val acc: 1.0000 | 0.33 sec.\n",
      "Epoch: 184, loss: 0.0074, acc: 1.0000 | val loss: 0.0024, val acc: 1.0000 | 0.31 sec.\n",
      "Epoch: 185, loss: 0.0072, acc: 1.0000 | val loss: 0.0025, val acc: 1.0000 | 0.25 sec.\n",
      "Epoch: 186, loss: 0.0070, acc: 1.0000 | val loss: 0.0023, val acc: 1.0000 | 0.30 sec.\n",
      "Epoch: 187, loss: 0.0070, acc: 1.0000 | val loss: 0.0023, val acc: 1.0000 | 0.19 sec.\n",
      "Epoch: 188, loss: 0.0071, acc: 1.0000 | val loss: 0.0025, val acc: 1.0000 | 0.19 sec.\n",
      "Epoch: 189, loss: 0.0069, acc: 1.0000 | val loss: 0.0022, val acc: 1.0000 | 0.26 sec.\n",
      "Epoch: 190, loss: 0.0069, acc: 1.0000 | val loss: 0.0022, val acc: 1.0000 | 0.26 sec.\n",
      "Epoch: 191, loss: 0.0067, acc: 1.0000 | val loss: 0.0022, val acc: 1.0000 | 0.30 sec.\n",
      "Epoch: 192, loss: 0.0066, acc: 1.0000 | val loss: 0.0022, val acc: 1.0000 | 0.27 sec.\n",
      "Epoch: 193, loss: 0.0068, acc: 1.0000 | val loss: 0.0021, val acc: 1.0000 | 0.27 sec.\n",
      "Epoch: 194, loss: 0.0066, acc: 1.0000 | val loss: 0.0022, val acc: 1.0000 | 0.27 sec.\n",
      "Epoch: 195, loss: 0.0064, acc: 1.0000 | val loss: 0.0022, val acc: 1.0000 | 0.25 sec.\n",
      "Epoch: 196, loss: 0.0064, acc: 1.0000 | val loss: 0.0024, val acc: 1.0000 | 0.24 sec.\n",
      "Epoch: 197, loss: 0.0064, acc: 1.0000 | val loss: 0.0021, val acc: 1.0000 | 0.24 sec.\n",
      "Epoch: 198, loss: 0.0063, acc: 1.0000 | val loss: 0.0021, val acc: 1.0000 | 0.25 sec.\n",
      "Epoch: 199, loss: 0.0062, acc: 1.0000 | val loss: 0.0019, val acc: 1.0000 | 0.27 sec.\n"
     ]
    }
   ],
   "source": [
    "for epoch in range(num_epochs):\n",
    "    train_loss, train_acc, iter_num = .0, .0, .0\n",
    "    start_epoch_time = time.time()\n",
    "    model.train()\n",
    "    for x_in, y_in in train_dl:\n",
    "        x_in = x_in\n",
    "        y_in = y_in.view(1, -1).squeeze()\n",
    "        optimizer.zero_grad()\n",
    "        out = model.forward(x_in).view(-1, len(CHAR_TO_INDEX) + caesar_stride)\n",
    "        l = loss(out, y_in)\n",
    "        train_loss += l.item()\n",
    "        batch_acc = (out.argmax(dim=1) == y_in)\n",
    "        train_acc += batch_acc.sum().item() / batch_acc.shape[0]\n",
    "        l.backward()\n",
    "        optimizer.step()\n",
    "        iter_num += 1\n",
    "    print(\n",
    "        f\"Epoch: {epoch}, loss: {train_loss:.4f}, acc: \"\n",
    "        f\"{train_acc / iter_num:.4f}\",\n",
    "        end=\" | \"\n",
    "    )\n",
    "    val_loss, val_acc, iter_num = .0, .0, .0\n",
    "    model.eval()\n",
    "    for x_in, y_in in val_dl:\n",
    "        x_in = x_in\n",
    "        y_in = y_in.view(1, -1).squeeze()\n",
    "        out = model.forward(x_in).view(-1, len(CHAR_TO_INDEX) + caesar_stride)\n",
    "        l = loss(out, y_in)\n",
    "        val_loss += l.item()\n",
    "        batch_acc = (out.argmax(dim=1) == y_in)\n",
    "        val_acc += batch_acc.sum().item() / batch_acc.shape[0]\n",
    "        iter_num += 1\n",
    "    print(\n",
    "        f\"val loss: {val_loss:.4f}, val acc: {val_acc / iter_num:.4f} | \"\n",
    "        f\"{time.time() - start_epoch_time:.2f} sec.\"\n",
    "    )"
   ],
   "metadata": {
    "collapsed": false,
    "pycharm": {
     "name": "#%%\n"
    }
   }
  },
  {
   "cell_type": "code",
   "execution_count": 25,
   "outputs": [
    {
     "name": "stdout",
     "output_type": "stream",
     "text": [
      "test loss: 0.0020, test acc: 1.0000\n"
     ]
    }
   ],
   "source": [
    "test_loss, test_acc, iter_num = .0, .0, .0\n",
    "model.eval()\n",
    "for x_in, y_in in test_dl:\n",
    "    x_in = x_in\n",
    "    y_in = y_in.view(1, -1).squeeze()\n",
    "    out = model.forward(x_in).view(-1, len(CHAR_TO_INDEX) + caesar_stride)\n",
    "    l = loss(out, y_in)\n",
    "    test_loss += l.item()\n",
    "    batch_acc = (out.argmax(dim=1) == y_in)\n",
    "    test_acc += batch_acc.sum().item() / batch_acc.shape[0]\n",
    "    iter_num += 1\n",
    "print(\n",
    "    f\"test loss: {test_loss:.4f}, test acc: {test_acc / iter_num:.4f}\")"
   ],
   "metadata": {
    "collapsed": false,
    "pycharm": {
     "name": "#%%\n"
    }
   }
  }
 ],
 "metadata": {
  "kernelspec": {
   "display_name": "Python 3",
   "language": "python",
   "name": "python3"
  },
  "language_info": {
   "codemirror_mode": {
    "name": "ipython",
    "version": 2
   },
   "file_extension": ".py",
   "mimetype": "text/x-python",
   "name": "python",
   "nbconvert_exporter": "python",
   "pygments_lexer": "ipython2",
   "version": "2.7.6"
  }
 },
 "nbformat": 4,
 "nbformat_minor": 0
}