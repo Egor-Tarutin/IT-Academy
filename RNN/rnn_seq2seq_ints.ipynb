{
 "cells": [
  {
   "cell_type": "code",
   "execution_count": 30,
   "outputs": [],
   "source": [
    "import torch\n",
    "import time\n",
    "from math import floor"
   ],
   "metadata": {
    "pycharm": {
     "name": "#%%\n"
    },
    "id": "UGWzB8oY8Kdq",
    "executionInfo": {
     "status": "ok",
     "timestamp": 1663527647936,
     "user_tz": -180,
     "elapsed": 448,
     "user": {
      "displayName": "Egor Tarutin",
      "userId": "17854723859889032284"
     }
    }
   }
  },
  {
   "cell_type": "code",
   "source": [
    "device = torch.device('cuda' if torch.cuda.is_available() else 'cpu')"
   ],
   "metadata": {
    "id": "dO7oD34j8kaR",
    "executionInfo": {
     "status": "ok",
     "timestamp": 1663527649766,
     "user_tz": -180,
     "elapsed": 2,
     "user": {
      "displayName": "Egor Tarutin",
      "userId": "17854723859889032284"
     }
    },
    "pycharm": {
     "name": "#%%\n"
    }
   },
   "execution_count": 31,
   "outputs": []
  },
  {
   "cell_type": "code",
   "execution_count": 32,
   "outputs": [],
   "source": [
    "def create_y(x):\n",
    "    '''\n",
    "    Creates a sequence based on x with rule: y_i = (x_i + x_0) % 10\n",
    "    :param x: torch.tensor\n",
    "    :return: torch.tensor with the same shape as x\n",
    "    '''\n",
    "    y = torch.zeros(x.shape, dtype=torch.long)\n",
    "    for i in range(len(x)):\n",
    "        y[i, 0] = x[i, 0]\n",
    "        for j in range(1, len(x[i])):\n",
    "            y[i, j] = (x[i, 0] + x[i, j]) % 10\n",
    "    return y"
   ],
   "metadata": {
    "pycharm": {
     "name": "#%%\n"
    },
    "id": "jG5cS7cl8Kd_",
    "executionInfo": {
     "status": "ok",
     "timestamp": 1663527651124,
     "user_tz": -180,
     "elapsed": 5,
     "user": {
      "displayName": "Egor Tarutin",
      "userId": "17854723859889032284"
     }
    }
   }
  },
  {
   "cell_type": "code",
   "execution_count": 33,
   "outputs": [],
   "source": [
    "X = torch.randint(0, 9, (10000, 50))\n",
    "X.to(torch.long).to(device)\n",
    "Y = create_y(X).to(device)"
   ],
   "metadata": {
    "pycharm": {
     "name": "#%%\n"
    },
    "id": "vU11mgUF8KeC",
    "executionInfo": {
     "status": "ok",
     "timestamp": 1663527666440,
     "user_tz": -180,
     "elapsed": 7915,
     "user": {
      "displayName": "Egor Tarutin",
      "userId": "17854723859889032284"
     }
    }
   }
  },
  {
   "cell_type": "code",
   "execution_count": 34,
   "outputs": [],
   "source": [
    "X_train, Y_train = X[:floor(len(X) * 0.6)], Y[:floor(len(X) * 0.6)]\n",
    "X_test, Y_test = X[floor(len(X) * 0.6):floor(len(X) * 0.6) + len(X) // 5], Y[floor(len(X) * 0.6):floor(len(X) * 0.6) + len(X) // 5]\n",
    "X_val, Y_val = X[floor(len(X) * 0.6) + len(X) // 5:], Y[floor(len(X) * 0.6) + len(X) // 5:]"
   ],
   "metadata": {
    "pycharm": {
     "name": "#%%\n"
    },
    "id": "SPS0OK0M8KeD",
    "executionInfo": {
     "status": "ok",
     "timestamp": 1663527670421,
     "user_tz": -180,
     "elapsed": 1074,
     "user": {
      "displayName": "Egor Tarutin",
      "userId": "17854723859889032284"
     }
    }
   }
  },
  {
   "cell_type": "code",
   "execution_count": 35,
   "outputs": [],
   "source": [
    "# define constants\n",
    "BATCH_SIZE = 128"
   ],
   "metadata": {
    "pycharm": {
     "name": "#%%\n"
    },
    "id": "uZQbhUiR8KeF",
    "executionInfo": {
     "status": "ok",
     "timestamp": 1663527672724,
     "user_tz": -180,
     "elapsed": 3,
     "user": {
      "displayName": "Egor Tarutin",
      "userId": "17854723859889032284"
     }
    }
   }
  },
  {
   "cell_type": "code",
   "execution_count": 36,
   "outputs": [],
   "source": [
    "train_dl = torch.utils.data.DataLoader(\n",
    "    torch.utils.data.TensorDataset(X_train.to(device), Y_train.to(device)),\n",
    "    batch_size=BATCH_SIZE,\n",
    "    shuffle=True,\n",
    "    drop_last=True\n",
    ")\n",
    "test_dl = torch.utils.data.DataLoader(\n",
    "    torch.utils.data.TensorDataset(X_test.to(device), Y_test.to(device)),\n",
    "    batch_size=BATCH_SIZE,\n",
    "    shuffle=True,\n",
    "    drop_last=True\n",
    ")\n",
    "val_dl = torch.utils.data.DataLoader(\n",
    "    torch.utils.data.TensorDataset(X_val.to(device), Y_val.to(device)),\n",
    "    batch_size=BATCH_SIZE,\n",
    "    shuffle=True,\n",
    "    drop_last=True\n",
    ")"
   ],
   "metadata": {
    "pycharm": {
     "name": "#%%\n"
    },
    "id": "Qo33C2G68KeI",
    "executionInfo": {
     "status": "ok",
     "timestamp": 1663527674452,
     "user_tz": -180,
     "elapsed": 3,
     "user": {
      "displayName": "Egor Tarutin",
      "userId": "17854723859889032284"
     }
    }
   }
  },
  {
   "cell_type": "code",
   "execution_count": 37,
   "outputs": [],
   "source": [
    "class RNNSec2Sec(torch.nn.Module):\n",
    "    def __init__(self, rnn_type):\n",
    "        super(RNNSec2Sec, self).__init__()\n",
    "        self.embed = torch.nn.Embedding(10, 10)\n",
    "        self.rnn = rnn_type(10, 100, batch_first=True)\n",
    "        self.linear = torch.nn.Linear(100, 10)\n",
    "\n",
    "    def forward(self, sentences):\n",
    "        embed = self.embed(sentences)\n",
    "        o, a = self.rnn(embed)\n",
    "        out = self.linear(o)\n",
    "        return out"
   ],
   "metadata": {
    "pycharm": {
     "name": "#%%\n"
    },
    "id": "7ZMIpOTm8KeK",
    "executionInfo": {
     "status": "ok",
     "timestamp": 1663527677514,
     "user_tz": -180,
     "elapsed": 420,
     "user": {
      "displayName": "Egor Tarutin",
      "userId": "17854723859889032284"
     }
    }
   }
  },
  {
   "cell_type": "code",
   "execution_count": 38,
   "outputs": [],
   "source": [
    "def train_model(model, criterion, optimizer, train_dl, val_dl, epochs):\n",
    "    for epoch in range(epochs):\n",
    "        train_loss, train_acc, iter_num = .0, .0, .0\n",
    "        start_epoch_time = time.time()\n",
    "        model.train()\n",
    "        for x_in, y_in in train_dl:\n",
    "            x_in = x_in\n",
    "            y_in = y_in.view(1, -1).squeeze()\n",
    "            optimizer.zero_grad()\n",
    "            out = model.forward(x_in).view(-1, 10)\n",
    "            l = criterion(out, y_in)\n",
    "            train_loss += l.item()\n",
    "            batch_acc = (out.argmax(dim=1) == y_in)\n",
    "            train_acc += batch_acc.sum().item() / batch_acc.shape[0]\n",
    "            l.backward()\n",
    "            optimizer.step()\n",
    "            iter_num += 1\n",
    "        print(\n",
    "            f\"Epoch: {epoch}, loss: {train_loss:.4f}, acc: \"\n",
    "            f\"{train_acc / iter_num:.4f}\",\n",
    "            end=\" | \"\n",
    "        )\n",
    "        val_loss, val_acc, iter_num = .0, .0, .0\n",
    "        model.eval()\n",
    "        for x_in, y_in in val_dl:\n",
    "            x_in = x_in\n",
    "            y_in = y_in.view(1, -1).squeeze()\n",
    "            out = model.forward(x_in).view(-1, 10)\n",
    "            l = criterion(out, y_in)\n",
    "            val_loss += l.item()\n",
    "            batch_acc = (out.argmax(dim=1) == y_in)\n",
    "            val_acc += batch_acc.sum().item() / batch_acc.shape[0]\n",
    "            iter_num += 1\n",
    "        print(\n",
    "            f\"val loss: {val_loss:.4f}, val acc: {val_acc / iter_num:.4f} | \"\n",
    "            f\"{time.time() - start_epoch_time:.2f} sec.\"\n",
    "        )"
   ],
   "metadata": {
    "pycharm": {
     "name": "#%%\n"
    },
    "id": "N7hVZ_j-8KeN",
    "executionInfo": {
     "status": "ok",
     "timestamp": 1663527679969,
     "user_tz": -180,
     "elapsed": 467,
     "user": {
      "displayName": "Egor Tarutin",
      "userId": "17854723859889032284"
     }
    }
   }
  },
  {
   "cell_type": "code",
   "execution_count": 39,
   "outputs": [],
   "source": [
    "def test_model(model, test_dl):\n",
    "    test_loss, test_acc, iter_num = .0, .0, .0\n",
    "    model.eval()\n",
    "    for x_in, y_in in test_dl:\n",
    "        x_in = x_in\n",
    "        y_in = y_in.view(1, -1).squeeze()\n",
    "        out = model.forward(x_in).view(-1, 10)\n",
    "        l = criterion(out, y_in)\n",
    "        test_loss += l.item()\n",
    "        batch_acc = (out.argmax(dim=1) == y_in)\n",
    "        test_acc += batch_acc.sum().item() / batch_acc.shape[0]\n",
    "        iter_num += 1\n",
    "    print(\n",
    "        f\"test loss: {test_loss:.4f}, test acc: {test_acc / iter_num:.4f}\")"
   ],
   "metadata": {
    "pycharm": {
     "name": "#%%\n"
    },
    "id": "R3mRSiC38KeT",
    "executionInfo": {
     "status": "ok",
     "timestamp": 1663527687467,
     "user_tz": -180,
     "elapsed": 429,
     "user": {
      "displayName": "Egor Tarutin",
      "userId": "17854723859889032284"
     }
    }
   }
  },
  {
   "cell_type": "code",
   "execution_count": 40,
   "outputs": [],
   "source": [
    "simple_rnn = RNNSec2Sec(torch.nn.RNN)\n",
    "criterion = torch.nn.CrossEntropyLoss()\n",
    "optimizer = torch.optim.Adam(simple_rnn.parameters(), lr=0.005)"
   ],
   "metadata": {
    "pycharm": {
     "name": "#%%\n"
    },
    "id": "DSiko6f38KeW",
    "executionInfo": {
     "status": "ok",
     "timestamp": 1663527690977,
     "user_tz": -180,
     "elapsed": 3,
     "user": {
      "displayName": "Egor Tarutin",
      "userId": "17854723859889032284"
     }
    }
   }
  },
  {
   "cell_type": "code",
   "source": [
    "simple_rnn.to(device)\n",
    "criterion.to(device)"
   ],
   "metadata": {
    "colab": {
     "base_uri": "https://localhost:8080/"
    },
    "id": "hOIDIjGZ9EQZ",
    "executionInfo": {
     "status": "ok",
     "timestamp": 1663527694565,
     "user_tz": -180,
     "elapsed": 564,
     "user": {
      "displayName": "Egor Tarutin",
      "userId": "17854723859889032284"
     }
    },
    "outputId": "fc5dc9eb-b56d-4d36-d405-a0227f5fc833",
    "pycharm": {
     "name": "#%%\n"
    }
   },
   "execution_count": 41,
   "outputs": [
    {
     "output_type": "execute_result",
     "data": {
      "text/plain": [
       "CrossEntropyLoss()"
      ]
     },
     "metadata": {},
     "execution_count": 41
    }
   ]
  },
  {
   "cell_type": "code",
   "execution_count": 42,
   "outputs": [
    {
     "output_type": "stream",
     "name": "stdout",
     "text": [
      "Epoch: 0, loss: 103.4111, acc: 0.1155 | val loss: 33.4361, val acc: 0.1179 | 1.25 sec.\n",
      "Epoch: 1, loss: 102.2738, acc: 0.1154 | val loss: 33.1931, val acc: 0.1125 | 0.21 sec.\n",
      "Epoch: 2, loss: 101.9180, acc: 0.1140 | val loss: 33.1511, val acc: 0.1198 | 0.19 sec.\n",
      "Epoch: 3, loss: 101.7872, acc: 0.1175 | val loss: 33.2348, val acc: 0.1099 | 0.19 sec.\n",
      "Epoch: 4, loss: 101.5511, acc: 0.1215 | val loss: 32.8490, val acc: 0.1541 | 0.19 sec.\n",
      "Epoch: 5, loss: 97.5603, acc: 0.1811 | val loss: 28.4847, val acc: 0.2272 | 0.18 sec.\n",
      "Epoch: 6, loss: 78.5829, acc: 0.2333 | val loss: 23.5319, val acc: 0.2455 | 0.19 sec.\n",
      "Epoch: 7, loss: 70.8876, acc: 0.2425 | val loss: 22.8219, val acc: 0.2440 | 0.18 sec.\n",
      "Epoch: 8, loss: 69.6498, acc: 0.2506 | val loss: 22.5733, val acc: 0.2482 | 0.18 sec.\n",
      "Epoch: 9, loss: 69.4294, acc: 0.2579 | val loss: 22.6615, val acc: 0.2585 | 0.19 sec.\n",
      "Epoch: 10, loss: 69.1822, acc: 0.2684 | val loss: 24.6180, val acc: 0.2596 | 0.18 sec.\n",
      "Epoch: 11, loss: 72.3506, acc: 0.2665 | val loss: 21.7963, val acc: 0.3274 | 0.18 sec.\n",
      "Epoch: 12, loss: 59.0156, acc: 0.3650 | val loss: 18.4998, val acc: 0.3647 | 0.18 sec.\n",
      "Epoch: 13, loss: 52.4151, acc: 0.4285 | val loss: 15.2880, val acc: 0.4719 | 0.19 sec.\n",
      "Epoch: 14, loss: 45.9409, acc: 0.4723 | val loss: 14.7535, val acc: 0.4774 | 0.18 sec.\n",
      "Epoch: 15, loss: 44.9196, acc: 0.4741 | val loss: 14.5897, val acc: 0.4728 | 0.18 sec.\n",
      "Epoch: 16, loss: 44.2945, acc: 0.4834 | val loss: 14.2748, val acc: 0.4934 | 0.20 sec.\n",
      "Epoch: 17, loss: 37.1355, acc: 0.5939 | val loss: 10.0948, val acc: 0.6872 | 0.19 sec.\n",
      "Epoch: 18, loss: 31.4582, acc: 0.6804 | val loss: 20.2113, val acc: 0.5195 | 0.18 sec.\n",
      "Epoch: 19, loss: 46.9823, acc: 0.5631 | val loss: 13.4575, val acc: 0.5789 | 0.18 sec.\n",
      "Epoch: 20, loss: 40.2365, acc: 0.5877 | val loss: 13.0722, val acc: 0.5883 | 0.19 sec.\n",
      "Epoch: 21, loss: 36.1859, acc: 0.6296 | val loss: 9.6999, val acc: 0.6846 | 0.18 sec.\n",
      "Epoch: 22, loss: 28.1334, acc: 0.6959 | val loss: 9.1010, val acc: 0.6963 | 0.18 sec.\n",
      "Epoch: 23, loss: 51.7580, acc: 0.5616 | val loss: 25.0339, val acc: 0.3888 | 0.18 sec.\n",
      "Epoch: 24, loss: 55.8280, acc: 0.4564 | val loss: 15.8693, val acc: 0.4721 | 0.18 sec.\n",
      "Epoch: 25, loss: 46.7530, acc: 0.4801 | val loss: 14.6955, val acc: 0.4999 | 0.18 sec.\n",
      "Epoch: 26, loss: 39.8850, acc: 0.5825 | val loss: 10.8228, val acc: 0.6774 | 0.19 sec.\n",
      "Epoch: 27, loss: 29.1450, acc: 0.6896 | val loss: 8.6119, val acc: 0.7000 | 0.18 sec.\n",
      "Epoch: 28, loss: 25.8856, acc: 0.6952 | val loss: 8.1233, val acc: 0.6954 | 0.19 sec.\n",
      "Epoch: 29, loss: 28.0471, acc: 0.6743 | val loss: 8.1128, val acc: 0.6986 | 0.18 sec.\n",
      "Epoch: 30, loss: 24.4127, acc: 0.6988 | val loss: 7.7369, val acc: 0.7044 | 0.18 sec.\n",
      "Epoch: 31, loss: 23.9342, acc: 0.7039 | val loss: 7.7882, val acc: 0.7110 | 0.19 sec.\n",
      "Epoch: 32, loss: 23.7031, acc: 0.7100 | val loss: 7.5128, val acc: 0.7144 | 0.18 sec.\n",
      "Epoch: 33, loss: 20.7395, acc: 0.7623 | val loss: 5.7442, val acc: 0.7986 | 0.18 sec.\n",
      "Epoch: 34, loss: 17.1765, acc: 0.8034 | val loss: 5.3600, val acc: 0.8063 | 0.19 sec.\n",
      "Epoch: 35, loss: 16.7106, acc: 0.8035 | val loss: 5.3782, val acc: 0.8006 | 0.18 sec.\n",
      "Epoch: 36, loss: 16.4166, acc: 0.8026 | val loss: 5.1912, val acc: 0.8069 | 0.18 sec.\n",
      "Epoch: 37, loss: 11.6997, acc: 0.8784 | val loss: 2.6357, val acc: 0.9057 | 0.21 sec.\n",
      "Epoch: 38, loss: 8.0177, acc: 0.9020 | val loss: 2.5729, val acc: 0.9035 | 0.20 sec.\n",
      "Epoch: 39, loss: 7.4709, acc: 0.9040 | val loss: 2.3011, val acc: 0.9077 | 0.18 sec.\n",
      "Epoch: 40, loss: 7.2202, acc: 0.9050 | val loss: 2.1655, val acc: 0.9120 | 0.19 sec.\n",
      "Epoch: 41, loss: 6.9531, acc: 0.9100 | val loss: 2.1405, val acc: 0.9123 | 0.19 sec.\n",
      "Epoch: 42, loss: 6.5988, acc: 0.9163 | val loss: 1.3736, val acc: 0.9806 | 0.19 sec.\n",
      "Epoch: 43, loss: 1.4870, acc: 0.9969 | val loss: 0.2071, val acc: 0.9999 | 0.19 sec.\n",
      "Epoch: 44, loss: 0.5357, acc: 1.0000 | val loss: 0.1528, val acc: 1.0000 | 0.18 sec.\n",
      "Epoch: 45, loss: 0.4291, acc: 1.0000 | val loss: 0.1290, val acc: 1.0000 | 0.18 sec.\n",
      "Epoch: 46, loss: 0.3687, acc: 1.0000 | val loss: 0.1125, val acc: 1.0000 | 0.18 sec.\n",
      "Epoch: 47, loss: 0.3255, acc: 1.0000 | val loss: 0.1007, val acc: 1.0000 | 0.18 sec.\n",
      "Epoch: 48, loss: 0.2919, acc: 1.0000 | val loss: 0.0909, val acc: 1.0000 | 0.19 sec.\n",
      "Epoch: 49, loss: 0.2648, acc: 1.0000 | val loss: 0.0827, val acc: 1.0000 | 0.18 sec.\n",
      "Epoch: 50, loss: 0.2420, acc: 1.0000 | val loss: 0.0761, val acc: 1.0000 | 0.18 sec.\n",
      "Epoch: 51, loss: 0.2228, acc: 1.0000 | val loss: 0.0701, val acc: 1.0000 | 0.18 sec.\n",
      "Epoch: 52, loss: 0.2064, acc: 1.0000 | val loss: 0.0652, val acc: 1.0000 | 0.18 sec.\n",
      "Epoch: 53, loss: 0.1920, acc: 1.0000 | val loss: 0.0608, val acc: 1.0000 | 0.19 sec.\n",
      "Epoch: 54, loss: 0.1791, acc: 1.0000 | val loss: 0.0569, val acc: 1.0000 | 0.18 sec.\n",
      "Epoch: 55, loss: 0.1677, acc: 1.0000 | val loss: 0.0533, val acc: 1.0000 | 0.18 sec.\n",
      "Epoch: 56, loss: 0.1573, acc: 1.0000 | val loss: 0.0500, val acc: 1.0000 | 0.18 sec.\n",
      "Epoch: 57, loss: 0.1480, acc: 1.0000 | val loss: 0.0471, val acc: 1.0000 | 0.18 sec.\n",
      "Epoch: 58, loss: 0.1397, acc: 1.0000 | val loss: 0.0445, val acc: 1.0000 | 0.18 sec.\n",
      "Epoch: 59, loss: 0.1319, acc: 1.0000 | val loss: 0.0421, val acc: 1.0000 | 0.19 sec.\n",
      "Epoch: 60, loss: 0.1248, acc: 1.0000 | val loss: 0.0399, val acc: 1.0000 | 0.18 sec.\n",
      "Epoch: 61, loss: 0.1182, acc: 1.0000 | val loss: 0.0378, val acc: 1.0000 | 0.18 sec.\n",
      "Epoch: 62, loss: 0.1122, acc: 1.0000 | val loss: 0.0359, val acc: 1.0000 | 0.18 sec.\n",
      "Epoch: 63, loss: 0.1066, acc: 1.0000 | val loss: 0.0342, val acc: 1.0000 | 0.18 sec.\n",
      "Epoch: 64, loss: 0.1014, acc: 1.0000 | val loss: 0.0325, val acc: 1.0000 | 0.19 sec.\n",
      "Epoch: 65, loss: 0.0965, acc: 1.0000 | val loss: 0.0310, val acc: 1.0000 | 0.18 sec.\n",
      "Epoch: 66, loss: 0.0921, acc: 1.0000 | val loss: 0.0296, val acc: 1.0000 | 0.18 sec.\n",
      "Epoch: 67, loss: 0.0879, acc: 1.0000 | val loss: 0.0282, val acc: 1.0000 | 0.18 sec.\n",
      "Epoch: 68, loss: 0.0839, acc: 1.0000 | val loss: 0.0270, val acc: 1.0000 | 0.18 sec.\n",
      "Epoch: 69, loss: 0.0803, acc: 1.0000 | val loss: 0.0258, val acc: 1.0000 | 0.18 sec.\n",
      "Epoch: 70, loss: 0.0767, acc: 1.0000 | val loss: 0.0247, val acc: 1.0000 | 0.19 sec.\n",
      "Epoch: 71, loss: 0.0735, acc: 1.0000 | val loss: 0.0236, val acc: 1.0000 | 0.18 sec.\n",
      "Epoch: 72, loss: 0.0704, acc: 1.0000 | val loss: 0.0227, val acc: 1.0000 | 0.18 sec.\n",
      "Epoch: 73, loss: 0.0676, acc: 1.0000 | val loss: 0.0218, val acc: 1.0000 | 0.18 sec.\n",
      "Epoch: 74, loss: 0.0648, acc: 1.0000 | val loss: 0.0209, val acc: 1.0000 | 0.18 sec.\n",
      "Epoch: 75, loss: 0.0622, acc: 1.0000 | val loss: 0.0200, val acc: 1.0000 | 0.19 sec.\n",
      "Epoch: 76, loss: 0.0598, acc: 1.0000 | val loss: 0.0192, val acc: 1.0000 | 0.18 sec.\n",
      "Epoch: 77, loss: 0.0574, acc: 1.0000 | val loss: 0.0185, val acc: 1.0000 | 0.18 sec.\n",
      "Epoch: 78, loss: 0.0553, acc: 1.0000 | val loss: 0.0178, val acc: 1.0000 | 0.19 sec.\n",
      "Epoch: 79, loss: 0.0532, acc: 1.0000 | val loss: 0.0171, val acc: 1.0000 | 0.18 sec.\n",
      "Epoch: 80, loss: 0.0512, acc: 1.0000 | val loss: 0.0165, val acc: 1.0000 | 0.18 sec.\n",
      "Epoch: 81, loss: 0.0493, acc: 1.0000 | val loss: 0.0159, val acc: 1.0000 | 0.19 sec.\n",
      "Epoch: 82, loss: 0.0475, acc: 1.0000 | val loss: 0.0154, val acc: 1.0000 | 0.18 sec.\n",
      "Epoch: 83, loss: 0.0458, acc: 1.0000 | val loss: 0.0148, val acc: 1.0000 | 0.18 sec.\n",
      "Epoch: 84, loss: 0.0441, acc: 1.0000 | val loss: 0.0142, val acc: 1.0000 | 0.18 sec.\n",
      "Epoch: 85, loss: 0.0425, acc: 1.0000 | val loss: 0.0137, val acc: 1.0000 | 0.19 sec.\n",
      "Epoch: 86, loss: 0.0411, acc: 1.0000 | val loss: 0.0133, val acc: 1.0000 | 0.19 sec.\n",
      "Epoch: 87, loss: 0.0397, acc: 1.0000 | val loss: 0.0128, val acc: 1.0000 | 0.19 sec.\n",
      "Epoch: 88, loss: 0.0383, acc: 1.0000 | val loss: 0.0124, val acc: 1.0000 | 0.18 sec.\n",
      "Epoch: 89, loss: 0.0370, acc: 1.0000 | val loss: 0.0120, val acc: 1.0000 | 0.18 sec.\n",
      "Epoch: 90, loss: 0.0358, acc: 1.0000 | val loss: 0.0116, val acc: 1.0000 | 0.18 sec.\n",
      "Epoch: 91, loss: 0.0346, acc: 1.0000 | val loss: 0.0112, val acc: 1.0000 | 0.18 sec.\n",
      "Epoch: 92, loss: 0.0334, acc: 1.0000 | val loss: 0.0108, val acc: 1.0000 | 0.20 sec.\n",
      "Epoch: 93, loss: 0.0323, acc: 1.0000 | val loss: 0.0105, val acc: 1.0000 | 0.20 sec.\n",
      "Epoch: 94, loss: 0.0313, acc: 1.0000 | val loss: 0.0101, val acc: 1.0000 | 0.19 sec.\n",
      "Epoch: 95, loss: 0.0303, acc: 1.0000 | val loss: 0.0098, val acc: 1.0000 | 0.18 sec.\n",
      "Epoch: 96, loss: 0.0293, acc: 1.0000 | val loss: 0.0095, val acc: 1.0000 | 0.18 sec.\n",
      "Epoch: 97, loss: 0.0284, acc: 1.0000 | val loss: 0.0092, val acc: 1.0000 | 0.18 sec.\n",
      "Epoch: 98, loss: 0.0275, acc: 1.0000 | val loss: 0.0089, val acc: 1.0000 | 0.19 sec.\n",
      "Epoch: 99, loss: 0.0267, acc: 1.0000 | val loss: 0.0086, val acc: 1.0000 | 0.18 sec.\n",
      "Epoch: 100, loss: 0.0258, acc: 1.0000 | val loss: 0.0084, val acc: 1.0000 | 0.18 sec.\n",
      "Epoch: 101, loss: 0.0250, acc: 1.0000 | val loss: 0.0081, val acc: 1.0000 | 0.18 sec.\n",
      "Epoch: 102, loss: 0.0243, acc: 1.0000 | val loss: 0.0079, val acc: 1.0000 | 0.18 sec.\n",
      "Epoch: 103, loss: 0.0235, acc: 1.0000 | val loss: 0.0076, val acc: 1.0000 | 0.19 sec.\n",
      "Epoch: 104, loss: 0.0228, acc: 1.0000 | val loss: 0.0074, val acc: 1.0000 | 0.18 sec.\n",
      "Epoch: 105, loss: 0.0222, acc: 1.0000 | val loss: 0.0072, val acc: 1.0000 | 0.18 sec.\n",
      "Epoch: 106, loss: 0.0215, acc: 1.0000 | val loss: 0.0070, val acc: 1.0000 | 0.18 sec.\n",
      "Epoch: 107, loss: 0.0208, acc: 1.0000 | val loss: 0.0068, val acc: 1.0000 | 0.18 sec.\n",
      "Epoch: 108, loss: 0.0202, acc: 1.0000 | val loss: 0.0066, val acc: 1.0000 | 0.18 sec.\n",
      "Epoch: 109, loss: 0.0197, acc: 1.0000 | val loss: 0.0064, val acc: 1.0000 | 0.19 sec.\n",
      "Epoch: 110, loss: 0.0191, acc: 1.0000 | val loss: 0.0062, val acc: 1.0000 | 0.19 sec.\n",
      "Epoch: 111, loss: 0.0185, acc: 1.0000 | val loss: 0.0060, val acc: 1.0000 | 0.18 sec.\n",
      "Epoch: 112, loss: 0.0180, acc: 1.0000 | val loss: 0.0058, val acc: 1.0000 | 0.18 sec.\n",
      "Epoch: 113, loss: 0.0175, acc: 1.0000 | val loss: 0.0057, val acc: 1.0000 | 0.18 sec.\n",
      "Epoch: 114, loss: 0.0170, acc: 1.0000 | val loss: 0.0055, val acc: 1.0000 | 0.19 sec.\n",
      "Epoch: 115, loss: 0.0165, acc: 1.0000 | val loss: 0.0054, val acc: 1.0000 | 0.18 sec.\n",
      "Epoch: 116, loss: 0.0161, acc: 1.0000 | val loss: 0.0052, val acc: 1.0000 | 0.19 sec.\n",
      "Epoch: 117, loss: 0.0156, acc: 1.0000 | val loss: 0.0051, val acc: 1.0000 | 0.18 sec.\n",
      "Epoch: 118, loss: 0.0152, acc: 1.0000 | val loss: 0.0049, val acc: 1.0000 | 0.18 sec.\n",
      "Epoch: 119, loss: 0.0148, acc: 1.0000 | val loss: 0.0048, val acc: 1.0000 | 0.18 sec.\n",
      "Epoch: 120, loss: 0.0143, acc: 1.0000 | val loss: 0.0047, val acc: 1.0000 | 0.19 sec.\n",
      "Epoch: 121, loss: 0.0140, acc: 1.0000 | val loss: 0.0045, val acc: 1.0000 | 0.19 sec.\n",
      "Epoch: 122, loss: 0.0136, acc: 1.0000 | val loss: 0.0044, val acc: 1.0000 | 0.18 sec.\n",
      "Epoch: 123, loss: 0.0132, acc: 1.0000 | val loss: 0.0043, val acc: 1.0000 | 0.18 sec.\n",
      "Epoch: 124, loss: 0.0128, acc: 1.0000 | val loss: 0.0042, val acc: 1.0000 | 0.18 sec.\n",
      "Epoch: 125, loss: 0.0125, acc: 1.0000 | val loss: 0.0041, val acc: 1.0000 | 0.19 sec.\n",
      "Epoch: 126, loss: 0.0122, acc: 1.0000 | val loss: 0.0040, val acc: 1.0000 | 0.18 sec.\n",
      "Epoch: 127, loss: 0.0119, acc: 1.0000 | val loss: 0.0038, val acc: 1.0000 | 0.19 sec.\n",
      "Epoch: 128, loss: 0.0115, acc: 1.0000 | val loss: 0.0037, val acc: 1.0000 | 0.18 sec.\n",
      "Epoch: 129, loss: 0.0112, acc: 1.0000 | val loss: 0.0036, val acc: 1.0000 | 0.18 sec.\n",
      "Epoch: 130, loss: 0.0109, acc: 1.0000 | val loss: 0.0035, val acc: 1.0000 | 0.18 sec.\n",
      "Epoch: 131, loss: 0.0106, acc: 1.0000 | val loss: 0.0035, val acc: 1.0000 | 0.18 sec.\n",
      "Epoch: 132, loss: 0.0104, acc: 1.0000 | val loss: 0.0034, val acc: 1.0000 | 0.18 sec.\n",
      "Epoch: 133, loss: 0.0101, acc: 1.0000 | val loss: 0.0033, val acc: 1.0000 | 0.18 sec.\n",
      "Epoch: 134, loss: 0.0098, acc: 1.0000 | val loss: 0.0032, val acc: 1.0000 | 0.18 sec.\n",
      "Epoch: 135, loss: 0.0096, acc: 1.0000 | val loss: 0.0031, val acc: 1.0000 | 0.18 sec.\n",
      "Epoch: 136, loss: 0.0093, acc: 1.0000 | val loss: 0.0030, val acc: 1.0000 | 0.19 sec.\n",
      "Epoch: 137, loss: 0.0091, acc: 1.0000 | val loss: 0.0030, val acc: 1.0000 | 0.18 sec.\n",
      "Epoch: 138, loss: 0.0088, acc: 1.0000 | val loss: 0.0029, val acc: 1.0000 | 0.18 sec.\n",
      "Epoch: 139, loss: 0.0086, acc: 1.0000 | val loss: 0.0028, val acc: 1.0000 | 0.18 sec.\n",
      "Epoch: 140, loss: 0.0084, acc: 1.0000 | val loss: 0.0027, val acc: 1.0000 | 0.18 sec.\n",
      "Epoch: 141, loss: 0.0082, acc: 1.0000 | val loss: 0.0027, val acc: 1.0000 | 0.18 sec.\n",
      "Epoch: 142, loss: 0.0080, acc: 1.0000 | val loss: 0.0026, val acc: 1.0000 | 0.20 sec.\n",
      "Epoch: 143, loss: 0.0078, acc: 1.0000 | val loss: 0.0025, val acc: 1.0000 | 0.19 sec.\n",
      "Epoch: 144, loss: 0.0076, acc: 1.0000 | val loss: 0.0025, val acc: 1.0000 | 0.18 sec.\n",
      "Epoch: 145, loss: 0.0074, acc: 1.0000 | val loss: 0.0024, val acc: 1.0000 | 0.19 sec.\n",
      "Epoch: 146, loss: 0.0072, acc: 1.0000 | val loss: 0.0023, val acc: 1.0000 | 0.18 sec.\n",
      "Epoch: 147, loss: 0.0070, acc: 1.0000 | val loss: 0.0023, val acc: 1.0000 | 0.19 sec.\n",
      "Epoch: 148, loss: 0.0068, acc: 1.0000 | val loss: 0.0022, val acc: 1.0000 | 0.19 sec.\n",
      "Epoch: 149, loss: 0.0067, acc: 1.0000 | val loss: 0.0022, val acc: 1.0000 | 0.18 sec.\n",
      "Epoch: 150, loss: 0.0065, acc: 1.0000 | val loss: 0.0021, val acc: 1.0000 | 0.18 sec.\n",
      "Epoch: 151, loss: 0.0063, acc: 1.0000 | val loss: 0.0020, val acc: 1.0000 | 0.18 sec.\n",
      "Epoch: 152, loss: 0.0062, acc: 1.0000 | val loss: 0.0020, val acc: 1.0000 | 0.18 sec.\n",
      "Epoch: 153, loss: 0.0060, acc: 1.0000 | val loss: 0.0020, val acc: 1.0000 | 0.19 sec.\n",
      "Epoch: 154, loss: 0.0059, acc: 1.0000 | val loss: 0.0019, val acc: 1.0000 | 0.18 sec.\n",
      "Epoch: 155, loss: 0.0057, acc: 1.0000 | val loss: 0.0019, val acc: 1.0000 | 0.20 sec.\n",
      "Epoch: 156, loss: 0.0056, acc: 1.0000 | val loss: 0.0018, val acc: 1.0000 | 0.18 sec.\n",
      "Epoch: 157, loss: 0.0054, acc: 1.0000 | val loss: 0.0018, val acc: 1.0000 | 0.18 sec.\n",
      "Epoch: 158, loss: 0.0053, acc: 1.0000 | val loss: 0.0017, val acc: 1.0000 | 0.20 sec.\n",
      "Epoch: 159, loss: 0.0052, acc: 1.0000 | val loss: 0.0017, val acc: 1.0000 | 0.18 sec.\n",
      "Epoch: 160, loss: 0.0050, acc: 1.0000 | val loss: 0.0016, val acc: 1.0000 | 0.19 sec.\n",
      "Epoch: 161, loss: 0.0049, acc: 1.0000 | val loss: 0.0016, val acc: 1.0000 | 0.19 sec.\n",
      "Epoch: 162, loss: 0.0048, acc: 1.0000 | val loss: 0.0016, val acc: 1.0000 | 0.18 sec.\n",
      "Epoch: 163, loss: 0.0047, acc: 1.0000 | val loss: 0.0015, val acc: 1.0000 | 0.19 sec.\n",
      "Epoch: 164, loss: 0.0046, acc: 1.0000 | val loss: 0.0015, val acc: 1.0000 | 0.19 sec.\n",
      "Epoch: 165, loss: 0.0045, acc: 1.0000 | val loss: 0.0014, val acc: 1.0000 | 0.20 sec.\n",
      "Epoch: 166, loss: 0.0043, acc: 1.0000 | val loss: 0.0014, val acc: 1.0000 | 0.18 sec.\n",
      "Epoch: 167, loss: 0.0042, acc: 1.0000 | val loss: 0.0014, val acc: 1.0000 | 0.18 sec.\n",
      "Epoch: 168, loss: 0.0041, acc: 1.0000 | val loss: 0.0013, val acc: 1.0000 | 0.18 sec.\n",
      "Epoch: 169, loss: 0.0040, acc: 1.0000 | val loss: 0.0013, val acc: 1.0000 | 0.19 sec.\n",
      "Epoch: 170, loss: 0.0039, acc: 1.0000 | val loss: 0.0013, val acc: 1.0000 | 0.19 sec.\n",
      "Epoch: 171, loss: 0.0038, acc: 1.0000 | val loss: 0.0012, val acc: 1.0000 | 0.18 sec.\n",
      "Epoch: 172, loss: 0.0037, acc: 1.0000 | val loss: 0.0012, val acc: 1.0000 | 0.18 sec.\n",
      "Epoch: 173, loss: 0.0036, acc: 1.0000 | val loss: 0.0012, val acc: 1.0000 | 0.19 sec.\n",
      "Epoch: 174, loss: 0.0036, acc: 1.0000 | val loss: 0.0012, val acc: 1.0000 | 0.18 sec.\n",
      "Epoch: 175, loss: 0.0035, acc: 1.0000 | val loss: 0.0011, val acc: 1.0000 | 0.19 sec.\n",
      "Epoch: 176, loss: 0.0034, acc: 1.0000 | val loss: 0.0011, val acc: 1.0000 | 0.18 sec.\n",
      "Epoch: 177, loss: 0.0033, acc: 1.0000 | val loss: 0.0011, val acc: 1.0000 | 0.18 sec.\n",
      "Epoch: 178, loss: 0.0032, acc: 1.0000 | val loss: 0.0010, val acc: 1.0000 | 0.18 sec.\n",
      "Epoch: 179, loss: 0.0032, acc: 1.0000 | val loss: 0.0010, val acc: 1.0000 | 0.19 sec.\n",
      "Epoch: 180, loss: 0.0031, acc: 1.0000 | val loss: 0.0010, val acc: 1.0000 | 0.19 sec.\n",
      "Epoch: 181, loss: 0.0030, acc: 1.0000 | val loss: 0.0010, val acc: 1.0000 | 0.19 sec.\n",
      "Epoch: 182, loss: 0.0029, acc: 1.0000 | val loss: 0.0009, val acc: 1.0000 | 0.19 sec.\n",
      "Epoch: 183, loss: 0.0029, acc: 1.0000 | val loss: 0.0009, val acc: 1.0000 | 0.18 sec.\n",
      "Epoch: 184, loss: 0.0028, acc: 1.0000 | val loss: 0.0009, val acc: 1.0000 | 0.19 sec.\n",
      "Epoch: 185, loss: 0.0027, acc: 1.0000 | val loss: 0.0009, val acc: 1.0000 | 0.18 sec.\n",
      "Epoch: 186, loss: 0.0027, acc: 1.0000 | val loss: 0.0009, val acc: 1.0000 | 0.19 sec.\n",
      "Epoch: 187, loss: 0.0026, acc: 1.0000 | val loss: 0.0008, val acc: 1.0000 | 0.19 sec.\n",
      "Epoch: 188, loss: 0.0025, acc: 1.0000 | val loss: 0.0008, val acc: 1.0000 | 0.18 sec.\n",
      "Epoch: 189, loss: 0.0025, acc: 1.0000 | val loss: 0.0008, val acc: 1.0000 | 0.18 sec.\n",
      "Epoch: 190, loss: 0.0024, acc: 1.0000 | val loss: 0.0008, val acc: 1.0000 | 0.18 sec.\n",
      "Epoch: 191, loss: 0.0024, acc: 1.0000 | val loss: 0.0008, val acc: 1.0000 | 0.19 sec.\n",
      "Epoch: 192, loss: 0.0023, acc: 1.0000 | val loss: 0.0007, val acc: 1.0000 | 0.18 sec.\n",
      "Epoch: 193, loss: 0.0022, acc: 1.0000 | val loss: 0.0007, val acc: 1.0000 | 0.18 sec.\n",
      "Epoch: 194, loss: 0.0022, acc: 1.0000 | val loss: 0.0007, val acc: 1.0000 | 0.18 sec.\n",
      "Epoch: 195, loss: 0.0021, acc: 1.0000 | val loss: 0.0007, val acc: 1.0000 | 0.19 sec.\n",
      "Epoch: 196, loss: 0.0021, acc: 1.0000 | val loss: 0.0007, val acc: 1.0000 | 0.19 sec.\n",
      "Epoch: 197, loss: 0.0020, acc: 1.0000 | val loss: 0.0007, val acc: 1.0000 | 0.19 sec.\n",
      "Epoch: 198, loss: 0.0020, acc: 1.0000 | val loss: 0.0006, val acc: 1.0000 | 0.18 sec.\n",
      "Epoch: 199, loss: 0.0019, acc: 1.0000 | val loss: 0.0006, val acc: 1.0000 | 0.18 sec.\n"
     ]
    }
   ],
   "source": [
    "train_model(simple_rnn, criterion, optimizer, train_dl, val_dl, 200)"
   ],
   "metadata": {
    "pycharm": {
     "name": "#%%\n"
    },
    "colab": {
     "base_uri": "https://localhost:8080/"
    },
    "id": "nvtQpRSH8KeY",
    "executionInfo": {
     "status": "ok",
     "timestamp": 1663527736541,
     "user_tz": -180,
     "elapsed": 38512,
     "user": {
      "displayName": "Egor Tarutin",
      "userId": "17854723859889032284"
     }
    },
    "outputId": "968aa63e-cabc-47b3-f0cf-8481abded00c"
   }
  },
  {
   "cell_type": "code",
   "execution_count": 43,
   "outputs": [
    {
     "output_type": "stream",
     "name": "stdout",
     "text": [
      "test loss: 0.0006, test acc: 1.0000\n"
     ]
    }
   ],
   "source": [
    "test_model(simple_rnn, test_dl)"
   ],
   "metadata": {
    "pycharm": {
     "name": "#%%\n"
    },
    "colab": {
     "base_uri": "https://localhost:8080/"
    },
    "id": "s_oG7qie8Keg",
    "executionInfo": {
     "status": "ok",
     "timestamp": 1663527742241,
     "user_tz": -180,
     "elapsed": 442,
     "user": {
      "displayName": "Egor Tarutin",
      "userId": "17854723859889032284"
     }
    },
    "outputId": "6fe22e71-4944-4fed-da74-2de8c35610fd"
   }
  },
  {
   "cell_type": "code",
   "execution_count": 44,
   "outputs": [],
   "source": [
    "lstm_model = RNNSec2Sec(torch.nn.LSTM)\n",
    "criterion = torch.nn.CrossEntropyLoss()\n",
    "optimizer = torch.optim.Adam(lstm_model.parameters(), lr=0.005)"
   ],
   "metadata": {
    "pycharm": {
     "name": "#%%\n"
    },
    "id": "z5VfLHyR8Kej",
    "executionInfo": {
     "status": "ok",
     "timestamp": 1663527790824,
     "user_tz": -180,
     "elapsed": 463,
     "user": {
      "displayName": "Egor Tarutin",
      "userId": "17854723859889032284"
     }
    }
   }
  },
  {
   "cell_type": "code",
   "source": [
    "lstm_model.to(device)\n",
    "criterion.to(device)"
   ],
   "metadata": {
    "colab": {
     "base_uri": "https://localhost:8080/"
    },
    "id": "XJa5_MdX-wUn",
    "executionInfo": {
     "status": "ok",
     "timestamp": 1663527793259,
     "user_tz": -180,
     "elapsed": 5,
     "user": {
      "displayName": "Egor Tarutin",
      "userId": "17854723859889032284"
     }
    },
    "outputId": "1e81ad98-0e80-4425-c0a6-ea1e60f330fb",
    "pycharm": {
     "name": "#%%\n"
    }
   },
   "execution_count": 45,
   "outputs": [
    {
     "output_type": "execute_result",
     "data": {
      "text/plain": [
       "CrossEntropyLoss()"
      ]
     },
     "metadata": {},
     "execution_count": 45
    }
   ]
  },
  {
   "cell_type": "code",
   "execution_count": 46,
   "outputs": [
    {
     "output_type": "stream",
     "name": "stdout",
     "text": [
      "Epoch: 0, loss: 103.7128, acc: 0.1151 | val loss: 33.2853, val acc: 0.1206 | 0.35 sec.\n",
      "Epoch: 1, loss: 101.2821, acc: 0.1336 | val loss: 32.1662, val acc: 0.1915 | 0.25 sec.\n",
      "Epoch: 2, loss: 82.5427, acc: 0.2308 | val loss: 23.8902, val acc: 0.2483 | 0.25 sec.\n",
      "Epoch: 3, loss: 68.9288, acc: 0.2721 | val loss: 21.5153, val acc: 0.3398 | 0.25 sec.\n",
      "Epoch: 4, loss: 52.7665, acc: 0.5433 | val loss: 11.4689, val acc: 0.7154 | 0.25 sec.\n",
      "Epoch: 5, loss: 24.3121, acc: 0.7672 | val loss: 5.0236, val acc: 0.8148 | 0.25 sec.\n",
      "Epoch: 6, loss: 7.8730, acc: 0.9479 | val loss: 0.6136, val acc: 1.0000 | 0.25 sec.\n",
      "Epoch: 7, loss: 1.0581, acc: 1.0000 | val loss: 0.2081, val acc: 1.0000 | 0.24 sec.\n",
      "Epoch: 8, loss: 0.5011, acc: 1.0000 | val loss: 0.1267, val acc: 1.0000 | 0.25 sec.\n",
      "Epoch: 9, loss: 0.3294, acc: 1.0000 | val loss: 0.0891, val acc: 1.0000 | 0.24 sec.\n",
      "Epoch: 10, loss: 0.2417, acc: 1.0000 | val loss: 0.0682, val acc: 1.0000 | 0.25 sec.\n",
      "Epoch: 11, loss: 0.1885, acc: 1.0000 | val loss: 0.0544, val acc: 1.0000 | 0.25 sec.\n",
      "Epoch: 12, loss: 0.1526, acc: 1.0000 | val loss: 0.0447, val acc: 1.0000 | 0.25 sec.\n",
      "Epoch: 13, loss: 0.1269, acc: 1.0000 | val loss: 0.0376, val acc: 1.0000 | 0.24 sec.\n",
      "Epoch: 14, loss: 0.1076, acc: 1.0000 | val loss: 0.0321, val acc: 1.0000 | 0.25 sec.\n",
      "Epoch: 15, loss: 0.0928, acc: 1.0000 | val loss: 0.0279, val acc: 1.0000 | 0.25 sec.\n",
      "Epoch: 16, loss: 0.0811, acc: 1.0000 | val loss: 0.0245, val acc: 1.0000 | 0.25 sec.\n",
      "Epoch: 17, loss: 0.0717, acc: 1.0000 | val loss: 0.0218, val acc: 1.0000 | 0.24 sec.\n",
      "Epoch: 18, loss: 0.0639, acc: 1.0000 | val loss: 0.0195, val acc: 1.0000 | 0.25 sec.\n",
      "Epoch: 19, loss: 0.0574, acc: 1.0000 | val loss: 0.0176, val acc: 1.0000 | 0.25 sec.\n",
      "Epoch: 20, loss: 0.0519, acc: 1.0000 | val loss: 0.0160, val acc: 1.0000 | 0.24 sec.\n",
      "Epoch: 21, loss: 0.0471, acc: 1.0000 | val loss: 0.0145, val acc: 1.0000 | 0.24 sec.\n",
      "Epoch: 22, loss: 0.0431, acc: 1.0000 | val loss: 0.0133, val acc: 1.0000 | 0.25 sec.\n",
      "Epoch: 23, loss: 0.0395, acc: 1.0000 | val loss: 0.0122, val acc: 1.0000 | 0.25 sec.\n",
      "Epoch: 24, loss: 0.0364, acc: 1.0000 | val loss: 0.0113, val acc: 1.0000 | 0.24 sec.\n",
      "Epoch: 25, loss: 0.0336, acc: 1.0000 | val loss: 0.0104, val acc: 1.0000 | 0.25 sec.\n",
      "Epoch: 26, loss: 0.0311, acc: 1.0000 | val loss: 0.0097, val acc: 1.0000 | 0.24 sec.\n",
      "Epoch: 27, loss: 0.0289, acc: 1.0000 | val loss: 0.0090, val acc: 1.0000 | 0.25 sec.\n",
      "Epoch: 28, loss: 0.0270, acc: 1.0000 | val loss: 0.0084, val acc: 1.0000 | 0.24 sec.\n",
      "Epoch: 29, loss: 0.0252, acc: 1.0000 | val loss: 0.0079, val acc: 1.0000 | 0.25 sec.\n",
      "Epoch: 30, loss: 0.0236, acc: 1.0000 | val loss: 0.0074, val acc: 1.0000 | 0.24 sec.\n",
      "Epoch: 31, loss: 0.0221, acc: 1.0000 | val loss: 0.0069, val acc: 1.0000 | 0.25 sec.\n",
      "Epoch: 32, loss: 0.0208, acc: 1.0000 | val loss: 0.0065, val acc: 1.0000 | 0.24 sec.\n",
      "Epoch: 33, loss: 0.0196, acc: 1.0000 | val loss: 0.0062, val acc: 1.0000 | 0.25 sec.\n",
      "Epoch: 34, loss: 0.0185, acc: 1.0000 | val loss: 0.0058, val acc: 1.0000 | 0.25 sec.\n",
      "Epoch: 35, loss: 0.0174, acc: 1.0000 | val loss: 0.0055, val acc: 1.0000 | 0.25 sec.\n",
      "Epoch: 36, loss: 0.0165, acc: 1.0000 | val loss: 0.0052, val acc: 1.0000 | 0.25 sec.\n",
      "Epoch: 37, loss: 0.0156, acc: 1.0000 | val loss: 0.0049, val acc: 1.0000 | 0.24 sec.\n",
      "Epoch: 38, loss: 0.0148, acc: 1.0000 | val loss: 0.0047, val acc: 1.0000 | 0.25 sec.\n",
      "Epoch: 39, loss: 0.0141, acc: 1.0000 | val loss: 0.0045, val acc: 1.0000 | 0.25 sec.\n",
      "Epoch: 40, loss: 0.0134, acc: 1.0000 | val loss: 0.0042, val acc: 1.0000 | 0.25 sec.\n",
      "Epoch: 41, loss: 0.0127, acc: 1.0000 | val loss: 0.0040, val acc: 1.0000 | 0.25 sec.\n",
      "Epoch: 42, loss: 0.0121, acc: 1.0000 | val loss: 0.0039, val acc: 1.0000 | 0.24 sec.\n",
      "Epoch: 43, loss: 0.0116, acc: 1.0000 | val loss: 0.0037, val acc: 1.0000 | 0.25 sec.\n",
      "Epoch: 44, loss: 0.0110, acc: 1.0000 | val loss: 0.0035, val acc: 1.0000 | 0.25 sec.\n",
      "Epoch: 45, loss: 0.0106, acc: 1.0000 | val loss: 0.0033, val acc: 1.0000 | 0.24 sec.\n",
      "Epoch: 46, loss: 0.0101, acc: 1.0000 | val loss: 0.0032, val acc: 1.0000 | 0.25 sec.\n",
      "Epoch: 47, loss: 0.0097, acc: 1.0000 | val loss: 0.0031, val acc: 1.0000 | 0.25 sec.\n",
      "Epoch: 48, loss: 0.0092, acc: 1.0000 | val loss: 0.0029, val acc: 1.0000 | 0.25 sec.\n",
      "Epoch: 49, loss: 0.0088, acc: 1.0000 | val loss: 0.0028, val acc: 1.0000 | 0.24 sec.\n",
      "Epoch: 50, loss: 0.0085, acc: 1.0000 | val loss: 0.0027, val acc: 1.0000 | 0.25 sec.\n",
      "Epoch: 51, loss: 0.0081, acc: 1.0000 | val loss: 0.0026, val acc: 1.0000 | 0.25 sec.\n",
      "Epoch: 52, loss: 0.0078, acc: 1.0000 | val loss: 0.0025, val acc: 1.0000 | 0.25 sec.\n",
      "Epoch: 53, loss: 0.0075, acc: 1.0000 | val loss: 0.0024, val acc: 1.0000 | 0.25 sec.\n",
      "Epoch: 54, loss: 0.0072, acc: 1.0000 | val loss: 0.0023, val acc: 1.0000 | 0.24 sec.\n",
      "Epoch: 55, loss: 0.0069, acc: 1.0000 | val loss: 0.0022, val acc: 1.0000 | 0.25 sec.\n",
      "Epoch: 56, loss: 0.0067, acc: 1.0000 | val loss: 0.0021, val acc: 1.0000 | 0.24 sec.\n",
      "Epoch: 57, loss: 0.0064, acc: 1.0000 | val loss: 0.0020, val acc: 1.0000 | 0.25 sec.\n",
      "Epoch: 58, loss: 0.0062, acc: 1.0000 | val loss: 0.0020, val acc: 1.0000 | 0.25 sec.\n",
      "Epoch: 59, loss: 0.0059, acc: 1.0000 | val loss: 0.0019, val acc: 1.0000 | 0.25 sec.\n",
      "Epoch: 60, loss: 0.0057, acc: 1.0000 | val loss: 0.0018, val acc: 1.0000 | 0.25 sec.\n",
      "Epoch: 61, loss: 0.0055, acc: 1.0000 | val loss: 0.0018, val acc: 1.0000 | 0.25 sec.\n",
      "Epoch: 62, loss: 0.0053, acc: 1.0000 | val loss: 0.0017, val acc: 1.0000 | 0.25 sec.\n",
      "Epoch: 63, loss: 0.0051, acc: 1.0000 | val loss: 0.0016, val acc: 1.0000 | 0.25 sec.\n",
      "Epoch: 64, loss: 0.0050, acc: 1.0000 | val loss: 0.0016, val acc: 1.0000 | 0.25 sec.\n",
      "Epoch: 65, loss: 0.0048, acc: 1.0000 | val loss: 0.0015, val acc: 1.0000 | 0.24 sec.\n",
      "Epoch: 66, loss: 0.0046, acc: 1.0000 | val loss: 0.0015, val acc: 1.0000 | 0.25 sec.\n",
      "Epoch: 67, loss: 0.0045, acc: 1.0000 | val loss: 0.0014, val acc: 1.0000 | 0.24 sec.\n",
      "Epoch: 68, loss: 0.0043, acc: 1.0000 | val loss: 0.0014, val acc: 1.0000 | 0.26 sec.\n",
      "Epoch: 69, loss: 0.0042, acc: 1.0000 | val loss: 0.0013, val acc: 1.0000 | 0.24 sec.\n",
      "Epoch: 70, loss: 0.0040, acc: 1.0000 | val loss: 0.0013, val acc: 1.0000 | 0.25 sec.\n",
      "Epoch: 71, loss: 0.0039, acc: 1.0000 | val loss: 0.0012, val acc: 1.0000 | 0.25 sec.\n",
      "Epoch: 72, loss: 0.0038, acc: 1.0000 | val loss: 0.0012, val acc: 1.0000 | 0.25 sec.\n",
      "Epoch: 73, loss: 0.0036, acc: 1.0000 | val loss: 0.0012, val acc: 1.0000 | 0.25 sec.\n",
      "Epoch: 74, loss: 0.0035, acc: 1.0000 | val loss: 0.0011, val acc: 1.0000 | 0.25 sec.\n",
      "Epoch: 75, loss: 0.0034, acc: 1.0000 | val loss: 0.0011, val acc: 1.0000 | 0.25 sec.\n",
      "Epoch: 76, loss: 0.0033, acc: 1.0000 | val loss: 0.0011, val acc: 1.0000 | 0.25 sec.\n",
      "Epoch: 77, loss: 0.0032, acc: 1.0000 | val loss: 0.0010, val acc: 1.0000 | 0.25 sec.\n",
      "Epoch: 78, loss: 0.0031, acc: 1.0000 | val loss: 0.0010, val acc: 1.0000 | 0.25 sec.\n",
      "Epoch: 79, loss: 0.0030, acc: 1.0000 | val loss: 0.0010, val acc: 1.0000 | 0.25 sec.\n",
      "Epoch: 80, loss: 0.0029, acc: 1.0000 | val loss: 0.0009, val acc: 1.0000 | 0.25 sec.\n",
      "Epoch: 81, loss: 0.0028, acc: 1.0000 | val loss: 0.0009, val acc: 1.0000 | 0.24 sec.\n",
      "Epoch: 82, loss: 0.0027, acc: 1.0000 | val loss: 0.0009, val acc: 1.0000 | 0.24 sec.\n",
      "Epoch: 83, loss: 0.0026, acc: 1.0000 | val loss: 0.0008, val acc: 1.0000 | 0.24 sec.\n",
      "Epoch: 84, loss: 0.0026, acc: 1.0000 | val loss: 0.0008, val acc: 1.0000 | 0.25 sec.\n",
      "Epoch: 85, loss: 0.0025, acc: 1.0000 | val loss: 0.0008, val acc: 1.0000 | 0.24 sec.\n",
      "Epoch: 86, loss: 0.0024, acc: 1.0000 | val loss: 0.0008, val acc: 1.0000 | 0.25 sec.\n",
      "Epoch: 87, loss: 0.0023, acc: 1.0000 | val loss: 0.0008, val acc: 1.0000 | 0.24 sec.\n",
      "Epoch: 88, loss: 0.0023, acc: 1.0000 | val loss: 0.0007, val acc: 1.0000 | 0.25 sec.\n",
      "Epoch: 89, loss: 0.0022, acc: 1.0000 | val loss: 0.0007, val acc: 1.0000 | 0.25 sec.\n",
      "Epoch: 90, loss: 0.0021, acc: 1.0000 | val loss: 0.0007, val acc: 1.0000 | 0.24 sec.\n",
      "Epoch: 91, loss: 0.0021, acc: 1.0000 | val loss: 0.0007, val acc: 1.0000 | 0.24 sec.\n",
      "Epoch: 92, loss: 0.0020, acc: 1.0000 | val loss: 0.0006, val acc: 1.0000 | 0.25 sec.\n",
      "Epoch: 93, loss: 0.0020, acc: 1.0000 | val loss: 0.0006, val acc: 1.0000 | 0.24 sec.\n",
      "Epoch: 94, loss: 0.0019, acc: 1.0000 | val loss: 0.0006, val acc: 1.0000 | 0.24 sec.\n",
      "Epoch: 95, loss: 0.0018, acc: 1.0000 | val loss: 0.0006, val acc: 1.0000 | 0.24 sec.\n",
      "Epoch: 96, loss: 0.0018, acc: 1.0000 | val loss: 0.0006, val acc: 1.0000 | 0.25 sec.\n",
      "Epoch: 97, loss: 0.0017, acc: 1.0000 | val loss: 0.0006, val acc: 1.0000 | 0.25 sec.\n",
      "Epoch: 98, loss: 0.0017, acc: 1.0000 | val loss: 0.0005, val acc: 1.0000 | 0.24 sec.\n",
      "Epoch: 99, loss: 0.0016, acc: 1.0000 | val loss: 0.0005, val acc: 1.0000 | 0.25 sec.\n",
      "Epoch: 100, loss: 0.0016, acc: 1.0000 | val loss: 0.0005, val acc: 1.0000 | 0.25 sec.\n",
      "Epoch: 101, loss: 0.0016, acc: 1.0000 | val loss: 0.0005, val acc: 1.0000 | 0.25 sec.\n",
      "Epoch: 102, loss: 0.0015, acc: 1.0000 | val loss: 0.0005, val acc: 1.0000 | 0.24 sec.\n",
      "Epoch: 103, loss: 0.0015, acc: 1.0000 | val loss: 0.0005, val acc: 1.0000 | 0.24 sec.\n",
      "Epoch: 104, loss: 0.0014, acc: 1.0000 | val loss: 0.0005, val acc: 1.0000 | 0.24 sec.\n",
      "Epoch: 105, loss: 0.0014, acc: 1.0000 | val loss: 0.0004, val acc: 1.0000 | 0.24 sec.\n",
      "Epoch: 106, loss: 0.0014, acc: 1.0000 | val loss: 0.0004, val acc: 1.0000 | 0.24 sec.\n",
      "Epoch: 107, loss: 0.0013, acc: 1.0000 | val loss: 0.0004, val acc: 1.0000 | 0.24 sec.\n",
      "Epoch: 108, loss: 0.0013, acc: 1.0000 | val loss: 0.0004, val acc: 1.0000 | 0.24 sec.\n",
      "Epoch: 109, loss: 0.0012, acc: 1.0000 | val loss: 0.0004, val acc: 1.0000 | 0.24 sec.\n",
      "Epoch: 110, loss: 0.0012, acc: 1.0000 | val loss: 0.0004, val acc: 1.0000 | 0.24 sec.\n",
      "Epoch: 111, loss: 0.0012, acc: 1.0000 | val loss: 0.0004, val acc: 1.0000 | 0.24 sec.\n",
      "Epoch: 112, loss: 0.0011, acc: 1.0000 | val loss: 0.0004, val acc: 1.0000 | 0.24 sec.\n",
      "Epoch: 113, loss: 0.0011, acc: 1.0000 | val loss: 0.0004, val acc: 1.0000 | 0.25 sec.\n",
      "Epoch: 114, loss: 0.0011, acc: 1.0000 | val loss: 0.0003, val acc: 1.0000 | 0.25 sec.\n",
      "Epoch: 115, loss: 0.0011, acc: 1.0000 | val loss: 0.0003, val acc: 1.0000 | 0.25 sec.\n",
      "Epoch: 116, loss: 0.0010, acc: 1.0000 | val loss: 0.0003, val acc: 1.0000 | 0.26 sec.\n",
      "Epoch: 117, loss: 0.0010, acc: 1.0000 | val loss: 0.0003, val acc: 1.0000 | 0.26 sec.\n",
      "Epoch: 118, loss: 0.0010, acc: 1.0000 | val loss: 0.0003, val acc: 1.0000 | 0.25 sec.\n",
      "Epoch: 119, loss: 0.0010, acc: 1.0000 | val loss: 0.0003, val acc: 1.0000 | 0.25 sec.\n",
      "Epoch: 120, loss: 0.0009, acc: 1.0000 | val loss: 0.0003, val acc: 1.0000 | 0.24 sec.\n",
      "Epoch: 121, loss: 0.0009, acc: 1.0000 | val loss: 0.0003, val acc: 1.0000 | 0.25 sec.\n",
      "Epoch: 122, loss: 0.0009, acc: 1.0000 | val loss: 0.0003, val acc: 1.0000 | 0.24 sec.\n",
      "Epoch: 123, loss: 0.0009, acc: 1.0000 | val loss: 0.0003, val acc: 1.0000 | 0.24 sec.\n",
      "Epoch: 124, loss: 0.0008, acc: 1.0000 | val loss: 0.0003, val acc: 1.0000 | 0.25 sec.\n",
      "Epoch: 125, loss: 0.0008, acc: 1.0000 | val loss: 0.0003, val acc: 1.0000 | 0.25 sec.\n",
      "Epoch: 126, loss: 0.0008, acc: 1.0000 | val loss: 0.0003, val acc: 1.0000 | 0.25 sec.\n",
      "Epoch: 127, loss: 0.0008, acc: 1.0000 | val loss: 0.0002, val acc: 1.0000 | 0.25 sec.\n",
      "Epoch: 128, loss: 0.0007, acc: 1.0000 | val loss: 0.0002, val acc: 1.0000 | 0.24 sec.\n",
      "Epoch: 129, loss: 0.0007, acc: 1.0000 | val loss: 0.0002, val acc: 1.0000 | 0.24 sec.\n",
      "Epoch: 130, loss: 0.0007, acc: 1.0000 | val loss: 0.0002, val acc: 1.0000 | 0.25 sec.\n",
      "Epoch: 131, loss: 0.0007, acc: 1.0000 | val loss: 0.0002, val acc: 1.0000 | 0.24 sec.\n",
      "Epoch: 132, loss: 0.0007, acc: 1.0000 | val loss: 0.0002, val acc: 1.0000 | 0.24 sec.\n",
      "Epoch: 133, loss: 0.0007, acc: 1.0000 | val loss: 0.0002, val acc: 1.0000 | 0.25 sec.\n",
      "Epoch: 134, loss: 0.0006, acc: 1.0000 | val loss: 0.0002, val acc: 1.0000 | 0.25 sec.\n",
      "Epoch: 135, loss: 0.0006, acc: 1.0000 | val loss: 0.0002, val acc: 1.0000 | 0.25 sec.\n",
      "Epoch: 136, loss: 0.0006, acc: 1.0000 | val loss: 0.0002, val acc: 1.0000 | 0.24 sec.\n",
      "Epoch: 137, loss: 0.0006, acc: 1.0000 | val loss: 0.0002, val acc: 1.0000 | 0.24 sec.\n",
      "Epoch: 138, loss: 0.0006, acc: 1.0000 | val loss: 0.0002, val acc: 1.0000 | 0.25 sec.\n",
      "Epoch: 139, loss: 0.0006, acc: 1.0000 | val loss: 0.0002, val acc: 1.0000 | 0.25 sec.\n",
      "Epoch: 140, loss: 0.0005, acc: 1.0000 | val loss: 0.0002, val acc: 1.0000 | 0.24 sec.\n",
      "Epoch: 141, loss: 0.0005, acc: 1.0000 | val loss: 0.0002, val acc: 1.0000 | 0.24 sec.\n",
      "Epoch: 142, loss: 0.0005, acc: 1.0000 | val loss: 0.0002, val acc: 1.0000 | 0.25 sec.\n",
      "Epoch: 143, loss: 0.0005, acc: 1.0000 | val loss: 0.0002, val acc: 1.0000 | 0.25 sec.\n",
      "Epoch: 144, loss: 0.0005, acc: 1.0000 | val loss: 0.0002, val acc: 1.0000 | 0.25 sec.\n",
      "Epoch: 145, loss: 0.0005, acc: 1.0000 | val loss: 0.0002, val acc: 1.0000 | 0.25 sec.\n",
      "Epoch: 146, loss: 0.0005, acc: 1.0000 | val loss: 0.0002, val acc: 1.0000 | 0.25 sec.\n",
      "Epoch: 147, loss: 0.0005, acc: 1.0000 | val loss: 0.0001, val acc: 1.0000 | 0.25 sec.\n",
      "Epoch: 148, loss: 0.0004, acc: 1.0000 | val loss: 0.0001, val acc: 1.0000 | 0.24 sec.\n",
      "Epoch: 149, loss: 0.0004, acc: 1.0000 | val loss: 0.0001, val acc: 1.0000 | 0.24 sec.\n",
      "Epoch: 150, loss: 0.0004, acc: 1.0000 | val loss: 0.0001, val acc: 1.0000 | 0.25 sec.\n",
      "Epoch: 151, loss: 0.0004, acc: 1.0000 | val loss: 0.0001, val acc: 1.0000 | 0.25 sec.\n",
      "Epoch: 152, loss: 0.0004, acc: 1.0000 | val loss: 0.0001, val acc: 1.0000 | 0.25 sec.\n",
      "Epoch: 153, loss: 0.0004, acc: 1.0000 | val loss: 0.0001, val acc: 1.0000 | 0.24 sec.\n",
      "Epoch: 154, loss: 0.0004, acc: 1.0000 | val loss: 0.0001, val acc: 1.0000 | 0.25 sec.\n",
      "Epoch: 155, loss: 0.0004, acc: 1.0000 | val loss: 0.0001, val acc: 1.0000 | 0.24 sec.\n",
      "Epoch: 156, loss: 0.0004, acc: 1.0000 | val loss: 0.0001, val acc: 1.0000 | 0.26 sec.\n",
      "Epoch: 157, loss: 0.0004, acc: 1.0000 | val loss: 0.0001, val acc: 1.0000 | 0.24 sec.\n",
      "Epoch: 158, loss: 0.0003, acc: 1.0000 | val loss: 0.0001, val acc: 1.0000 | 0.25 sec.\n",
      "Epoch: 159, loss: 0.0003, acc: 1.0000 | val loss: 0.0001, val acc: 1.0000 | 0.24 sec.\n",
      "Epoch: 160, loss: 0.0003, acc: 1.0000 | val loss: 0.0001, val acc: 1.0000 | 0.24 sec.\n",
      "Epoch: 161, loss: 0.0003, acc: 1.0000 | val loss: 0.0001, val acc: 1.0000 | 0.25 sec.\n",
      "Epoch: 162, loss: 0.0003, acc: 1.0000 | val loss: 0.0001, val acc: 1.0000 | 0.25 sec.\n",
      "Epoch: 163, loss: 0.0003, acc: 1.0000 | val loss: 0.0001, val acc: 1.0000 | 0.25 sec.\n",
      "Epoch: 164, loss: 0.0003, acc: 1.0000 | val loss: 0.0001, val acc: 1.0000 | 0.24 sec.\n",
      "Epoch: 165, loss: 0.0003, acc: 1.0000 | val loss: 0.0001, val acc: 1.0000 | 0.24 sec.\n",
      "Epoch: 166, loss: 0.0003, acc: 1.0000 | val loss: 0.0001, val acc: 1.0000 | 0.24 sec.\n",
      "Epoch: 167, loss: 0.0003, acc: 1.0000 | val loss: 0.0001, val acc: 1.0000 | 0.25 sec.\n",
      "Epoch: 168, loss: 0.0003, acc: 1.0000 | val loss: 0.0001, val acc: 1.0000 | 0.24 sec.\n",
      "Epoch: 169, loss: 0.0003, acc: 1.0000 | val loss: 0.0001, val acc: 1.0000 | 0.24 sec.\n",
      "Epoch: 170, loss: 0.0003, acc: 1.0000 | val loss: 0.0001, val acc: 1.0000 | 0.24 sec.\n",
      "Epoch: 171, loss: 0.0003, acc: 1.0000 | val loss: 0.0001, val acc: 1.0000 | 0.25 sec.\n",
      "Epoch: 172, loss: 0.0002, acc: 1.0000 | val loss: 0.0001, val acc: 1.0000 | 0.25 sec.\n",
      "Epoch: 173, loss: 0.0002, acc: 1.0000 | val loss: 0.0001, val acc: 1.0000 | 0.25 sec.\n",
      "Epoch: 174, loss: 0.0002, acc: 1.0000 | val loss: 0.0001, val acc: 1.0000 | 0.24 sec.\n",
      "Epoch: 175, loss: 0.0002, acc: 1.0000 | val loss: 0.0001, val acc: 1.0000 | 0.25 sec.\n",
      "Epoch: 176, loss: 0.0002, acc: 1.0000 | val loss: 0.0001, val acc: 1.0000 | 0.25 sec.\n",
      "Epoch: 177, loss: 0.0002, acc: 1.0000 | val loss: 0.0001, val acc: 1.0000 | 0.24 sec.\n",
      "Epoch: 178, loss: 0.0002, acc: 1.0000 | val loss: 0.0001, val acc: 1.0000 | 0.24 sec.\n",
      "Epoch: 179, loss: 0.0002, acc: 1.0000 | val loss: 0.0001, val acc: 1.0000 | 0.25 sec.\n",
      "Epoch: 180, loss: 0.0002, acc: 1.0000 | val loss: 0.0001, val acc: 1.0000 | 0.25 sec.\n",
      "Epoch: 181, loss: 0.0002, acc: 1.0000 | val loss: 0.0001, val acc: 1.0000 | 0.25 sec.\n",
      "Epoch: 182, loss: 0.0002, acc: 1.0000 | val loss: 0.0001, val acc: 1.0000 | 0.24 sec.\n",
      "Epoch: 183, loss: 0.0002, acc: 1.0000 | val loss: 0.0001, val acc: 1.0000 | 0.25 sec.\n",
      "Epoch: 184, loss: 0.0002, acc: 1.0000 | val loss: 0.0001, val acc: 1.0000 | 0.25 sec.\n",
      "Epoch: 185, loss: 0.0002, acc: 1.0000 | val loss: 0.0001, val acc: 1.0000 | 0.25 sec.\n",
      "Epoch: 186, loss: 0.0002, acc: 1.0000 | val loss: 0.0001, val acc: 1.0000 | 0.25 sec.\n",
      "Epoch: 187, loss: 0.0002, acc: 1.0000 | val loss: 0.0001, val acc: 1.0000 | 0.25 sec.\n",
      "Epoch: 188, loss: 0.0002, acc: 1.0000 | val loss: 0.0001, val acc: 1.0000 | 0.24 sec.\n",
      "Epoch: 189, loss: 0.0002, acc: 1.0000 | val loss: 0.0001, val acc: 1.0000 | 0.24 sec.\n",
      "Epoch: 190, loss: 0.0002, acc: 1.0000 | val loss: 0.0001, val acc: 1.0000 | 0.24 sec.\n",
      "Epoch: 191, loss: 0.0002, acc: 1.0000 | val loss: 0.0000, val acc: 1.0000 | 0.25 sec.\n",
      "Epoch: 192, loss: 0.0001, acc: 1.0000 | val loss: 0.0000, val acc: 1.0000 | 0.25 sec.\n",
      "Epoch: 193, loss: 0.0001, acc: 1.0000 | val loss: 0.0000, val acc: 1.0000 | 0.25 sec.\n",
      "Epoch: 194, loss: 0.0001, acc: 1.0000 | val loss: 0.0000, val acc: 1.0000 | 0.24 sec.\n",
      "Epoch: 195, loss: 0.0001, acc: 1.0000 | val loss: 0.0000, val acc: 1.0000 | 0.24 sec.\n",
      "Epoch: 196, loss: 0.0001, acc: 1.0000 | val loss: 0.0000, val acc: 1.0000 | 0.25 sec.\n",
      "Epoch: 197, loss: 0.0001, acc: 1.0000 | val loss: 0.0000, val acc: 1.0000 | 0.24 sec.\n",
      "Epoch: 198, loss: 0.0001, acc: 1.0000 | val loss: 0.0000, val acc: 1.0000 | 0.24 sec.\n",
      "Epoch: 199, loss: 0.0001, acc: 1.0000 | val loss: 0.0000, val acc: 1.0000 | 0.24 sec.\n"
     ]
    }
   ],
   "source": [
    "train_model(lstm_model, criterion, optimizer, train_dl, val_dl, 200)"
   ],
   "metadata": {
    "pycharm": {
     "name": "#%%\n"
    },
    "colab": {
     "base_uri": "https://localhost:8080/"
    },
    "id": "CO8vVynE8Kel",
    "executionInfo": {
     "status": "ok",
     "timestamp": 1663527846987,
     "user_tz": -180,
     "elapsed": 49714,
     "user": {
      "displayName": "Egor Tarutin",
      "userId": "17854723859889032284"
     }
    },
    "outputId": "3d68817a-1c13-4bee-e469-52dc4f236ae2"
   }
  },
  {
   "cell_type": "code",
   "execution_count": 47,
   "outputs": [
    {
     "output_type": "stream",
     "name": "stdout",
     "text": [
      "test loss: 0.0000, test acc: 1.0000\n"
     ]
    }
   ],
   "source": [
    "test_model(lstm_model, test_dl)"
   ],
   "metadata": {
    "pycharm": {
     "name": "#%%\n"
    },
    "colab": {
     "base_uri": "https://localhost:8080/"
    },
    "id": "yuIHmCCV8Ken",
    "executionInfo": {
     "status": "ok",
     "timestamp": 1663527850757,
     "user_tz": -180,
     "elapsed": 1071,
     "user": {
      "displayName": "Egor Tarutin",
      "userId": "17854723859889032284"
     }
    },
    "outputId": "dad48dda-edcd-481c-a307-b876e6db22a6"
   }
  },
  {
   "cell_type": "code",
   "execution_count": 48,
   "outputs": [],
   "source": [
    "gru_model = RNNSec2Sec(torch.nn.GRU)\n",
    "criterion = torch.nn.CrossEntropyLoss()\n",
    "optimizer = torch.optim.Adam(gru_model.parameters(), lr=0.005)"
   ],
   "metadata": {
    "pycharm": {
     "name": "#%%\n"
    },
    "id": "JGumyfIN8Keq",
    "executionInfo": {
     "status": "ok",
     "timestamp": 1663527877842,
     "user_tz": -180,
     "elapsed": 6,
     "user": {
      "displayName": "Egor Tarutin",
      "userId": "17854723859889032284"
     }
    }
   }
  },
  {
   "cell_type": "code",
   "source": [
    "gru_model.to(device)\n",
    "criterion.to(device)"
   ],
   "metadata": {
    "colab": {
     "base_uri": "https://localhost:8080/"
    },
    "id": "xbZDfpaL_M6J",
    "executionInfo": {
     "status": "ok",
     "timestamp": 1663527879563,
     "user_tz": -180,
     "elapsed": 3,
     "user": {
      "displayName": "Egor Tarutin",
      "userId": "17854723859889032284"
     }
    },
    "outputId": "16a4e1e0-df6b-48fd-b804-dbdbce571d32",
    "pycharm": {
     "name": "#%%\n"
    }
   },
   "execution_count": 49,
   "outputs": [
    {
     "output_type": "execute_result",
     "data": {
      "text/plain": [
       "CrossEntropyLoss()"
      ]
     },
     "metadata": {},
     "execution_count": 49
    }
   ]
  },
  {
   "cell_type": "code",
   "source": [
    "train_model(gru_model, criterion, optimizer, train_dl, val_dl, 200)"
   ],
   "metadata": {
    "colab": {
     "base_uri": "https://localhost:8080/"
    },
    "id": "4rlw0T6E_TAa",
    "executionInfo": {
     "status": "ok",
     "timestamp": 1663527958894,
     "user_tz": -180,
     "elapsed": 42639,
     "user": {
      "displayName": "Egor Tarutin",
      "userId": "17854723859889032284"
     }
    },
    "outputId": "78442d7b-7d84-451f-89ec-cf8463c05159",
    "pycharm": {
     "name": "#%%\n"
    }
   },
   "execution_count": 50,
   "outputs": [
    {
     "output_type": "stream",
     "name": "stdout",
     "text": [
      "Epoch: 0, loss: 103.8920, acc: 0.1128 | val loss: 33.4055, val acc: 0.1245 | 0.29 sec.\n",
      "Epoch: 1, loss: 101.8603, acc: 0.1251 | val loss: 33.0293, val acc: 0.1343 | 0.24 sec.\n",
      "Epoch: 2, loss: 93.0302, acc: 0.2165 | val loss: 21.1063, val acc: 0.5227 | 0.22 sec.\n",
      "Epoch: 3, loss: 22.8142, acc: 0.8869 | val loss: 0.6613, val acc: 0.9998 | 0.21 sec.\n",
      "Epoch: 4, loss: 0.9701, acc: 1.0000 | val loss: 0.1689, val acc: 1.0000 | 0.22 sec.\n",
      "Epoch: 5, loss: 0.3963, acc: 1.0000 | val loss: 0.0977, val acc: 1.0000 | 0.21 sec.\n",
      "Epoch: 6, loss: 0.2502, acc: 1.0000 | val loss: 0.0670, val acc: 1.0000 | 0.23 sec.\n",
      "Epoch: 7, loss: 0.1778, acc: 1.0000 | val loss: 0.0495, val acc: 1.0000 | 0.21 sec.\n",
      "Epoch: 8, loss: 0.1348, acc: 1.0000 | val loss: 0.0385, val acc: 1.0000 | 0.21 sec.\n",
      "Epoch: 9, loss: 0.1066, acc: 1.0000 | val loss: 0.0310, val acc: 1.0000 | 0.21 sec.\n",
      "Epoch: 10, loss: 0.0869, acc: 1.0000 | val loss: 0.0256, val acc: 1.0000 | 0.21 sec.\n",
      "Epoch: 11, loss: 0.0723, acc: 1.0000 | val loss: 0.0215, val acc: 1.0000 | 0.21 sec.\n",
      "Epoch: 12, loss: 0.0613, acc: 1.0000 | val loss: 0.0184, val acc: 1.0000 | 0.20 sec.\n",
      "Epoch: 13, loss: 0.0527, acc: 1.0000 | val loss: 0.0159, val acc: 1.0000 | 0.21 sec.\n",
      "Epoch: 14, loss: 0.0459, acc: 1.0000 | val loss: 0.0139, val acc: 1.0000 | 0.20 sec.\n",
      "Epoch: 15, loss: 0.0404, acc: 1.0000 | val loss: 0.0123, val acc: 1.0000 | 0.21 sec.\n",
      "Epoch: 16, loss: 0.0359, acc: 1.0000 | val loss: 0.0110, val acc: 1.0000 | 0.22 sec.\n",
      "Epoch: 17, loss: 0.0321, acc: 1.0000 | val loss: 0.0099, val acc: 1.0000 | 0.22 sec.\n",
      "Epoch: 18, loss: 0.0289, acc: 1.0000 | val loss: 0.0089, val acc: 1.0000 | 0.21 sec.\n",
      "Epoch: 19, loss: 0.0261, acc: 1.0000 | val loss: 0.0081, val acc: 1.0000 | 0.21 sec.\n",
      "Epoch: 20, loss: 0.0237, acc: 1.0000 | val loss: 0.0074, val acc: 1.0000 | 0.21 sec.\n",
      "Epoch: 21, loss: 0.0216, acc: 1.0000 | val loss: 0.0067, val acc: 1.0000 | 0.21 sec.\n",
      "Epoch: 22, loss: 0.0198, acc: 1.0000 | val loss: 0.0062, val acc: 1.0000 | 0.20 sec.\n",
      "Epoch: 23, loss: 0.0182, acc: 1.0000 | val loss: 0.0057, val acc: 1.0000 | 0.20 sec.\n",
      "Epoch: 24, loss: 0.0168, acc: 1.0000 | val loss: 0.0053, val acc: 1.0000 | 0.21 sec.\n",
      "Epoch: 25, loss: 0.0156, acc: 1.0000 | val loss: 0.0049, val acc: 1.0000 | 0.21 sec.\n",
      "Epoch: 26, loss: 0.0145, acc: 1.0000 | val loss: 0.0046, val acc: 1.0000 | 0.20 sec.\n",
      "Epoch: 27, loss: 0.0135, acc: 1.0000 | val loss: 0.0043, val acc: 1.0000 | 0.21 sec.\n",
      "Epoch: 28, loss: 0.0126, acc: 1.0000 | val loss: 0.0040, val acc: 1.0000 | 0.21 sec.\n",
      "Epoch: 29, loss: 0.0118, acc: 1.0000 | val loss: 0.0037, val acc: 1.0000 | 0.21 sec.\n",
      "Epoch: 30, loss: 0.0111, acc: 1.0000 | val loss: 0.0035, val acc: 1.0000 | 0.21 sec.\n",
      "Epoch: 31, loss: 0.0104, acc: 1.0000 | val loss: 0.0033, val acc: 1.0000 | 0.21 sec.\n",
      "Epoch: 32, loss: 0.0098, acc: 1.0000 | val loss: 0.0031, val acc: 1.0000 | 0.20 sec.\n",
      "Epoch: 33, loss: 0.0092, acc: 1.0000 | val loss: 0.0029, val acc: 1.0000 | 0.21 sec.\n",
      "Epoch: 34, loss: 0.0087, acc: 1.0000 | val loss: 0.0028, val acc: 1.0000 | 0.20 sec.\n",
      "Epoch: 35, loss: 0.0082, acc: 1.0000 | val loss: 0.0026, val acc: 1.0000 | 0.21 sec.\n",
      "Epoch: 36, loss: 0.0078, acc: 1.0000 | val loss: 0.0025, val acc: 1.0000 | 0.21 sec.\n",
      "Epoch: 37, loss: 0.0074, acc: 1.0000 | val loss: 0.0023, val acc: 1.0000 | 0.20 sec.\n",
      "Epoch: 38, loss: 0.0070, acc: 1.0000 | val loss: 0.0022, val acc: 1.0000 | 0.20 sec.\n",
      "Epoch: 39, loss: 0.0067, acc: 1.0000 | val loss: 0.0021, val acc: 1.0000 | 0.21 sec.\n",
      "Epoch: 40, loss: 0.0063, acc: 1.0000 | val loss: 0.0020, val acc: 1.0000 | 0.21 sec.\n",
      "Epoch: 41, loss: 0.0060, acc: 1.0000 | val loss: 0.0019, val acc: 1.0000 | 0.20 sec.\n",
      "Epoch: 42, loss: 0.0057, acc: 1.0000 | val loss: 0.0018, val acc: 1.0000 | 0.20 sec.\n",
      "Epoch: 43, loss: 0.0055, acc: 1.0000 | val loss: 0.0017, val acc: 1.0000 | 0.21 sec.\n",
      "Epoch: 44, loss: 0.0052, acc: 1.0000 | val loss: 0.0017, val acc: 1.0000 | 0.20 sec.\n",
      "Epoch: 45, loss: 0.0050, acc: 1.0000 | val loss: 0.0016, val acc: 1.0000 | 0.21 sec.\n",
      "Epoch: 46, loss: 0.0048, acc: 1.0000 | val loss: 0.0015, val acc: 1.0000 | 0.20 sec.\n",
      "Epoch: 47, loss: 0.0046, acc: 1.0000 | val loss: 0.0015, val acc: 1.0000 | 0.21 sec.\n",
      "Epoch: 48, loss: 0.0044, acc: 1.0000 | val loss: 0.0014, val acc: 1.0000 | 0.21 sec.\n",
      "Epoch: 49, loss: 0.0042, acc: 1.0000 | val loss: 0.0013, val acc: 1.0000 | 0.21 sec.\n",
      "Epoch: 50, loss: 0.0040, acc: 1.0000 | val loss: 0.0013, val acc: 1.0000 | 0.21 sec.\n",
      "Epoch: 51, loss: 0.0038, acc: 1.0000 | val loss: 0.0012, val acc: 1.0000 | 0.21 sec.\n",
      "Epoch: 52, loss: 0.0037, acc: 1.0000 | val loss: 0.0012, val acc: 1.0000 | 0.21 sec.\n",
      "Epoch: 53, loss: 0.0035, acc: 1.0000 | val loss: 0.0011, val acc: 1.0000 | 0.21 sec.\n",
      "Epoch: 54, loss: 0.0034, acc: 1.0000 | val loss: 0.0011, val acc: 1.0000 | 0.20 sec.\n",
      "Epoch: 55, loss: 0.0033, acc: 1.0000 | val loss: 0.0010, val acc: 1.0000 | 0.21 sec.\n",
      "Epoch: 56, loss: 0.0031, acc: 1.0000 | val loss: 0.0010, val acc: 1.0000 | 0.21 sec.\n",
      "Epoch: 57, loss: 0.0030, acc: 1.0000 | val loss: 0.0010, val acc: 1.0000 | 0.21 sec.\n",
      "Epoch: 58, loss: 0.0029, acc: 1.0000 | val loss: 0.0009, val acc: 1.0000 | 0.20 sec.\n",
      "Epoch: 59, loss: 0.0028, acc: 1.0000 | val loss: 0.0009, val acc: 1.0000 | 0.22 sec.\n",
      "Epoch: 60, loss: 0.0027, acc: 1.0000 | val loss: 0.0009, val acc: 1.0000 | 0.21 sec.\n",
      "Epoch: 61, loss: 0.0026, acc: 1.0000 | val loss: 0.0008, val acc: 1.0000 | 0.20 sec.\n",
      "Epoch: 62, loss: 0.0025, acc: 1.0000 | val loss: 0.0008, val acc: 1.0000 | 0.31 sec.\n",
      "Epoch: 63, loss: 0.0024, acc: 1.0000 | val loss: 0.0008, val acc: 1.0000 | 0.21 sec.\n",
      "Epoch: 64, loss: 0.0023, acc: 1.0000 | val loss: 0.0007, val acc: 1.0000 | 0.21 sec.\n",
      "Epoch: 65, loss: 0.0022, acc: 1.0000 | val loss: 0.0007, val acc: 1.0000 | 0.30 sec.\n",
      "Epoch: 66, loss: 0.0022, acc: 1.0000 | val loss: 0.0007, val acc: 1.0000 | 0.21 sec.\n",
      "Epoch: 67, loss: 0.0021, acc: 1.0000 | val loss: 0.0007, val acc: 1.0000 | 0.21 sec.\n",
      "Epoch: 68, loss: 0.0020, acc: 1.0000 | val loss: 0.0006, val acc: 1.0000 | 0.21 sec.\n",
      "Epoch: 69, loss: 0.0020, acc: 1.0000 | val loss: 0.0006, val acc: 1.0000 | 0.20 sec.\n",
      "Epoch: 70, loss: 0.0019, acc: 1.0000 | val loss: 0.0006, val acc: 1.0000 | 0.20 sec.\n",
      "Epoch: 71, loss: 0.0018, acc: 1.0000 | val loss: 0.0006, val acc: 1.0000 | 0.20 sec.\n",
      "Epoch: 72, loss: 0.0018, acc: 1.0000 | val loss: 0.0006, val acc: 1.0000 | 0.20 sec.\n",
      "Epoch: 73, loss: 0.0017, acc: 1.0000 | val loss: 0.0005, val acc: 1.0000 | 0.21 sec.\n",
      "Epoch: 74, loss: 0.0016, acc: 1.0000 | val loss: 0.0005, val acc: 1.0000 | 0.20 sec.\n",
      "Epoch: 75, loss: 0.0016, acc: 1.0000 | val loss: 0.0005, val acc: 1.0000 | 0.21 sec.\n",
      "Epoch: 76, loss: 0.0015, acc: 1.0000 | val loss: 0.0005, val acc: 1.0000 | 0.20 sec.\n",
      "Epoch: 77, loss: 0.0015, acc: 1.0000 | val loss: 0.0005, val acc: 1.0000 | 0.21 sec.\n",
      "Epoch: 78, loss: 0.0015, acc: 1.0000 | val loss: 0.0005, val acc: 1.0000 | 0.21 sec.\n",
      "Epoch: 79, loss: 0.0014, acc: 1.0000 | val loss: 0.0005, val acc: 1.0000 | 0.20 sec.\n",
      "Epoch: 80, loss: 0.0014, acc: 1.0000 | val loss: 0.0004, val acc: 1.0000 | 0.20 sec.\n",
      "Epoch: 81, loss: 0.0013, acc: 1.0000 | val loss: 0.0004, val acc: 1.0000 | 0.20 sec.\n",
      "Epoch: 82, loss: 0.0013, acc: 1.0000 | val loss: 0.0004, val acc: 1.0000 | 0.20 sec.\n",
      "Epoch: 83, loss: 0.0012, acc: 1.0000 | val loss: 0.0004, val acc: 1.0000 | 0.21 sec.\n",
      "Epoch: 84, loss: 0.0012, acc: 1.0000 | val loss: 0.0004, val acc: 1.0000 | 0.21 sec.\n",
      "Epoch: 85, loss: 0.0012, acc: 1.0000 | val loss: 0.0004, val acc: 1.0000 | 0.20 sec.\n",
      "Epoch: 86, loss: 0.0011, acc: 1.0000 | val loss: 0.0004, val acc: 1.0000 | 0.21 sec.\n",
      "Epoch: 87, loss: 0.0011, acc: 1.0000 | val loss: 0.0004, val acc: 1.0000 | 0.21 sec.\n",
      "Epoch: 88, loss: 0.0011, acc: 1.0000 | val loss: 0.0003, val acc: 1.0000 | 0.21 sec.\n",
      "Epoch: 89, loss: 0.0010, acc: 1.0000 | val loss: 0.0003, val acc: 1.0000 | 0.21 sec.\n",
      "Epoch: 90, loss: 0.0010, acc: 1.0000 | val loss: 0.0003, val acc: 1.0000 | 0.21 sec.\n",
      "Epoch: 91, loss: 0.0010, acc: 1.0000 | val loss: 0.0003, val acc: 1.0000 | 0.21 sec.\n",
      "Epoch: 92, loss: 0.0009, acc: 1.0000 | val loss: 0.0003, val acc: 1.0000 | 0.20 sec.\n",
      "Epoch: 93, loss: 0.0009, acc: 1.0000 | val loss: 0.0003, val acc: 1.0000 | 0.21 sec.\n",
      "Epoch: 94, loss: 0.0009, acc: 1.0000 | val loss: 0.0003, val acc: 1.0000 | 0.20 sec.\n",
      "Epoch: 95, loss: 0.0009, acc: 1.0000 | val loss: 0.0003, val acc: 1.0000 | 0.20 sec.\n",
      "Epoch: 96, loss: 0.0008, acc: 1.0000 | val loss: 0.0003, val acc: 1.0000 | 0.20 sec.\n",
      "Epoch: 97, loss: 0.0008, acc: 1.0000 | val loss: 0.0003, val acc: 1.0000 | 0.21 sec.\n",
      "Epoch: 98, loss: 0.0008, acc: 1.0000 | val loss: 0.0003, val acc: 1.0000 | 0.21 sec.\n",
      "Epoch: 99, loss: 0.0008, acc: 1.0000 | val loss: 0.0002, val acc: 1.0000 | 0.21 sec.\n",
      "Epoch: 100, loss: 0.0008, acc: 1.0000 | val loss: 0.0002, val acc: 1.0000 | 0.21 sec.\n",
      "Epoch: 101, loss: 0.0007, acc: 1.0000 | val loss: 0.0002, val acc: 1.0000 | 0.21 sec.\n",
      "Epoch: 102, loss: 0.0007, acc: 1.0000 | val loss: 0.0002, val acc: 1.0000 | 0.22 sec.\n",
      "Epoch: 103, loss: 0.0007, acc: 1.0000 | val loss: 0.0002, val acc: 1.0000 | 0.21 sec.\n",
      "Epoch: 104, loss: 0.0007, acc: 1.0000 | val loss: 0.0002, val acc: 1.0000 | 0.20 sec.\n",
      "Epoch: 105, loss: 0.0007, acc: 1.0000 | val loss: 0.0002, val acc: 1.0000 | 0.20 sec.\n",
      "Epoch: 106, loss: 0.0006, acc: 1.0000 | val loss: 0.0002, val acc: 1.0000 | 0.21 sec.\n",
      "Epoch: 107, loss: 0.0006, acc: 1.0000 | val loss: 0.0002, val acc: 1.0000 | 0.21 sec.\n",
      "Epoch: 108, loss: 0.0006, acc: 1.0000 | val loss: 0.0002, val acc: 1.0000 | 0.21 sec.\n",
      "Epoch: 109, loss: 0.0006, acc: 1.0000 | val loss: 0.0002, val acc: 1.0000 | 0.21 sec.\n",
      "Epoch: 110, loss: 0.0006, acc: 1.0000 | val loss: 0.0002, val acc: 1.0000 | 0.20 sec.\n",
      "Epoch: 111, loss: 0.0006, acc: 1.0000 | val loss: 0.0002, val acc: 1.0000 | 0.20 sec.\n",
      "Epoch: 112, loss: 0.0005, acc: 1.0000 | val loss: 0.0002, val acc: 1.0000 | 0.21 sec.\n",
      "Epoch: 113, loss: 0.0005, acc: 1.0000 | val loss: 0.0002, val acc: 1.0000 | 0.21 sec.\n",
      "Epoch: 114, loss: 0.0005, acc: 1.0000 | val loss: 0.0002, val acc: 1.0000 | 0.21 sec.\n",
      "Epoch: 115, loss: 0.0005, acc: 1.0000 | val loss: 0.0002, val acc: 1.0000 | 0.20 sec.\n",
      "Epoch: 116, loss: 0.0005, acc: 1.0000 | val loss: 0.0002, val acc: 1.0000 | 0.20 sec.\n",
      "Epoch: 117, loss: 0.0005, acc: 1.0000 | val loss: 0.0002, val acc: 1.0000 | 0.21 sec.\n",
      "Epoch: 118, loss: 0.0005, acc: 1.0000 | val loss: 0.0001, val acc: 1.0000 | 0.21 sec.\n",
      "Epoch: 119, loss: 0.0004, acc: 1.0000 | val loss: 0.0001, val acc: 1.0000 | 0.21 sec.\n",
      "Epoch: 120, loss: 0.0004, acc: 1.0000 | val loss: 0.0001, val acc: 1.0000 | 0.20 sec.\n",
      "Epoch: 121, loss: 0.0004, acc: 1.0000 | val loss: 0.0001, val acc: 1.0000 | 0.21 sec.\n",
      "Epoch: 122, loss: 0.0004, acc: 1.0000 | val loss: 0.0001, val acc: 1.0000 | 0.21 sec.\n",
      "Epoch: 123, loss: 0.0004, acc: 1.0000 | val loss: 0.0001, val acc: 1.0000 | 0.21 sec.\n",
      "Epoch: 124, loss: 0.0004, acc: 1.0000 | val loss: 0.0001, val acc: 1.0000 | 0.21 sec.\n",
      "Epoch: 125, loss: 0.0004, acc: 1.0000 | val loss: 0.0001, val acc: 1.0000 | 0.20 sec.\n",
      "Epoch: 126, loss: 0.0004, acc: 1.0000 | val loss: 0.0001, val acc: 1.0000 | 0.21 sec.\n",
      "Epoch: 127, loss: 0.0004, acc: 1.0000 | val loss: 0.0001, val acc: 1.0000 | 0.21 sec.\n",
      "Epoch: 128, loss: 0.0004, acc: 1.0000 | val loss: 0.0001, val acc: 1.0000 | 0.21 sec.\n",
      "Epoch: 129, loss: 0.0003, acc: 1.0000 | val loss: 0.0001, val acc: 1.0000 | 0.20 sec.\n",
      "Epoch: 130, loss: 0.0003, acc: 1.0000 | val loss: 0.0001, val acc: 1.0000 | 0.21 sec.\n",
      "Epoch: 131, loss: 0.0003, acc: 1.0000 | val loss: 0.0001, val acc: 1.0000 | 0.20 sec.\n",
      "Epoch: 132, loss: 0.0003, acc: 1.0000 | val loss: 0.0001, val acc: 1.0000 | 0.21 sec.\n",
      "Epoch: 133, loss: 0.0003, acc: 1.0000 | val loss: 0.0001, val acc: 1.0000 | 0.21 sec.\n",
      "Epoch: 134, loss: 0.0003, acc: 1.0000 | val loss: 0.0001, val acc: 1.0000 | 0.20 sec.\n",
      "Epoch: 135, loss: 0.0003, acc: 1.0000 | val loss: 0.0001, val acc: 1.0000 | 0.20 sec.\n",
      "Epoch: 136, loss: 0.0003, acc: 1.0000 | val loss: 0.0001, val acc: 1.0000 | 0.20 sec.\n",
      "Epoch: 137, loss: 0.0003, acc: 1.0000 | val loss: 0.0001, val acc: 1.0000 | 0.21 sec.\n",
      "Epoch: 138, loss: 0.0003, acc: 1.0000 | val loss: 0.0001, val acc: 1.0000 | 0.21 sec.\n",
      "Epoch: 139, loss: 0.0003, acc: 1.0000 | val loss: 0.0001, val acc: 1.0000 | 0.21 sec.\n",
      "Epoch: 140, loss: 0.0003, acc: 1.0000 | val loss: 0.0001, val acc: 1.0000 | 0.20 sec.\n",
      "Epoch: 141, loss: 0.0003, acc: 1.0000 | val loss: 0.0001, val acc: 1.0000 | 0.21 sec.\n",
      "Epoch: 142, loss: 0.0002, acc: 1.0000 | val loss: 0.0001, val acc: 1.0000 | 0.23 sec.\n",
      "Epoch: 143, loss: 0.0002, acc: 1.0000 | val loss: 0.0001, val acc: 1.0000 | 0.22 sec.\n",
      "Epoch: 144, loss: 0.0002, acc: 1.0000 | val loss: 0.0001, val acc: 1.0000 | 0.20 sec.\n",
      "Epoch: 145, loss: 0.0002, acc: 1.0000 | val loss: 0.0001, val acc: 1.0000 | 0.20 sec.\n",
      "Epoch: 146, loss: 0.0002, acc: 1.0000 | val loss: 0.0001, val acc: 1.0000 | 0.21 sec.\n",
      "Epoch: 147, loss: 0.0002, acc: 1.0000 | val loss: 0.0001, val acc: 1.0000 | 0.21 sec.\n",
      "Epoch: 148, loss: 0.0002, acc: 1.0000 | val loss: 0.0001, val acc: 1.0000 | 0.21 sec.\n",
      "Epoch: 149, loss: 0.0002, acc: 1.0000 | val loss: 0.0001, val acc: 1.0000 | 0.21 sec.\n",
      "Epoch: 150, loss: 0.0002, acc: 1.0000 | val loss: 0.0001, val acc: 1.0000 | 0.21 sec.\n",
      "Epoch: 151, loss: 0.0002, acc: 1.0000 | val loss: 0.0001, val acc: 1.0000 | 0.21 sec.\n",
      "Epoch: 152, loss: 0.0002, acc: 1.0000 | val loss: 0.0001, val acc: 1.0000 | 0.23 sec.\n",
      "Epoch: 153, loss: 0.0002, acc: 1.0000 | val loss: 0.0001, val acc: 1.0000 | 0.21 sec.\n",
      "Epoch: 154, loss: 0.0002, acc: 1.0000 | val loss: 0.0001, val acc: 1.0000 | 0.21 sec.\n",
      "Epoch: 155, loss: 0.0002, acc: 1.0000 | val loss: 0.0001, val acc: 1.0000 | 0.21 sec.\n",
      "Epoch: 156, loss: 0.0002, acc: 1.0000 | val loss: 0.0001, val acc: 1.0000 | 0.20 sec.\n",
      "Epoch: 157, loss: 0.0002, acc: 1.0000 | val loss: 0.0001, val acc: 1.0000 | 0.21 sec.\n",
      "Epoch: 158, loss: 0.0002, acc: 1.0000 | val loss: 0.0001, val acc: 1.0000 | 0.20 sec.\n",
      "Epoch: 159, loss: 0.0002, acc: 1.0000 | val loss: 0.0001, val acc: 1.0000 | 0.21 sec.\n",
      "Epoch: 160, loss: 0.0002, acc: 1.0000 | val loss: 0.0001, val acc: 1.0000 | 0.21 sec.\n",
      "Epoch: 161, loss: 0.0002, acc: 1.0000 | val loss: 0.0000, val acc: 1.0000 | 0.21 sec.\n",
      "Epoch: 162, loss: 0.0001, acc: 1.0000 | val loss: 0.0000, val acc: 1.0000 | 0.21 sec.\n",
      "Epoch: 163, loss: 0.0001, acc: 1.0000 | val loss: 0.0000, val acc: 1.0000 | 0.20 sec.\n",
      "Epoch: 164, loss: 0.0001, acc: 1.0000 | val loss: 0.0000, val acc: 1.0000 | 0.21 sec.\n",
      "Epoch: 165, loss: 0.0001, acc: 1.0000 | val loss: 0.0000, val acc: 1.0000 | 0.21 sec.\n",
      "Epoch: 166, loss: 0.0001, acc: 1.0000 | val loss: 0.0000, val acc: 1.0000 | 0.21 sec.\n",
      "Epoch: 167, loss: 0.0001, acc: 1.0000 | val loss: 0.0000, val acc: 1.0000 | 0.21 sec.\n",
      "Epoch: 168, loss: 0.0001, acc: 1.0000 | val loss: 0.0000, val acc: 1.0000 | 0.20 sec.\n",
      "Epoch: 169, loss: 0.0001, acc: 1.0000 | val loss: 0.0000, val acc: 1.0000 | 0.21 sec.\n",
      "Epoch: 170, loss: 0.0001, acc: 1.0000 | val loss: 0.0000, val acc: 1.0000 | 0.21 sec.\n",
      "Epoch: 171, loss: 0.0001, acc: 1.0000 | val loss: 0.0000, val acc: 1.0000 | 0.21 sec.\n",
      "Epoch: 172, loss: 0.0001, acc: 1.0000 | val loss: 0.0000, val acc: 1.0000 | 0.20 sec.\n",
      "Epoch: 173, loss: 0.0001, acc: 1.0000 | val loss: 0.0000, val acc: 1.0000 | 0.20 sec.\n",
      "Epoch: 174, loss: 0.0001, acc: 1.0000 | val loss: 0.0000, val acc: 1.0000 | 0.21 sec.\n",
      "Epoch: 175, loss: 0.0001, acc: 1.0000 | val loss: 0.0000, val acc: 1.0000 | 0.20 sec.\n",
      "Epoch: 176, loss: 0.0001, acc: 1.0000 | val loss: 0.0000, val acc: 1.0000 | 0.21 sec.\n",
      "Epoch: 177, loss: 0.0001, acc: 1.0000 | val loss: 0.0000, val acc: 1.0000 | 0.21 sec.\n",
      "Epoch: 178, loss: 0.0001, acc: 1.0000 | val loss: 0.0000, val acc: 1.0000 | 0.21 sec.\n",
      "Epoch: 179, loss: 0.0001, acc: 1.0000 | val loss: 0.0000, val acc: 1.0000 | 0.21 sec.\n",
      "Epoch: 180, loss: 0.0001, acc: 1.0000 | val loss: 0.0000, val acc: 1.0000 | 0.20 sec.\n",
      "Epoch: 181, loss: 0.0001, acc: 1.0000 | val loss: 0.0000, val acc: 1.0000 | 0.21 sec.\n",
      "Epoch: 182, loss: 0.0001, acc: 1.0000 | val loss: 0.0000, val acc: 1.0000 | 0.20 sec.\n",
      "Epoch: 183, loss: 0.0001, acc: 1.0000 | val loss: 0.0000, val acc: 1.0000 | 0.21 sec.\n",
      "Epoch: 184, loss: 0.0001, acc: 1.0000 | val loss: 0.0000, val acc: 1.0000 | 0.20 sec.\n",
      "Epoch: 185, loss: 0.0001, acc: 1.0000 | val loss: 0.0000, val acc: 1.0000 | 0.21 sec.\n",
      "Epoch: 186, loss: 0.0001, acc: 1.0000 | val loss: 0.0000, val acc: 1.0000 | 0.21 sec.\n",
      "Epoch: 187, loss: 0.0001, acc: 1.0000 | val loss: 0.0000, val acc: 1.0000 | 0.21 sec.\n",
      "Epoch: 188, loss: 0.0001, acc: 1.0000 | val loss: 0.0000, val acc: 1.0000 | 0.20 sec.\n",
      "Epoch: 189, loss: 0.0001, acc: 1.0000 | val loss: 0.0000, val acc: 1.0000 | 0.21 sec.\n",
      "Epoch: 190, loss: 0.0001, acc: 1.0000 | val loss: 0.0000, val acc: 1.0000 | 0.20 sec.\n",
      "Epoch: 191, loss: 0.0001, acc: 1.0000 | val loss: 0.0000, val acc: 1.0000 | 0.21 sec.\n",
      "Epoch: 192, loss: 0.0001, acc: 1.0000 | val loss: 0.0000, val acc: 1.0000 | 0.20 sec.\n",
      "Epoch: 193, loss: 0.0001, acc: 1.0000 | val loss: 0.0000, val acc: 1.0000 | 0.21 sec.\n",
      "Epoch: 194, loss: 0.0001, acc: 1.0000 | val loss: 0.0000, val acc: 1.0000 | 0.21 sec.\n",
      "Epoch: 195, loss: 0.0001, acc: 1.0000 | val loss: 0.0000, val acc: 1.0000 | 0.21 sec.\n",
      "Epoch: 196, loss: 0.0001, acc: 1.0000 | val loss: 0.0000, val acc: 1.0000 | 0.21 sec.\n",
      "Epoch: 197, loss: 0.0001, acc: 1.0000 | val loss: 0.0000, val acc: 1.0000 | 0.20 sec.\n",
      "Epoch: 198, loss: 0.0001, acc: 1.0000 | val loss: 0.0000, val acc: 1.0000 | 0.21 sec.\n",
      "Epoch: 199, loss: 0.0001, acc: 1.0000 | val loss: 0.0000, val acc: 1.0000 | 0.21 sec.\n"
     ]
    }
   ]
  },
  {
   "cell_type": "code",
   "execution_count": 51,
   "outputs": [
    {
     "output_type": "stream",
     "name": "stdout",
     "text": [
      "test loss: 0.0000, test acc: 1.0000\n"
     ]
    }
   ],
   "source": [
    "test_model(gru_model, test_dl)"
   ],
   "metadata": {
    "pycharm": {
     "name": "#%%\n"
    },
    "colab": {
     "base_uri": "https://localhost:8080/"
    },
    "id": "nWTgMiW58Ket",
    "executionInfo": {
     "status": "ok",
     "timestamp": 1663527963577,
     "user_tz": -180,
     "elapsed": 1046,
     "user": {
      "displayName": "Egor Tarutin",
      "userId": "17854723859889032284"
     }
    },
    "outputId": "3c5373f7-744c-45aa-ac52-ddc209a7e947"
   }
  },
  {
   "cell_type": "code",
   "execution_count": null,
   "outputs": [],
   "source": [],
   "metadata": {
    "pycharm": {
     "name": "#%%\n"
    },
    "id": "-EQK_TGn8Kev"
   }
  }
 ],
 "metadata": {
  "kernelspec": {
   "display_name": "Python 3",
   "language": "python",
   "name": "python3"
  },
  "language_info": {
   "codemirror_mode": {
    "name": "ipython",
    "version": 2
   },
   "file_extension": ".py",
   "mimetype": "text/x-python",
   "name": "python",
   "nbconvert_exporter": "python",
   "pygments_lexer": "ipython2",
   "version": "2.7.6"
  },
  "colab": {
   "provenance": [],
   "collapsed_sections": []
  },
  "accelerator": "GPU"
 },
 "nbformat": 4,
 "nbformat_minor": 0
}