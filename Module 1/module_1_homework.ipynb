{
 "cells": [
  {
   "cell_type": "markdown",
   "source": [
    "# Домашнее задание на проверку знаний библиотеки для анализа данных Pandas.\n",
    "\n",
    "Вам представлен датасет, который содержит информацию по результатам сезона 2016 года игры в бейсбол.\n",
    "\n",
    "Вам необходимо загрузить датасет (он находится в архиве с текущим домашним заданием). Провести его очистку, если это необходимо и ответить на поставленные аналитические\n",
    "вопросы.\n",
    "\n",
    "Список колонок, представленных в датасете:\n",
    "\n",
    "---\n",
    "* attendance        - количество зрителей матча\n",
    "* away_team         - название гостевой команды\n",
    "* away_team_errors  - количество ошибок гостевой команды\n",
    "* away_team_hits    - количество хитов гостевой команды (хит в бейсболе - удар при котором отбивающий достиг первой базы)\n",
    "* away_team_runs    - количество ранов гостевой команды (ран в бейсболе - очко заработанное игроком нападения)\n",
    "* date              - дата проведения матча\n",
    "* field_type        - тип игрового поля\n",
    "* game_type         - тип игры\n",
    "* home_team         - название домашней команды\n",
    "* home_team_errors  - количество ошибок домашней команды\n",
    "* home_team_hits    - количество хитов домашней команды (хит в бейсболе - удар при котором отбивающий достиг первой базы)\n",
    "* home_team_runs    - количество ранов домашней команды (ран в бейсболе - очко заработанное игроком нападения)\n",
    "* start_time        - время начала игрового матча\n",
    "* venue             - название места проведения матча (стадион, поле, арена)\n",
    "* day_of_week       - день недели проведения матча\n",
    "* temperature       - температура воздуха в день проведения матча в фаренгейтах\n",
    "* wind_speed        - скорость ветра в день проведения матча\n",
    "* wind_direction    - направление скорости ветра\n",
    "* sky               - облачность\n",
    "* total_runs        - общее количество ранов для двух команд\n",
    "* game_hours_dec    - длительность матча указаная в часах\n",
    "* season            - тип игрового сезона\n",
    "* home_team_win     - результат домашней команды (1 - выигрыш)\n",
    "* home_team_loss    - результат домашней команды (0 - проигрыш)\n",
    "* home_team_outcome - исход матча\n",
    "---\n",
    "\n",
    "Всего в задании 20 вопросов. За каждый правильный вопрос начисляется 5 баллов. Таким образом за все правильные ответы вы получите - 100 баллов. Оценка затем будет приведена к 10-ти бальной шкале.\n",
    "\n",
    "---\n",
    "\n",
    "**Кроме того, баллы могут быть снижены за**:\n",
    "\n",
    "- 1 балл снижается за качество кода - старайтесь чтобы код был максимально лаконичным. Названия переменных (если они используются) должны отражать максимальную ее сущность. Вывод старайтесь делать минимальным, так как первичная цель - сделать качественный анализ, чтобы быстро ответить на поставленный вопрос (никаких таблиц на 100 строк).\n",
    "\n",
    "\n",
    "- 5 баллов снижается если ответ на домашнюю работу будет прислан в виде скриншота, ноутбука, текстового файла и прочих способов. Используйте при отправке на проверку только GitHub/GitLab либо прочий сервис. Присылать домашнюю работу необходимо ссылкой на ваш репозиторий на адрес электронной почты maratmovlamov2017@gmail.com\n",
    "\n",
    "\n",
    "- за каждый день просрочки дедлайна снижается по 10 баллов. Один день - минус 10 баллов, второй день минус 10 баллов, третий день минус 10 баллов. Соблюдайте сроки и не приступайте к домашнему заданию в последний момент.\n",
    "\n",
    "---\n",
    "\n",
    "Удачи вам в поисках истинны :)"
   ],
   "metadata": {
    "collapsed": false,
    "pycharm": {
     "name": "#%% md\n"
    }
   }
  },
  {
   "cell_type": "code",
   "execution_count": 218,
   "outputs": [],
   "source": [
    "# Импортируйте все необходимые библиотеки и модули которые вам необходимы\n",
    "import pandas as pd"
   ],
   "metadata": {
    "collapsed": false,
    "pycharm": {
     "name": "#%%\n"
    }
   }
  },
  {
   "cell_type": "code",
   "execution_count": 219,
   "outputs": [
    {
     "data": {
      "text/plain": "   attendance              away_team  away_team_errors  away_team_hits  \\\n0     40030.0          New York Mets                 1               7   \n1     21621.0  Philadelphia Phillies                 0               5   \n2     12622.0        Minnesota Twins                 0               5   \n3     18531.0   Washington Nationals                 0               8   \n4     18572.0       Colorado Rockies                 1               8   \n\n   away_team_runs        date field_type   game_type             home_team  \\\n0               3  2016-04-03   on grass  Night Game    Kansas City Royals   \n1               2  2016-04-06   on grass  Night Game       Cincinnati Reds   \n2               2  2016-04-06   on grass  Night Game     Baltimore Orioles   \n3               3  2016-04-06   on grass  Night Game        Atlanta Braves   \n4               4  2016-04-06   on grass    Day Game  Arizona Diamondbacks   \n\n   home_team_errors  ...  temperature  wind_speed         wind_direction  \\\n0                 0  ...         74.0        14.0     from Right to Left   \n1                 0  ...         55.0        24.0     from Right to Left   \n2                 0  ...         48.0         7.0       out to Leftfield   \n3                 1  ...         65.0        10.0     from Right to Left   \n4                 0  ...         77.0         0.0   in unknown direction   \n\n        sky total_runs  game_hours_dec          season home_team_win  \\\n0     Sunny          7        3.216667  regular season             1   \n1  Overcast          5        2.383333  regular season             1   \n2   Unknown          6        3.183333  regular season             1   \n3    Cloudy          4        2.883333  regular season             0   \n4   In Dome          7        2.650000  regular season             0   \n\n  home_team_loss  home_team_outcome  \n0              0                Win  \n1              0                Win  \n2              0                Win  \n3              1               Loss  \n4              1               Loss  \n\n[5 rows x 25 columns]",
      "text/html": "<div>\n<style scoped>\n    .dataframe tbody tr th:only-of-type {\n        vertical-align: middle;\n    }\n\n    .dataframe tbody tr th {\n        vertical-align: top;\n    }\n\n    .dataframe thead th {\n        text-align: right;\n    }\n</style>\n<table border=\"1\" class=\"dataframe\">\n  <thead>\n    <tr style=\"text-align: right;\">\n      <th></th>\n      <th>attendance</th>\n      <th>away_team</th>\n      <th>away_team_errors</th>\n      <th>away_team_hits</th>\n      <th>away_team_runs</th>\n      <th>date</th>\n      <th>field_type</th>\n      <th>game_type</th>\n      <th>home_team</th>\n      <th>home_team_errors</th>\n      <th>...</th>\n      <th>temperature</th>\n      <th>wind_speed</th>\n      <th>wind_direction</th>\n      <th>sky</th>\n      <th>total_runs</th>\n      <th>game_hours_dec</th>\n      <th>season</th>\n      <th>home_team_win</th>\n      <th>home_team_loss</th>\n      <th>home_team_outcome</th>\n    </tr>\n  </thead>\n  <tbody>\n    <tr>\n      <th>0</th>\n      <td>40030.0</td>\n      <td>New York Mets</td>\n      <td>1</td>\n      <td>7</td>\n      <td>3</td>\n      <td>2016-04-03</td>\n      <td>on grass</td>\n      <td>Night Game</td>\n      <td>Kansas City Royals</td>\n      <td>0</td>\n      <td>...</td>\n      <td>74.0</td>\n      <td>14.0</td>\n      <td>from Right to Left</td>\n      <td>Sunny</td>\n      <td>7</td>\n      <td>3.216667</td>\n      <td>regular season</td>\n      <td>1</td>\n      <td>0</td>\n      <td>Win</td>\n    </tr>\n    <tr>\n      <th>1</th>\n      <td>21621.0</td>\n      <td>Philadelphia Phillies</td>\n      <td>0</td>\n      <td>5</td>\n      <td>2</td>\n      <td>2016-04-06</td>\n      <td>on grass</td>\n      <td>Night Game</td>\n      <td>Cincinnati Reds</td>\n      <td>0</td>\n      <td>...</td>\n      <td>55.0</td>\n      <td>24.0</td>\n      <td>from Right to Left</td>\n      <td>Overcast</td>\n      <td>5</td>\n      <td>2.383333</td>\n      <td>regular season</td>\n      <td>1</td>\n      <td>0</td>\n      <td>Win</td>\n    </tr>\n    <tr>\n      <th>2</th>\n      <td>12622.0</td>\n      <td>Minnesota Twins</td>\n      <td>0</td>\n      <td>5</td>\n      <td>2</td>\n      <td>2016-04-06</td>\n      <td>on grass</td>\n      <td>Night Game</td>\n      <td>Baltimore Orioles</td>\n      <td>0</td>\n      <td>...</td>\n      <td>48.0</td>\n      <td>7.0</td>\n      <td>out to Leftfield</td>\n      <td>Unknown</td>\n      <td>6</td>\n      <td>3.183333</td>\n      <td>regular season</td>\n      <td>1</td>\n      <td>0</td>\n      <td>Win</td>\n    </tr>\n    <tr>\n      <th>3</th>\n      <td>18531.0</td>\n      <td>Washington Nationals</td>\n      <td>0</td>\n      <td>8</td>\n      <td>3</td>\n      <td>2016-04-06</td>\n      <td>on grass</td>\n      <td>Night Game</td>\n      <td>Atlanta Braves</td>\n      <td>1</td>\n      <td>...</td>\n      <td>65.0</td>\n      <td>10.0</td>\n      <td>from Right to Left</td>\n      <td>Cloudy</td>\n      <td>4</td>\n      <td>2.883333</td>\n      <td>regular season</td>\n      <td>0</td>\n      <td>1</td>\n      <td>Loss</td>\n    </tr>\n    <tr>\n      <th>4</th>\n      <td>18572.0</td>\n      <td>Colorado Rockies</td>\n      <td>1</td>\n      <td>8</td>\n      <td>4</td>\n      <td>2016-04-06</td>\n      <td>on grass</td>\n      <td>Day Game</td>\n      <td>Arizona Diamondbacks</td>\n      <td>0</td>\n      <td>...</td>\n      <td>77.0</td>\n      <td>0.0</td>\n      <td>in unknown direction</td>\n      <td>In Dome</td>\n      <td>7</td>\n      <td>2.650000</td>\n      <td>regular season</td>\n      <td>0</td>\n      <td>1</td>\n      <td>Loss</td>\n    </tr>\n  </tbody>\n</table>\n<p>5 rows × 25 columns</p>\n</div>"
     },
     "execution_count": 219,
     "metadata": {},
     "output_type": "execute_result"
    }
   ],
   "source": [
    "# Загрузите датасет и проведите его очистку и форматирование если это необходимо\n",
    "data = pd.read_csv('baseball_games.csv', index_col=0)\n",
    "data.head(5)"
   ],
   "metadata": {
    "collapsed": false,
    "pycharm": {
     "name": "#%%\n"
    }
   }
  },
  {
   "cell_type": "code",
   "execution_count": 220,
   "outputs": [
    {
     "data": {
      "text/plain": "   attendance              away_team  away_team_errors  away_team_hits  \\\n0     40030.0          New York Mets                 1               7   \n1     21621.0  Philadelphia Phillies                 0               5   \n2     12622.0        Minnesota Twins                 0               5   \n3     18531.0   Washington Nationals                 0               8   \n4     18572.0       Colorado Rockies                 1               8   \n\n   away_team_runs        date field_type   game_type             home_team  \\\n0               3  2016-04-03   on grass  Night Game    Kansas City Royals   \n1               2  2016-04-06   on grass  Night Game       Cincinnati Reds   \n2               2  2016-04-06   on grass  Night Game     Baltimore Orioles   \n3               3  2016-04-06   on grass  Night Game        Atlanta Braves   \n4               4  2016-04-06   on grass    Day Game  Arizona Diamondbacks   \n\n   home_team_errors  ...  temperature  wind_speed         wind_direction  \\\n0                 0  ...    23.333333        14.0     from Right to Left   \n1                 0  ...    12.777778        24.0     from Right to Left   \n2                 0  ...     8.888889         7.0       out to Leftfield   \n3                 1  ...    18.333333        10.0     from Right to Left   \n4                 0  ...    25.000000         0.0   in unknown direction   \n\n        sky total_runs  game_hours_dec          season home_team_win  \\\n0     Sunny          7        3.216667  regular season             1   \n1  Overcast          5        2.383333  regular season             1   \n2   Unknown          6        3.183333  regular season             1   \n3    Cloudy          4        2.883333  regular season             0   \n4   In Dome          7        2.650000  regular season             0   \n\n  home_team_loss  home_team_outcome  \n0              0                Win  \n1              0                Win  \n2              0                Win  \n3              1               Loss  \n4              1               Loss  \n\n[5 rows x 25 columns]",
      "text/html": "<div>\n<style scoped>\n    .dataframe tbody tr th:only-of-type {\n        vertical-align: middle;\n    }\n\n    .dataframe tbody tr th {\n        vertical-align: top;\n    }\n\n    .dataframe thead th {\n        text-align: right;\n    }\n</style>\n<table border=\"1\" class=\"dataframe\">\n  <thead>\n    <tr style=\"text-align: right;\">\n      <th></th>\n      <th>attendance</th>\n      <th>away_team</th>\n      <th>away_team_errors</th>\n      <th>away_team_hits</th>\n      <th>away_team_runs</th>\n      <th>date</th>\n      <th>field_type</th>\n      <th>game_type</th>\n      <th>home_team</th>\n      <th>home_team_errors</th>\n      <th>...</th>\n      <th>temperature</th>\n      <th>wind_speed</th>\n      <th>wind_direction</th>\n      <th>sky</th>\n      <th>total_runs</th>\n      <th>game_hours_dec</th>\n      <th>season</th>\n      <th>home_team_win</th>\n      <th>home_team_loss</th>\n      <th>home_team_outcome</th>\n    </tr>\n  </thead>\n  <tbody>\n    <tr>\n      <th>0</th>\n      <td>40030.0</td>\n      <td>New York Mets</td>\n      <td>1</td>\n      <td>7</td>\n      <td>3</td>\n      <td>2016-04-03</td>\n      <td>on grass</td>\n      <td>Night Game</td>\n      <td>Kansas City Royals</td>\n      <td>0</td>\n      <td>...</td>\n      <td>23.333333</td>\n      <td>14.0</td>\n      <td>from Right to Left</td>\n      <td>Sunny</td>\n      <td>7</td>\n      <td>3.216667</td>\n      <td>regular season</td>\n      <td>1</td>\n      <td>0</td>\n      <td>Win</td>\n    </tr>\n    <tr>\n      <th>1</th>\n      <td>21621.0</td>\n      <td>Philadelphia Phillies</td>\n      <td>0</td>\n      <td>5</td>\n      <td>2</td>\n      <td>2016-04-06</td>\n      <td>on grass</td>\n      <td>Night Game</td>\n      <td>Cincinnati Reds</td>\n      <td>0</td>\n      <td>...</td>\n      <td>12.777778</td>\n      <td>24.0</td>\n      <td>from Right to Left</td>\n      <td>Overcast</td>\n      <td>5</td>\n      <td>2.383333</td>\n      <td>regular season</td>\n      <td>1</td>\n      <td>0</td>\n      <td>Win</td>\n    </tr>\n    <tr>\n      <th>2</th>\n      <td>12622.0</td>\n      <td>Minnesota Twins</td>\n      <td>0</td>\n      <td>5</td>\n      <td>2</td>\n      <td>2016-04-06</td>\n      <td>on grass</td>\n      <td>Night Game</td>\n      <td>Baltimore Orioles</td>\n      <td>0</td>\n      <td>...</td>\n      <td>8.888889</td>\n      <td>7.0</td>\n      <td>out to Leftfield</td>\n      <td>Unknown</td>\n      <td>6</td>\n      <td>3.183333</td>\n      <td>regular season</td>\n      <td>1</td>\n      <td>0</td>\n      <td>Win</td>\n    </tr>\n    <tr>\n      <th>3</th>\n      <td>18531.0</td>\n      <td>Washington Nationals</td>\n      <td>0</td>\n      <td>8</td>\n      <td>3</td>\n      <td>2016-04-06</td>\n      <td>on grass</td>\n      <td>Night Game</td>\n      <td>Atlanta Braves</td>\n      <td>1</td>\n      <td>...</td>\n      <td>18.333333</td>\n      <td>10.0</td>\n      <td>from Right to Left</td>\n      <td>Cloudy</td>\n      <td>4</td>\n      <td>2.883333</td>\n      <td>regular season</td>\n      <td>0</td>\n      <td>1</td>\n      <td>Loss</td>\n    </tr>\n    <tr>\n      <th>4</th>\n      <td>18572.0</td>\n      <td>Colorado Rockies</td>\n      <td>1</td>\n      <td>8</td>\n      <td>4</td>\n      <td>2016-04-06</td>\n      <td>on grass</td>\n      <td>Day Game</td>\n      <td>Arizona Diamondbacks</td>\n      <td>0</td>\n      <td>...</td>\n      <td>25.000000</td>\n      <td>0.0</td>\n      <td>in unknown direction</td>\n      <td>In Dome</td>\n      <td>7</td>\n      <td>2.650000</td>\n      <td>regular season</td>\n      <td>0</td>\n      <td>1</td>\n      <td>Loss</td>\n    </tr>\n  </tbody>\n</table>\n<p>5 rows × 25 columns</p>\n</div>"
     },
     "execution_count": 220,
     "metadata": {},
     "output_type": "execute_result"
    }
   ],
   "source": [
    "data.fillna(data['attendance'].median(), inplace=True)\n",
    "data['temperature'] = data['temperature'].apply(lambda x: (x - 32) * 5/9)\n",
    "data.drop(data[data['season'] == 'post season'].index, inplace=True)\n",
    "data.head(5)"
   ],
   "metadata": {
    "collapsed": false,
    "pycharm": {
     "name": "#%%\n"
    }
   }
  },
  {
   "cell_type": "markdown",
   "source": [
    "# 1. На какую игру пришло максимальное количество зрителей за весь сезон игр?"
   ],
   "metadata": {
    "collapsed": false,
    "pycharm": {
     "name": "#%% md\n"
    }
   }
  },
  {
   "cell_type": "code",
   "execution_count": 221,
   "outputs": [
    {
     "data": {
      "text/plain": "attendance                        53621.0\naway_team            San Francisco Giants\naway_team_errors                        1\naway_team_hits                         11\naway_team_runs                          2\ndate                           2016-09-20\nfield_type                       on grass\ngame_type                      Night Game\nhome_team             Los Angeles Dodgers\nhome_team_errors                        0\nhome_team_hits                          9\nhome_team_runs                          0\nstart_time                7:10 p.m. Local\nvenue                      Dodger Stadium\nday_of_week                       Tuesday\ntemperature                          25.0\nwind_speed                            6.0\nwind_direction          out to Rightfield\nsky                                Cloudy\ntotal_runs                              2\ngame_hours_dec                        3.6\nseason                     regular season\nhome_team_win                           0\nhome_team_loss                          1\nhome_team_outcome                    Loss\nName: 534, dtype: object"
     },
     "execution_count": 221,
     "metadata": {},
     "output_type": "execute_result"
    }
   ],
   "source": [
    "data.loc[data['attendance'].idxmax(), :]"
   ],
   "metadata": {
    "collapsed": false,
    "pycharm": {
     "name": "#%%\n"
    }
   }
  },
  {
   "cell_type": "markdown",
   "source": [
    "# 2. Какая игра была самая холодная (temperature) за весь сезон?"
   ],
   "metadata": {
    "collapsed": false,
    "pycharm": {
     "name": "#%% md\n"
    }
   }
  },
  {
   "cell_type": "code",
   "execution_count": 222,
   "outputs": [
    {
     "data": {
      "text/plain": "attendance                       32419.0\naway_team               New York Yankees\naway_team_errors                       1\naway_team_hits                        13\naway_team_runs                         8\ndate                          2016-04-09\nfield_type                      on grass\ngame_type                       Day Game\nhome_team                 Detroit Tigers\nhome_team_errors                       1\nhome_team_hits                         7\nhome_team_runs                         4\nstart_time               1:10 p.m. Local\nvenue                      Comerica Park\nday_of_week                     Saturday\ntemperature                    -0.555556\nwind_speed                          18.0\nwind_direction        from Left to Right\nsky                               Cloudy\ntotal_runs                            12\ngame_hours_dec                  3.333333\nseason                    regular season\nhome_team_win                          0\nhome_team_loss                         1\nhome_team_outcome                   Loss\nName: 2409, dtype: object"
     },
     "execution_count": 222,
     "metadata": {},
     "output_type": "execute_result"
    }
   ],
   "source": [
    "data.loc[data['temperature'].idxmin(), :]"
   ],
   "metadata": {
    "collapsed": false,
    "pycharm": {
     "name": "#%%\n"
    }
   }
  },
  {
   "cell_type": "markdown",
   "source": [
    "# 3. Какая игра была самая теплая за весь сезон?"
   ],
   "metadata": {
    "collapsed": false,
    "pycharm": {
     "name": "#%% md\n"
    }
   }
  },
  {
   "cell_type": "code",
   "execution_count": 223,
   "outputs": [
    {
     "data": {
      "text/plain": "attendance                         21753.0\naway_team             San Francisco Giants\naway_team_errors                         0\naway_team_hits                           8\naway_team_runs                           3\ndate                            2016-05-13\nfield_type                        on grass\ngame_type                       Night Game\nhome_team             Arizona Diamondbacks\nhome_team_errors                         0\nhome_team_hits                           8\nhome_team_runs                           1\nstart_time                 6:40 p.m. Local\nvenue                          Chase Field\nday_of_week                         Friday\ntemperature                      38.333333\nwind_speed                             9.0\nwind_direction        in unknown direction\nsky                                  Sunny\ntotal_runs                               4\ngame_hours_dec                         3.0\nseason                      regular season\nhome_team_win                            0\nhome_team_loss                           1\nhome_team_outcome                     Loss\nName: 2026, dtype: object"
     },
     "execution_count": 223,
     "metadata": {},
     "output_type": "execute_result"
    }
   ],
   "source": [
    "data.loc[data['temperature'].idxmax(), :]"
   ],
   "metadata": {
    "collapsed": false,
    "pycharm": {
     "name": "#%%\n"
    }
   }
  },
  {
   "cell_type": "markdown",
   "source": [
    "# 4. Какая игра в сезоне была самая долгая по продолжительности матча?"
   ],
   "metadata": {
    "collapsed": false,
    "pycharm": {
     "name": "#%% md\n"
    }
   }
  },
  {
   "cell_type": "code",
   "execution_count": 224,
   "outputs": [
    {
     "data": {
      "text/plain": "attendance                         45825.0\naway_team                Cleveland Indians\naway_team_errors                         0\naway_team_hits                          15\naway_team_runs                           2\ndate                            2016-07-01\nfield_type                         on turf\ngame_type                         Day Game\nhome_team                Toronto Blue Jays\nhome_team_errors                         2\nhome_team_hits                          11\nhome_team_runs                           1\nstart_time                 1:20 p.m. Local\nvenue                        Rogers Centre\nday_of_week                         Friday\ntemperature                           20.0\nwind_speed                             0.0\nwind_direction        in unknown direction\nsky                                In Dome\ntotal_runs                               3\ngame_hours_dec                    6.216667\nseason                      regular season\nhome_team_win                            0\nhome_team_loss                           1\nhome_team_outcome                     Loss\nName: 1445, dtype: object"
     },
     "execution_count": 224,
     "metadata": {},
     "output_type": "execute_result"
    }
   ],
   "source": [
    "data.loc[data['game_hours_dec'].idxmax(), :]"
   ],
   "metadata": {
    "collapsed": false,
    "pycharm": {
     "name": "#%%\n"
    }
   }
  },
  {
   "cell_type": "markdown",
   "source": [
    "# 5. Какая игра в сезоне была самая короткая по продолжительности матча?"
   ],
   "metadata": {
    "collapsed": false,
    "pycharm": {
     "name": "#%% md\n"
    }
   }
  },
  {
   "cell_type": "code",
   "execution_count": 225,
   "outputs": [
    {
     "data": {
      "text/plain": "attendance                      19991.0\naway_team                  Chicago Cubs\naway_team_errors                      1\naway_team_hits                        4\naway_team_runs                        1\ndate                         2016-09-29\nfield_type                     on grass\ngame_type                    Night Game\nhome_team            Pittsburgh Pirates\nhome_team_errors                      0\nhome_team_hits                        2\nhome_team_runs                        1\nstart_time              7:06 p.m. Local\nvenue                          PNC Park\nday_of_week                    Thursday\ntemperature                   17.222222\nwind_speed                         12.0\nwind_direction        in from Leftfield\nsky                            Overcast\ntotal_runs                            2\ngame_hours_dec                     1.25\nseason                   regular season\nhome_team_win                         0\nhome_team_loss                        0\nhome_team_outcome                  Loss\nName: 423, dtype: object"
     },
     "execution_count": 225,
     "metadata": {},
     "output_type": "execute_result"
    }
   ],
   "source": [
    "data.loc[data['game_hours_dec'].idxmin(), :]"
   ],
   "metadata": {
    "collapsed": false,
    "pycharm": {
     "name": "#%%\n"
    }
   }
  },
  {
   "cell_type": "markdown",
   "source": [
    "# 6. Сколько матчей в сезоне закончилось ничьей?"
   ],
   "metadata": {
    "collapsed": false,
    "pycharm": {
     "name": "#%% md\n"
    }
   }
  },
  {
   "cell_type": "code",
   "execution_count": 226,
   "outputs": [
    {
     "data": {
      "text/plain": "1"
     },
     "execution_count": 226,
     "metadata": {},
     "output_type": "execute_result"
    }
   ],
   "source": [
    "data.loc[(data['home_team_win'] == 0) & (data['home_team_loss'] == 0)].shape[0]"
   ],
   "metadata": {
    "collapsed": false,
    "pycharm": {
     "name": "#%%\n"
    }
   }
  },
  {
   "cell_type": "markdown",
   "source": [
    "# 7. Какая игра была последней в сезоне?"
   ],
   "metadata": {
    "collapsed": false,
    "pycharm": {
     "name": "#%% md\n"
    }
   }
  },
  {
   "cell_type": "code",
   "execution_count": 227,
   "outputs": [],
   "source": [
    "data['date_in_sec'] = data['date'].str.replace('-', '').astype(int)"
   ],
   "metadata": {
    "collapsed": false,
    "pycharm": {
     "name": "#%%\n"
    }
   }
  },
  {
   "cell_type": "code",
   "execution_count": 228,
   "outputs": [
    {
     "data": {
      "text/plain": "attendance                        28730.0\naway_team                   Miami Marlins\naway_team_errors                        0\naway_team_hits                         14\naway_team_runs                          7\ndate                           2016-10-02\nfield_type                       on grass\ngame_type                        Day Game\nhome_team            Washington Nationals\nhome_team_errors                        0\nhome_team_hits                         10\nhome_team_runs                         10\nstart_time                3:06 p.m. Local\nvenue                      Nationals Park\nday_of_week                        Sunday\ntemperature                     22.777778\nwind_speed                            2.0\nwind_direction         from Left to Right\nsky                              Overcast\ntotal_runs                             17\ngame_hours_dec                        3.6\nseason                     regular season\nhome_team_win                           1\nhome_team_loss                          0\nhome_team_outcome                     Win\ndate_in_sec                      20161002\nName: 349, dtype: object"
     },
     "execution_count": 228,
     "metadata": {},
     "output_type": "execute_result"
    }
   ],
   "source": [
    "data.iloc[data['date_in_sec'].idxmax(), :]"
   ],
   "metadata": {
    "collapsed": false,
    "pycharm": {
     "name": "#%%\n"
    }
   }
  },
  {
   "cell_type": "code",
   "execution_count": 229,
   "outputs": [
    {
     "data": {
      "text/plain": "attendance                     36787.0\naway_team            Toronto Blue Jays\naway_team_errors                     0\naway_team_hits                       9\naway_team_runs                       2\ndate                        2016-10-02\nfield_type                    on grass\ngame_type                     Day Game\nhome_team               Boston Red Sox\nhome_team_errors                     1\nhome_team_hits                       4\nhome_team_runs                       1\nstart_time             3:17 p.m. Local\nvenue                      Fenway Park\nday_of_week                     Sunday\ntemperature                  13.333333\nwind_speed                         6.0\nwind_direction        out to Leftfield\nsky                            Unknown\ntotal_runs                           3\ngame_hours_dec                3.233333\nseason                  regular season\nhome_team_win                        0\nhome_team_loss                       1\nhome_team_outcome                 Loss\ndate_in_sec                   20161002\nName: 395, dtype: object"
     },
     "execution_count": 229,
     "metadata": {},
     "output_type": "execute_result"
    }
   ],
   "source": [
    "data[data['date'] == '2016-10-02'].sort_values(by='start_time').iloc[-1]"
   ],
   "metadata": {
    "collapsed": false,
    "pycharm": {
     "name": "#%%\n"
    }
   }
  },
  {
   "cell_type": "markdown",
   "source": [
    "# 8. У какой игры было минимальное количество зрителей?"
   ],
   "metadata": {
    "collapsed": false,
    "pycharm": {
     "name": "#%% md\n"
    }
   }
  },
  {
   "cell_type": "code",
   "execution_count": 230,
   "outputs": [
    {
     "data": {
      "text/plain": "attendance                        8766.0\naway_team                 Detroit Tigers\naway_team_errors                       0\naway_team_hits                         5\naway_team_runs                         0\ndate                          2016-05-04\nfield_type                      on grass\ngame_type                     Night Game\nhome_team              Cleveland Indians\nhome_team_errors                       0\nhome_team_hits                         5\nhome_team_runs                         4\nstart_time               6:10 p.m. Local\nvenue                  Progressive Field\nday_of_week                    Wednesday\ntemperature                    12.222222\nwind_speed                          11.0\nwind_direction        from Left to Right\nsky                             Overcast\ntotal_runs                             4\ngame_hours_dec                  2.316667\nseason                    regular season\nhome_team_win                          1\nhome_team_loss                         0\nhome_team_outcome                    Win\ndate_in_sec                     20160504\nName: 2130, dtype: object"
     },
     "execution_count": 230,
     "metadata": {},
     "output_type": "execute_result"
    }
   ],
   "source": [
    "data.loc[data['attendance'].idxmin(), :]"
   ],
   "metadata": {
    "collapsed": false,
    "pycharm": {
     "name": "#%%\n"
    }
   }
  },
  {
   "cell_type": "markdown",
   "source": [
    "# 9. Какая игра в сезоне была самая ветренная?"
   ],
   "metadata": {
    "collapsed": false,
    "pycharm": {
     "name": "#%% md\n"
    }
   }
  },
  {
   "cell_type": "code",
   "execution_count": 231,
   "outputs": [
    {
     "data": {
      "text/plain": "attendance                        41543.0\naway_team               Milwaukee Brewers\naway_team_errors                        1\naway_team_hits                         11\naway_team_runs                          5\ndate                           2016-06-13\nfield_type                       on grass\ngame_type                      Night Game\nhome_team            San Francisco Giants\nhome_team_errors                        0\nhome_team_hits                         14\nhome_team_runs                         11\nstart_time                7:15 p.m. Local\nvenue                           AT&T Park\nday_of_week                        Monday\ntemperature                     14.444444\nwind_speed                           25.0\nwind_direction         out to Centerfield\nsky                                Cloudy\ntotal_runs                             16\ngame_hours_dec                   3.633333\nseason                     regular season\nhome_team_win                           1\nhome_team_loss                          0\nhome_team_outcome                     Win\ndate_in_sec                      20160613\nName: 1655, dtype: object"
     },
     "execution_count": 231,
     "metadata": {},
     "output_type": "execute_result"
    }
   ],
   "source": [
    "data.loc[data['wind_speed'].idxmax(), :]"
   ],
   "metadata": {
    "collapsed": false,
    "pycharm": {
     "name": "#%%\n"
    }
   }
  },
  {
   "cell_type": "markdown",
   "source": [
    "# 10. В какой игре получили максимальное количество очков?"
   ],
   "metadata": {
    "collapsed": false,
    "pycharm": {
     "name": "#%% md\n"
    }
   }
  },
  {
   "cell_type": "code",
   "execution_count": 232,
   "outputs": [
    {
     "data": {
      "text/plain": "attendance                      22588.0\naway_team              Seattle Mariners\naway_team_errors                      1\naway_team_hits                       16\naway_team_runs                       16\ndate                         2016-06-02\nfield_type                     on grass\ngame_type                    Night Game\nhome_team              San Diego Padres\nhome_team_errors                      1\nhome_team_hits                       20\nhome_team_runs                       13\nstart_time              6:10 p.m. Local\nvenue                        Petco Park\nday_of_week                    Thursday\ntemperature                   24.444444\nwind_speed                         10.0\nwind_direction        out to Rightfield\nsky                               Sunny\ntotal_runs                           29\ngame_hours_dec                 3.833333\nseason                   regular season\nhome_team_win                         0\nhome_team_loss                        1\nhome_team_outcome                  Loss\ndate_in_sec                    20160602\nName: 1788, dtype: object"
     },
     "execution_count": 232,
     "metadata": {},
     "output_type": "execute_result"
    }
   ],
   "source": [
    "data.loc[data['total_runs'].idxmax(), :]"
   ],
   "metadata": {
    "collapsed": false,
    "pycharm": {
     "name": "#%%\n"
    }
   }
  },
  {
   "cell_type": "markdown",
   "source": [
    "# 11. Какая игра содержала максимальное количество ошибок домашней команды?"
   ],
   "metadata": {
    "collapsed": false,
    "pycharm": {
     "name": "#%% md\n"
    }
   }
  },
  {
   "cell_type": "code",
   "execution_count": 233,
   "outputs": [
    {
     "data": {
      "text/plain": "attendance                        22581.0\naway_team            Arizona Diamondbacks\naway_team_errors                        1\naway_team_hits                         11\naway_team_runs                          8\ndate                           2016-07-27\nfield_type                       on grass\ngame_type                      Night Game\nhome_team               Milwaukee Brewers\nhome_team_errors                        5\nhome_team_hits                          5\nhome_team_runs                          1\nstart_time                7:10 p.m. Local\nvenue                         Miller Park\nday_of_week                     Wednesday\ntemperature                          25.0\nwind_speed                            9.0\nwind_direction          in from Leftfield\nsky                                Cloudy\ntotal_runs                              9\ngame_hours_dec                   2.933333\nseason                     regular season\nhome_team_win                           0\nhome_team_loss                          1\nhome_team_outcome                    Loss\ndate_in_sec                      20160727\nName: 1178, dtype: object"
     },
     "execution_count": 233,
     "metadata": {},
     "output_type": "execute_result"
    }
   ],
   "source": [
    "data.loc[data['home_team_errors'].idxmax(), :]"
   ],
   "metadata": {
    "collapsed": false,
    "pycharm": {
     "name": "#%%\n"
    }
   }
  },
  {
   "cell_type": "markdown",
   "source": [
    "# 12. В какой игре было максимальное количество ударов?"
   ],
   "metadata": {
    "collapsed": false,
    "pycharm": {
     "name": "#%% md\n"
    }
   }
  },
  {
   "cell_type": "code",
   "execution_count": 234,
   "outputs": [
    {
     "data": {
      "text/plain": "attendance                       36253.0\naway_team                  Texas Rangers\naway_team_errors                       0\naway_team_hits                        16\naway_team_runs                         5\ndate                          2016-07-04\nfield_type                      on grass\ngame_type                       Day Game\nhome_team                 Boston Red Sox\nhome_team_errors                       2\nhome_team_hits                        21\nhome_team_runs                        12\nstart_time               1:37 p.m. Local\nvenue                        Fenway Park\nday_of_week                       Monday\ntemperature                    28.888889\nwind_speed                          11.0\nwind_direction        out to Centerfield\nsky                               Cloudy\ntotal_runs                            17\ngame_hours_dec                  3.666667\nseason                    regular season\nhome_team_win                          1\nhome_team_loss                         0\nhome_team_outcome                    Win\ndate_in_sec                     20160704\nName: 1413, dtype: object"
     },
     "execution_count": 234,
     "metadata": {},
     "output_type": "execute_result"
    }
   ],
   "source": [
    "data.loc[(data['home_team_hits'] + data['away_team_hits']).idxmax(), :]"
   ],
   "metadata": {
    "collapsed": false,
    "pycharm": {
     "name": "#%%\n"
    }
   }
  },
  {
   "cell_type": "markdown",
   "source": [
    "# 13. Выведите количество игр которая сыграла каждая команда в данном сезоне?"
   ],
   "metadata": {
    "collapsed": false,
    "pycharm": {
     "name": "#%% md\n"
    }
   }
  },
  {
   "cell_type": "code",
   "execution_count": 235,
   "outputs": [
    {
     "data": {
      "text/plain": "home_team\nArizona Diamondbacks             162\nAtlanta Braves                   161\nBaltimore Orioles                162\nBoston Red Sox                   162\nChicago Cubs                     162\nChicago White Sox                162\nCincinnati Reds                  162\nCleveland Indians                161\nColorado Rockies                 162\nDetroit Tigers                   161\nHouston Astros                   162\nKansas City Royals               162\nLos Angeles Angels of Anaheim    162\nLos Angeles Dodgers              162\nMiami Marlins                    161\nMilwaukee Brewers                162\nMinnesota Twins                  162\nNew York Mets                    162\nNew York Yankees                 162\nOakland Athletics                162\nPhiladelphia Phillies            162\nPittsburgh Pirates               162\nSan Diego Padres                 162\nSan Francisco Giants             162\nSeattle Mariners                 162\nSt. Louis Cardinals              162\nTampa Bay Rays                   162\nTexas Rangers                    162\nToronto Blue Jays                162\nWashington Nationals             162\ndtype: int64"
     },
     "execution_count": 235,
     "metadata": {},
     "output_type": "execute_result"
    }
   ],
   "source": [
    "data.groupby('home_team')['home_team'].count() + data.groupby('away_team')['away_team'].count()"
   ],
   "metadata": {
    "collapsed": false,
    "pycharm": {
     "name": "#%%\n"
    }
   }
  },
  {
   "cell_type": "markdown",
   "source": [
    "# 14. Какая команда выиграла наибольшое количество матчей в сезоне? (Будьте внимательны с типом матча в сезоне - season)."
   ],
   "metadata": {
    "collapsed": false,
    "pycharm": {
     "name": "#%% md\n"
    }
   }
  },
  {
   "cell_type": "code",
   "execution_count": 236,
   "outputs": [
    {
     "data": {
      "text/plain": "home_team\nArizona Diamondbacks              69\nAtlanta Braves                    68\nBaltimore Orioles                 89\nBoston Red Sox                    93\nChicago Cubs                     103\nChicago White Sox                 78\nCincinnati Reds                   68\nCleveland Indians                 94\nColorado Rockies                  75\nDetroit Tigers                    86\nHouston Astros                    84\nKansas City Royals                81\nLos Angeles Angels of Anaheim     74\nLos Angeles Dodgers               91\nMiami Marlins                     79\nMilwaukee Brewers                 73\nMinnesota Twins                   59\nNew York Mets                     87\nNew York Yankees                  84\nOakland Athletics                 69\nPhiladelphia Phillies             71\nPittsburgh Pirates                78\nSan Diego Padres                  68\nSan Francisco Giants              87\nSeattle Mariners                  86\nSt. Louis Cardinals               86\nTampa Bay Rays                    68\nTexas Rangers                     95\nToronto Blue Jays                 89\nWashington Nationals              95\ndtype: int64"
     },
     "execution_count": 236,
     "metadata": {},
     "output_type": "execute_result"
    }
   ],
   "source": [
    "data.groupby('home_team')['home_team_win'].sum() + data.groupby('away_team')['home_team_loss'].sum()"
   ],
   "metadata": {
    "collapsed": false,
    "pycharm": {
     "name": "#%%\n"
    }
   }
  },
  {
   "cell_type": "markdown",
   "source": [
    "# 15. Какая команда выиграла наибольшее количество домашних матчей в сезоне?"
   ],
   "metadata": {
    "collapsed": false,
    "pycharm": {
     "name": "#%% md\n"
    }
   }
  },
  {
   "cell_type": "code",
   "execution_count": 237,
   "outputs": [
    {
     "data": {
      "text/plain": "'Chicago Cubs'"
     },
     "execution_count": 237,
     "metadata": {},
     "output_type": "execute_result"
    }
   ],
   "source": [
    "home_teams_wins = data.groupby('home_team')['home_team_win'].sum()\n",
    "home_teams_wins.index[home_teams_wins.argmax()]"
   ],
   "metadata": {
    "collapsed": false,
    "pycharm": {
     "name": "#%%\n"
    }
   }
  },
  {
   "cell_type": "markdown",
   "source": [
    "# 16. Какая команда выиграла наибольшее количество гостевых матчей в сезоне?"
   ],
   "metadata": {
    "collapsed": false,
    "pycharm": {
     "name": "#%% md\n"
    }
   }
  },
  {
   "cell_type": "code",
   "execution_count": 238,
   "outputs": [
    {
     "data": {
      "text/plain": "'St. Louis Cardinals'"
     },
     "execution_count": 238,
     "metadata": {},
     "output_type": "execute_result"
    }
   ],
   "source": [
    "away_teams_wins = data.groupby('away_team')['home_team_loss'].sum()\n",
    "away_teams_wins.index[away_teams_wins.argmax()]"
   ],
   "metadata": {
    "collapsed": false,
    "pycharm": {
     "name": "#%%\n"
    }
   }
  },
  {
   "cell_type": "markdown",
   "source": [
    "# 17. Какая команда проиграла наибольшее количество матчей в сезоне?"
   ],
   "metadata": {
    "collapsed": false,
    "pycharm": {
     "name": "#%% md\n"
    }
   }
  },
  {
   "cell_type": "code",
   "execution_count": 239,
   "outputs": [
    {
     "data": {
      "text/plain": "'Minnesota Twins'"
     },
     "execution_count": 239,
     "metadata": {},
     "output_type": "execute_result"
    }
   ],
   "source": [
    "team_loses = data.groupby('home_team')['home_team_loss'].sum() + data.groupby('away_team')['home_team_win'].sum()\n",
    "team_loses.index[team_loses.argmax()]"
   ],
   "metadata": {
    "collapsed": false,
    "pycharm": {
     "name": "#%%\n"
    }
   }
  },
  {
   "cell_type": "markdown",
   "source": [
    "# 18. Зависит ли выигрышь от количества посетителей матча? (https://pandas.pydata.org/docs/reference/api/pandas.DataFrame.cov.html)"
   ],
   "metadata": {
    "collapsed": false,
    "pycharm": {
     "name": "#%% md\n"
    }
   }
  },
  {
   "cell_type": "code",
   "execution_count": 240,
   "outputs": [
    {
     "data": {
      "text/plain": "               attendance  home_team_win\nattendance       1.000000       0.049711\nhome_team_win    0.049711       1.000000",
      "text/html": "<div>\n<style scoped>\n    .dataframe tbody tr th:only-of-type {\n        vertical-align: middle;\n    }\n\n    .dataframe tbody tr th {\n        vertical-align: top;\n    }\n\n    .dataframe thead th {\n        text-align: right;\n    }\n</style>\n<table border=\"1\" class=\"dataframe\">\n  <thead>\n    <tr style=\"text-align: right;\">\n      <th></th>\n      <th>attendance</th>\n      <th>home_team_win</th>\n    </tr>\n  </thead>\n  <tbody>\n    <tr>\n      <th>attendance</th>\n      <td>1.000000</td>\n      <td>0.049711</td>\n    </tr>\n    <tr>\n      <th>home_team_win</th>\n      <td>0.049711</td>\n      <td>1.000000</td>\n    </tr>\n  </tbody>\n</table>\n</div>"
     },
     "execution_count": 240,
     "metadata": {},
     "output_type": "execute_result"
    }
   ],
   "source": [
    "data[['attendance', 'home_team_win']].corr()"
   ],
   "metadata": {
    "collapsed": false,
    "pycharm": {
     "name": "#%%\n"
    }
   }
  },
  {
   "cell_type": "markdown",
   "source": [
    "#### Коэффициент корреляции между двумя признаками получился довольно маленьким, но ненулевым следовательно, некая взаимосвязь есть, но она слабозначимая"
   ],
   "metadata": {
    "collapsed": false,
    "pycharm": {
     "name": "#%% md\n"
    }
   }
  },
  {
   "cell_type": "markdown",
   "source": [
    "# 19. Правда ли что большинство проигрышных домашних матчей приходятся на Субботу и Воскресенье?"
   ],
   "metadata": {
    "collapsed": false,
    "pycharm": {
     "name": "#%% md\n"
    }
   }
  },
  {
   "cell_type": "code",
   "execution_count": 241,
   "outputs": [
    {
     "name": "stdout",
     "output_type": "stream",
     "text": [
      "all: 1140\n",
      "weekend: 363\n",
      "percent of weekend loses: 0.31842105263157894\n"
     ]
    }
   ],
   "source": [
    "loses_by_days = data.groupby('day_of_week').agg({'home_team_loss': 'sum'})\n",
    "weekend_loses = loses_by_days['home_team_loss'][2:4].sum()\n",
    "all_loses = loses_by_days['home_team_loss'].sum()\n",
    "print('all: {}\\nweekend: {}\\npercent of weekend loses: {}'.format(all_loses, weekend_loses, weekend_loses / all_loses))"
   ],
   "metadata": {
    "collapsed": false,
    "pycharm": {
     "name": "#%%\n"
    }
   }
  },
  {
   "cell_type": "markdown",
   "source": [
    "#### Нет, т.к. на субботу и воскресение не приходится даже половины проигрышей"
   ],
   "metadata": {
    "collapsed": false,
    "pycharm": {
     "name": "#%% md\n"
    }
   }
  },
  {
   "cell_type": "markdown",
   "source": [
    "# 20. Правда ли что наибольшее количество ранов происходит в холодную погоду? (Холодной погодой считается погода ниже 0 градусов)"
   ],
   "metadata": {
    "collapsed": false,
    "pycharm": {
     "name": "#%% md\n"
    }
   }
  },
  {
   "cell_type": "code",
   "execution_count": 242,
   "outputs": [
    {
     "data": {
      "text/plain": "                  total_runs\ncold_temperature            \nFalse                  21732\nTrue                      12",
      "text/html": "<div>\n<style scoped>\n    .dataframe tbody tr th:only-of-type {\n        vertical-align: middle;\n    }\n\n    .dataframe tbody tr th {\n        vertical-align: top;\n    }\n\n    .dataframe thead th {\n        text-align: right;\n    }\n</style>\n<table border=\"1\" class=\"dataframe\">\n  <thead>\n    <tr style=\"text-align: right;\">\n      <th></th>\n      <th>total_runs</th>\n    </tr>\n    <tr>\n      <th>cold_temperature</th>\n      <th></th>\n    </tr>\n  </thead>\n  <tbody>\n    <tr>\n      <th>False</th>\n      <td>21732</td>\n    </tr>\n    <tr>\n      <th>True</th>\n      <td>12</td>\n    </tr>\n  </tbody>\n</table>\n</div>"
     },
     "execution_count": 242,
     "metadata": {},
     "output_type": "execute_result"
    }
   ],
   "source": [
    "data['cold_temperature'] = data['temperature'].map(lambda x: x < 0)\n",
    "data.groupby('cold_temperature').agg({'total_runs': 'sum'})"
   ],
   "metadata": {
    "collapsed": false,
    "pycharm": {
     "name": "#%%\n"
    }
   }
  },
  {
   "cell_type": "markdown",
   "source": [
    "#### Нет"
   ],
   "metadata": {
    "collapsed": false,
    "pycharm": {
     "name": "#%% md\n"
    }
   }
  },
  {
   "cell_type": "code",
   "execution_count": null,
   "outputs": [],
   "source": [],
   "metadata": {
    "collapsed": false,
    "pycharm": {
     "name": "#%%\n"
    }
   }
  }
 ],
 "metadata": {
  "kernelspec": {
   "display_name": "Python 3",
   "language": "python",
   "name": "python3"
  },
  "language_info": {
   "codemirror_mode": {
    "name": "ipython",
    "version": 2
   },
   "file_extension": ".py",
   "mimetype": "text/x-python",
   "name": "python",
   "nbconvert_exporter": "python",
   "pygments_lexer": "ipython2",
   "version": "2.7.6"
  }
 },
 "nbformat": 4,
 "nbformat_minor": 0
}