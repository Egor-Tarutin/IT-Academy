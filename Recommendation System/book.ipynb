{
 "cells": [
  {
   "cell_type": "code",
   "execution_count": 1,
   "outputs": [],
   "source": [
    "import pandas as pd\n",
    "import numpy as np\n",
    "import json\n",
    "import re\n",
    "import sys\n",
    "import itertools\n",
    "\n",
    "from sklearn.feature_extraction.text import TfidfVectorizer\n",
    "from sklearn.metrics.pairwise import cosine_similarity\n",
    "from sklearn.preprocessing import StandardScaler\n",
    "import matplotlib.pyplot as plt\n",
    "\n",
    "\n",
    "import spotipy\n",
    "from spotipy.oauth2 import SpotifyClientCredentials\n",
    "from spotipy.oauth2 import SpotifyOAuth\n",
    "import spotipy.util as util\n",
    "\n",
    "import warnings\n",
    "warnings.filterwarnings(\"ignore\")"
   ],
   "metadata": {
    "collapsed": false
   }
  },
  {
   "cell_type": "code",
   "execution_count": 2,
   "outputs": [
    {
     "data": {
      "text/plain": "   valence  year  acousticness  \\\n0   0.0594  1921         0.982   \n1   0.9630  1921         0.732   \n2   0.0394  1921         0.961   \n3   0.1650  1921         0.967   \n4   0.2530  1921         0.957   \n\n                                             artists  danceability  \\\n0  ['Sergei Rachmaninoff', 'James Levine', 'Berli...         0.279   \n1                                     ['Dennis Day']         0.819   \n2  ['KHP Kridhamardawa Karaton Ngayogyakarta Hadi...         0.328   \n3                                   ['Frank Parker']         0.275   \n4                                     ['Phil Regan']         0.418   \n\n   duration_ms  energy  explicit                      id  instrumentalness  \\\n0       831667   0.211         0  4BJqT0PrAfrxzMOxytFOIz          0.878000   \n1       180533   0.341         0  7xPhfUan2yNtyFG0cUWkt8          0.000000   \n2       500062   0.166         0  1o6I8BglA6ylDMrIELygv1          0.913000   \n3       210000   0.309         0  3ftBPsC5vPBKxYSee08FDH          0.000028   \n4       166693   0.193         0  4d6HGyGT8e121BsdKmw9v6          0.000002   \n\n   key  liveness  loudness  mode  \\\n0   10     0.665   -20.096     1   \n1    7     0.160   -12.441     1   \n2    3     0.101   -14.850     1   \n3    5     0.381    -9.316     1   \n4    3     0.229   -10.096     1   \n\n                                                name  popularity release_date  \\\n0  Piano Concerto No. 3 in D Minor, Op. 30: III. ...           4         1921   \n1                            Clancy Lowered the Boom           5         1921   \n2                                          Gati Bali           5         1921   \n3                                          Danny Boy           3         1921   \n4                        When Irish Eyes Are Smiling           2         1921   \n\n   speechiness    tempo  \n0       0.0366   80.954  \n1       0.4150   60.936  \n2       0.0339  110.339  \n3       0.0354  100.109  \n4       0.0380  101.665  ",
      "text/html": "<div>\n<style scoped>\n    .dataframe tbody tr th:only-of-type {\n        vertical-align: middle;\n    }\n\n    .dataframe tbody tr th {\n        vertical-align: top;\n    }\n\n    .dataframe thead th {\n        text-align: right;\n    }\n</style>\n<table border=\"1\" class=\"dataframe\">\n  <thead>\n    <tr style=\"text-align: right;\">\n      <th></th>\n      <th>valence</th>\n      <th>year</th>\n      <th>acousticness</th>\n      <th>artists</th>\n      <th>danceability</th>\n      <th>duration_ms</th>\n      <th>energy</th>\n      <th>explicit</th>\n      <th>id</th>\n      <th>instrumentalness</th>\n      <th>key</th>\n      <th>liveness</th>\n      <th>loudness</th>\n      <th>mode</th>\n      <th>name</th>\n      <th>popularity</th>\n      <th>release_date</th>\n      <th>speechiness</th>\n      <th>tempo</th>\n    </tr>\n  </thead>\n  <tbody>\n    <tr>\n      <th>0</th>\n      <td>0.0594</td>\n      <td>1921</td>\n      <td>0.982</td>\n      <td>['Sergei Rachmaninoff', 'James Levine', 'Berli...</td>\n      <td>0.279</td>\n      <td>831667</td>\n      <td>0.211</td>\n      <td>0</td>\n      <td>4BJqT0PrAfrxzMOxytFOIz</td>\n      <td>0.878000</td>\n      <td>10</td>\n      <td>0.665</td>\n      <td>-20.096</td>\n      <td>1</td>\n      <td>Piano Concerto No. 3 in D Minor, Op. 30: III. ...</td>\n      <td>4</td>\n      <td>1921</td>\n      <td>0.0366</td>\n      <td>80.954</td>\n    </tr>\n    <tr>\n      <th>1</th>\n      <td>0.9630</td>\n      <td>1921</td>\n      <td>0.732</td>\n      <td>['Dennis Day']</td>\n      <td>0.819</td>\n      <td>180533</td>\n      <td>0.341</td>\n      <td>0</td>\n      <td>7xPhfUan2yNtyFG0cUWkt8</td>\n      <td>0.000000</td>\n      <td>7</td>\n      <td>0.160</td>\n      <td>-12.441</td>\n      <td>1</td>\n      <td>Clancy Lowered the Boom</td>\n      <td>5</td>\n      <td>1921</td>\n      <td>0.4150</td>\n      <td>60.936</td>\n    </tr>\n    <tr>\n      <th>2</th>\n      <td>0.0394</td>\n      <td>1921</td>\n      <td>0.961</td>\n      <td>['KHP Kridhamardawa Karaton Ngayogyakarta Hadi...</td>\n      <td>0.328</td>\n      <td>500062</td>\n      <td>0.166</td>\n      <td>0</td>\n      <td>1o6I8BglA6ylDMrIELygv1</td>\n      <td>0.913000</td>\n      <td>3</td>\n      <td>0.101</td>\n      <td>-14.850</td>\n      <td>1</td>\n      <td>Gati Bali</td>\n      <td>5</td>\n      <td>1921</td>\n      <td>0.0339</td>\n      <td>110.339</td>\n    </tr>\n    <tr>\n      <th>3</th>\n      <td>0.1650</td>\n      <td>1921</td>\n      <td>0.967</td>\n      <td>['Frank Parker']</td>\n      <td>0.275</td>\n      <td>210000</td>\n      <td>0.309</td>\n      <td>0</td>\n      <td>3ftBPsC5vPBKxYSee08FDH</td>\n      <td>0.000028</td>\n      <td>5</td>\n      <td>0.381</td>\n      <td>-9.316</td>\n      <td>1</td>\n      <td>Danny Boy</td>\n      <td>3</td>\n      <td>1921</td>\n      <td>0.0354</td>\n      <td>100.109</td>\n    </tr>\n    <tr>\n      <th>4</th>\n      <td>0.2530</td>\n      <td>1921</td>\n      <td>0.957</td>\n      <td>['Phil Regan']</td>\n      <td>0.418</td>\n      <td>166693</td>\n      <td>0.193</td>\n      <td>0</td>\n      <td>4d6HGyGT8e121BsdKmw9v6</td>\n      <td>0.000002</td>\n      <td>3</td>\n      <td>0.229</td>\n      <td>-10.096</td>\n      <td>1</td>\n      <td>When Irish Eyes Are Smiling</td>\n      <td>2</td>\n      <td>1921</td>\n      <td>0.0380</td>\n      <td>101.665</td>\n    </tr>\n  </tbody>\n</table>\n</div>"
     },
     "execution_count": 2,
     "metadata": {},
     "output_type": "execute_result"
    }
   ],
   "source": [
    "data = pd.read_csv('./../data/data.csv')\n",
    "data.head()"
   ],
   "metadata": {
    "collapsed": false
   }
  },
  {
   "cell_type": "code",
   "execution_count": 3,
   "outputs": [
    {
     "data": {
      "text/plain": "   mode  count  acousticness  \\\n0     1      9      0.590111   \n1     1     26      0.862538   \n2     1      7      0.856571   \n3     1     27      0.884926   \n4     1      7      0.510714   \n\n                                             artists  danceability  \\\n0                   \"Cats\" 1981 Original London Cast      0.467222   \n1                          \"Cats\" 1983 Broadway Cast      0.441731   \n2        \"Fiddler On The Roof” Motion Picture Chorus      0.348286   \n3     \"Fiddler On The Roof” Motion Picture Orchestra      0.425074   \n4  \"Joseph And The Amazing Technicolor Dreamcoat\"...      0.467143   \n\n     duration_ms    energy  instrumentalness  liveness   loudness  \\\n0  250318.555556  0.394003          0.011400  0.290833 -14.448000   \n1  287280.000000  0.406808          0.081158  0.315215 -10.690000   \n2  328920.000000  0.286571          0.024593  0.325786 -15.230714   \n3  262890.962963  0.245770          0.073587  0.275481 -15.639370   \n4  270436.142857  0.488286          0.009400  0.195000 -10.236714   \n\n   speechiness       tempo   valence  popularity  key  \n0     0.210389  117.518111  0.389500   38.333333    5  \n1     0.176212  103.044154  0.268865   30.576923    5  \n2     0.118514   77.375857  0.354857   34.857143    0  \n3     0.123200   88.667630  0.372030   34.851852    0  \n4     0.098543  122.835857  0.482286   43.000000    5  ",
      "text/html": "<div>\n<style scoped>\n    .dataframe tbody tr th:only-of-type {\n        vertical-align: middle;\n    }\n\n    .dataframe tbody tr th {\n        vertical-align: top;\n    }\n\n    .dataframe thead th {\n        text-align: right;\n    }\n</style>\n<table border=\"1\" class=\"dataframe\">\n  <thead>\n    <tr style=\"text-align: right;\">\n      <th></th>\n      <th>mode</th>\n      <th>count</th>\n      <th>acousticness</th>\n      <th>artists</th>\n      <th>danceability</th>\n      <th>duration_ms</th>\n      <th>energy</th>\n      <th>instrumentalness</th>\n      <th>liveness</th>\n      <th>loudness</th>\n      <th>speechiness</th>\n      <th>tempo</th>\n      <th>valence</th>\n      <th>popularity</th>\n      <th>key</th>\n    </tr>\n  </thead>\n  <tbody>\n    <tr>\n      <th>0</th>\n      <td>1</td>\n      <td>9</td>\n      <td>0.590111</td>\n      <td>\"Cats\" 1981 Original London Cast</td>\n      <td>0.467222</td>\n      <td>250318.555556</td>\n      <td>0.394003</td>\n      <td>0.011400</td>\n      <td>0.290833</td>\n      <td>-14.448000</td>\n      <td>0.210389</td>\n      <td>117.518111</td>\n      <td>0.389500</td>\n      <td>38.333333</td>\n      <td>5</td>\n    </tr>\n    <tr>\n      <th>1</th>\n      <td>1</td>\n      <td>26</td>\n      <td>0.862538</td>\n      <td>\"Cats\" 1983 Broadway Cast</td>\n      <td>0.441731</td>\n      <td>287280.000000</td>\n      <td>0.406808</td>\n      <td>0.081158</td>\n      <td>0.315215</td>\n      <td>-10.690000</td>\n      <td>0.176212</td>\n      <td>103.044154</td>\n      <td>0.268865</td>\n      <td>30.576923</td>\n      <td>5</td>\n    </tr>\n    <tr>\n      <th>2</th>\n      <td>1</td>\n      <td>7</td>\n      <td>0.856571</td>\n      <td>\"Fiddler On The Roof” Motion Picture Chorus</td>\n      <td>0.348286</td>\n      <td>328920.000000</td>\n      <td>0.286571</td>\n      <td>0.024593</td>\n      <td>0.325786</td>\n      <td>-15.230714</td>\n      <td>0.118514</td>\n      <td>77.375857</td>\n      <td>0.354857</td>\n      <td>34.857143</td>\n      <td>0</td>\n    </tr>\n    <tr>\n      <th>3</th>\n      <td>1</td>\n      <td>27</td>\n      <td>0.884926</td>\n      <td>\"Fiddler On The Roof” Motion Picture Orchestra</td>\n      <td>0.425074</td>\n      <td>262890.962963</td>\n      <td>0.245770</td>\n      <td>0.073587</td>\n      <td>0.275481</td>\n      <td>-15.639370</td>\n      <td>0.123200</td>\n      <td>88.667630</td>\n      <td>0.372030</td>\n      <td>34.851852</td>\n      <td>0</td>\n    </tr>\n    <tr>\n      <th>4</th>\n      <td>1</td>\n      <td>7</td>\n      <td>0.510714</td>\n      <td>\"Joseph And The Amazing Technicolor Dreamcoat\"...</td>\n      <td>0.467143</td>\n      <td>270436.142857</td>\n      <td>0.488286</td>\n      <td>0.009400</td>\n      <td>0.195000</td>\n      <td>-10.236714</td>\n      <td>0.098543</td>\n      <td>122.835857</td>\n      <td>0.482286</td>\n      <td>43.000000</td>\n      <td>5</td>\n    </tr>\n  </tbody>\n</table>\n</div>"
     },
     "execution_count": 3,
     "metadata": {},
     "output_type": "execute_result"
    }
   ],
   "source": [
    "data_by_artist = pd.read_csv('./../data/data_by_artist.csv')\n",
    "data_by_artist.head()"
   ],
   "metadata": {
    "collapsed": false
   }
  },
  {
   "cell_type": "code",
   "execution_count": 4,
   "outputs": [
    {
     "data": {
      "text/plain": "   mode                  genres  acousticness  danceability   duration_ms  \\\n0     1  21st century classical      0.979333      0.162883  1.602977e+05   \n1     1                   432hz      0.494780      0.299333  1.048887e+06   \n2     1                   8-bit      0.762000      0.712000  1.151770e+05   \n3     1                      []      0.651417      0.529093  2.328809e+05   \n4     1              a cappella      0.676557      0.538961  1.906285e+05   \n\n     energy  instrumentalness  liveness   loudness  speechiness       tempo  \\\n0  0.071317          0.606834  0.361600 -31.514333     0.040567   75.336500   \n1  0.450678          0.477762  0.131000 -16.854000     0.076817  120.285667   \n2  0.818000          0.876000  0.126000  -9.180000     0.047000  133.444000   \n3  0.419146          0.205309  0.218696 -12.288965     0.107872  112.857352   \n4  0.316434          0.003003  0.172254 -12.479387     0.082851  112.110362   \n\n    valence  popularity  key  \n0  0.103783   27.833333    6  \n1  0.221750   52.500000    5  \n2  0.975000   48.000000    7  \n3  0.513604   20.859882    7  \n4  0.448249   45.820071    7  ",
      "text/html": "<div>\n<style scoped>\n    .dataframe tbody tr th:only-of-type {\n        vertical-align: middle;\n    }\n\n    .dataframe tbody tr th {\n        vertical-align: top;\n    }\n\n    .dataframe thead th {\n        text-align: right;\n    }\n</style>\n<table border=\"1\" class=\"dataframe\">\n  <thead>\n    <tr style=\"text-align: right;\">\n      <th></th>\n      <th>mode</th>\n      <th>genres</th>\n      <th>acousticness</th>\n      <th>danceability</th>\n      <th>duration_ms</th>\n      <th>energy</th>\n      <th>instrumentalness</th>\n      <th>liveness</th>\n      <th>loudness</th>\n      <th>speechiness</th>\n      <th>tempo</th>\n      <th>valence</th>\n      <th>popularity</th>\n      <th>key</th>\n    </tr>\n  </thead>\n  <tbody>\n    <tr>\n      <th>0</th>\n      <td>1</td>\n      <td>21st century classical</td>\n      <td>0.979333</td>\n      <td>0.162883</td>\n      <td>1.602977e+05</td>\n      <td>0.071317</td>\n      <td>0.606834</td>\n      <td>0.361600</td>\n      <td>-31.514333</td>\n      <td>0.040567</td>\n      <td>75.336500</td>\n      <td>0.103783</td>\n      <td>27.833333</td>\n      <td>6</td>\n    </tr>\n    <tr>\n      <th>1</th>\n      <td>1</td>\n      <td>432hz</td>\n      <td>0.494780</td>\n      <td>0.299333</td>\n      <td>1.048887e+06</td>\n      <td>0.450678</td>\n      <td>0.477762</td>\n      <td>0.131000</td>\n      <td>-16.854000</td>\n      <td>0.076817</td>\n      <td>120.285667</td>\n      <td>0.221750</td>\n      <td>52.500000</td>\n      <td>5</td>\n    </tr>\n    <tr>\n      <th>2</th>\n      <td>1</td>\n      <td>8-bit</td>\n      <td>0.762000</td>\n      <td>0.712000</td>\n      <td>1.151770e+05</td>\n      <td>0.818000</td>\n      <td>0.876000</td>\n      <td>0.126000</td>\n      <td>-9.180000</td>\n      <td>0.047000</td>\n      <td>133.444000</td>\n      <td>0.975000</td>\n      <td>48.000000</td>\n      <td>7</td>\n    </tr>\n    <tr>\n      <th>3</th>\n      <td>1</td>\n      <td>[]</td>\n      <td>0.651417</td>\n      <td>0.529093</td>\n      <td>2.328809e+05</td>\n      <td>0.419146</td>\n      <td>0.205309</td>\n      <td>0.218696</td>\n      <td>-12.288965</td>\n      <td>0.107872</td>\n      <td>112.857352</td>\n      <td>0.513604</td>\n      <td>20.859882</td>\n      <td>7</td>\n    </tr>\n    <tr>\n      <th>4</th>\n      <td>1</td>\n      <td>a cappella</td>\n      <td>0.676557</td>\n      <td>0.538961</td>\n      <td>1.906285e+05</td>\n      <td>0.316434</td>\n      <td>0.003003</td>\n      <td>0.172254</td>\n      <td>-12.479387</td>\n      <td>0.082851</td>\n      <td>112.110362</td>\n      <td>0.448249</td>\n      <td>45.820071</td>\n      <td>7</td>\n    </tr>\n  </tbody>\n</table>\n</div>"
     },
     "execution_count": 4,
     "metadata": {},
     "output_type": "execute_result"
    }
   ],
   "source": [
    "data_by_genres = pd.read_csv('./../data/data_by_genres.csv')\n",
    "data_by_genres.head()"
   ],
   "metadata": {
    "collapsed": false
   }
  },
  {
   "cell_type": "code",
   "execution_count": 5,
   "outputs": [
    {
     "data": {
      "text/plain": "   mode  year  acousticness  danceability    duration_ms    energy  \\\n0     1  1921      0.886896      0.418597  260537.166667  0.231815   \n1     1  1922      0.938592      0.482042  165469.746479  0.237815   \n2     1  1923      0.957247      0.577341  177942.362162  0.262406   \n3     1  1924      0.940200      0.549894  191046.707627  0.344347   \n4     1  1925      0.962607      0.573863  184986.924460  0.278594   \n\n   instrumentalness  liveness   loudness  speechiness       tempo   valence  \\\n0          0.344878  0.205710 -17.048667     0.073662  101.531493  0.379327   \n1          0.434195  0.240720 -19.275282     0.116655  100.884521  0.535549   \n2          0.371733  0.227462 -14.129211     0.093949  114.010730  0.625492   \n3          0.581701  0.235219 -14.231343     0.092089  120.689572  0.663725   \n4          0.418297  0.237668 -14.146414     0.111918  115.521921  0.621929   \n\n   popularity  key  \n0    0.653333    2  \n1    0.140845   10  \n2    5.389189    0  \n3    0.661017   10  \n4    2.604317    5  ",
      "text/html": "<div>\n<style scoped>\n    .dataframe tbody tr th:only-of-type {\n        vertical-align: middle;\n    }\n\n    .dataframe tbody tr th {\n        vertical-align: top;\n    }\n\n    .dataframe thead th {\n        text-align: right;\n    }\n</style>\n<table border=\"1\" class=\"dataframe\">\n  <thead>\n    <tr style=\"text-align: right;\">\n      <th></th>\n      <th>mode</th>\n      <th>year</th>\n      <th>acousticness</th>\n      <th>danceability</th>\n      <th>duration_ms</th>\n      <th>energy</th>\n      <th>instrumentalness</th>\n      <th>liveness</th>\n      <th>loudness</th>\n      <th>speechiness</th>\n      <th>tempo</th>\n      <th>valence</th>\n      <th>popularity</th>\n      <th>key</th>\n    </tr>\n  </thead>\n  <tbody>\n    <tr>\n      <th>0</th>\n      <td>1</td>\n      <td>1921</td>\n      <td>0.886896</td>\n      <td>0.418597</td>\n      <td>260537.166667</td>\n      <td>0.231815</td>\n      <td>0.344878</td>\n      <td>0.205710</td>\n      <td>-17.048667</td>\n      <td>0.073662</td>\n      <td>101.531493</td>\n      <td>0.379327</td>\n      <td>0.653333</td>\n      <td>2</td>\n    </tr>\n    <tr>\n      <th>1</th>\n      <td>1</td>\n      <td>1922</td>\n      <td>0.938592</td>\n      <td>0.482042</td>\n      <td>165469.746479</td>\n      <td>0.237815</td>\n      <td>0.434195</td>\n      <td>0.240720</td>\n      <td>-19.275282</td>\n      <td>0.116655</td>\n      <td>100.884521</td>\n      <td>0.535549</td>\n      <td>0.140845</td>\n      <td>10</td>\n    </tr>\n    <tr>\n      <th>2</th>\n      <td>1</td>\n      <td>1923</td>\n      <td>0.957247</td>\n      <td>0.577341</td>\n      <td>177942.362162</td>\n      <td>0.262406</td>\n      <td>0.371733</td>\n      <td>0.227462</td>\n      <td>-14.129211</td>\n      <td>0.093949</td>\n      <td>114.010730</td>\n      <td>0.625492</td>\n      <td>5.389189</td>\n      <td>0</td>\n    </tr>\n    <tr>\n      <th>3</th>\n      <td>1</td>\n      <td>1924</td>\n      <td>0.940200</td>\n      <td>0.549894</td>\n      <td>191046.707627</td>\n      <td>0.344347</td>\n      <td>0.581701</td>\n      <td>0.235219</td>\n      <td>-14.231343</td>\n      <td>0.092089</td>\n      <td>120.689572</td>\n      <td>0.663725</td>\n      <td>0.661017</td>\n      <td>10</td>\n    </tr>\n    <tr>\n      <th>4</th>\n      <td>1</td>\n      <td>1925</td>\n      <td>0.962607</td>\n      <td>0.573863</td>\n      <td>184986.924460</td>\n      <td>0.278594</td>\n      <td>0.418297</td>\n      <td>0.237668</td>\n      <td>-14.146414</td>\n      <td>0.111918</td>\n      <td>115.521921</td>\n      <td>0.621929</td>\n      <td>2.604317</td>\n      <td>5</td>\n    </tr>\n  </tbody>\n</table>\n</div>"
     },
     "execution_count": 5,
     "metadata": {},
     "output_type": "execute_result"
    }
   ],
   "source": [
    "data_by_year = pd.read_csv('./../data/data_by_year.csv')\n",
    "data_by_year.head()"
   ],
   "metadata": {
    "collapsed": false
   }
  },
  {
   "cell_type": "code",
   "execution_count": 6,
   "outputs": [
    {
     "data": {
      "text/plain": "           genres                                            artists  \\\n0  ['show tunes']                   \"Cats\" 1981 Original London Cast   \n1              []                          \"Cats\" 1983 Broadway Cast   \n2              []        \"Fiddler On The Roof” Motion Picture Chorus   \n3              []     \"Fiddler On The Roof” Motion Picture Orchestra   \n4              []  \"Joseph And The Amazing Technicolor Dreamcoat\"...   \n\n   acousticness  danceability    duration_ms    energy  instrumentalness  \\\n0      0.590111      0.467222  250318.555556  0.394003          0.011400   \n1      0.862538      0.441731  287280.000000  0.406808          0.081158   \n2      0.856571      0.348286  328920.000000  0.286571          0.024593   \n3      0.884926      0.425074  262890.962963  0.245770          0.073587   \n4      0.510714      0.467143  270436.142857  0.488286          0.009400   \n\n   liveness   loudness  speechiness       tempo   valence  popularity  key  \\\n0  0.290833 -14.448000     0.210389  117.518111  0.389500   38.333333    5   \n1  0.315215 -10.690000     0.176212  103.044154  0.268865   30.576923    5   \n2  0.325786 -15.230714     0.118514   77.375857  0.354857   34.857143    0   \n3  0.275481 -15.639370     0.123200   88.667630  0.372030   34.851852    0   \n4  0.195000 -10.236714     0.098543  122.835857  0.482286   43.000000    5   \n\n   mode  count  \n0     1      9  \n1     1     26  \n2     1      7  \n3     1     27  \n4     1      7  ",
      "text/html": "<div>\n<style scoped>\n    .dataframe tbody tr th:only-of-type {\n        vertical-align: middle;\n    }\n\n    .dataframe tbody tr th {\n        vertical-align: top;\n    }\n\n    .dataframe thead th {\n        text-align: right;\n    }\n</style>\n<table border=\"1\" class=\"dataframe\">\n  <thead>\n    <tr style=\"text-align: right;\">\n      <th></th>\n      <th>genres</th>\n      <th>artists</th>\n      <th>acousticness</th>\n      <th>danceability</th>\n      <th>duration_ms</th>\n      <th>energy</th>\n      <th>instrumentalness</th>\n      <th>liveness</th>\n      <th>loudness</th>\n      <th>speechiness</th>\n      <th>tempo</th>\n      <th>valence</th>\n      <th>popularity</th>\n      <th>key</th>\n      <th>mode</th>\n      <th>count</th>\n    </tr>\n  </thead>\n  <tbody>\n    <tr>\n      <th>0</th>\n      <td>['show tunes']</td>\n      <td>\"Cats\" 1981 Original London Cast</td>\n      <td>0.590111</td>\n      <td>0.467222</td>\n      <td>250318.555556</td>\n      <td>0.394003</td>\n      <td>0.011400</td>\n      <td>0.290833</td>\n      <td>-14.448000</td>\n      <td>0.210389</td>\n      <td>117.518111</td>\n      <td>0.389500</td>\n      <td>38.333333</td>\n      <td>5</td>\n      <td>1</td>\n      <td>9</td>\n    </tr>\n    <tr>\n      <th>1</th>\n      <td>[]</td>\n      <td>\"Cats\" 1983 Broadway Cast</td>\n      <td>0.862538</td>\n      <td>0.441731</td>\n      <td>287280.000000</td>\n      <td>0.406808</td>\n      <td>0.081158</td>\n      <td>0.315215</td>\n      <td>-10.690000</td>\n      <td>0.176212</td>\n      <td>103.044154</td>\n      <td>0.268865</td>\n      <td>30.576923</td>\n      <td>5</td>\n      <td>1</td>\n      <td>26</td>\n    </tr>\n    <tr>\n      <th>2</th>\n      <td>[]</td>\n      <td>\"Fiddler On The Roof” Motion Picture Chorus</td>\n      <td>0.856571</td>\n      <td>0.348286</td>\n      <td>328920.000000</td>\n      <td>0.286571</td>\n      <td>0.024593</td>\n      <td>0.325786</td>\n      <td>-15.230714</td>\n      <td>0.118514</td>\n      <td>77.375857</td>\n      <td>0.354857</td>\n      <td>34.857143</td>\n      <td>0</td>\n      <td>1</td>\n      <td>7</td>\n    </tr>\n    <tr>\n      <th>3</th>\n      <td>[]</td>\n      <td>\"Fiddler On The Roof” Motion Picture Orchestra</td>\n      <td>0.884926</td>\n      <td>0.425074</td>\n      <td>262890.962963</td>\n      <td>0.245770</td>\n      <td>0.073587</td>\n      <td>0.275481</td>\n      <td>-15.639370</td>\n      <td>0.123200</td>\n      <td>88.667630</td>\n      <td>0.372030</td>\n      <td>34.851852</td>\n      <td>0</td>\n      <td>1</td>\n      <td>27</td>\n    </tr>\n    <tr>\n      <th>4</th>\n      <td>[]</td>\n      <td>\"Joseph And The Amazing Technicolor Dreamcoat\"...</td>\n      <td>0.510714</td>\n      <td>0.467143</td>\n      <td>270436.142857</td>\n      <td>0.488286</td>\n      <td>0.009400</td>\n      <td>0.195000</td>\n      <td>-10.236714</td>\n      <td>0.098543</td>\n      <td>122.835857</td>\n      <td>0.482286</td>\n      <td>43.000000</td>\n      <td>5</td>\n      <td>1</td>\n      <td>7</td>\n    </tr>\n  </tbody>\n</table>\n</div>"
     },
     "execution_count": 6,
     "metadata": {},
     "output_type": "execute_result"
    }
   ],
   "source": [
    "data_w_genres = pd.read_csv('./../data/data_w_genres.csv')\n",
    "data_w_genres.head()"
   ],
   "metadata": {
    "collapsed": false
   }
  },
  {
   "cell_type": "code",
   "execution_count": 7,
   "outputs": [
    {
     "data": {
      "text/plain": "((170653, 19), (28680, 15), (2973, 14), (100, 14), (28680, 16))"
     },
     "execution_count": 7,
     "metadata": {},
     "output_type": "execute_result"
    }
   ],
   "source": [
    "data.shape, data_by_artist.shape, data_by_genres.shape, data_by_year.shape, data_w_genres.shape"
   ],
   "metadata": {
    "collapsed": false
   }
  },
  {
   "cell_type": "code",
   "execution_count": 8,
   "outputs": [
    {
     "name": "stdout",
     "output_type": "stream",
     "text": [
      "<class 'pandas.core.frame.DataFrame'>\n",
      "RangeIndex: 170653 entries, 0 to 170652\n",
      "Data columns (total 19 columns):\n",
      " #   Column            Non-Null Count   Dtype  \n",
      "---  ------            --------------   -----  \n",
      " 0   valence           170653 non-null  float64\n",
      " 1   year              170653 non-null  int64  \n",
      " 2   acousticness      170653 non-null  float64\n",
      " 3   artists           170653 non-null  object \n",
      " 4   danceability      170653 non-null  float64\n",
      " 5   duration_ms       170653 non-null  int64  \n",
      " 6   energy            170653 non-null  float64\n",
      " 7   explicit          170653 non-null  int64  \n",
      " 8   id                170653 non-null  object \n",
      " 9   instrumentalness  170653 non-null  float64\n",
      " 10  key               170653 non-null  int64  \n",
      " 11  liveness          170653 non-null  float64\n",
      " 12  loudness          170653 non-null  float64\n",
      " 13  mode              170653 non-null  int64  \n",
      " 14  name              170653 non-null  object \n",
      " 15  popularity        170653 non-null  int64  \n",
      " 16  release_date      170653 non-null  object \n",
      " 17  speechiness       170653 non-null  float64\n",
      " 18  tempo             170653 non-null  float64\n",
      "dtypes: float64(9), int64(6), object(4)\n",
      "memory usage: 24.7+ MB\n"
     ]
    }
   ],
   "source": [
    "data.info()"
   ],
   "metadata": {
    "collapsed": false
   }
  },
  {
   "cell_type": "code",
   "execution_count": 9,
   "outputs": [
    {
     "name": "stdout",
     "output_type": "stream",
     "text": [
      "<class 'pandas.core.frame.DataFrame'>\n",
      "RangeIndex: 28680 entries, 0 to 28679\n",
      "Data columns (total 16 columns):\n",
      " #   Column            Non-Null Count  Dtype  \n",
      "---  ------            --------------  -----  \n",
      " 0   genres            28680 non-null  object \n",
      " 1   artists           28680 non-null  object \n",
      " 2   acousticness      28680 non-null  float64\n",
      " 3   danceability      28680 non-null  float64\n",
      " 4   duration_ms       28680 non-null  float64\n",
      " 5   energy            28680 non-null  float64\n",
      " 6   instrumentalness  28680 non-null  float64\n",
      " 7   liveness          28680 non-null  float64\n",
      " 8   loudness          28680 non-null  float64\n",
      " 9   speechiness       28680 non-null  float64\n",
      " 10  tempo             28680 non-null  float64\n",
      " 11  valence           28680 non-null  float64\n",
      " 12  popularity        28680 non-null  float64\n",
      " 13  key               28680 non-null  int64  \n",
      " 14  mode              28680 non-null  int64  \n",
      " 15  count             28680 non-null  int64  \n",
      "dtypes: float64(11), int64(3), object(2)\n",
      "memory usage: 3.5+ MB\n"
     ]
    }
   ],
   "source": [
    "data_w_genres.info()"
   ],
   "metadata": {
    "collapsed": false
   }
  },
  {
   "cell_type": "code",
   "execution_count": 10,
   "outputs": [
    {
     "data": {
      "text/plain": "valence             0\nyear                0\nacousticness        0\nartists             0\ndanceability        0\nduration_ms         0\nenergy              0\nexplicit            0\nid                  0\ninstrumentalness    0\nkey                 0\nliveness            0\nloudness            0\nmode                0\nname                0\npopularity          0\nrelease_date        0\nspeechiness         0\ntempo               0\ndtype: int64"
     },
     "execution_count": 10,
     "metadata": {},
     "output_type": "execute_result"
    }
   ],
   "source": [
    "data.isna().sum()"
   ],
   "metadata": {
    "collapsed": false
   }
  },
  {
   "cell_type": "code",
   "execution_count": 11,
   "outputs": [
    {
     "data": {
      "text/plain": "genres              0\nartists             0\nacousticness        0\ndanceability        0\nduration_ms         0\nenergy              0\ninstrumentalness    0\nliveness            0\nloudness            0\nspeechiness         0\ntempo               0\nvalence             0\npopularity          0\nkey                 0\nmode                0\ncount               0\ndtype: int64"
     },
     "execution_count": 11,
     "metadata": {},
     "output_type": "execute_result"
    }
   ],
   "source": [
    "data_w_genres.isna().sum()"
   ],
   "metadata": {
    "collapsed": false
   }
  },
  {
   "cell_type": "markdown",
   "source": [
    "Буду работать с этими двумя датафреймами. Данные вроде чистинькие - нанов нет, хотя есть несколько проблемок, которые мы решим позже."
   ],
   "metadata": {
    "collapsed": false
   }
  },
  {
   "cell_type": "markdown",
   "source": [
    "Основной датасет data содержит довольно много полезный инфы, но все-таки в нем нет самого главного - жанров песен. Но что-то похожее (почти) содержится в data_w_genres, где есть жанры по артистам, было бы неплохо для артистов достать жанры и смержить это с основным датасетом."
   ],
   "metadata": {
    "collapsed": false
   }
  },
  {
   "cell_type": "code",
   "execution_count": 12,
   "outputs": [],
   "source": [
    "spotify_df = data.copy()"
   ],
   "metadata": {
    "collapsed": false
   }
  },
  {
   "cell_type": "code",
   "execution_count": 13,
   "outputs": [
    {
     "data": {
      "text/plain": "\"['show tunes']\""
     },
     "execution_count": 13,
     "metadata": {},
     "output_type": "execute_result"
    }
   ],
   "source": [
    "data_w_genres['genres'].values[0]"
   ],
   "metadata": {
    "collapsed": false
   }
  },
  {
   "cell_type": "markdown",
   "source": [
    "Первая проблема - список жанров представлен строкой, а не листом. Как обнаружится далее, с артистами в основном датасете та же проблема. Исправляем."
   ],
   "metadata": {
    "collapsed": false
   }
  },
  {
   "cell_type": "code",
   "execution_count": 14,
   "outputs": [],
   "source": [
    "data_w_genres['str_genres'] = data_w_genres['genres'].apply(lambda x: [re.sub(' ','_',i) for i in re.findall(r\"'([^']*)'\", x)])"
   ],
   "metadata": {
    "collapsed": false
   }
  },
  {
   "cell_type": "code",
   "execution_count": 15,
   "outputs": [
    {
     "data": {
      "text/plain": "['show_tunes']"
     },
     "execution_count": 15,
     "metadata": {},
     "output_type": "execute_result"
    }
   ],
   "source": [
    "data_w_genres['str_genres'].values[0]"
   ],
   "metadata": {
    "collapsed": false
   }
  },
  {
   "cell_type": "code",
   "execution_count": 16,
   "outputs": [],
   "source": [
    "spotify_df['new_artists'] = spotify_df['artists'].apply(lambda x: re.findall(r\"'([^']*)'\", x))"
   ],
   "metadata": {
    "collapsed": false
   }
  },
  {
   "cell_type": "code",
   "execution_count": 17,
   "outputs": [
    {
     "data": {
      "text/plain": "\"['Sergei Rachmaninoff', 'James Levine', 'Berliner Philharmoniker']\""
     },
     "execution_count": 17,
     "metadata": {},
     "output_type": "execute_result"
    }
   ],
   "source": [
    "spotify_df['artists'][0]"
   ],
   "metadata": {
    "collapsed": false
   }
  },
  {
   "cell_type": "code",
   "execution_count": 18,
   "outputs": [
    {
     "data": {
      "text/plain": "   valence  year  acousticness  \\\n0   0.0594  1921         0.982   \n1   0.9630  1921         0.732   \n2   0.0394  1921         0.961   \n3   0.1650  1921         0.967   \n4   0.2530  1921         0.957   \n\n                                             artists  danceability  \\\n0  ['Sergei Rachmaninoff', 'James Levine', 'Berli...         0.279   \n1                                     ['Dennis Day']         0.819   \n2  ['KHP Kridhamardawa Karaton Ngayogyakarta Hadi...         0.328   \n3                                   ['Frank Parker']         0.275   \n4                                     ['Phil Regan']         0.418   \n\n   duration_ms  energy  explicit                      id  instrumentalness  \\\n0       831667   0.211         0  4BJqT0PrAfrxzMOxytFOIz          0.878000   \n1       180533   0.341         0  7xPhfUan2yNtyFG0cUWkt8          0.000000   \n2       500062   0.166         0  1o6I8BglA6ylDMrIELygv1          0.913000   \n3       210000   0.309         0  3ftBPsC5vPBKxYSee08FDH          0.000028   \n4       166693   0.193         0  4d6HGyGT8e121BsdKmw9v6          0.000002   \n\n   key  liveness  loudness  mode  \\\n0   10     0.665   -20.096     1   \n1    7     0.160   -12.441     1   \n2    3     0.101   -14.850     1   \n3    5     0.381    -9.316     1   \n4    3     0.229   -10.096     1   \n\n                                                name  popularity release_date  \\\n0  Piano Concerto No. 3 in D Minor, Op. 30: III. ...           4         1921   \n1                            Clancy Lowered the Boom           5         1921   \n2                                          Gati Bali           5         1921   \n3                                          Danny Boy           3         1921   \n4                        When Irish Eyes Are Smiling           2         1921   \n\n   speechiness    tempo                                        new_artists  \n0       0.0366   80.954  [Sergei Rachmaninoff, James Levine, Berliner P...  \n1       0.4150   60.936                                       [Dennis Day]  \n2       0.0339  110.339  [KHP Kridhamardawa Karaton Ngayogyakarta Hadin...  \n3       0.0354  100.109                                     [Frank Parker]  \n4       0.0380  101.665                                       [Phil Regan]  ",
      "text/html": "<div>\n<style scoped>\n    .dataframe tbody tr th:only-of-type {\n        vertical-align: middle;\n    }\n\n    .dataframe tbody tr th {\n        vertical-align: top;\n    }\n\n    .dataframe thead th {\n        text-align: right;\n    }\n</style>\n<table border=\"1\" class=\"dataframe\">\n  <thead>\n    <tr style=\"text-align: right;\">\n      <th></th>\n      <th>valence</th>\n      <th>year</th>\n      <th>acousticness</th>\n      <th>artists</th>\n      <th>danceability</th>\n      <th>duration_ms</th>\n      <th>energy</th>\n      <th>explicit</th>\n      <th>id</th>\n      <th>instrumentalness</th>\n      <th>key</th>\n      <th>liveness</th>\n      <th>loudness</th>\n      <th>mode</th>\n      <th>name</th>\n      <th>popularity</th>\n      <th>release_date</th>\n      <th>speechiness</th>\n      <th>tempo</th>\n      <th>new_artists</th>\n    </tr>\n  </thead>\n  <tbody>\n    <tr>\n      <th>0</th>\n      <td>0.0594</td>\n      <td>1921</td>\n      <td>0.982</td>\n      <td>['Sergei Rachmaninoff', 'James Levine', 'Berli...</td>\n      <td>0.279</td>\n      <td>831667</td>\n      <td>0.211</td>\n      <td>0</td>\n      <td>4BJqT0PrAfrxzMOxytFOIz</td>\n      <td>0.878000</td>\n      <td>10</td>\n      <td>0.665</td>\n      <td>-20.096</td>\n      <td>1</td>\n      <td>Piano Concerto No. 3 in D Minor, Op. 30: III. ...</td>\n      <td>4</td>\n      <td>1921</td>\n      <td>0.0366</td>\n      <td>80.954</td>\n      <td>[Sergei Rachmaninoff, James Levine, Berliner P...</td>\n    </tr>\n    <tr>\n      <th>1</th>\n      <td>0.9630</td>\n      <td>1921</td>\n      <td>0.732</td>\n      <td>['Dennis Day']</td>\n      <td>0.819</td>\n      <td>180533</td>\n      <td>0.341</td>\n      <td>0</td>\n      <td>7xPhfUan2yNtyFG0cUWkt8</td>\n      <td>0.000000</td>\n      <td>7</td>\n      <td>0.160</td>\n      <td>-12.441</td>\n      <td>1</td>\n      <td>Clancy Lowered the Boom</td>\n      <td>5</td>\n      <td>1921</td>\n      <td>0.4150</td>\n      <td>60.936</td>\n      <td>[Dennis Day]</td>\n    </tr>\n    <tr>\n      <th>2</th>\n      <td>0.0394</td>\n      <td>1921</td>\n      <td>0.961</td>\n      <td>['KHP Kridhamardawa Karaton Ngayogyakarta Hadi...</td>\n      <td>0.328</td>\n      <td>500062</td>\n      <td>0.166</td>\n      <td>0</td>\n      <td>1o6I8BglA6ylDMrIELygv1</td>\n      <td>0.913000</td>\n      <td>3</td>\n      <td>0.101</td>\n      <td>-14.850</td>\n      <td>1</td>\n      <td>Gati Bali</td>\n      <td>5</td>\n      <td>1921</td>\n      <td>0.0339</td>\n      <td>110.339</td>\n      <td>[KHP Kridhamardawa Karaton Ngayogyakarta Hadin...</td>\n    </tr>\n    <tr>\n      <th>3</th>\n      <td>0.1650</td>\n      <td>1921</td>\n      <td>0.967</td>\n      <td>['Frank Parker']</td>\n      <td>0.275</td>\n      <td>210000</td>\n      <td>0.309</td>\n      <td>0</td>\n      <td>3ftBPsC5vPBKxYSee08FDH</td>\n      <td>0.000028</td>\n      <td>5</td>\n      <td>0.381</td>\n      <td>-9.316</td>\n      <td>1</td>\n      <td>Danny Boy</td>\n      <td>3</td>\n      <td>1921</td>\n      <td>0.0354</td>\n      <td>100.109</td>\n      <td>[Frank Parker]</td>\n    </tr>\n    <tr>\n      <th>4</th>\n      <td>0.2530</td>\n      <td>1921</td>\n      <td>0.957</td>\n      <td>['Phil Regan']</td>\n      <td>0.418</td>\n      <td>166693</td>\n      <td>0.193</td>\n      <td>0</td>\n      <td>4d6HGyGT8e121BsdKmw9v6</td>\n      <td>0.000002</td>\n      <td>3</td>\n      <td>0.229</td>\n      <td>-10.096</td>\n      <td>1</td>\n      <td>When Irish Eyes Are Smiling</td>\n      <td>2</td>\n      <td>1921</td>\n      <td>0.0380</td>\n      <td>101.665</td>\n      <td>[Phil Regan]</td>\n    </tr>\n  </tbody>\n</table>\n</div>"
     },
     "execution_count": 18,
     "metadata": {},
     "output_type": "execute_result"
    }
   ],
   "source": [
    "spotify_df.head()"
   ],
   "metadata": {
    "collapsed": false
   }
  },
  {
   "cell_type": "code",
   "execution_count": 19,
   "outputs": [
    {
     "data": {
      "text/plain": "['Sergei Rachmaninoff', 'James Levine', 'Berliner Philharmoniker']"
     },
     "execution_count": 19,
     "metadata": {},
     "output_type": "execute_result"
    }
   ],
   "source": [
    "spotify_df['new_artists'][0]"
   ],
   "metadata": {
    "collapsed": false
   }
  },
  {
   "cell_type": "markdown",
   "source": [
    "Тут отработало не для всех, т.к. у некоторых артистов есть апостроф в имени и код выше чувствителен к этому."
   ],
   "metadata": {
    "collapsed": false
   }
  },
  {
   "cell_type": "code",
   "execution_count": 20,
   "outputs": [],
   "source": [
    "spotify_df['new_artists_2'] = spotify_df['artists'].apply(lambda x: re.findall('\\\"(.*?)\\\"',x))"
   ],
   "metadata": {
    "collapsed": false
   }
  },
  {
   "cell_type": "code",
   "execution_count": 21,
   "outputs": [],
   "source": [
    "spotify_df['new_artists_3'] = np.where(spotify_df['new_artists'].apply(lambda x: not x), spotify_df['new_artists_2'], spotify_df['new_artists'] )"
   ],
   "metadata": {
    "collapsed": false
   }
  },
  {
   "cell_type": "code",
   "execution_count": 22,
   "outputs": [
    {
     "data": {
      "text/plain": "0         [Sergei Rachmaninoff, James Levine, Berliner P...\n1                                              [Dennis Day]\n2         [KHP Kridhamardawa Karaton Ngayogyakarta Hadin...\n3                                            [Frank Parker]\n4                                              [Phil Regan]\n                                ...                        \n170648    [Anuel AA, Daddy Yankee, KAROL G, Ozuna, J Bal...\n170649                                           [Ashnikko]\n170650                                            [MAMAMOO]\n170651                                             [Eminem]\n170652                                    [KEVVO, J Balvin]\nName: new_artists_3, Length: 170653, dtype: object"
     },
     "execution_count": 22,
     "metadata": {},
     "output_type": "execute_result"
    }
   ],
   "source": [
    "spotify_df['new_artists_3']"
   ],
   "metadata": {
    "collapsed": false
   }
  },
  {
   "cell_type": "markdown",
   "source": [
    "Создадим в основном датасете еще поле артисты + название, далее объясню зачем."
   ],
   "metadata": {
    "collapsed": false
   }
  },
  {
   "cell_type": "code",
   "execution_count": 23,
   "outputs": [],
   "source": [
    "spotify_df['artists_and_song'] = spotify_df.apply(lambda row: row['new_artists_3'][0] + ' ' + row['name'], axis = 1)"
   ],
   "metadata": {
    "collapsed": false
   }
  },
  {
   "cell_type": "code",
   "execution_count": 24,
   "outputs": [],
   "source": [
    "spotify_df.sort_values(['artists_and_song', 'release_date'], ascending = True, inplace = True)"
   ],
   "metadata": {
    "collapsed": false
   }
  },
  {
   "cell_type": "code",
   "execution_count": 25,
   "outputs": [
    {
     "data": {
      "text/plain": "        valence  year  acousticness  \\\n150996    0.273  1996        0.0113   \n103581    0.429  1994        0.0249   \n15465     0.697  1999        0.0516   \n16469     0.792  2004        0.0248   \n105644    0.819  2004        0.0218   \n\n                                               artists  danceability  \\\n150996      [\"Rappin' 4-Tay\", 'MC Breed', 'Too $hort']         0.897   \n103581      [\"World Class Wreckin' Cru\", \"Michel 'Le\"]         0.715   \n15465   [\"Ol' Dirty Bastard\", 'Kelis', 'Rich Travali']         0.934   \n16469                             [\"Lil' Flip\", 'Lea']         0.814   \n105644                            [\"Lil' Flip\", 'Lea']         0.845   \n\n        duration_ms  energy  explicit                      id  \\\n150996       337973   0.414         1  78859Af0fmA9VTlgnOHTAP   \n103581       351040   0.490         0  3hoiinUc5VA9xUEJID7R8V   \n15465        239547   0.459         1  6YYd5MLpu45J0uLrMdivF7   \n16469        225173   0.387         1  4s0o8TJHfX9LLHa0umnOzT   \n105644       225187   0.346         0  3FaUH7ZMjW1hv9Jx6MIAIf   \n\n        instrumentalness  ...  mode                          name  popularity  \\\n150996           0.00011  ...     0               Never Talk Down          35   \n103581           0.00017  ...     0     Turn Off The Lights - Rap          36   \n15465            0.00000  ...     1  Got Your Money (feat. Kelis)          66   \n16469            0.00000  ...     1          Sunshine (feat. Lea)          62   \n105644           0.00000  ...     1          Sunshine (feat. Lea)          47   \n\n        release_date speechiness    tempo              new_artists  \\\n150996          1996      0.2460   96.039          [ 4-Tay\", , , ]   \n103581    1994-04-06      0.0479  129.309        [ Cru\", \"Michel ]   \n15465           1999      0.1890  103.040  [ Dirty Bastard\", , , ]   \n16469     2004-03-30      0.0945   93.961               [ Flip\", ]   \n105644    2004-03-30      0.1060   93.989               [ Flip\", ]   \n\n                                 new_artists_2            new_artists_3  \\\n150996                         [Rappin' 4-Tay]          [ 4-Tay\", , , ]   \n103581  [World Class Wreckin' Cru, Michel 'Le]        [ Cru\", \"Michel ]   \n15465                      [Ol' Dirty Bastard]  [ Dirty Bastard\", , , ]   \n16469                              [Lil' Flip]               [ Flip\", ]   \n105644                             [Lil' Flip]               [ Flip\", ]   \n\n                                      artists_and_song  \n150996                        4-Tay\",  Never Talk Down  \n103581        Cru\", \"Michel  Turn Off The Lights - Rap  \n15465    Dirty Bastard\",  Got Your Money (feat. Kelis)  \n16469                     Flip\",  Sunshine (feat. Lea)  \n105644                    Flip\",  Sunshine (feat. Lea)  \n\n[5 rows x 23 columns]",
      "text/html": "<div>\n<style scoped>\n    .dataframe tbody tr th:only-of-type {\n        vertical-align: middle;\n    }\n\n    .dataframe tbody tr th {\n        vertical-align: top;\n    }\n\n    .dataframe thead th {\n        text-align: right;\n    }\n</style>\n<table border=\"1\" class=\"dataframe\">\n  <thead>\n    <tr style=\"text-align: right;\">\n      <th></th>\n      <th>valence</th>\n      <th>year</th>\n      <th>acousticness</th>\n      <th>artists</th>\n      <th>danceability</th>\n      <th>duration_ms</th>\n      <th>energy</th>\n      <th>explicit</th>\n      <th>id</th>\n      <th>instrumentalness</th>\n      <th>...</th>\n      <th>mode</th>\n      <th>name</th>\n      <th>popularity</th>\n      <th>release_date</th>\n      <th>speechiness</th>\n      <th>tempo</th>\n      <th>new_artists</th>\n      <th>new_artists_2</th>\n      <th>new_artists_3</th>\n      <th>artists_and_song</th>\n    </tr>\n  </thead>\n  <tbody>\n    <tr>\n      <th>150996</th>\n      <td>0.273</td>\n      <td>1996</td>\n      <td>0.0113</td>\n      <td>[\"Rappin' 4-Tay\", 'MC Breed', 'Too $hort']</td>\n      <td>0.897</td>\n      <td>337973</td>\n      <td>0.414</td>\n      <td>1</td>\n      <td>78859Af0fmA9VTlgnOHTAP</td>\n      <td>0.00011</td>\n      <td>...</td>\n      <td>0</td>\n      <td>Never Talk Down</td>\n      <td>35</td>\n      <td>1996</td>\n      <td>0.2460</td>\n      <td>96.039</td>\n      <td>[ 4-Tay\", , , ]</td>\n      <td>[Rappin' 4-Tay]</td>\n      <td>[ 4-Tay\", , , ]</td>\n      <td>4-Tay\",  Never Talk Down</td>\n    </tr>\n    <tr>\n      <th>103581</th>\n      <td>0.429</td>\n      <td>1994</td>\n      <td>0.0249</td>\n      <td>[\"World Class Wreckin' Cru\", \"Michel 'Le\"]</td>\n      <td>0.715</td>\n      <td>351040</td>\n      <td>0.490</td>\n      <td>0</td>\n      <td>3hoiinUc5VA9xUEJID7R8V</td>\n      <td>0.00017</td>\n      <td>...</td>\n      <td>0</td>\n      <td>Turn Off The Lights - Rap</td>\n      <td>36</td>\n      <td>1994-04-06</td>\n      <td>0.0479</td>\n      <td>129.309</td>\n      <td>[ Cru\", \"Michel ]</td>\n      <td>[World Class Wreckin' Cru, Michel 'Le]</td>\n      <td>[ Cru\", \"Michel ]</td>\n      <td>Cru\", \"Michel  Turn Off The Lights - Rap</td>\n    </tr>\n    <tr>\n      <th>15465</th>\n      <td>0.697</td>\n      <td>1999</td>\n      <td>0.0516</td>\n      <td>[\"Ol' Dirty Bastard\", 'Kelis', 'Rich Travali']</td>\n      <td>0.934</td>\n      <td>239547</td>\n      <td>0.459</td>\n      <td>1</td>\n      <td>6YYd5MLpu45J0uLrMdivF7</td>\n      <td>0.00000</td>\n      <td>...</td>\n      <td>1</td>\n      <td>Got Your Money (feat. Kelis)</td>\n      <td>66</td>\n      <td>1999</td>\n      <td>0.1890</td>\n      <td>103.040</td>\n      <td>[ Dirty Bastard\", , , ]</td>\n      <td>[Ol' Dirty Bastard]</td>\n      <td>[ Dirty Bastard\", , , ]</td>\n      <td>Dirty Bastard\",  Got Your Money (feat. Kelis)</td>\n    </tr>\n    <tr>\n      <th>16469</th>\n      <td>0.792</td>\n      <td>2004</td>\n      <td>0.0248</td>\n      <td>[\"Lil' Flip\", 'Lea']</td>\n      <td>0.814</td>\n      <td>225173</td>\n      <td>0.387</td>\n      <td>1</td>\n      <td>4s0o8TJHfX9LLHa0umnOzT</td>\n      <td>0.00000</td>\n      <td>...</td>\n      <td>1</td>\n      <td>Sunshine (feat. Lea)</td>\n      <td>62</td>\n      <td>2004-03-30</td>\n      <td>0.0945</td>\n      <td>93.961</td>\n      <td>[ Flip\", ]</td>\n      <td>[Lil' Flip]</td>\n      <td>[ Flip\", ]</td>\n      <td>Flip\",  Sunshine (feat. Lea)</td>\n    </tr>\n    <tr>\n      <th>105644</th>\n      <td>0.819</td>\n      <td>2004</td>\n      <td>0.0218</td>\n      <td>[\"Lil' Flip\", 'Lea']</td>\n      <td>0.845</td>\n      <td>225187</td>\n      <td>0.346</td>\n      <td>0</td>\n      <td>3FaUH7ZMjW1hv9Jx6MIAIf</td>\n      <td>0.00000</td>\n      <td>...</td>\n      <td>1</td>\n      <td>Sunshine (feat. Lea)</td>\n      <td>47</td>\n      <td>2004-03-30</td>\n      <td>0.1060</td>\n      <td>93.989</td>\n      <td>[ Flip\", ]</td>\n      <td>[Lil' Flip]</td>\n      <td>[ Flip\", ]</td>\n      <td>Flip\",  Sunshine (feat. Lea)</td>\n    </tr>\n  </tbody>\n</table>\n<p>5 rows × 23 columns</p>\n</div>"
     },
     "execution_count": 25,
     "metadata": {},
     "output_type": "execute_result"
    }
   ],
   "source": [
    "spotify_df.head()"
   ],
   "metadata": {
    "collapsed": false
   }
  },
  {
   "cell_type": "markdown",
   "source": [
    "Есть еще одна проблемка - повторяющиеся песни: те же исполнители, те же названия, может год другой, но все же, это одинаковые песни. Удаляем дубликаты. Чтобы увидеть это, глянем на последний столбец, который я создал ранее (как и обещал)."
   ],
   "metadata": {
    "collapsed": false
   }
  },
  {
   "cell_type": "code",
   "execution_count": 26,
   "outputs": [
    {
     "data": {
      "text/plain": "        valence  year  acousticness                         artists  \\\n96893    0.1410  1961         0.898               ['Andy Williams']   \n25421    0.2070  1954         0.899                 ['Ben Webster']   \n8143     0.0999  1962         0.991  ['Bill Evans', 'Shelly Manne']   \n80949    0.1100  1963         0.993                  ['Bill Evans']   \n121913   0.0935  2005         0.976                ['Celtic Woman']   \n128631   0.7950  1959         0.895               ['Conway Twitty']   \n3        0.1650  1921         0.967                ['Frank Parker']   \n96340    0.4220  1958         0.797               ['Jackie Wilson']   \n97721    0.3250  1965         0.969                 ['Johnny Cash']   \n121411   0.2410  2002         0.983                 ['Johnny Cash']   \n62141    0.0767  1955         0.913                ['Judy Garland']   \n159579   0.1310  1965         0.783                  ['Patti Page']   \n79138    0.1960  1954         0.941                   ['Ray Price']   \n112099   0.2140  1956         0.945                   ['Ray Price']   \n130267   0.1980  1967         0.936                   ['Ray Price']   \n43185    0.2200  1949         0.971  ['Traditional', 'Mario Lanza']   \n\n        danceability  duration_ms   energy  explicit                      id  \\\n96893          0.247       174267  0.17300         0  1FDs8eUhsrCZjAQUAbLbOj   \n25421          0.345       216640  0.09150         0  0CS1pTW0N61b4yqHYWmsBQ   \n8143           0.480       220493  0.00705         0  3GimzseMaUjoAWjo6Gs3QH   \n80949          0.373       639027  0.03370         0  598Iu8Oplztg6vfTY6TeMj   \n121913         0.250       204467  0.15500         0  75sSAymXP6tGOeRvImwzOf   \n128631         0.563       167160  0.45100         0  2O7KD1tW6eyLLSE7ce0ohD   \n3              0.275       210000  0.30900         0  3ftBPsC5vPBKxYSee08FDH   \n96340          0.543       211960  0.21400         0  0wPrGTS1SJkpMj4WTi6sbG   \n97721          0.534       308533  0.09550         0  6257QfmLdDbm8MSwu1tpMz   \n121411         0.334       198507  0.05950         0  5o4SqGekEfvdkNuOVx5d3S   \n62141          0.152       184578  0.11700         0  1VLTwDHRsJ9jYXGMktz3zk   \n159579         0.122       186627  0.16100         0  6JBVcjvf4G4HCTgJcdTqEM   \n79138          0.240       184440  0.35900         0  6S1aUSFAgqU4GH2BMPT2sZ   \n112099         0.308       184933  0.30200         0  2lSo9YkDuHTYZexvVahPz4   \n130267         0.311       299733  0.09030         0  3V9Vi3XfPmvC7mIUlr6VGG   \n43185          0.295       176613  0.22100         0  5vrE41FDT5SpbmnW1tU02q   \n\n        instrumentalness  ...  mode       name  popularity  release_date  \\\n96893           0.001970  ...     1  Danny Boy          10    1961-12-10   \n25421           0.139000  ...     1  Danny Boy          20    1954-01-01   \n8143            0.888000  ...     0  Danny Boy          41    1962-11-01   \n80949           0.933000  ...     1  Danny Boy          19          1963   \n121913          0.000012  ...     1  Danny Boy          47    2005-01-01   \n128631          0.000279  ...     1  Danny Boy          11    1959-01-01   \n3               0.000028  ...     1  Danny Boy           3          1921   \n96340           0.000000  ...     1  Danny Boy          15          1958   \n97721           0.000002  ...     1  Danny Boy          25    1965-02-15   \n121411          0.000087  ...     1  Danny Boy          48    2002-01-01   \n62141           0.008800  ...     1  Danny Boy           9    1955-09-26   \n159579          0.000663  ...     1  Danny Boy          18    1965-07-22   \n79138           0.024800  ...     1  Danny Boy           5          1954   \n112099          0.023800  ...     1  Danny Boy           7          1956   \n130267          0.002520  ...     0  Danny Boy          19          1967   \n43185           0.000013  ...     1  Danny Boy           2          1949   \n\n       speechiness    tempo                 new_artists  new_artists_2  \\\n96893       0.0347   80.136             [Andy Williams]             []   \n25421       0.0558   84.931               [Ben Webster]             []   \n8143        0.0447   97.133  [Bill Evans, Shelly Manne]             []   \n80949       0.0739   79.561                [Bill Evans]             []   \n121913      0.0389  100.842              [Celtic Woman]             []   \n128631      0.0697   86.960             [Conway Twitty]             []   \n3           0.0354  100.109              [Frank Parker]             []   \n96340       0.0310   98.590             [Jackie Wilson]             []   \n97721       0.0976   89.068               [Johnny Cash]             []   \n121411      0.0416  177.070               [Johnny Cash]             []   \n62141       0.0354   81.983              [Judy Garland]             []   \n159579      0.0317   73.028                [Patti Page]             []   \n79138       0.0294   99.620                 [Ray Price]             []   \n112099      0.0290   67.086                 [Ray Price]             []   \n130267      0.0314   68.188                 [Ray Price]             []   \n43185       0.0336  105.483  [Traditional, Mario Lanza]             []   \n\n                     new_artists_3         artists_and_song  \n96893              [Andy Williams]  Andy Williams Danny Boy  \n25421                [Ben Webster]    Ben Webster Danny Boy  \n8143    [Bill Evans, Shelly Manne]     Bill Evans Danny Boy  \n80949                 [Bill Evans]     Bill Evans Danny Boy  \n121913              [Celtic Woman]   Celtic Woman Danny Boy  \n128631             [Conway Twitty]  Conway Twitty Danny Boy  \n3                   [Frank Parker]   Frank Parker Danny Boy  \n96340              [Jackie Wilson]  Jackie Wilson Danny Boy  \n97721                [Johnny Cash]    Johnny Cash Danny Boy  \n121411               [Johnny Cash]    Johnny Cash Danny Boy  \n62141               [Judy Garland]   Judy Garland Danny Boy  \n159579                [Patti Page]     Patti Page Danny Boy  \n79138                  [Ray Price]      Ray Price Danny Boy  \n112099                 [Ray Price]      Ray Price Danny Boy  \n130267                 [Ray Price]      Ray Price Danny Boy  \n43185   [Traditional, Mario Lanza]    Traditional Danny Boy  \n\n[16 rows x 23 columns]",
      "text/html": "<div>\n<style scoped>\n    .dataframe tbody tr th:only-of-type {\n        vertical-align: middle;\n    }\n\n    .dataframe tbody tr th {\n        vertical-align: top;\n    }\n\n    .dataframe thead th {\n        text-align: right;\n    }\n</style>\n<table border=\"1\" class=\"dataframe\">\n  <thead>\n    <tr style=\"text-align: right;\">\n      <th></th>\n      <th>valence</th>\n      <th>year</th>\n      <th>acousticness</th>\n      <th>artists</th>\n      <th>danceability</th>\n      <th>duration_ms</th>\n      <th>energy</th>\n      <th>explicit</th>\n      <th>id</th>\n      <th>instrumentalness</th>\n      <th>...</th>\n      <th>mode</th>\n      <th>name</th>\n      <th>popularity</th>\n      <th>release_date</th>\n      <th>speechiness</th>\n      <th>tempo</th>\n      <th>new_artists</th>\n      <th>new_artists_2</th>\n      <th>new_artists_3</th>\n      <th>artists_and_song</th>\n    </tr>\n  </thead>\n  <tbody>\n    <tr>\n      <th>96893</th>\n      <td>0.1410</td>\n      <td>1961</td>\n      <td>0.898</td>\n      <td>['Andy Williams']</td>\n      <td>0.247</td>\n      <td>174267</td>\n      <td>0.17300</td>\n      <td>0</td>\n      <td>1FDs8eUhsrCZjAQUAbLbOj</td>\n      <td>0.001970</td>\n      <td>...</td>\n      <td>1</td>\n      <td>Danny Boy</td>\n      <td>10</td>\n      <td>1961-12-10</td>\n      <td>0.0347</td>\n      <td>80.136</td>\n      <td>[Andy Williams]</td>\n      <td>[]</td>\n      <td>[Andy Williams]</td>\n      <td>Andy Williams Danny Boy</td>\n    </tr>\n    <tr>\n      <th>25421</th>\n      <td>0.2070</td>\n      <td>1954</td>\n      <td>0.899</td>\n      <td>['Ben Webster']</td>\n      <td>0.345</td>\n      <td>216640</td>\n      <td>0.09150</td>\n      <td>0</td>\n      <td>0CS1pTW0N61b4yqHYWmsBQ</td>\n      <td>0.139000</td>\n      <td>...</td>\n      <td>1</td>\n      <td>Danny Boy</td>\n      <td>20</td>\n      <td>1954-01-01</td>\n      <td>0.0558</td>\n      <td>84.931</td>\n      <td>[Ben Webster]</td>\n      <td>[]</td>\n      <td>[Ben Webster]</td>\n      <td>Ben Webster Danny Boy</td>\n    </tr>\n    <tr>\n      <th>8143</th>\n      <td>0.0999</td>\n      <td>1962</td>\n      <td>0.991</td>\n      <td>['Bill Evans', 'Shelly Manne']</td>\n      <td>0.480</td>\n      <td>220493</td>\n      <td>0.00705</td>\n      <td>0</td>\n      <td>3GimzseMaUjoAWjo6Gs3QH</td>\n      <td>0.888000</td>\n      <td>...</td>\n      <td>0</td>\n      <td>Danny Boy</td>\n      <td>41</td>\n      <td>1962-11-01</td>\n      <td>0.0447</td>\n      <td>97.133</td>\n      <td>[Bill Evans, Shelly Manne]</td>\n      <td>[]</td>\n      <td>[Bill Evans, Shelly Manne]</td>\n      <td>Bill Evans Danny Boy</td>\n    </tr>\n    <tr>\n      <th>80949</th>\n      <td>0.1100</td>\n      <td>1963</td>\n      <td>0.993</td>\n      <td>['Bill Evans']</td>\n      <td>0.373</td>\n      <td>639027</td>\n      <td>0.03370</td>\n      <td>0</td>\n      <td>598Iu8Oplztg6vfTY6TeMj</td>\n      <td>0.933000</td>\n      <td>...</td>\n      <td>1</td>\n      <td>Danny Boy</td>\n      <td>19</td>\n      <td>1963</td>\n      <td>0.0739</td>\n      <td>79.561</td>\n      <td>[Bill Evans]</td>\n      <td>[]</td>\n      <td>[Bill Evans]</td>\n      <td>Bill Evans Danny Boy</td>\n    </tr>\n    <tr>\n      <th>121913</th>\n      <td>0.0935</td>\n      <td>2005</td>\n      <td>0.976</td>\n      <td>['Celtic Woman']</td>\n      <td>0.250</td>\n      <td>204467</td>\n      <td>0.15500</td>\n      <td>0</td>\n      <td>75sSAymXP6tGOeRvImwzOf</td>\n      <td>0.000012</td>\n      <td>...</td>\n      <td>1</td>\n      <td>Danny Boy</td>\n      <td>47</td>\n      <td>2005-01-01</td>\n      <td>0.0389</td>\n      <td>100.842</td>\n      <td>[Celtic Woman]</td>\n      <td>[]</td>\n      <td>[Celtic Woman]</td>\n      <td>Celtic Woman Danny Boy</td>\n    </tr>\n    <tr>\n      <th>128631</th>\n      <td>0.7950</td>\n      <td>1959</td>\n      <td>0.895</td>\n      <td>['Conway Twitty']</td>\n      <td>0.563</td>\n      <td>167160</td>\n      <td>0.45100</td>\n      <td>0</td>\n      <td>2O7KD1tW6eyLLSE7ce0ohD</td>\n      <td>0.000279</td>\n      <td>...</td>\n      <td>1</td>\n      <td>Danny Boy</td>\n      <td>11</td>\n      <td>1959-01-01</td>\n      <td>0.0697</td>\n      <td>86.960</td>\n      <td>[Conway Twitty]</td>\n      <td>[]</td>\n      <td>[Conway Twitty]</td>\n      <td>Conway Twitty Danny Boy</td>\n    </tr>\n    <tr>\n      <th>3</th>\n      <td>0.1650</td>\n      <td>1921</td>\n      <td>0.967</td>\n      <td>['Frank Parker']</td>\n      <td>0.275</td>\n      <td>210000</td>\n      <td>0.30900</td>\n      <td>0</td>\n      <td>3ftBPsC5vPBKxYSee08FDH</td>\n      <td>0.000028</td>\n      <td>...</td>\n      <td>1</td>\n      <td>Danny Boy</td>\n      <td>3</td>\n      <td>1921</td>\n      <td>0.0354</td>\n      <td>100.109</td>\n      <td>[Frank Parker]</td>\n      <td>[]</td>\n      <td>[Frank Parker]</td>\n      <td>Frank Parker Danny Boy</td>\n    </tr>\n    <tr>\n      <th>96340</th>\n      <td>0.4220</td>\n      <td>1958</td>\n      <td>0.797</td>\n      <td>['Jackie Wilson']</td>\n      <td>0.543</td>\n      <td>211960</td>\n      <td>0.21400</td>\n      <td>0</td>\n      <td>0wPrGTS1SJkpMj4WTi6sbG</td>\n      <td>0.000000</td>\n      <td>...</td>\n      <td>1</td>\n      <td>Danny Boy</td>\n      <td>15</td>\n      <td>1958</td>\n      <td>0.0310</td>\n      <td>98.590</td>\n      <td>[Jackie Wilson]</td>\n      <td>[]</td>\n      <td>[Jackie Wilson]</td>\n      <td>Jackie Wilson Danny Boy</td>\n    </tr>\n    <tr>\n      <th>97721</th>\n      <td>0.3250</td>\n      <td>1965</td>\n      <td>0.969</td>\n      <td>['Johnny Cash']</td>\n      <td>0.534</td>\n      <td>308533</td>\n      <td>0.09550</td>\n      <td>0</td>\n      <td>6257QfmLdDbm8MSwu1tpMz</td>\n      <td>0.000002</td>\n      <td>...</td>\n      <td>1</td>\n      <td>Danny Boy</td>\n      <td>25</td>\n      <td>1965-02-15</td>\n      <td>0.0976</td>\n      <td>89.068</td>\n      <td>[Johnny Cash]</td>\n      <td>[]</td>\n      <td>[Johnny Cash]</td>\n      <td>Johnny Cash Danny Boy</td>\n    </tr>\n    <tr>\n      <th>121411</th>\n      <td>0.2410</td>\n      <td>2002</td>\n      <td>0.983</td>\n      <td>['Johnny Cash']</td>\n      <td>0.334</td>\n      <td>198507</td>\n      <td>0.05950</td>\n      <td>0</td>\n      <td>5o4SqGekEfvdkNuOVx5d3S</td>\n      <td>0.000087</td>\n      <td>...</td>\n      <td>1</td>\n      <td>Danny Boy</td>\n      <td>48</td>\n      <td>2002-01-01</td>\n      <td>0.0416</td>\n      <td>177.070</td>\n      <td>[Johnny Cash]</td>\n      <td>[]</td>\n      <td>[Johnny Cash]</td>\n      <td>Johnny Cash Danny Boy</td>\n    </tr>\n    <tr>\n      <th>62141</th>\n      <td>0.0767</td>\n      <td>1955</td>\n      <td>0.913</td>\n      <td>['Judy Garland']</td>\n      <td>0.152</td>\n      <td>184578</td>\n      <td>0.11700</td>\n      <td>0</td>\n      <td>1VLTwDHRsJ9jYXGMktz3zk</td>\n      <td>0.008800</td>\n      <td>...</td>\n      <td>1</td>\n      <td>Danny Boy</td>\n      <td>9</td>\n      <td>1955-09-26</td>\n      <td>0.0354</td>\n      <td>81.983</td>\n      <td>[Judy Garland]</td>\n      <td>[]</td>\n      <td>[Judy Garland]</td>\n      <td>Judy Garland Danny Boy</td>\n    </tr>\n    <tr>\n      <th>159579</th>\n      <td>0.1310</td>\n      <td>1965</td>\n      <td>0.783</td>\n      <td>['Patti Page']</td>\n      <td>0.122</td>\n      <td>186627</td>\n      <td>0.16100</td>\n      <td>0</td>\n      <td>6JBVcjvf4G4HCTgJcdTqEM</td>\n      <td>0.000663</td>\n      <td>...</td>\n      <td>1</td>\n      <td>Danny Boy</td>\n      <td>18</td>\n      <td>1965-07-22</td>\n      <td>0.0317</td>\n      <td>73.028</td>\n      <td>[Patti Page]</td>\n      <td>[]</td>\n      <td>[Patti Page]</td>\n      <td>Patti Page Danny Boy</td>\n    </tr>\n    <tr>\n      <th>79138</th>\n      <td>0.1960</td>\n      <td>1954</td>\n      <td>0.941</td>\n      <td>['Ray Price']</td>\n      <td>0.240</td>\n      <td>184440</td>\n      <td>0.35900</td>\n      <td>0</td>\n      <td>6S1aUSFAgqU4GH2BMPT2sZ</td>\n      <td>0.024800</td>\n      <td>...</td>\n      <td>1</td>\n      <td>Danny Boy</td>\n      <td>5</td>\n      <td>1954</td>\n      <td>0.0294</td>\n      <td>99.620</td>\n      <td>[Ray Price]</td>\n      <td>[]</td>\n      <td>[Ray Price]</td>\n      <td>Ray Price Danny Boy</td>\n    </tr>\n    <tr>\n      <th>112099</th>\n      <td>0.2140</td>\n      <td>1956</td>\n      <td>0.945</td>\n      <td>['Ray Price']</td>\n      <td>0.308</td>\n      <td>184933</td>\n      <td>0.30200</td>\n      <td>0</td>\n      <td>2lSo9YkDuHTYZexvVahPz4</td>\n      <td>0.023800</td>\n      <td>...</td>\n      <td>1</td>\n      <td>Danny Boy</td>\n      <td>7</td>\n      <td>1956</td>\n      <td>0.0290</td>\n      <td>67.086</td>\n      <td>[Ray Price]</td>\n      <td>[]</td>\n      <td>[Ray Price]</td>\n      <td>Ray Price Danny Boy</td>\n    </tr>\n    <tr>\n      <th>130267</th>\n      <td>0.1980</td>\n      <td>1967</td>\n      <td>0.936</td>\n      <td>['Ray Price']</td>\n      <td>0.311</td>\n      <td>299733</td>\n      <td>0.09030</td>\n      <td>0</td>\n      <td>3V9Vi3XfPmvC7mIUlr6VGG</td>\n      <td>0.002520</td>\n      <td>...</td>\n      <td>0</td>\n      <td>Danny Boy</td>\n      <td>19</td>\n      <td>1967</td>\n      <td>0.0314</td>\n      <td>68.188</td>\n      <td>[Ray Price]</td>\n      <td>[]</td>\n      <td>[Ray Price]</td>\n      <td>Ray Price Danny Boy</td>\n    </tr>\n    <tr>\n      <th>43185</th>\n      <td>0.2200</td>\n      <td>1949</td>\n      <td>0.971</td>\n      <td>['Traditional', 'Mario Lanza']</td>\n      <td>0.295</td>\n      <td>176613</td>\n      <td>0.22100</td>\n      <td>0</td>\n      <td>5vrE41FDT5SpbmnW1tU02q</td>\n      <td>0.000013</td>\n      <td>...</td>\n      <td>1</td>\n      <td>Danny Boy</td>\n      <td>2</td>\n      <td>1949</td>\n      <td>0.0336</td>\n      <td>105.483</td>\n      <td>[Traditional, Mario Lanza]</td>\n      <td>[]</td>\n      <td>[Traditional, Mario Lanza]</td>\n      <td>Traditional Danny Boy</td>\n    </tr>\n  </tbody>\n</table>\n<p>16 rows × 23 columns</p>\n</div>"
     },
     "execution_count": 26,
     "metadata": {},
     "output_type": "execute_result"
    }
   ],
   "source": [
    "spotify_df[spotify_df['name']=='Danny Boy']"
   ],
   "metadata": {
    "collapsed": false
   }
  },
  {
   "cell_type": "code",
   "execution_count": 27,
   "outputs": [],
   "source": [
    "spotify_df.drop_duplicates('artists_and_song', inplace = True)"
   ],
   "metadata": {
    "collapsed": false
   }
  },
  {
   "cell_type": "code",
   "execution_count": 28,
   "outputs": [
    {
     "data": {
      "text/plain": "(156607, 23)"
     },
     "execution_count": 28,
     "metadata": {},
     "output_type": "execute_result"
    }
   ],
   "source": [
    "spotify_df.shape"
   ],
   "metadata": {
    "collapsed": false
   }
  },
  {
   "cell_type": "markdown",
   "source": [
    "Теперь необходимо получить список артистов, чтобы смержить его с жанрами, но в основном датафрейме лежат списки артистов."
   ],
   "metadata": {
    "collapsed": false
   }
  },
  {
   "cell_type": "code",
   "execution_count": 29,
   "outputs": [],
   "source": [
    "artists_exploded = spotify_df[['new_artists_3','id']].explode('new_artists_3')"
   ],
   "metadata": {
    "collapsed": false
   }
  },
  {
   "cell_type": "code",
   "execution_count": 30,
   "outputs": [
    {
     "data": {
      "text/plain": "            new_artists_3                      id\n150996           4-Tay\",   78859Af0fmA9VTlgnOHTAP\n150996                 ,   78859Af0fmA9VTlgnOHTAP\n103581     Cru\", \"Michel   3hoiinUc5VA9xUEJID7R8V\n15465    Dirty Bastard\",   6YYd5MLpu45J0uLrMdivF7\n15465                  ,   6YYd5MLpu45J0uLrMdivF7\n...                   ...                     ...\n144483                黃國隆  5xFXTvnEe03SyvFpo6pEaE\n144483                王秋玉  5xFXTvnEe03SyvFpo6pEaE\n159177                黃國隆  4prhqrLXYMjHJ6vpRAlasx\n150072                 黑豹  3KIuCzckjdeeVuswPo20mC\n164470                조정현  2ghebdwe2pNXT4eL34T7pW\n\n[206456 rows x 2 columns]",
      "text/html": "<div>\n<style scoped>\n    .dataframe tbody tr th:only-of-type {\n        vertical-align: middle;\n    }\n\n    .dataframe tbody tr th {\n        vertical-align: top;\n    }\n\n    .dataframe thead th {\n        text-align: right;\n    }\n</style>\n<table border=\"1\" class=\"dataframe\">\n  <thead>\n    <tr style=\"text-align: right;\">\n      <th></th>\n      <th>new_artists_3</th>\n      <th>id</th>\n    </tr>\n  </thead>\n  <tbody>\n    <tr>\n      <th>150996</th>\n      <td>4-Tay\",</td>\n      <td>78859Af0fmA9VTlgnOHTAP</td>\n    </tr>\n    <tr>\n      <th>150996</th>\n      <td>,</td>\n      <td>78859Af0fmA9VTlgnOHTAP</td>\n    </tr>\n    <tr>\n      <th>103581</th>\n      <td>Cru\", \"Michel</td>\n      <td>3hoiinUc5VA9xUEJID7R8V</td>\n    </tr>\n    <tr>\n      <th>15465</th>\n      <td>Dirty Bastard\",</td>\n      <td>6YYd5MLpu45J0uLrMdivF7</td>\n    </tr>\n    <tr>\n      <th>15465</th>\n      <td>,</td>\n      <td>6YYd5MLpu45J0uLrMdivF7</td>\n    </tr>\n    <tr>\n      <th>...</th>\n      <td>...</td>\n      <td>...</td>\n    </tr>\n    <tr>\n      <th>144483</th>\n      <td>黃國隆</td>\n      <td>5xFXTvnEe03SyvFpo6pEaE</td>\n    </tr>\n    <tr>\n      <th>144483</th>\n      <td>王秋玉</td>\n      <td>5xFXTvnEe03SyvFpo6pEaE</td>\n    </tr>\n    <tr>\n      <th>159177</th>\n      <td>黃國隆</td>\n      <td>4prhqrLXYMjHJ6vpRAlasx</td>\n    </tr>\n    <tr>\n      <th>150072</th>\n      <td>黑豹</td>\n      <td>3KIuCzckjdeeVuswPo20mC</td>\n    </tr>\n    <tr>\n      <th>164470</th>\n      <td>조정현</td>\n      <td>2ghebdwe2pNXT4eL34T7pW</td>\n    </tr>\n  </tbody>\n</table>\n<p>206456 rows × 2 columns</p>\n</div>"
     },
     "execution_count": 30,
     "metadata": {},
     "output_type": "execute_result"
    }
   ],
   "source": [
    "artists_exploded"
   ],
   "metadata": {
    "collapsed": false
   }
  },
  {
   "cell_type": "markdown",
   "source": [
    "Мержим."
   ],
   "metadata": {
    "collapsed": false
   }
  },
  {
   "cell_type": "code",
   "execution_count": 31,
   "outputs": [],
   "source": [
    "artists_exploded_enriched = artists_exploded.merge(data_w_genres, how = 'left', left_on = 'new_artists_3',right_on = 'artists')"
   ],
   "metadata": {
    "collapsed": false
   }
  },
  {
   "cell_type": "code",
   "execution_count": 32,
   "outputs": [],
   "source": [
    "artists_exploded_enriched_nonnull = artists_exploded_enriched[~artists_exploded_enriched.str_genres.isnull()]"
   ],
   "metadata": {
    "collapsed": false
   }
  },
  {
   "cell_type": "code",
   "execution_count": 33,
   "outputs": [],
   "source": [
    "artists_genres_consolidated = artists_exploded_enriched_nonnull.groupby('id')['str_genres'].apply(list).reset_index()"
   ],
   "metadata": {
    "collapsed": false
   }
  },
  {
   "cell_type": "code",
   "execution_count": 34,
   "outputs": [],
   "source": [
    "artists_genres_consolidated['consolidates_genre_lists'] = artists_genres_consolidated['str_genres'].apply(lambda x: list(set(list(itertools.chain.from_iterable(x)))))"
   ],
   "metadata": {
    "collapsed": false
   }
  },
  {
   "cell_type": "code",
   "execution_count": 35,
   "outputs": [
    {
     "data": {
      "text/plain": "                       id                                         str_genres  \\\n0  000G1xMMuwxNHmwVsBdtj1  [[candy_pop, dance_rock, new_wave, new_wave_po...   \n1  000GyYHG4uWmlXieKLij8u  [[alternative_hip_hop, conscious_hip_hop, minn...   \n2  000Npgk5e2SgwGaIsN3ztv  [[classic_bollywood, classic_pakistani_pop, fi...   \n3  000ZxLGm7jDlWCHtcXSeBe    [[boogie-woogie, piano_blues, ragtime, stride]]   \n4  000jBcNljWTnyjB4YO7ojf                                               [[]]   \n\n                            consolidates_genre_lists  \n0  [candy_pop, rock, new_wave_pop, power_pop, new...  \n1  [alternative_hip_hop, pop_rap, minnesota_hip_h...  \n2  [filmi, classic_bollywood, sufi, classic_pakis...  \n3      [boogie-woogie, stride, piano_blues, ragtime]  \n4                                                 []  ",
      "text/html": "<div>\n<style scoped>\n    .dataframe tbody tr th:only-of-type {\n        vertical-align: middle;\n    }\n\n    .dataframe tbody tr th {\n        vertical-align: top;\n    }\n\n    .dataframe thead th {\n        text-align: right;\n    }\n</style>\n<table border=\"1\" class=\"dataframe\">\n  <thead>\n    <tr style=\"text-align: right;\">\n      <th></th>\n      <th>id</th>\n      <th>str_genres</th>\n      <th>consolidates_genre_lists</th>\n    </tr>\n  </thead>\n  <tbody>\n    <tr>\n      <th>0</th>\n      <td>000G1xMMuwxNHmwVsBdtj1</td>\n      <td>[[candy_pop, dance_rock, new_wave, new_wave_po...</td>\n      <td>[candy_pop, rock, new_wave_pop, power_pop, new...</td>\n    </tr>\n    <tr>\n      <th>1</th>\n      <td>000GyYHG4uWmlXieKLij8u</td>\n      <td>[[alternative_hip_hop, conscious_hip_hop, minn...</td>\n      <td>[alternative_hip_hop, pop_rap, minnesota_hip_h...</td>\n    </tr>\n    <tr>\n      <th>2</th>\n      <td>000Npgk5e2SgwGaIsN3ztv</td>\n      <td>[[classic_bollywood, classic_pakistani_pop, fi...</td>\n      <td>[filmi, classic_bollywood, sufi, classic_pakis...</td>\n    </tr>\n    <tr>\n      <th>3</th>\n      <td>000ZxLGm7jDlWCHtcXSeBe</td>\n      <td>[[boogie-woogie, piano_blues, ragtime, stride]]</td>\n      <td>[boogie-woogie, stride, piano_blues, ragtime]</td>\n    </tr>\n    <tr>\n      <th>4</th>\n      <td>000jBcNljWTnyjB4YO7ojf</td>\n      <td>[[]]</td>\n      <td>[]</td>\n    </tr>\n  </tbody>\n</table>\n</div>"
     },
     "execution_count": 35,
     "metadata": {},
     "output_type": "execute_result"
    }
   ],
   "source": [
    "artists_genres_consolidated.head()"
   ],
   "metadata": {
    "collapsed": false
   }
  },
  {
   "cell_type": "code",
   "execution_count": 36,
   "outputs": [],
   "source": [
    "spotify_df = spotify_df.merge(artists_genres_consolidated[['id','consolidates_genre_lists']], on = 'id', how = 'left')"
   ],
   "metadata": {
    "collapsed": false
   }
  },
  {
   "cell_type": "code",
   "execution_count": 37,
   "outputs": [
    {
     "data": {
      "text/plain": "   valence  year  acousticness  \\\n0    0.273  1996        0.0113   \n1    0.429  1994        0.0249   \n2    0.697  1999        0.0516   \n3    0.792  2004        0.0248   \n4    0.722  2000        0.0404   \n\n                                          artists  danceability  duration_ms  \\\n0      [\"Rappin' 4-Tay\", 'MC Breed', 'Too $hort']         0.897       337973   \n1      [\"World Class Wreckin' Cru\", \"Michel 'Le\"]         0.715       351040   \n2  [\"Ol' Dirty Bastard\", 'Kelis', 'Rich Travali']         0.934       239547   \n3                            [\"Lil' Flip\", 'Lea']         0.814       225173   \n4                           [\"Lil' Kim\", 'Sisqo']         0.584       233053   \n\n   energy  explicit                      id  instrumentalness  ...  \\\n0   0.414         1  78859Af0fmA9VTlgnOHTAP           0.00011  ...   \n1   0.490         0  3hoiinUc5VA9xUEJID7R8V           0.00017  ...   \n2   0.459         1  6YYd5MLpu45J0uLrMdivF7           0.00000  ...   \n3   0.387         1  4s0o8TJHfX9LLHa0umnOzT           0.00000  ...   \n4   0.682         1  5jv3QxL0MFswzM1UJ2qQJM           0.00000  ...   \n\n                            name  popularity  release_date  speechiness  \\\n0                Never Talk Down          35          1996       0.2460   \n1      Turn Off The Lights - Rap          36    1994-04-06       0.0479   \n2   Got Your Money (feat. Kelis)          66          1999       0.1890   \n3           Sunshine (feat. Lea)          62    2004-03-30       0.0945   \n4  How Many Licks? (feat. Sisqo)          53    2000-06-16       0.3330   \n\n     tempo              new_artists                           new_artists_2  \\\n0   96.039          [ 4-Tay\", , , ]                         [Rappin' 4-Tay]   \n1  129.309        [ Cru\", \"Michel ]  [World Class Wreckin' Cru, Michel 'Le]   \n2  103.040  [ Dirty Bastard\", , , ]                     [Ol' Dirty Bastard]   \n3   93.961               [ Flip\", ]                             [Lil' Flip]   \n4  105.170                [ Kim\", ]                              [Lil' Kim]   \n\n             new_artists_3                                artists_and_song  \\\n0          [ 4-Tay\", , , ]                        4-Tay\",  Never Talk Down   \n1        [ Cru\", \"Michel ]        Cru\", \"Michel  Turn Off The Lights - Rap   \n2  [ Dirty Bastard\", , , ]   Dirty Bastard\",  Got Your Money (feat. Kelis)   \n3               [ Flip\", ]                    Flip\",  Sunshine (feat. Lea)   \n4                [ Kim\", ]            Kim\",  How Many Licks? (feat. Sisqo)   \n\n  consolidates_genre_lists  \n0                      NaN  \n1                      NaN  \n2                      NaN  \n3                      NaN  \n4                      NaN  \n\n[5 rows x 24 columns]",
      "text/html": "<div>\n<style scoped>\n    .dataframe tbody tr th:only-of-type {\n        vertical-align: middle;\n    }\n\n    .dataframe tbody tr th {\n        vertical-align: top;\n    }\n\n    .dataframe thead th {\n        text-align: right;\n    }\n</style>\n<table border=\"1\" class=\"dataframe\">\n  <thead>\n    <tr style=\"text-align: right;\">\n      <th></th>\n      <th>valence</th>\n      <th>year</th>\n      <th>acousticness</th>\n      <th>artists</th>\n      <th>danceability</th>\n      <th>duration_ms</th>\n      <th>energy</th>\n      <th>explicit</th>\n      <th>id</th>\n      <th>instrumentalness</th>\n      <th>...</th>\n      <th>name</th>\n      <th>popularity</th>\n      <th>release_date</th>\n      <th>speechiness</th>\n      <th>tempo</th>\n      <th>new_artists</th>\n      <th>new_artists_2</th>\n      <th>new_artists_3</th>\n      <th>artists_and_song</th>\n      <th>consolidates_genre_lists</th>\n    </tr>\n  </thead>\n  <tbody>\n    <tr>\n      <th>0</th>\n      <td>0.273</td>\n      <td>1996</td>\n      <td>0.0113</td>\n      <td>[\"Rappin' 4-Tay\", 'MC Breed', 'Too $hort']</td>\n      <td>0.897</td>\n      <td>337973</td>\n      <td>0.414</td>\n      <td>1</td>\n      <td>78859Af0fmA9VTlgnOHTAP</td>\n      <td>0.00011</td>\n      <td>...</td>\n      <td>Never Talk Down</td>\n      <td>35</td>\n      <td>1996</td>\n      <td>0.2460</td>\n      <td>96.039</td>\n      <td>[ 4-Tay\", , , ]</td>\n      <td>[Rappin' 4-Tay]</td>\n      <td>[ 4-Tay\", , , ]</td>\n      <td>4-Tay\",  Never Talk Down</td>\n      <td>NaN</td>\n    </tr>\n    <tr>\n      <th>1</th>\n      <td>0.429</td>\n      <td>1994</td>\n      <td>0.0249</td>\n      <td>[\"World Class Wreckin' Cru\", \"Michel 'Le\"]</td>\n      <td>0.715</td>\n      <td>351040</td>\n      <td>0.490</td>\n      <td>0</td>\n      <td>3hoiinUc5VA9xUEJID7R8V</td>\n      <td>0.00017</td>\n      <td>...</td>\n      <td>Turn Off The Lights - Rap</td>\n      <td>36</td>\n      <td>1994-04-06</td>\n      <td>0.0479</td>\n      <td>129.309</td>\n      <td>[ Cru\", \"Michel ]</td>\n      <td>[World Class Wreckin' Cru, Michel 'Le]</td>\n      <td>[ Cru\", \"Michel ]</td>\n      <td>Cru\", \"Michel  Turn Off The Lights - Rap</td>\n      <td>NaN</td>\n    </tr>\n    <tr>\n      <th>2</th>\n      <td>0.697</td>\n      <td>1999</td>\n      <td>0.0516</td>\n      <td>[\"Ol' Dirty Bastard\", 'Kelis', 'Rich Travali']</td>\n      <td>0.934</td>\n      <td>239547</td>\n      <td>0.459</td>\n      <td>1</td>\n      <td>6YYd5MLpu45J0uLrMdivF7</td>\n      <td>0.00000</td>\n      <td>...</td>\n      <td>Got Your Money (feat. Kelis)</td>\n      <td>66</td>\n      <td>1999</td>\n      <td>0.1890</td>\n      <td>103.040</td>\n      <td>[ Dirty Bastard\", , , ]</td>\n      <td>[Ol' Dirty Bastard]</td>\n      <td>[ Dirty Bastard\", , , ]</td>\n      <td>Dirty Bastard\",  Got Your Money (feat. Kelis)</td>\n      <td>NaN</td>\n    </tr>\n    <tr>\n      <th>3</th>\n      <td>0.792</td>\n      <td>2004</td>\n      <td>0.0248</td>\n      <td>[\"Lil' Flip\", 'Lea']</td>\n      <td>0.814</td>\n      <td>225173</td>\n      <td>0.387</td>\n      <td>1</td>\n      <td>4s0o8TJHfX9LLHa0umnOzT</td>\n      <td>0.00000</td>\n      <td>...</td>\n      <td>Sunshine (feat. Lea)</td>\n      <td>62</td>\n      <td>2004-03-30</td>\n      <td>0.0945</td>\n      <td>93.961</td>\n      <td>[ Flip\", ]</td>\n      <td>[Lil' Flip]</td>\n      <td>[ Flip\", ]</td>\n      <td>Flip\",  Sunshine (feat. Lea)</td>\n      <td>NaN</td>\n    </tr>\n    <tr>\n      <th>4</th>\n      <td>0.722</td>\n      <td>2000</td>\n      <td>0.0404</td>\n      <td>[\"Lil' Kim\", 'Sisqo']</td>\n      <td>0.584</td>\n      <td>233053</td>\n      <td>0.682</td>\n      <td>1</td>\n      <td>5jv3QxL0MFswzM1UJ2qQJM</td>\n      <td>0.00000</td>\n      <td>...</td>\n      <td>How Many Licks? (feat. Sisqo)</td>\n      <td>53</td>\n      <td>2000-06-16</td>\n      <td>0.3330</td>\n      <td>105.170</td>\n      <td>[ Kim\", ]</td>\n      <td>[Lil' Kim]</td>\n      <td>[ Kim\", ]</td>\n      <td>Kim\",  How Many Licks? (feat. Sisqo)</td>\n      <td>NaN</td>\n    </tr>\n  </tbody>\n</table>\n<p>5 rows × 24 columns</p>\n</div>"
     },
     "execution_count": 37,
     "metadata": {},
     "output_type": "execute_result"
    }
   ],
   "source": [
    "spotify_df.head()"
   ],
   "metadata": {
    "collapsed": false
   }
  },
  {
   "cell_type": "markdown",
   "source": [
    "Итак, теперь у нас есть датафрейм, где у исполнителей песенок есть жанры (да, это не жанры песен и исполнители могут экспериментировать, но это уже что-то)"
   ],
   "metadata": {
    "collapsed": false
   }
  },
  {
   "cell_type": "markdown",
   "source": [
    "Теперь займемся подготовкой данных: отшкалировать/закодировать/убрать лишнее, все как всегда."
   ],
   "metadata": {
    "collapsed": false
   }
  },
  {
   "cell_type": "code",
   "execution_count": 38,
   "outputs": [],
   "source": [
    "spotify = spotify_df.drop(['new_artists', 'new_artists_2', 'artists_and_song', 'artists'], axis=1)"
   ],
   "metadata": {
    "collapsed": false
   }
  },
  {
   "cell_type": "code",
   "execution_count": 39,
   "outputs": [
    {
     "data": {
      "text/plain": "   valence  year  acousticness  danceability  duration_ms  energy  explicit  \\\n0    0.273  1996        0.0113         0.897       337973   0.414         1   \n1    0.429  1994        0.0249         0.715       351040   0.490         0   \n2    0.697  1999        0.0516         0.934       239547   0.459         1   \n3    0.792  2004        0.0248         0.814       225173   0.387         1   \n4    0.722  2000        0.0404         0.584       233053   0.682         1   \n\n                       id  instrumentalness  key  liveness  loudness  mode  \\\n0  78859Af0fmA9VTlgnOHTAP           0.00011    4     0.101    -8.450     0   \n1  3hoiinUc5VA9xUEJID7R8V           0.00017    9     0.139    -9.504     0   \n2  6YYd5MLpu45J0uLrMdivF7           0.00000    1     0.222    -7.654     1   \n3  4s0o8TJHfX9LLHa0umnOzT           0.00000    0     0.131    -9.867     1   \n4  5jv3QxL0MFswzM1UJ2qQJM           0.00000   10     0.352    -9.597     0   \n\n                            name  popularity release_date  speechiness  \\\n0                Never Talk Down          35         1996       0.2460   \n1      Turn Off The Lights - Rap          36   1994-04-06       0.0479   \n2   Got Your Money (feat. Kelis)          66         1999       0.1890   \n3           Sunshine (feat. Lea)          62   2004-03-30       0.0945   \n4  How Many Licks? (feat. Sisqo)          53   2000-06-16       0.3330   \n\n     tempo            new_artists_3 consolidates_genre_lists  \n0   96.039          [ 4-Tay\", , , ]                      NaN  \n1  129.309        [ Cru\", \"Michel ]                      NaN  \n2  103.040  [ Dirty Bastard\", , , ]                      NaN  \n3   93.961               [ Flip\", ]                      NaN  \n4  105.170                [ Kim\", ]                      NaN  ",
      "text/html": "<div>\n<style scoped>\n    .dataframe tbody tr th:only-of-type {\n        vertical-align: middle;\n    }\n\n    .dataframe tbody tr th {\n        vertical-align: top;\n    }\n\n    .dataframe thead th {\n        text-align: right;\n    }\n</style>\n<table border=\"1\" class=\"dataframe\">\n  <thead>\n    <tr style=\"text-align: right;\">\n      <th></th>\n      <th>valence</th>\n      <th>year</th>\n      <th>acousticness</th>\n      <th>danceability</th>\n      <th>duration_ms</th>\n      <th>energy</th>\n      <th>explicit</th>\n      <th>id</th>\n      <th>instrumentalness</th>\n      <th>key</th>\n      <th>liveness</th>\n      <th>loudness</th>\n      <th>mode</th>\n      <th>name</th>\n      <th>popularity</th>\n      <th>release_date</th>\n      <th>speechiness</th>\n      <th>tempo</th>\n      <th>new_artists_3</th>\n      <th>consolidates_genre_lists</th>\n    </tr>\n  </thead>\n  <tbody>\n    <tr>\n      <th>0</th>\n      <td>0.273</td>\n      <td>1996</td>\n      <td>0.0113</td>\n      <td>0.897</td>\n      <td>337973</td>\n      <td>0.414</td>\n      <td>1</td>\n      <td>78859Af0fmA9VTlgnOHTAP</td>\n      <td>0.00011</td>\n      <td>4</td>\n      <td>0.101</td>\n      <td>-8.450</td>\n      <td>0</td>\n      <td>Never Talk Down</td>\n      <td>35</td>\n      <td>1996</td>\n      <td>0.2460</td>\n      <td>96.039</td>\n      <td>[ 4-Tay\", , , ]</td>\n      <td>NaN</td>\n    </tr>\n    <tr>\n      <th>1</th>\n      <td>0.429</td>\n      <td>1994</td>\n      <td>0.0249</td>\n      <td>0.715</td>\n      <td>351040</td>\n      <td>0.490</td>\n      <td>0</td>\n      <td>3hoiinUc5VA9xUEJID7R8V</td>\n      <td>0.00017</td>\n      <td>9</td>\n      <td>0.139</td>\n      <td>-9.504</td>\n      <td>0</td>\n      <td>Turn Off The Lights - Rap</td>\n      <td>36</td>\n      <td>1994-04-06</td>\n      <td>0.0479</td>\n      <td>129.309</td>\n      <td>[ Cru\", \"Michel ]</td>\n      <td>NaN</td>\n    </tr>\n    <tr>\n      <th>2</th>\n      <td>0.697</td>\n      <td>1999</td>\n      <td>0.0516</td>\n      <td>0.934</td>\n      <td>239547</td>\n      <td>0.459</td>\n      <td>1</td>\n      <td>6YYd5MLpu45J0uLrMdivF7</td>\n      <td>0.00000</td>\n      <td>1</td>\n      <td>0.222</td>\n      <td>-7.654</td>\n      <td>1</td>\n      <td>Got Your Money (feat. Kelis)</td>\n      <td>66</td>\n      <td>1999</td>\n      <td>0.1890</td>\n      <td>103.040</td>\n      <td>[ Dirty Bastard\", , , ]</td>\n      <td>NaN</td>\n    </tr>\n    <tr>\n      <th>3</th>\n      <td>0.792</td>\n      <td>2004</td>\n      <td>0.0248</td>\n      <td>0.814</td>\n      <td>225173</td>\n      <td>0.387</td>\n      <td>1</td>\n      <td>4s0o8TJHfX9LLHa0umnOzT</td>\n      <td>0.00000</td>\n      <td>0</td>\n      <td>0.131</td>\n      <td>-9.867</td>\n      <td>1</td>\n      <td>Sunshine (feat. Lea)</td>\n      <td>62</td>\n      <td>2004-03-30</td>\n      <td>0.0945</td>\n      <td>93.961</td>\n      <td>[ Flip\", ]</td>\n      <td>NaN</td>\n    </tr>\n    <tr>\n      <th>4</th>\n      <td>0.722</td>\n      <td>2000</td>\n      <td>0.0404</td>\n      <td>0.584</td>\n      <td>233053</td>\n      <td>0.682</td>\n      <td>1</td>\n      <td>5jv3QxL0MFswzM1UJ2qQJM</td>\n      <td>0.00000</td>\n      <td>10</td>\n      <td>0.352</td>\n      <td>-9.597</td>\n      <td>0</td>\n      <td>How Many Licks? (feat. Sisqo)</td>\n      <td>53</td>\n      <td>2000-06-16</td>\n      <td>0.3330</td>\n      <td>105.170</td>\n      <td>[ Kim\", ]</td>\n      <td>NaN</td>\n    </tr>\n  </tbody>\n</table>\n</div>"
     },
     "execution_count": 39,
     "metadata": {},
     "output_type": "execute_result"
    }
   ],
   "source": [
    "spotify.head()"
   ],
   "metadata": {
    "collapsed": false
   }
  },
  {
   "cell_type": "code",
   "execution_count": 40,
   "outputs": [],
   "source": [
    "spotify['consolidates_genre_lists'] = spotify['consolidates_genre_lists'].apply(lambda d: d if isinstance(d, list) else [])"
   ],
   "metadata": {
    "collapsed": false
   }
  },
  {
   "cell_type": "code",
   "execution_count": 41,
   "outputs": [],
   "source": [
    "def ohe_prep(df, column, new_name):\n",
    "    tf_df = pd.get_dummies(df[column])\n",
    "    feature_names = tf_df.columns\n",
    "    tf_df.columns = [new_name + \"|\" + str(i) for i in feature_names]\n",
    "    tf_df.reset_index(drop = True, inplace = True)\n",
    "    return tf_df"
   ],
   "metadata": {
    "collapsed": false
   }
  },
  {
   "cell_type": "code",
   "execution_count": 42,
   "outputs": [],
   "source": [
    "tfidf = TfidfVectorizer()\n",
    "scaler = StandardScaler()\n",
    "\n",
    "def create_feature_set(df, float_cols):\n",
    "    tfidf_matrix =  tfidf.fit_transform(df['consolidates_genre_lists'].apply(lambda x: \" \".join(x)))\n",
    "    genre_df = pd.DataFrame(tfidf_matrix.toarray())\n",
    "    genre_df.columns = ['genre' + \"|\" + i for i in tfidf.get_feature_names()]\n",
    "    genre_df.reset_index(drop = True, inplace=True)\n",
    "\n",
    "    year_ohe = ohe_prep(df, 'year','year') * 0.5\n",
    "\n",
    "    floats = df[float_cols].reset_index(drop = True)\n",
    "    floats_scaled = pd.DataFrame(scaler.fit_transform(floats), columns = floats.columns) * 0.2\n",
    "\n",
    "    final = pd.concat([genre_df, floats_scaled, year_ohe], axis = 1)\n",
    "\n",
    "    final['id']=df['id'].values\n",
    "\n",
    "    return final"
   ],
   "metadata": {
    "collapsed": false
   }
  },
  {
   "cell_type": "code",
   "execution_count": 43,
   "outputs": [],
   "source": [
    "float_cols = spotify.dtypes[(spotify.dtypes == 'float64') | (spotify.dtypes == 'int64')].index.values"
   ],
   "metadata": {
    "collapsed": false
   }
  },
  {
   "cell_type": "code",
   "execution_count": 44,
   "outputs": [
    {
     "data": {
      "text/plain": "array(['valence', 'year', 'acousticness', 'danceability', 'duration_ms',\n       'energy', 'explicit', 'instrumentalness', 'key', 'liveness',\n       'loudness', 'mode', 'popularity', 'speechiness', 'tempo'],\n      dtype=object)"
     },
     "execution_count": 44,
     "metadata": {},
     "output_type": "execute_result"
    }
   ],
   "source": [
    "float_cols"
   ],
   "metadata": {
    "collapsed": false
   }
  },
  {
   "cell_type": "code",
   "execution_count": 45,
   "outputs": [],
   "source": [
    "complete_feature_set = create_feature_set(spotify, float_cols=float_cols).drop('id', axis=1).astype('float16')"
   ],
   "metadata": {
    "collapsed": false
   }
  },
  {
   "cell_type": "code",
   "execution_count": 46,
   "outputs": [
    {
     "data": {
      "text/plain": "   genre|21st_century_classical  genre|432hz  genre|_hip_hop  \\\n0                           0.0          0.0             0.0   \n1                           0.0          0.0             0.0   \n2                           0.0          0.0             0.0   \n3                           0.0          0.0             0.0   \n4                           0.0          0.0             0.0   \n\n   genre|a_cappella  genre|abstract  genre|abstract_beats  \\\n0               0.0             0.0                   0.0   \n1               0.0             0.0                   0.0   \n2               0.0             0.0                   0.0   \n3               0.0             0.0                   0.0   \n4               0.0             0.0                   0.0   \n\n   genre|abstract_hip_hop  genre|accordeon  genre|accordion  genre|acid_house  \\\n0                     0.0              0.0              0.0               0.0   \n1                     0.0              0.0              0.0               0.0   \n2                     0.0              0.0              0.0               0.0   \n3                     0.0              0.0              0.0               0.0   \n4                     0.0              0.0              0.0               0.0   \n\n   ...  year|2011  year|2012  year|2013  year|2014  year|2015  year|2016  \\\n0  ...        0.0        0.0        0.0        0.0        0.0        0.0   \n1  ...        0.0        0.0        0.0        0.0        0.0        0.0   \n2  ...        0.0        0.0        0.0        0.0        0.0        0.0   \n3  ...        0.0        0.0        0.0        0.0        0.0        0.0   \n4  ...        0.0        0.0        0.0        0.0        0.0        0.0   \n\n   year|2017  year|2018  year|2019  year|2020  \n0        0.0        0.0        0.0        0.0  \n1        0.0        0.0        0.0        0.0  \n2        0.0        0.0        0.0        0.0  \n3        0.0        0.0        0.0        0.0  \n4        0.0        0.0        0.0        0.0  \n\n[5 rows x 3052 columns]",
      "text/html": "<div>\n<style scoped>\n    .dataframe tbody tr th:only-of-type {\n        vertical-align: middle;\n    }\n\n    .dataframe tbody tr th {\n        vertical-align: top;\n    }\n\n    .dataframe thead th {\n        text-align: right;\n    }\n</style>\n<table border=\"1\" class=\"dataframe\">\n  <thead>\n    <tr style=\"text-align: right;\">\n      <th></th>\n      <th>genre|21st_century_classical</th>\n      <th>genre|432hz</th>\n      <th>genre|_hip_hop</th>\n      <th>genre|a_cappella</th>\n      <th>genre|abstract</th>\n      <th>genre|abstract_beats</th>\n      <th>genre|abstract_hip_hop</th>\n      <th>genre|accordeon</th>\n      <th>genre|accordion</th>\n      <th>genre|acid_house</th>\n      <th>...</th>\n      <th>year|2011</th>\n      <th>year|2012</th>\n      <th>year|2013</th>\n      <th>year|2014</th>\n      <th>year|2015</th>\n      <th>year|2016</th>\n      <th>year|2017</th>\n      <th>year|2018</th>\n      <th>year|2019</th>\n      <th>year|2020</th>\n    </tr>\n  </thead>\n  <tbody>\n    <tr>\n      <th>0</th>\n      <td>0.0</td>\n      <td>0.0</td>\n      <td>0.0</td>\n      <td>0.0</td>\n      <td>0.0</td>\n      <td>0.0</td>\n      <td>0.0</td>\n      <td>0.0</td>\n      <td>0.0</td>\n      <td>0.0</td>\n      <td>...</td>\n      <td>0.0</td>\n      <td>0.0</td>\n      <td>0.0</td>\n      <td>0.0</td>\n      <td>0.0</td>\n      <td>0.0</td>\n      <td>0.0</td>\n      <td>0.0</td>\n      <td>0.0</td>\n      <td>0.0</td>\n    </tr>\n    <tr>\n      <th>1</th>\n      <td>0.0</td>\n      <td>0.0</td>\n      <td>0.0</td>\n      <td>0.0</td>\n      <td>0.0</td>\n      <td>0.0</td>\n      <td>0.0</td>\n      <td>0.0</td>\n      <td>0.0</td>\n      <td>0.0</td>\n      <td>...</td>\n      <td>0.0</td>\n      <td>0.0</td>\n      <td>0.0</td>\n      <td>0.0</td>\n      <td>0.0</td>\n      <td>0.0</td>\n      <td>0.0</td>\n      <td>0.0</td>\n      <td>0.0</td>\n      <td>0.0</td>\n    </tr>\n    <tr>\n      <th>2</th>\n      <td>0.0</td>\n      <td>0.0</td>\n      <td>0.0</td>\n      <td>0.0</td>\n      <td>0.0</td>\n      <td>0.0</td>\n      <td>0.0</td>\n      <td>0.0</td>\n      <td>0.0</td>\n      <td>0.0</td>\n      <td>...</td>\n      <td>0.0</td>\n      <td>0.0</td>\n      <td>0.0</td>\n      <td>0.0</td>\n      <td>0.0</td>\n      <td>0.0</td>\n      <td>0.0</td>\n      <td>0.0</td>\n      <td>0.0</td>\n      <td>0.0</td>\n    </tr>\n    <tr>\n      <th>3</th>\n      <td>0.0</td>\n      <td>0.0</td>\n      <td>0.0</td>\n      <td>0.0</td>\n      <td>0.0</td>\n      <td>0.0</td>\n      <td>0.0</td>\n      <td>0.0</td>\n      <td>0.0</td>\n      <td>0.0</td>\n      <td>...</td>\n      <td>0.0</td>\n      <td>0.0</td>\n      <td>0.0</td>\n      <td>0.0</td>\n      <td>0.0</td>\n      <td>0.0</td>\n      <td>0.0</td>\n      <td>0.0</td>\n      <td>0.0</td>\n      <td>0.0</td>\n    </tr>\n    <tr>\n      <th>4</th>\n      <td>0.0</td>\n      <td>0.0</td>\n      <td>0.0</td>\n      <td>0.0</td>\n      <td>0.0</td>\n      <td>0.0</td>\n      <td>0.0</td>\n      <td>0.0</td>\n      <td>0.0</td>\n      <td>0.0</td>\n      <td>...</td>\n      <td>0.0</td>\n      <td>0.0</td>\n      <td>0.0</td>\n      <td>0.0</td>\n      <td>0.0</td>\n      <td>0.0</td>\n      <td>0.0</td>\n      <td>0.0</td>\n      <td>0.0</td>\n      <td>0.0</td>\n    </tr>\n  </tbody>\n</table>\n<p>5 rows × 3052 columns</p>\n</div>"
     },
     "execution_count": 46,
     "metadata": {},
     "output_type": "execute_result"
    }
   ],
   "source": [
    "complete_feature_set.head()"
   ],
   "metadata": {
    "collapsed": false
   }
  },
  {
   "cell_type": "code",
   "execution_count": 47,
   "outputs": [
    {
     "name": "stdout",
     "output_type": "stream",
     "text": [
      "<class 'pandas.core.frame.DataFrame'>\n",
      "RangeIndex: 156607 entries, 0 to 156606\n",
      "Columns: 3052 entries, genre|21st_century_classical to year|2020\n",
      "dtypes: float16(3052)\n",
      "memory usage: 911.6 MB\n"
     ]
    }
   ],
   "source": [
    "complete_feature_set.info()"
   ],
   "metadata": {
    "collapsed": false
   }
  },
  {
   "cell_type": "code",
   "execution_count": 48,
   "outputs": [
    {
     "name": "stdout",
     "output_type": "stream",
     "text": [
      "<class 'pandas.core.frame.DataFrame'>\n",
      "Int64Index: 156607 entries, 0 to 156606\n",
      "Data columns (total 20 columns):\n",
      " #   Column                    Non-Null Count   Dtype  \n",
      "---  ------                    --------------   -----  \n",
      " 0   valence                   156607 non-null  float64\n",
      " 1   year                      156607 non-null  int64  \n",
      " 2   acousticness              156607 non-null  float64\n",
      " 3   danceability              156607 non-null  float64\n",
      " 4   duration_ms               156607 non-null  int64  \n",
      " 5   energy                    156607 non-null  float64\n",
      " 6   explicit                  156607 non-null  int64  \n",
      " 7   id                        156607 non-null  object \n",
      " 8   instrumentalness          156607 non-null  float64\n",
      " 9   key                       156607 non-null  int64  \n",
      " 10  liveness                  156607 non-null  float64\n",
      " 11  loudness                  156607 non-null  float64\n",
      " 12  mode                      156607 non-null  int64  \n",
      " 13  name                      156607 non-null  object \n",
      " 14  popularity                156607 non-null  int64  \n",
      " 15  release_date              156607 non-null  object \n",
      " 16  speechiness               156607 non-null  float64\n",
      " 17  tempo                     156607 non-null  float64\n",
      " 18  new_artists_3             156607 non-null  object \n",
      " 19  consolidates_genre_lists  156607 non-null  object \n",
      "dtypes: float64(9), int64(6), object(5)\n",
      "memory usage: 25.1+ MB\n"
     ]
    }
   ],
   "source": [
    "spotify.info()"
   ],
   "metadata": {
    "collapsed": false
   }
  },
  {
   "cell_type": "code",
   "execution_count": 49,
   "outputs": [
    {
     "data": {
      "text/plain": "(156607, 20)"
     },
     "execution_count": 49,
     "metadata": {},
     "output_type": "execute_result"
    }
   ],
   "source": [
    "spotify.shape"
   ],
   "metadata": {
    "collapsed": false
   }
  },
  {
   "cell_type": "code",
   "execution_count": 50,
   "outputs": [
    {
     "data": {
      "text/plain": "(156607, 3052)"
     },
     "execution_count": 50,
     "metadata": {},
     "output_type": "execute_result"
    }
   ],
   "source": [
    "complete_feature_set.shape"
   ],
   "metadata": {
    "collapsed": false
   }
  },
  {
   "cell_type": "markdown",
   "source": [
    "### А далее пытаемся построить матрицу схожести и... у меня нет 180 гб оперативки."
   ],
   "metadata": {
    "collapsed": false
   }
  },
  {
   "cell_type": "code",
   "execution_count": 75,
   "outputs": [],
   "source": [
    "new_data = data.drop(['artists', 'id', 'name', 'release_date'], axis=1)"
   ],
   "metadata": {
    "collapsed": false
   }
  },
  {
   "cell_type": "code",
   "execution_count": 77,
   "outputs": [],
   "source": [
    "from sklearn.metrics.pairwise import cosine_similarity"
   ],
   "metadata": {
    "collapsed": false
   }
  },
  {
   "cell_type": "code",
   "execution_count": 78,
   "outputs": [],
   "source": [
    "scaler = StandardScaler()"
   ],
   "metadata": {
    "collapsed": false
   }
  },
  {
   "cell_type": "code",
   "execution_count": 79,
   "outputs": [],
   "source": [
    "new_data_scaled = scaler.fit_transform(new_data)"
   ],
   "metadata": {
    "collapsed": false
   }
  },
  {
   "cell_type": "code",
   "execution_count": 88,
   "outputs": [
    {
     "data": {
      "text/plain": "array([[-1.7828247 , -2.15247016,  1.27618658, ..., -1.25680847,\n        -0.37970638, -1.16930675],\n       [ 1.65068832, -2.15247016,  0.61134711, ..., -1.21099271,\n         1.94548067, -1.82117959],\n       [-1.858821  , -2.15247016,  1.22034007, ..., -1.21099271,\n        -0.3962973 , -0.21240379],\n       ...,\n       [ 0.41194856,  1.66730194, -1.06670771, ...,  2.04192615,\n        -0.10749235, -0.81976118],\n       [-1.26756976,  1.66730194, -1.30876246, ...,  1.7670316 ,\n         1.28798856, -1.36140375],\n       [ 0.43094764,  1.66730194, -0.98426761, ...,  1.95029463,\n         0.05903135, -0.71220119]])"
     },
     "execution_count": 88,
     "metadata": {},
     "output_type": "execute_result"
    }
   ],
   "source": [
    "new_data_scaled"
   ],
   "metadata": {
    "collapsed": false
   }
  },
  {
   "cell_type": "code",
   "execution_count": 93,
   "outputs": [],
   "source": [
    "def cos_sim(a, b):\n",
    "    return np.dot(a, b) / (np.linalg.norm(a) * np.linalg.norm(b))"
   ],
   "metadata": {
    "collapsed": false
   }
  },
  {
   "cell_type": "code",
   "execution_count": 95,
   "outputs": [],
   "source": [
    "def predict(song, df, metric, n):\n",
    "    metrics = np.zeros(df.shape[0])\n",
    "    for index, i in enumerate(df):\n",
    "        metrics[index] = metric(song, i)\n",
    "    return metrics.argsort()[:n]"
   ],
   "metadata": {
    "collapsed": false
   }
  },
  {
   "cell_type": "code",
   "execution_count": 106,
   "outputs": [
    {
     "data": {
      "text/plain": "valence                              0.596\nyear                                  1991\nacousticness                      0.000125\nartists                      ['Green Day']\ndanceability                         0.376\nduration_ms                         179827\nenergy                               0.988\nexplicit                                 0\nid                  6Oxjqbh368cWsGJv7cNfUP\ninstrumentalness                  0.000002\nkey                                      3\nliveness                             0.317\nloudness                            -3.667\nmode                                     1\nname                        The One I Want\npopularity                              30\nrelease_date                    1991-07-01\nspeechiness                         0.0899\ntempo                               90.246\nName: 150012, dtype: object"
     },
     "execution_count": 106,
     "metadata": {},
     "output_type": "execute_result"
    }
   ],
   "source": [
    "data.iloc[150012]"
   ],
   "metadata": {
    "collapsed": false
   }
  },
  {
   "cell_type": "code",
   "execution_count": 107,
   "outputs": [
    {
     "data": {
      "text/plain": "       valence  year  acousticness                        artists  \\\n26461    0.332  1959         0.897   ['The Dave Brubeck Quartet']   \n26651    0.472  1960         0.907             ['Blossom Dearie']   \n8100     0.687  1962         0.841  ['Stan Getz', 'Charlie Byrd']   \n45913    0.592  1963         0.822        ['Oscar Peterson Trio']   \n8789     0.293  1965         0.956               ['Paul Desmond']   \n\n       danceability  duration_ms  energy  explicit                      id  \\\n26461         0.641       261840  0.1750         0  2D8hWnGqfqjnNv4jB12uds   \n26651         0.580       256027  0.1240         0  3NWbd7KcJgEpj5ixc9Yrad   \n8100          0.637       283627  0.1900         0  6y2YxIUeM9uMgAINRnb11K   \n45913         0.639       232840  0.2020         0  4vsYktePz0JersI03zbxNn   \n8789          0.589       265760  0.0578         0  5mgod2DVJEZI145AS8vQJ2   \n\n       instrumentalness  key  liveness  loudness  mode  \\\n26461             0.446   10    0.1230   -20.195     0   \n26651             0.000    9    0.1130   -20.579     0   \n8100              0.263    9    0.1200   -22.466     0   \n45913             0.237   10    0.0675   -18.240     0   \n8789              0.138    5    0.1010   -23.976     0   \n\n                          name  popularity release_date  speechiness    tempo  \n26461      Everybody's Jumpin'          32         1959       0.0502  150.051  \n26651  The Gentleman Is A Dope          30   1960-01-01       0.0448  148.996  \n8100              Samba Triste          46   1962-01-01       0.0676  143.111  \n45913                Band Call          32   1963-01-01       0.0401  151.562  \n8789          A Taste of Honey          41   1965-01-01       0.0407  127.592  ",
      "text/html": "<div>\n<style scoped>\n    .dataframe tbody tr th:only-of-type {\n        vertical-align: middle;\n    }\n\n    .dataframe tbody tr th {\n        vertical-align: top;\n    }\n\n    .dataframe thead th {\n        text-align: right;\n    }\n</style>\n<table border=\"1\" class=\"dataframe\">\n  <thead>\n    <tr style=\"text-align: right;\">\n      <th></th>\n      <th>valence</th>\n      <th>year</th>\n      <th>acousticness</th>\n      <th>artists</th>\n      <th>danceability</th>\n      <th>duration_ms</th>\n      <th>energy</th>\n      <th>explicit</th>\n      <th>id</th>\n      <th>instrumentalness</th>\n      <th>key</th>\n      <th>liveness</th>\n      <th>loudness</th>\n      <th>mode</th>\n      <th>name</th>\n      <th>popularity</th>\n      <th>release_date</th>\n      <th>speechiness</th>\n      <th>tempo</th>\n    </tr>\n  </thead>\n  <tbody>\n    <tr>\n      <th>26461</th>\n      <td>0.332</td>\n      <td>1959</td>\n      <td>0.897</td>\n      <td>['The Dave Brubeck Quartet']</td>\n      <td>0.641</td>\n      <td>261840</td>\n      <td>0.1750</td>\n      <td>0</td>\n      <td>2D8hWnGqfqjnNv4jB12uds</td>\n      <td>0.446</td>\n      <td>10</td>\n      <td>0.1230</td>\n      <td>-20.195</td>\n      <td>0</td>\n      <td>Everybody's Jumpin'</td>\n      <td>32</td>\n      <td>1959</td>\n      <td>0.0502</td>\n      <td>150.051</td>\n    </tr>\n    <tr>\n      <th>26651</th>\n      <td>0.472</td>\n      <td>1960</td>\n      <td>0.907</td>\n      <td>['Blossom Dearie']</td>\n      <td>0.580</td>\n      <td>256027</td>\n      <td>0.1240</td>\n      <td>0</td>\n      <td>3NWbd7KcJgEpj5ixc9Yrad</td>\n      <td>0.000</td>\n      <td>9</td>\n      <td>0.1130</td>\n      <td>-20.579</td>\n      <td>0</td>\n      <td>The Gentleman Is A Dope</td>\n      <td>30</td>\n      <td>1960-01-01</td>\n      <td>0.0448</td>\n      <td>148.996</td>\n    </tr>\n    <tr>\n      <th>8100</th>\n      <td>0.687</td>\n      <td>1962</td>\n      <td>0.841</td>\n      <td>['Stan Getz', 'Charlie Byrd']</td>\n      <td>0.637</td>\n      <td>283627</td>\n      <td>0.1900</td>\n      <td>0</td>\n      <td>6y2YxIUeM9uMgAINRnb11K</td>\n      <td>0.263</td>\n      <td>9</td>\n      <td>0.1200</td>\n      <td>-22.466</td>\n      <td>0</td>\n      <td>Samba Triste</td>\n      <td>46</td>\n      <td>1962-01-01</td>\n      <td>0.0676</td>\n      <td>143.111</td>\n    </tr>\n    <tr>\n      <th>45913</th>\n      <td>0.592</td>\n      <td>1963</td>\n      <td>0.822</td>\n      <td>['Oscar Peterson Trio']</td>\n      <td>0.639</td>\n      <td>232840</td>\n      <td>0.2020</td>\n      <td>0</td>\n      <td>4vsYktePz0JersI03zbxNn</td>\n      <td>0.237</td>\n      <td>10</td>\n      <td>0.0675</td>\n      <td>-18.240</td>\n      <td>0</td>\n      <td>Band Call</td>\n      <td>32</td>\n      <td>1963-01-01</td>\n      <td>0.0401</td>\n      <td>151.562</td>\n    </tr>\n    <tr>\n      <th>8789</th>\n      <td>0.293</td>\n      <td>1965</td>\n      <td>0.956</td>\n      <td>['Paul Desmond']</td>\n      <td>0.589</td>\n      <td>265760</td>\n      <td>0.0578</td>\n      <td>0</td>\n      <td>5mgod2DVJEZI145AS8vQJ2</td>\n      <td>0.138</td>\n      <td>5</td>\n      <td>0.1010</td>\n      <td>-23.976</td>\n      <td>0</td>\n      <td>A Taste of Honey</td>\n      <td>41</td>\n      <td>1965-01-01</td>\n      <td>0.0407</td>\n      <td>127.592</td>\n    </tr>\n  </tbody>\n</table>\n</div>"
     },
     "execution_count": 107,
     "metadata": {},
     "output_type": "execute_result"
    }
   ],
   "source": [
    "data.iloc[predict(new_data_scaled[150012], new_data_scaled, cos_sim, 5)]"
   ],
   "metadata": {
    "collapsed": false
   }
  },
  {
   "cell_type": "markdown",
   "source": [],
   "metadata": {
    "collapsed": false
   }
  }
 ],
 "metadata": {
  "kernelspec": {
   "display_name": "Python 3",
   "language": "python",
   "name": "python3"
  },
  "language_info": {
   "codemirror_mode": {
    "name": "ipython",
    "version": 2
   },
   "file_extension": ".py",
   "mimetype": "text/x-python",
   "name": "python",
   "nbconvert_exporter": "python",
   "pygments_lexer": "ipython2",
   "version": "2.7.6"
  }
 },
 "nbformat": 4,
 "nbformat_minor": 0
}
